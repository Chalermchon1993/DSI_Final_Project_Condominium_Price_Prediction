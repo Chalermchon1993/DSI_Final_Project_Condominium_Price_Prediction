{
 "cells": [
  {
   "cell_type": "markdown",
   "id": "6b9b2222-8504-4f30-97db-0b3803688522",
   "metadata": {},
   "source": [
    "# 1. Introduction\n",
    "---\n",
    "---"
   ]
  },
  {
   "cell_type": "markdown",
   "id": "07613f1b-a685-4be2-9dd9-5c4f37040a3d",
   "metadata": {},
   "source": [
    "## 1.1 Problem Statement"
   ]
  },
  {
   "cell_type": "markdown",
   "id": "d6b2b020-0dc1-4441-af9e-b2f3bc2a3fd4",
   "metadata": {},
   "source": [
    "Property investment is one of large sector in Thailand....\n",
    "Bangkok condo market is comming back after Covid-19, people are looking for affordable condominuim price.\n",
    "\n",
    "Opportunities:\n",
    "- Pandemic situation is getting better\n",
    "- Goverment policy that open for foreigners to invest in Thailand condominiums\n",
    "\n",
    "Good for:\n",
    "- My self, finding good condominium with reasonable price\n",
    "- Investors, to find underpriced condominiums\n",
    "- Developers, to consider which attributes could lead condominiums to be high value"
   ]
  },
  {
   "cell_type": "markdown",
   "id": "0a2f4a07-ff51-411e-ba93-43b3a7e09633",
   "metadata": {},
   "source": [
    "## 1.2 Data Dictionary"
   ]
  },
  {
   "cell_type": "code",
   "execution_count": null,
   "id": "923cf2e0-2650-4323-8535-a1c788de8d78",
   "metadata": {},
   "outputs": [],
   "source": []
  },
  {
   "cell_type": "markdown",
   "id": "dcd68b68-f172-414b-b928-081501773d25",
   "metadata": {},
   "source": [
    "# 2. Functions Preparation\n",
    "---\n",
    "---"
   ]
  },
  {
   "cell_type": "markdown",
   "id": "4ca7b901-e58e-458a-a903-c3386829bf15",
   "metadata": {},
   "source": [
    "## 2.1 Libraries Importation"
   ]
  },
  {
   "cell_type": "code",
   "execution_count": 29,
   "id": "86b3ea0a-1232-496c-8897-c6de7d46c32a",
   "metadata": {},
   "outputs": [],
   "source": [
    "# Import libraries\n",
    "\n",
    "# General libraries\n",
    "import os\n",
    "import math\n",
    "import numpy as np\n",
    "import pandas as pd\n",
    "import matplotlib.pyplot as plt\n",
    "import seaborn as sns\n",
    "import missingno as msno\n",
    "\n",
    "# Preprocessing and evaluation\n",
    "from sklearn.preprocessing import OneHotEncoder\n",
    "from sklearn.preprocessing import StandardScaler\n",
    "from sklearn.model_selection import GridSearchCV, train_test_split, cross_val_score\n",
    "from sklearn import metrics\n",
    "\n",
    "# Model\n",
    "from sklearn.linear_model import LinearRegression\n",
    "from sklearn.ensemble import RandomForestRegressor\n",
    "from tensorflow.keras.models import Sequential\n",
    "from tensorflow.keras.layers import Dense\n",
    "from tensorflow import keras\n",
    "import xgboost\n",
    "\n",
    "# Set pandas shown number format\n",
    "pd.options.display.float_format = '{:.2f}'.format"
   ]
  },
  {
   "cell_type": "markdown",
   "id": "a075ce05-8e75-4c80-8af5-12bd41fceeb7",
   "metadata": {},
   "source": [
    "## 2.2 In-notebook Functions Creation"
   ]
  },
  {
   "cell_type": "code",
   "execution_count": null,
   "id": "53d80f1a-d9cb-429d-9c26-f5ba9ea9779b",
   "metadata": {},
   "outputs": [],
   "source": []
  },
  {
   "cell_type": "markdown",
   "id": "5b3333f3-4b48-40be-b293-82471bf0850e",
   "metadata": {},
   "source": [
    "# 3. Data Preparation\n",
    "---\n",
    "---"
   ]
  },
  {
   "cell_type": "markdown",
   "id": "2ccee513-027a-4787-bb72-1b4168ac62cc",
   "metadata": {},
   "source": [
    "## 3.1 Data Consolidation"
   ]
  },
  {
   "cell_type": "code",
   "execution_count": 453,
   "id": "6601bd28-b250-4d6a-ad70-525af8ef575d",
   "metadata": {},
   "outputs": [],
   "source": [
    "raw_df = pd.DataFrame()\n",
    "\n",
    "# Set relative path for raw data folder\n",
    "relative_path = \".\\selenium\\scrape_data\"\n",
    "\n",
    "# Get file names in folder as a list\n",
    "folder_names = os.listdir(relative_path)\n",
    "\n",
    "# Iterate raw csv files in folder\n",
    "for folder_name in folder_names:\n",
    "    file_names = os.listdir(f\"{relative_path}\\\\{folder_name}\")\n",
    "    for file_name in file_names:\n",
    "        try: \n",
    "            temp_df = pd.read_csv(f\"{relative_path}\\\\{folder_name}\\\\{file_name}\")\n",
    "            raw_df = pd.concat([raw_df, temp_df])\n",
    "        except:\n",
    "            # Print error file name\n",
    "            print(file_name)"
   ]
  },
  {
   "cell_type": "markdown",
   "id": "362939b8-213c-45d5-92e0-f6ab8df39398",
   "metadata": {},
   "source": [
    "## 3.2 Data Cleansing"
   ]
  },
  {
   "cell_type": "markdown",
   "id": "c4dff267-37ce-48ae-b5f3-da180647beec",
   "metadata": {},
   "source": [
    "### 3.2.1 Duplication Removal"
   ]
  },
  {
   "cell_type": "code",
   "execution_count": 454,
   "id": "cac5d5e4-1a3e-4a30-86ba-b060e21fe50c",
   "metadata": {},
   "outputs": [
    {
     "data": {
      "text/plain": [
       "(32686, 21)"
      ]
     },
     "execution_count": 454,
     "metadata": {},
     "output_type": "execute_result"
    }
   ],
   "source": [
    "# Check data shape\n",
    "# There are _ rows and 21 features from raw datas\n",
    "raw_df.shape"
   ]
  },
  {
   "cell_type": "code",
   "execution_count": 455,
   "id": "ec637f04-7691-42f9-9a9d-84c636fc2235",
   "metadata": {},
   "outputs": [
    {
     "data": {
      "text/plain": [
       "3595"
      ]
     },
     "execution_count": 455,
     "metadata": {},
     "output_type": "execute_result"
    }
   ],
   "source": [
    "# Check duplicate data\n",
    "# Dataset contains _ duplicate rows, we can drop it.\n",
    "raw_df.duplicated().sum()"
   ]
  },
  {
   "cell_type": "code",
   "execution_count": 456,
   "id": "ae481c7b-f769-4d6a-89fa-5c6740c2a8b9",
   "metadata": {},
   "outputs": [
    {
     "data": {
      "text/plain": [
       "(29091, 21)"
      ]
     },
     "execution_count": 456,
     "metadata": {},
     "output_type": "execute_result"
    }
   ],
   "source": [
    "# Drop duplicate rows and check result\n",
    "raw_df.drop_duplicates(inplace=True)\n",
    "raw_df.shape"
   ]
  },
  {
   "cell_type": "code",
   "execution_count": 457,
   "id": "3b2a749b-5735-48d9-af75-ed1a67ec0784",
   "metadata": {},
   "outputs": [
    {
     "data": {
      "text/plain": [
       "(22915, 21)"
      ]
     },
     "execution_count": 457,
     "metadata": {},
     "output_type": "execute_result"
    }
   ],
   "source": [
    "# Drop rows that contain null value in 'amennity_values' column \n",
    "# due to old format of website that returned a lot of missing values to our dataframe.\n",
    "raw_df.dropna(subset = ['amenity_values'], inplace=True)\n",
    "raw_df.shape"
   ]
  },
  {
   "cell_type": "code",
   "execution_count": 458,
   "id": "5e874abf-0511-467f-8fe7-3469a99e7685",
   "metadata": {},
   "outputs": [],
   "source": [
    "# Drop unused columns\n",
    "raw_df.drop(columns=['address', 'description', 'detail'], inplace=True)"
   ]
  },
  {
   "cell_type": "code",
   "execution_count": 459,
   "id": "654d9194-5319-4c63-8609-baf380e24bb9",
   "metadata": {},
   "outputs": [],
   "source": [
    "# Reset index after dropping duplicate rows\n",
    "raw_df = raw_df.reset_index(drop=True)"
   ]
  },
  {
   "cell_type": "code",
   "execution_count": 460,
   "id": "5eec9af4-c2eb-4812-99dc-5834b1c4fe12",
   "metadata": {},
   "outputs": [
    {
     "data": {
      "text/html": [
       "<div>\n",
       "<style scoped>\n",
       "    .dataframe tbody tr th:only-of-type {\n",
       "        vertical-align: middle;\n",
       "    }\n",
       "\n",
       "    .dataframe tbody tr th {\n",
       "        vertical-align: top;\n",
       "    }\n",
       "\n",
       "    .dataframe thead th {\n",
       "        text-align: right;\n",
       "    }\n",
       "</style>\n",
       "<table border=\"1\" class=\"dataframe\">\n",
       "  <thead>\n",
       "    <tr style=\"text-align: right;\">\n",
       "      <th></th>\n",
       "      <th>dev</th>\n",
       "      <th>district</th>\n",
       "      <th>sale_price</th>\n",
       "      <th>rent_price</th>\n",
       "      <th>internal_feature_keys</th>\n",
       "      <th>internal_feature_values</th>\n",
       "      <th>external_feature_keys</th>\n",
       "      <th>exteranal_feature_values</th>\n",
       "      <th>amenity_keys</th>\n",
       "      <th>amenity_values</th>\n",
       "      <th>neighbor_cats</th>\n",
       "      <th>neighbor_names</th>\n",
       "      <th>neighbor_distances</th>\n",
       "      <th>asking_price</th>\n",
       "      <th>asking_price_change_quater</th>\n",
       "      <th>asking_price_change_year</th>\n",
       "      <th>gross_rental_yield</th>\n",
       "      <th>rental_price_change_year</th>\n",
       "    </tr>\n",
       "  </thead>\n",
       "  <tbody>\n",
       "    <tr>\n",
       "      <th>0</th>\n",
       "      <td>J Condo Sathorn - Kallaprapruk</td>\n",
       "      <td>Bang Bon</td>\n",
       "      <td>1390000.00</td>\n",
       "      <td>NaN</td>\n",
       "      <td>Bedrooms|Bathrooms|Internal area</td>\n",
       "      <td>1|1|30</td>\n",
       "      <td>Floors|Towers|Year built</td>\n",
       "      <td>25|1|2017</td>\n",
       "      <td>Elevator|Parking|24-hours Security|CCTV|Swimmi...</td>\n",
       "      <td>True|True|True|True|True|False|True|True|True|...</td>\n",
       "      <td>marker marker-expressway|marker marker-bts|mar...</td>\n",
       "      <td>Bang Khun Thian Toll Plaza-Outbound 1|Wutthaka...</td>\n",
       "      <td>6.2 km / 36 minutes by car|6.6 km / 10 minutes...</td>\n",
       "      <td>57,995</td>\n",
       "      <td>0.00</td>\n",
       "      <td>1.11</td>\n",
       "      <td>5.50</td>\n",
       "      <td>11.30</td>\n",
       "    </tr>\n",
       "    <tr>\n",
       "      <th>1</th>\n",
       "      <td>J Condo Sathorn - Kallaprapruk</td>\n",
       "      <td>Bang Bon</td>\n",
       "      <td>1390000.00</td>\n",
       "      <td>NaN</td>\n",
       "      <td>Bedrooms|Internal area</td>\n",
       "      <td>1|28</td>\n",
       "      <td>Floors|Towers|Year built</td>\n",
       "      <td>25|1|2017</td>\n",
       "      <td>Elevator|Parking|24-hours Security|CCTV|Swimmi...</td>\n",
       "      <td>True|True|True|True|True|False|True|True|True|...</td>\n",
       "      <td>marker marker-expressway|marker marker-bts|mar...</td>\n",
       "      <td>Bang Khun Thian Toll Plaza-Outbound 1|Wutthaka...</td>\n",
       "      <td>6.2 km / 36 minutes by car|6.6 km / 10 minutes...</td>\n",
       "      <td>57,995</td>\n",
       "      <td>0.00</td>\n",
       "      <td>1.11</td>\n",
       "      <td>5.50</td>\n",
       "      <td>11.30</td>\n",
       "    </tr>\n",
       "  </tbody>\n",
       "</table>\n",
       "</div>"
      ],
      "text/plain": [
       "                              dev  district  sale_price  rent_price  \\\n",
       "0  J Condo Sathorn - Kallaprapruk  Bang Bon  1390000.00         NaN   \n",
       "1  J Condo Sathorn - Kallaprapruk  Bang Bon  1390000.00         NaN   \n",
       "\n",
       "              internal_feature_keys internal_feature_values  \\\n",
       "0  Bedrooms|Bathrooms|Internal area                  1|1|30   \n",
       "1            Bedrooms|Internal area                    1|28   \n",
       "\n",
       "      external_feature_keys exteranal_feature_values  \\\n",
       "0  Floors|Towers|Year built                25|1|2017   \n",
       "1  Floors|Towers|Year built                25|1|2017   \n",
       "\n",
       "                                        amenity_keys  \\\n",
       "0  Elevator|Parking|24-hours Security|CCTV|Swimmi...   \n",
       "1  Elevator|Parking|24-hours Security|CCTV|Swimmi...   \n",
       "\n",
       "                                      amenity_values  \\\n",
       "0  True|True|True|True|True|False|True|True|True|...   \n",
       "1  True|True|True|True|True|False|True|True|True|...   \n",
       "\n",
       "                                       neighbor_cats  \\\n",
       "0  marker marker-expressway|marker marker-bts|mar...   \n",
       "1  marker marker-expressway|marker marker-bts|mar...   \n",
       "\n",
       "                                      neighbor_names  \\\n",
       "0  Bang Khun Thian Toll Plaza-Outbound 1|Wutthaka...   \n",
       "1  Bang Khun Thian Toll Plaza-Outbound 1|Wutthaka...   \n",
       "\n",
       "                                  neighbor_distances asking_price  \\\n",
       "0  6.2 km / 36 minutes by car|6.6 km / 10 minutes...       57,995   \n",
       "1  6.2 km / 36 minutes by car|6.6 km / 10 minutes...       57,995   \n",
       "\n",
       "   asking_price_change_quater asking_price_change_year  gross_rental_yield  \\\n",
       "0                        0.00                     1.11                5.50   \n",
       "1                        0.00                     1.11                5.50   \n",
       "\n",
       "  rental_price_change_year  \n",
       "0                    11.30  \n",
       "1                    11.30  "
      ]
     },
     "execution_count": 460,
     "metadata": {},
     "output_type": "execute_result"
    }
   ],
   "source": [
    "# Check index head\n",
    "raw_df.head(2)"
   ]
  },
  {
   "cell_type": "code",
   "execution_count": 461,
   "id": "e047a53b-9ba5-45c5-891a-7b0b477735e5",
   "metadata": {},
   "outputs": [
    {
     "data": {
      "text/html": [
       "<div>\n",
       "<style scoped>\n",
       "    .dataframe tbody tr th:only-of-type {\n",
       "        vertical-align: middle;\n",
       "    }\n",
       "\n",
       "    .dataframe tbody tr th {\n",
       "        vertical-align: top;\n",
       "    }\n",
       "\n",
       "    .dataframe thead th {\n",
       "        text-align: right;\n",
       "    }\n",
       "</style>\n",
       "<table border=\"1\" class=\"dataframe\">\n",
       "  <thead>\n",
       "    <tr style=\"text-align: right;\">\n",
       "      <th></th>\n",
       "      <th>dev</th>\n",
       "      <th>district</th>\n",
       "      <th>sale_price</th>\n",
       "      <th>rent_price</th>\n",
       "      <th>internal_feature_keys</th>\n",
       "      <th>internal_feature_values</th>\n",
       "      <th>external_feature_keys</th>\n",
       "      <th>exteranal_feature_values</th>\n",
       "      <th>amenity_keys</th>\n",
       "      <th>amenity_values</th>\n",
       "      <th>neighbor_cats</th>\n",
       "      <th>neighbor_names</th>\n",
       "      <th>neighbor_distances</th>\n",
       "      <th>asking_price</th>\n",
       "      <th>asking_price_change_quater</th>\n",
       "      <th>asking_price_change_year</th>\n",
       "      <th>gross_rental_yield</th>\n",
       "      <th>rental_price_change_year</th>\n",
       "    </tr>\n",
       "  </thead>\n",
       "  <tbody>\n",
       "    <tr>\n",
       "      <th>22913</th>\n",
       "      <td>Lumpini Place Narathiwas 24</td>\n",
       "      <td>Yan Nawa</td>\n",
       "      <td>6700000.00</td>\n",
       "      <td>23000.00</td>\n",
       "      <td>Bedrooms|Bathrooms|Internal area</td>\n",
       "      <td>2|2|63</td>\n",
       "      <td>Floors|Towers|Project Area|Year built</td>\n",
       "      <td>9|2|3,300 m2|2003</td>\n",
       "      <td>Elevator|Parking|24-hours Security|CCTV|Swimmi...</td>\n",
       "      <td>True|True|True|True|True|False|True|False|Fals...</td>\n",
       "      <td>marker marker-expressway|marker marker-express...</td>\n",
       "      <td>Sathu Pradit 2 Toll Plaza|Sathu Pradit 3 Toll ...</td>\n",
       "      <td>1.1 km / 4 minutes by car|1.1 km / 4 minutes b...</td>\n",
       "      <td>79,486</td>\n",
       "      <td>0.00</td>\n",
       "      <td>4.55</td>\n",
       "      <td>5.50</td>\n",
       "      <td>-32.22</td>\n",
       "    </tr>\n",
       "    <tr>\n",
       "      <th>22914</th>\n",
       "      <td>Fuse Chan - Sathorn</td>\n",
       "      <td>Yan Nawa</td>\n",
       "      <td>3200000.00</td>\n",
       "      <td>NaN</td>\n",
       "      <td>Bedrooms|Bathrooms|Internal area</td>\n",
       "      <td>1|1|34.5</td>\n",
       "      <td>Floors|Towers|Project Area|Year built</td>\n",
       "      <td>31|3|11,868 m2|2015</td>\n",
       "      <td>Elevator|Parking|24-hours Security|CCTV|Swimmi...</td>\n",
       "      <td>True|True|True|True|True|False|True|True|False...</td>\n",
       "      <td>marker marker-expressway|marker marker-express...</td>\n",
       "      <td>Chan Toll Plaza|Sathon Toll Plaza|Sathu Pradit...</td>\n",
       "      <td>1 km / 6 minutes by car|1.7 km / 10 minutes by...</td>\n",
       "      <td>92,308</td>\n",
       "      <td>-2.98</td>\n",
       "      <td>-2.91</td>\n",
       "      <td>5.50</td>\n",
       "      <td>5.75</td>\n",
       "    </tr>\n",
       "  </tbody>\n",
       "</table>\n",
       "</div>"
      ],
      "text/plain": [
       "                               dev  district  sale_price  rent_price  \\\n",
       "22913  Lumpini Place Narathiwas 24  Yan Nawa  6700000.00    23000.00   \n",
       "22914          Fuse Chan - Sathorn  Yan Nawa  3200000.00         NaN   \n",
       "\n",
       "                  internal_feature_keys internal_feature_values  \\\n",
       "22913  Bedrooms|Bathrooms|Internal area                  2|2|63   \n",
       "22914  Bedrooms|Bathrooms|Internal area                1|1|34.5   \n",
       "\n",
       "                       external_feature_keys exteranal_feature_values  \\\n",
       "22913  Floors|Towers|Project Area|Year built        9|2|3,300 m2|2003   \n",
       "22914  Floors|Towers|Project Area|Year built      31|3|11,868 m2|2015   \n",
       "\n",
       "                                            amenity_keys  \\\n",
       "22913  Elevator|Parking|24-hours Security|CCTV|Swimmi...   \n",
       "22914  Elevator|Parking|24-hours Security|CCTV|Swimmi...   \n",
       "\n",
       "                                          amenity_values  \\\n",
       "22913  True|True|True|True|True|False|True|False|Fals...   \n",
       "22914  True|True|True|True|True|False|True|True|False...   \n",
       "\n",
       "                                           neighbor_cats  \\\n",
       "22913  marker marker-expressway|marker marker-express...   \n",
       "22914  marker marker-expressway|marker marker-express...   \n",
       "\n",
       "                                          neighbor_names  \\\n",
       "22913  Sathu Pradit 2 Toll Plaza|Sathu Pradit 3 Toll ...   \n",
       "22914  Chan Toll Plaza|Sathon Toll Plaza|Sathu Pradit...   \n",
       "\n",
       "                                      neighbor_distances asking_price  \\\n",
       "22913  1.1 km / 4 minutes by car|1.1 km / 4 minutes b...       79,486   \n",
       "22914  1 km / 6 minutes by car|1.7 km / 10 minutes by...       92,308   \n",
       "\n",
       "       asking_price_change_quater asking_price_change_year  \\\n",
       "22913                        0.00                     4.55   \n",
       "22914                       -2.98                    -2.91   \n",
       "\n",
       "       gross_rental_yield rental_price_change_year  \n",
       "22913                5.50                   -32.22  \n",
       "22914                5.50                     5.75  "
      ]
     },
     "execution_count": 461,
     "metadata": {},
     "output_type": "execute_result"
    }
   ],
   "source": [
    "# Check index tail\n",
    "raw_df.tail(2)"
   ]
  },
  {
   "cell_type": "markdown",
   "id": "2f04e4af-9a3c-4a71-ab8c-58e6c3a50196",
   "metadata": {},
   "source": [
    "### 3.2.2 Features Preparation\n",
    "From scraping process, some features were collected as list of features due to uncertainty of the features occurrence that make .csv unable to store it in one column. \n",
    "<br>In-order-that, a list of features were joined by `|` to be a single string.\n",
    "\n",
    "For example, column `internal_feature_keys` and `internal_feature_values` contain information of `number of bedrooms`, `number of bathrooms`, and `internal area` together as\n",
    "<br>`bedrooms|bathrooms|internal area`.\n",
    "\n",
    "**Hence, this section is to split the joined features to be ready for analyzing.**"
   ]
  },
  {
   "cell_type": "code",
   "execution_count": 462,
   "id": "151795f5-8857-4290-8b41-289717bf2e02",
   "metadata": {},
   "outputs": [
    {
     "data": {
      "text/html": [
       "<div>\n",
       "<style scoped>\n",
       "    .dataframe tbody tr th:only-of-type {\n",
       "        vertical-align: middle;\n",
       "    }\n",
       "\n",
       "    .dataframe tbody tr th {\n",
       "        vertical-align: top;\n",
       "    }\n",
       "\n",
       "    .dataframe thead th {\n",
       "        text-align: right;\n",
       "    }\n",
       "</style>\n",
       "<table border=\"1\" class=\"dataframe\">\n",
       "  <thead>\n",
       "    <tr style=\"text-align: right;\">\n",
       "      <th></th>\n",
       "      <th>dev</th>\n",
       "      <th>district</th>\n",
       "      <th>sale_price</th>\n",
       "      <th>rent_price</th>\n",
       "      <th>internal_feature_keys</th>\n",
       "      <th>internal_feature_values</th>\n",
       "      <th>external_feature_keys</th>\n",
       "      <th>exteranal_feature_values</th>\n",
       "      <th>amenity_keys</th>\n",
       "      <th>amenity_values</th>\n",
       "      <th>neighbor_cats</th>\n",
       "      <th>neighbor_names</th>\n",
       "      <th>neighbor_distances</th>\n",
       "      <th>asking_price</th>\n",
       "      <th>asking_price_change_quater</th>\n",
       "      <th>asking_price_change_year</th>\n",
       "      <th>gross_rental_yield</th>\n",
       "      <th>rental_price_change_year</th>\n",
       "    </tr>\n",
       "  </thead>\n",
       "  <tbody>\n",
       "    <tr>\n",
       "      <th>0</th>\n",
       "      <td>J Condo Sathorn - Kallaprapruk</td>\n",
       "      <td>Bang Bon</td>\n",
       "      <td>1390000.00</td>\n",
       "      <td>NaN</td>\n",
       "      <td>Bedrooms|Bathrooms|Internal area</td>\n",
       "      <td>1|1|30</td>\n",
       "      <td>Floors|Towers|Year built</td>\n",
       "      <td>25|1|2017</td>\n",
       "      <td>Elevator|Parking|24-hours Security|CCTV|Swimmi...</td>\n",
       "      <td>True|True|True|True|True|False|True|True|True|...</td>\n",
       "      <td>marker marker-expressway|marker marker-bts|mar...</td>\n",
       "      <td>Bang Khun Thian Toll Plaza-Outbound 1|Wutthaka...</td>\n",
       "      <td>6.2 km / 36 minutes by car|6.6 km / 10 minutes...</td>\n",
       "      <td>57,995</td>\n",
       "      <td>0.00</td>\n",
       "      <td>1.11</td>\n",
       "      <td>5.50</td>\n",
       "      <td>11.30</td>\n",
       "    </tr>\n",
       "    <tr>\n",
       "      <th>1</th>\n",
       "      <td>J Condo Sathorn - Kallaprapruk</td>\n",
       "      <td>Bang Bon</td>\n",
       "      <td>1390000.00</td>\n",
       "      <td>NaN</td>\n",
       "      <td>Bedrooms|Internal area</td>\n",
       "      <td>1|28</td>\n",
       "      <td>Floors|Towers|Year built</td>\n",
       "      <td>25|1|2017</td>\n",
       "      <td>Elevator|Parking|24-hours Security|CCTV|Swimmi...</td>\n",
       "      <td>True|True|True|True|True|False|True|True|True|...</td>\n",
       "      <td>marker marker-expressway|marker marker-bts|mar...</td>\n",
       "      <td>Bang Khun Thian Toll Plaza-Outbound 1|Wutthaka...</td>\n",
       "      <td>6.2 km / 36 minutes by car|6.6 km / 10 minutes...</td>\n",
       "      <td>57,995</td>\n",
       "      <td>0.00</td>\n",
       "      <td>1.11</td>\n",
       "      <td>5.50</td>\n",
       "      <td>11.30</td>\n",
       "    </tr>\n",
       "  </tbody>\n",
       "</table>\n",
       "</div>"
      ],
      "text/plain": [
       "                              dev  district  sale_price  rent_price  \\\n",
       "0  J Condo Sathorn - Kallaprapruk  Bang Bon  1390000.00         NaN   \n",
       "1  J Condo Sathorn - Kallaprapruk  Bang Bon  1390000.00         NaN   \n",
       "\n",
       "              internal_feature_keys internal_feature_values  \\\n",
       "0  Bedrooms|Bathrooms|Internal area                  1|1|30   \n",
       "1            Bedrooms|Internal area                    1|28   \n",
       "\n",
       "      external_feature_keys exteranal_feature_values  \\\n",
       "0  Floors|Towers|Year built                25|1|2017   \n",
       "1  Floors|Towers|Year built                25|1|2017   \n",
       "\n",
       "                                        amenity_keys  \\\n",
       "0  Elevator|Parking|24-hours Security|CCTV|Swimmi...   \n",
       "1  Elevator|Parking|24-hours Security|CCTV|Swimmi...   \n",
       "\n",
       "                                      amenity_values  \\\n",
       "0  True|True|True|True|True|False|True|True|True|...   \n",
       "1  True|True|True|True|True|False|True|True|True|...   \n",
       "\n",
       "                                       neighbor_cats  \\\n",
       "0  marker marker-expressway|marker marker-bts|mar...   \n",
       "1  marker marker-expressway|marker marker-bts|mar...   \n",
       "\n",
       "                                      neighbor_names  \\\n",
       "0  Bang Khun Thian Toll Plaza-Outbound 1|Wutthaka...   \n",
       "1  Bang Khun Thian Toll Plaza-Outbound 1|Wutthaka...   \n",
       "\n",
       "                                  neighbor_distances asking_price  \\\n",
       "0  6.2 km / 36 minutes by car|6.6 km / 10 minutes...       57,995   \n",
       "1  6.2 km / 36 minutes by car|6.6 km / 10 minutes...       57,995   \n",
       "\n",
       "   asking_price_change_quater asking_price_change_year  gross_rental_yield  \\\n",
       "0                        0.00                     1.11                5.50   \n",
       "1                        0.00                     1.11                5.50   \n",
       "\n",
       "  rental_price_change_year  \n",
       "0                    11.30  \n",
       "1                    11.30  "
      ]
     },
     "execution_count": 462,
     "metadata": {},
     "output_type": "execute_result"
    }
   ],
   "source": [
    "raw_df.head(2)"
   ]
  },
  {
   "cell_type": "code",
   "execution_count": 463,
   "id": "e095650b-be6f-4339-bf2a-849b0573f0fc",
   "metadata": {},
   "outputs": [],
   "source": [
    "# def split funciton\n",
    "def split_feature(string):\n",
    "    try:\n",
    "        return string.split(\"|\")\n",
    "    except:\n",
    "        return None"
   ]
  },
  {
   "cell_type": "code",
   "execution_count": 464,
   "id": "99744063-a2e5-4b35-9e52-f356dd8d8d42",
   "metadata": {},
   "outputs": [],
   "source": [
    "# List of joined feature column names\n",
    "joined_features = ['internal_feature_keys', 'internal_feature_values', 'external_feature_keys', 'exteranal_feature_values',\n",
    "                  'amenity_keys', 'amenity_values', 'neighbor_cats', 'neighbor_names', 'neighbor_distances']\n",
    "\n",
    "# Iterate column names to create list\n",
    "for feature in joined_features:\n",
    "    raw_df[feature] = raw_df[feature].apply(split_feature)"
   ]
  },
  {
   "cell_type": "code",
   "execution_count": 465,
   "id": "d25c84fa-0d0c-45d0-81aa-134ccb7423ba",
   "metadata": {},
   "outputs": [
    {
     "data": {
      "text/html": [
       "<div>\n",
       "<style scoped>\n",
       "    .dataframe tbody tr th:only-of-type {\n",
       "        vertical-align: middle;\n",
       "    }\n",
       "\n",
       "    .dataframe tbody tr th {\n",
       "        vertical-align: top;\n",
       "    }\n",
       "\n",
       "    .dataframe thead th {\n",
       "        text-align: right;\n",
       "    }\n",
       "</style>\n",
       "<table border=\"1\" class=\"dataframe\">\n",
       "  <thead>\n",
       "    <tr style=\"text-align: right;\">\n",
       "      <th></th>\n",
       "      <th>dev</th>\n",
       "      <th>district</th>\n",
       "      <th>sale_price</th>\n",
       "      <th>rent_price</th>\n",
       "      <th>internal_feature_keys</th>\n",
       "      <th>internal_feature_values</th>\n",
       "      <th>external_feature_keys</th>\n",
       "      <th>exteranal_feature_values</th>\n",
       "      <th>amenity_keys</th>\n",
       "      <th>amenity_values</th>\n",
       "      <th>neighbor_cats</th>\n",
       "      <th>neighbor_names</th>\n",
       "      <th>neighbor_distances</th>\n",
       "      <th>asking_price</th>\n",
       "      <th>asking_price_change_quater</th>\n",
       "      <th>asking_price_change_year</th>\n",
       "      <th>gross_rental_yield</th>\n",
       "      <th>rental_price_change_year</th>\n",
       "    </tr>\n",
       "  </thead>\n",
       "  <tbody>\n",
       "    <tr>\n",
       "      <th>0</th>\n",
       "      <td>J Condo Sathorn - Kallaprapruk</td>\n",
       "      <td>Bang Bon</td>\n",
       "      <td>1390000.00</td>\n",
       "      <td>NaN</td>\n",
       "      <td>[Bedrooms, Bathrooms, Internal area]</td>\n",
       "      <td>[1, 1, 30]</td>\n",
       "      <td>[Floors, Towers, Year built]</td>\n",
       "      <td>[25, 1, 2017]</td>\n",
       "      <td>[Elevator, Parking, 24-hours Security, CCTV, S...</td>\n",
       "      <td>[True, True, True, True, True, False, True, Tr...</td>\n",
       "      <td>[marker marker-expressway, marker marker-bts, ...</td>\n",
       "      <td>[Bang Khun Thian Toll Plaza-Outbound 1, Wuttha...</td>\n",
       "      <td>[6.2 km / 36 minutes by car, 6.6 km / 10 minut...</td>\n",
       "      <td>57,995</td>\n",
       "      <td>0.00</td>\n",
       "      <td>1.11</td>\n",
       "      <td>5.50</td>\n",
       "      <td>11.30</td>\n",
       "    </tr>\n",
       "    <tr>\n",
       "      <th>1</th>\n",
       "      <td>J Condo Sathorn - Kallaprapruk</td>\n",
       "      <td>Bang Bon</td>\n",
       "      <td>1390000.00</td>\n",
       "      <td>NaN</td>\n",
       "      <td>[Bedrooms, Internal area]</td>\n",
       "      <td>[1, 28]</td>\n",
       "      <td>[Floors, Towers, Year built]</td>\n",
       "      <td>[25, 1, 2017]</td>\n",
       "      <td>[Elevator, Parking, 24-hours Security, CCTV, S...</td>\n",
       "      <td>[True, True, True, True, True, False, True, Tr...</td>\n",
       "      <td>[marker marker-expressway, marker marker-bts, ...</td>\n",
       "      <td>[Bang Khun Thian Toll Plaza-Outbound 1, Wuttha...</td>\n",
       "      <td>[6.2 km / 36 minutes by car, 6.6 km / 10 minut...</td>\n",
       "      <td>57,995</td>\n",
       "      <td>0.00</td>\n",
       "      <td>1.11</td>\n",
       "      <td>5.50</td>\n",
       "      <td>11.30</td>\n",
       "    </tr>\n",
       "  </tbody>\n",
       "</table>\n",
       "</div>"
      ],
      "text/plain": [
       "                              dev  district  sale_price  rent_price  \\\n",
       "0  J Condo Sathorn - Kallaprapruk  Bang Bon  1390000.00         NaN   \n",
       "1  J Condo Sathorn - Kallaprapruk  Bang Bon  1390000.00         NaN   \n",
       "\n",
       "                  internal_feature_keys internal_feature_values  \\\n",
       "0  [Bedrooms, Bathrooms, Internal area]              [1, 1, 30]   \n",
       "1             [Bedrooms, Internal area]                 [1, 28]   \n",
       "\n",
       "          external_feature_keys exteranal_feature_values  \\\n",
       "0  [Floors, Towers, Year built]            [25, 1, 2017]   \n",
       "1  [Floors, Towers, Year built]            [25, 1, 2017]   \n",
       "\n",
       "                                        amenity_keys  \\\n",
       "0  [Elevator, Parking, 24-hours Security, CCTV, S...   \n",
       "1  [Elevator, Parking, 24-hours Security, CCTV, S...   \n",
       "\n",
       "                                      amenity_values  \\\n",
       "0  [True, True, True, True, True, False, True, Tr...   \n",
       "1  [True, True, True, True, True, False, True, Tr...   \n",
       "\n",
       "                                       neighbor_cats  \\\n",
       "0  [marker marker-expressway, marker marker-bts, ...   \n",
       "1  [marker marker-expressway, marker marker-bts, ...   \n",
       "\n",
       "                                      neighbor_names  \\\n",
       "0  [Bang Khun Thian Toll Plaza-Outbound 1, Wuttha...   \n",
       "1  [Bang Khun Thian Toll Plaza-Outbound 1, Wuttha...   \n",
       "\n",
       "                                  neighbor_distances asking_price  \\\n",
       "0  [6.2 km / 36 minutes by car, 6.6 km / 10 minut...       57,995   \n",
       "1  [6.2 km / 36 minutes by car, 6.6 km / 10 minut...       57,995   \n",
       "\n",
       "   asking_price_change_quater asking_price_change_year  gross_rental_yield  \\\n",
       "0                        0.00                     1.11                5.50   \n",
       "1                        0.00                     1.11                5.50   \n",
       "\n",
       "  rental_price_change_year  \n",
       "0                    11.30  \n",
       "1                    11.30  "
      ]
     },
     "execution_count": 465,
     "metadata": {},
     "output_type": "execute_result"
    }
   ],
   "source": [
    "# Check result\n",
    "raw_df.head(2)"
   ]
  },
  {
   "cell_type": "code",
   "execution_count": 466,
   "id": "9d9196ed-f269-4b0b-a246-2f4ca8bca061",
   "metadata": {},
   "outputs": [],
   "source": [
    "def restructure_feature(keyword, keys_series, values_series):\n",
    "    \"\"\" Return value in values_list of given keyword that matched keys_list\"\"\"\n",
    "    result_list = []\n",
    "    for i in range(len(keys_series)):\n",
    "        try:\n",
    "            result_list.append(list(values_series)[i][list(keys_series)[i].index(keyword)])\n",
    "        except:\n",
    "            result_list.append(None)\n",
    "    return result_list"
   ]
  },
  {
   "cell_type": "code",
   "execution_count": 467,
   "id": "4101bec1-7f1b-4635-9843-d1a1f570b5ef",
   "metadata": {},
   "outputs": [],
   "source": [
    "# Restructure list to columns\n",
    "# Internal features\n",
    "raw_df['bedrooms'] = restructure_feature('Bedrooms', raw_df['internal_feature_keys'], raw_df['internal_feature_values'])\n",
    "raw_df['bathrooms'] = restructure_feature('Bathrooms', raw_df['internal_feature_keys'], raw_df['internal_feature_values'])\n",
    "raw_df['internal_area'] = restructure_feature('Internal area', raw_df['internal_feature_keys'], raw_df['internal_feature_values'])"
   ]
  },
  {
   "cell_type": "code",
   "execution_count": 468,
   "id": "205660ff-4861-43ca-9779-a452348ba239",
   "metadata": {},
   "outputs": [],
   "source": [
    "# Restructure list to columns\n",
    "# External features\n",
    "raw_df['floors'] = restructure_feature('Floors', raw_df['external_feature_keys'], raw_df['exteranal_feature_values'])\n",
    "raw_df['towers'] = restructure_feature('Towers', raw_df['external_feature_keys'], raw_df['exteranal_feature_values'])\n",
    "raw_df['project_area'] = restructure_feature('Project Area', raw_df['external_feature_keys'], raw_df['exteranal_feature_values'])\n",
    "raw_df['year_built'] = restructure_feature('Year built', raw_df['external_feature_keys'], raw_df['exteranal_feature_values'])"
   ]
  },
  {
   "cell_type": "code",
   "execution_count": 469,
   "id": "75882dc0-158a-4c44-9f82-fca3fff8fc94",
   "metadata": {},
   "outputs": [],
   "source": [
    "# Restructure list to columns\n",
    "# Amenities\n",
    "raw_df['has_elevator'] = restructure_feature('Elevator', raw_df['amenity_keys'], raw_df['amenity_values'])\n",
    "raw_df['has_parking'] = restructure_feature('Parking', raw_df['amenity_keys'], raw_df['amenity_values'])\n",
    "raw_df['has_security'] = restructure_feature('24-hours Security', raw_df['amenity_keys'], raw_df['amenity_values'])\n",
    "raw_df['has_cctv'] = restructure_feature('CCTV', raw_df['amenity_keys'], raw_df['amenity_values'])\n",
    "raw_df['has_pool'] = restructure_feature('Swimming Pool', raw_df['amenity_keys'], raw_df['amenity_values'])\n",
    "raw_df['has_sauna'] = restructure_feature('Sauna', raw_df['amenity_keys'], raw_df['amenity_values'])\n",
    "raw_df['has_gym'] = restructure_feature('Gym', raw_df['amenity_keys'], raw_df['amenity_values'])\n",
    "raw_df['has_garden_bbq'] = restructure_feature('Garden / BBQ', raw_df['amenity_keys'], raw_df['amenity_values'])\n",
    "raw_df['has_playground'] = restructure_feature(\"Playground / Kid's Area\", raw_df['amenity_keys'], raw_df['amenity_values'])\n",
    "raw_df['has_shop_on_premise'] = restructure_feature('Shop on Premise', raw_df['amenity_keys'], raw_df['amenity_values'])\n",
    "raw_df['has_restaurant_on_premise'] = restructure_feature('Restaurant on Premise', raw_df['amenity_keys'], raw_df['amenity_values'])\n",
    "raw_df['has_wifi'] = restructure_feature('Wi-Fi', raw_df['amenity_keys'], raw_df['amenity_values'])"
   ]
  },
  {
   "cell_type": "code",
   "execution_count": 470,
   "id": "32aee60d-e13f-41a6-9a47-b1b97a2f979d",
   "metadata": {},
   "outputs": [
    {
     "data": {
      "text/html": [
       "<div>\n",
       "<style scoped>\n",
       "    .dataframe tbody tr th:only-of-type {\n",
       "        vertical-align: middle;\n",
       "    }\n",
       "\n",
       "    .dataframe tbody tr th {\n",
       "        vertical-align: top;\n",
       "    }\n",
       "\n",
       "    .dataframe thead th {\n",
       "        text-align: right;\n",
       "    }\n",
       "</style>\n",
       "<table border=\"1\" class=\"dataframe\">\n",
       "  <thead>\n",
       "    <tr style=\"text-align: right;\">\n",
       "      <th></th>\n",
       "      <th>neighbor_cats</th>\n",
       "      <th>neighbor_names</th>\n",
       "      <th>neighbor_distances</th>\n",
       "    </tr>\n",
       "  </thead>\n",
       "  <tbody>\n",
       "    <tr>\n",
       "      <th>0</th>\n",
       "      <td>[marker marker-expressway, marker marker-bts, ...</td>\n",
       "      <td>[Bang Khun Thian Toll Plaza-Outbound 1, Wuttha...</td>\n",
       "      <td>[6.2 km / 36 minutes by car, 6.6 km / 10 minut...</td>\n",
       "    </tr>\n",
       "    <tr>\n",
       "      <th>1</th>\n",
       "      <td>[marker marker-expressway, marker marker-bts, ...</td>\n",
       "      <td>[Bang Khun Thian Toll Plaza-Outbound 1, Wuttha...</td>\n",
       "      <td>[6.2 km / 36 minutes by car, 6.6 km / 10 minut...</td>\n",
       "    </tr>\n",
       "    <tr>\n",
       "      <th>2</th>\n",
       "      <td>[marker marker-expressway, marker marker-bts, ...</td>\n",
       "      <td>[Bang Khun Thian Toll Plaza-Outbound 1, Wuttha...</td>\n",
       "      <td>[6.2 km / 36 minutes by car, 6.6 km / 10 minut...</td>\n",
       "    </tr>\n",
       "    <tr>\n",
       "      <th>3</th>\n",
       "      <td>[marker marker-expressway, marker marker-bts, ...</td>\n",
       "      <td>[Bang Khun Thian Toll Plaza-Outbound 1, Wuttha...</td>\n",
       "      <td>[6.2 km / 36 minutes by car, 6.6 km / 10 minut...</td>\n",
       "    </tr>\n",
       "    <tr>\n",
       "      <th>4</th>\n",
       "      <td>[marker marker-expressway, marker marker-bts, ...</td>\n",
       "      <td>[Bang Khun Thian Toll Plaza-Outbound 1, Wuttha...</td>\n",
       "      <td>[6.2 km / 36 minutes by car, 6.6 km / 10 minut...</td>\n",
       "    </tr>\n",
       "    <tr>\n",
       "      <th>...</th>\n",
       "      <td>...</td>\n",
       "      <td>...</td>\n",
       "      <td>...</td>\n",
       "    </tr>\n",
       "    <tr>\n",
       "      <th>22910</th>\n",
       "      <td>[marker marker-expressway, marker marker-expre...</td>\n",
       "      <td>[Rama 4-2 Toll Plaza, Rama 4-1 Toll Plaza, Khl...</td>\n",
       "      <td>[1.1 km / 5 minutes by car, 1.1 km / 4 minutes...</td>\n",
       "    </tr>\n",
       "    <tr>\n",
       "      <th>22911</th>\n",
       "      <td>[marker marker-expressway, marker marker-expre...</td>\n",
       "      <td>[Rama 3 Toll Plaza, Sathu Pradit 2 Toll Plaza,...</td>\n",
       "      <td>[680 m / 8 minutes by foot, 1.8 km / 4 minutes...</td>\n",
       "    </tr>\n",
       "    <tr>\n",
       "      <th>22912</th>\n",
       "      <td>[marker marker-expressway, marker marker-expre...</td>\n",
       "      <td>[River Side Toll Plaza, Rama 4-2 Toll Plaza, R...</td>\n",
       "      <td>[450 m / 5 minutes by foot, 2 km / 9 minutes b...</td>\n",
       "    </tr>\n",
       "    <tr>\n",
       "      <th>22913</th>\n",
       "      <td>[marker marker-expressway, marker marker-expre...</td>\n",
       "      <td>[Sathu Pradit 2 Toll Plaza, Sathu Pradit 3 Tol...</td>\n",
       "      <td>[1.1 km / 4 minutes by car, 1.1 km / 4 minutes...</td>\n",
       "    </tr>\n",
       "    <tr>\n",
       "      <th>22914</th>\n",
       "      <td>[marker marker-expressway, marker marker-expre...</td>\n",
       "      <td>[Chan Toll Plaza, Sathon Toll Plaza, Sathu Pra...</td>\n",
       "      <td>[1 km / 6 minutes by car, 1.7 km / 10 minutes ...</td>\n",
       "    </tr>\n",
       "  </tbody>\n",
       "</table>\n",
       "<p>22915 rows × 3 columns</p>\n",
       "</div>"
      ],
      "text/plain": [
       "                                           neighbor_cats  \\\n",
       "0      [marker marker-expressway, marker marker-bts, ...   \n",
       "1      [marker marker-expressway, marker marker-bts, ...   \n",
       "2      [marker marker-expressway, marker marker-bts, ...   \n",
       "3      [marker marker-expressway, marker marker-bts, ...   \n",
       "4      [marker marker-expressway, marker marker-bts, ...   \n",
       "...                                                  ...   \n",
       "22910  [marker marker-expressway, marker marker-expre...   \n",
       "22911  [marker marker-expressway, marker marker-expre...   \n",
       "22912  [marker marker-expressway, marker marker-expre...   \n",
       "22913  [marker marker-expressway, marker marker-expre...   \n",
       "22914  [marker marker-expressway, marker marker-expre...   \n",
       "\n",
       "                                          neighbor_names  \\\n",
       "0      [Bang Khun Thian Toll Plaza-Outbound 1, Wuttha...   \n",
       "1      [Bang Khun Thian Toll Plaza-Outbound 1, Wuttha...   \n",
       "2      [Bang Khun Thian Toll Plaza-Outbound 1, Wuttha...   \n",
       "3      [Bang Khun Thian Toll Plaza-Outbound 1, Wuttha...   \n",
       "4      [Bang Khun Thian Toll Plaza-Outbound 1, Wuttha...   \n",
       "...                                                  ...   \n",
       "22910  [Rama 4-2 Toll Plaza, Rama 4-1 Toll Plaza, Khl...   \n",
       "22911  [Rama 3 Toll Plaza, Sathu Pradit 2 Toll Plaza,...   \n",
       "22912  [River Side Toll Plaza, Rama 4-2 Toll Plaza, R...   \n",
       "22913  [Sathu Pradit 2 Toll Plaza, Sathu Pradit 3 Tol...   \n",
       "22914  [Chan Toll Plaza, Sathon Toll Plaza, Sathu Pra...   \n",
       "\n",
       "                                      neighbor_distances  \n",
       "0      [6.2 km / 36 minutes by car, 6.6 km / 10 minut...  \n",
       "1      [6.2 km / 36 minutes by car, 6.6 km / 10 minut...  \n",
       "2      [6.2 km / 36 minutes by car, 6.6 km / 10 minut...  \n",
       "3      [6.2 km / 36 minutes by car, 6.6 km / 10 minut...  \n",
       "4      [6.2 km / 36 minutes by car, 6.6 km / 10 minut...  \n",
       "...                                                  ...  \n",
       "22910  [1.1 km / 5 minutes by car, 1.1 km / 4 minutes...  \n",
       "22911  [680 m / 8 minutes by foot, 1.8 km / 4 minutes...  \n",
       "22912  [450 m / 5 minutes by foot, 2 km / 9 minutes b...  \n",
       "22913  [1.1 km / 4 minutes by car, 1.1 km / 4 minutes...  \n",
       "22914  [1 km / 6 minutes by car, 1.7 km / 10 minutes ...  \n",
       "\n",
       "[22915 rows x 3 columns]"
      ]
     },
     "execution_count": 470,
     "metadata": {},
     "output_type": "execute_result"
    }
   ],
   "source": [
    "# Restructure list to columns\n",
    "# neighborhood\n",
    "raw_df[['neighbor_cats', 'neighbor_names', 'neighbor_distances']]"
   ]
  },
  {
   "cell_type": "markdown",
   "id": "9e7099eb-cf9e-41b8-b801-f30495b9c793",
   "metadata": {},
   "source": [
    "**Neighborhood features have to be done more additional steps to split list to be columns.** \n",
    "<br>These features are about the top 6 nerest transportation facilities, which including city train(BTS and MRT), express way.\n",
    "These features were captured by iteration of algorithm that made a length of list for each row \n",
    "\n",
    "Challenges:\n",
    "1. Differece in number of value in list: 0 to 6\n",
    "2. Differece in order of value in categorical list\n",
    "3. Difference in type of facility\n",
    "4. Difference in unit of measurement: meters, kilometers\n",
    "\n",
    "**To simplify these features' situation, features will be cosidered as two types:**\n",
    "1. Nearest distance between condominium and tranportation facilities\n",
    "    - City train\n",
    "    - Express way\n",
    "2. Boolean features wheater condominium is closer than 1 km. to transportation facilities\n",
    "    - City train\n",
    "    - Express way"
   ]
  },
  {
   "cell_type": "code",
   "execution_count": 471,
   "id": "89c403ee-3d39-4749-bf30-db8a979c0499",
   "metadata": {},
   "outputs": [],
   "source": [
    "# define function that returns closet distance to transportation facilities\n",
    "\n",
    "def distance_str_to_float(string):\n",
    "    \"\"\"Covert string distance to float and covert to meter\"\"\"\n",
    "    if len(string) > 0:\n",
    "        trim_str = string.split('/')[0].strip()\n",
    "        if trim_str[-2:] == 'km':\n",
    "            return float(trim_str[:-3]) * 1000\n",
    "        elif trim_str[-1] == 'm':\n",
    "            return float(trim_str[:-2])\n",
    "    else:\n",
    "        return None\n",
    "\n",
    "def get_distance_citytrain(category_list, distance_list):\n",
    "    \"\"\"Fuction use with dataframe .apply or .map\n",
    "    Return: distance of closest city train in meter unit\"\"\"\n",
    "    if (category_list != None):\n",
    "        if ('marker marker-bts' in category_list) or ('marker marker-mrt' in category_list):\n",
    "            convert_distance_list = []\n",
    "            # Iterate all value in list to find city train distances\n",
    "            for i in range(len(category_list)):\n",
    "                if category_list[i] in ['marker marker-bts', 'marker marker-mrt']:\n",
    "                    # Convert string to distance\n",
    "                    convert_distance = distance_str_to_float(distance_list[i])\n",
    "                    # Append all bts/mrt distances\n",
    "                    if convert_distance != None:\n",
    "                        convert_distance_list.append(convert_distance)\n",
    "            # return closest distance\n",
    "            convert_distance_list.sort()\n",
    "            try:\n",
    "                return convert_distance_list[0]\n",
    "            except:\n",
    "                return None\n",
    "    return None\n",
    "\n",
    "def get_distance_expressway(category_list, distance_list):\n",
    "    \"\"\"Fuction use with dataframe .apply or .map\n",
    "    Return: distance of closest express way in meter unit\"\"\"\n",
    "    if (category_list != None):\n",
    "        if ('marker marker-expressway' in category_list):\n",
    "            convert_distance_list = []\n",
    "            # Iterate all value in list to find city train distances\n",
    "            for i in range(len(category_list)):\n",
    "                if category_list[i] in ['marker marker-expressway']:\n",
    "                    # Convert string to distance\n",
    "                    convert_distance = distance_str_to_float(distance_list[i])\n",
    "                    # Append all bts/mrt distances\n",
    "                    if convert_distance != None:\n",
    "                        convert_distance_list.append(convert_distance)\n",
    "            # return closest distance\n",
    "            convert_distance_list.sort()\n",
    "            try:\n",
    "                return convert_distance_list[0]\n",
    "            except:\n",
    "                return None\n",
    "    return None"
   ]
  },
  {
   "cell_type": "code",
   "execution_count": 472,
   "id": "226d4380-d7e2-403e-a51a-6a3cd5cb6d3f",
   "metadata": {},
   "outputs": [],
   "source": [
    "# Create transport facility distance columns\n",
    "raw_df['city_train_distance'] = raw_df[['neighbor_cats', 'neighbor_distances']].apply(lambda x: get_distance_citytrain(x[0], x[1]), axis=1)\n",
    "raw_df['express_way_distance'] = raw_df[['neighbor_cats', 'neighbor_distances']].apply(lambda x: get_distance_expressway(x[0], x[1]), axis=1)\n",
    "\n",
    "# Create boolean columns if distance <= 1 km.\n",
    "raw_df['close_city_train'] = raw_df['city_train_distance'].apply(lambda x: int(x <= 1000) if x != None else 0)\n",
    "raw_df['close_express_way'] = raw_df['express_way_distance'].apply(lambda x: int(x <= 1000) if x != None else 0)"
   ]
  },
  {
   "cell_type": "code",
   "execution_count": 473,
   "id": "830ccd32-2240-4940-88fa-9f15f18fc82b",
   "metadata": {},
   "outputs": [],
   "source": [
    "# Drop unused columns\n",
    "raw_df.drop(columns=joined_features, inplace=True)"
   ]
  },
  {
   "cell_type": "code",
   "execution_count": 474,
   "id": "a0141dc6-2e54-4ba3-a7bb-43f5d7161259",
   "metadata": {},
   "outputs": [
    {
     "data": {
      "text/html": [
       "<div>\n",
       "<style scoped>\n",
       "    .dataframe tbody tr th:only-of-type {\n",
       "        vertical-align: middle;\n",
       "    }\n",
       "\n",
       "    .dataframe tbody tr th {\n",
       "        vertical-align: top;\n",
       "    }\n",
       "\n",
       "    .dataframe thead th {\n",
       "        text-align: right;\n",
       "    }\n",
       "</style>\n",
       "<table border=\"1\" class=\"dataframe\">\n",
       "  <thead>\n",
       "    <tr style=\"text-align: right;\">\n",
       "      <th></th>\n",
       "      <th>dev</th>\n",
       "      <th>district</th>\n",
       "      <th>sale_price</th>\n",
       "      <th>rent_price</th>\n",
       "      <th>asking_price</th>\n",
       "      <th>asking_price_change_quater</th>\n",
       "      <th>asking_price_change_year</th>\n",
       "      <th>gross_rental_yield</th>\n",
       "      <th>rental_price_change_year</th>\n",
       "      <th>bedrooms</th>\n",
       "      <th>...</th>\n",
       "      <th>has_gym</th>\n",
       "      <th>has_garden_bbq</th>\n",
       "      <th>has_playground</th>\n",
       "      <th>has_shop_on_premise</th>\n",
       "      <th>has_restaurant_on_premise</th>\n",
       "      <th>has_wifi</th>\n",
       "      <th>city_train_distance</th>\n",
       "      <th>express_way_distance</th>\n",
       "      <th>close_city_train</th>\n",
       "      <th>close_express_way</th>\n",
       "    </tr>\n",
       "  </thead>\n",
       "  <tbody>\n",
       "    <tr>\n",
       "      <th>0</th>\n",
       "      <td>J Condo Sathorn - Kallaprapruk</td>\n",
       "      <td>Bang Bon</td>\n",
       "      <td>1390000.00</td>\n",
       "      <td>NaN</td>\n",
       "      <td>57,995</td>\n",
       "      <td>0.00</td>\n",
       "      <td>1.11</td>\n",
       "      <td>5.50</td>\n",
       "      <td>11.30</td>\n",
       "      <td>1</td>\n",
       "      <td>...</td>\n",
       "      <td>True</td>\n",
       "      <td>True</td>\n",
       "      <td>True</td>\n",
       "      <td>False</td>\n",
       "      <td>False</td>\n",
       "      <td>False</td>\n",
       "      <td>6600.00</td>\n",
       "      <td>6200.00</td>\n",
       "      <td>0</td>\n",
       "      <td>0</td>\n",
       "    </tr>\n",
       "    <tr>\n",
       "      <th>1</th>\n",
       "      <td>J Condo Sathorn - Kallaprapruk</td>\n",
       "      <td>Bang Bon</td>\n",
       "      <td>1390000.00</td>\n",
       "      <td>NaN</td>\n",
       "      <td>57,995</td>\n",
       "      <td>0.00</td>\n",
       "      <td>1.11</td>\n",
       "      <td>5.50</td>\n",
       "      <td>11.30</td>\n",
       "      <td>1</td>\n",
       "      <td>...</td>\n",
       "      <td>True</td>\n",
       "      <td>True</td>\n",
       "      <td>True</td>\n",
       "      <td>False</td>\n",
       "      <td>False</td>\n",
       "      <td>False</td>\n",
       "      <td>6600.00</td>\n",
       "      <td>6200.00</td>\n",
       "      <td>0</td>\n",
       "      <td>0</td>\n",
       "    </tr>\n",
       "    <tr>\n",
       "      <th>2</th>\n",
       "      <td>J Condo Sathorn - Kallaprapruk</td>\n",
       "      <td>Bang Bon</td>\n",
       "      <td>1390000.00</td>\n",
       "      <td>NaN</td>\n",
       "      <td>57,995</td>\n",
       "      <td>0.00</td>\n",
       "      <td>1.11</td>\n",
       "      <td>5.50</td>\n",
       "      <td>11.30</td>\n",
       "      <td>1</td>\n",
       "      <td>...</td>\n",
       "      <td>True</td>\n",
       "      <td>True</td>\n",
       "      <td>True</td>\n",
       "      <td>False</td>\n",
       "      <td>False</td>\n",
       "      <td>False</td>\n",
       "      <td>6600.00</td>\n",
       "      <td>6200.00</td>\n",
       "      <td>0</td>\n",
       "      <td>0</td>\n",
       "    </tr>\n",
       "    <tr>\n",
       "      <th>3</th>\n",
       "      <td>J Condo Sathorn - Kallaprapruk</td>\n",
       "      <td>Bang Bon</td>\n",
       "      <td>1790000.00</td>\n",
       "      <td>NaN</td>\n",
       "      <td>57,995</td>\n",
       "      <td>0.00</td>\n",
       "      <td>1.11</td>\n",
       "      <td>5.50</td>\n",
       "      <td>11.30</td>\n",
       "      <td>1</td>\n",
       "      <td>...</td>\n",
       "      <td>True</td>\n",
       "      <td>True</td>\n",
       "      <td>True</td>\n",
       "      <td>False</td>\n",
       "      <td>False</td>\n",
       "      <td>False</td>\n",
       "      <td>6600.00</td>\n",
       "      <td>6200.00</td>\n",
       "      <td>0</td>\n",
       "      <td>0</td>\n",
       "    </tr>\n",
       "    <tr>\n",
       "      <th>4</th>\n",
       "      <td>J Condo Sathorn - Kallaprapruk</td>\n",
       "      <td>Bang Bon</td>\n",
       "      <td>1290000.00</td>\n",
       "      <td>NaN</td>\n",
       "      <td>57,995</td>\n",
       "      <td>0.00</td>\n",
       "      <td>1.11</td>\n",
       "      <td>5.50</td>\n",
       "      <td>11.30</td>\n",
       "      <td>1</td>\n",
       "      <td>...</td>\n",
       "      <td>True</td>\n",
       "      <td>True</td>\n",
       "      <td>True</td>\n",
       "      <td>False</td>\n",
       "      <td>False</td>\n",
       "      <td>False</td>\n",
       "      <td>6600.00</td>\n",
       "      <td>6200.00</td>\n",
       "      <td>0</td>\n",
       "      <td>0</td>\n",
       "    </tr>\n",
       "  </tbody>\n",
       "</table>\n",
       "<p>5 rows × 32 columns</p>\n",
       "</div>"
      ],
      "text/plain": [
       "                              dev  district  sale_price  rent_price  \\\n",
       "0  J Condo Sathorn - Kallaprapruk  Bang Bon  1390000.00         NaN   \n",
       "1  J Condo Sathorn - Kallaprapruk  Bang Bon  1390000.00         NaN   \n",
       "2  J Condo Sathorn - Kallaprapruk  Bang Bon  1390000.00         NaN   \n",
       "3  J Condo Sathorn - Kallaprapruk  Bang Bon  1790000.00         NaN   \n",
       "4  J Condo Sathorn - Kallaprapruk  Bang Bon  1290000.00         NaN   \n",
       "\n",
       "  asking_price  asking_price_change_quater asking_price_change_year  \\\n",
       "0       57,995                        0.00                     1.11   \n",
       "1       57,995                        0.00                     1.11   \n",
       "2       57,995                        0.00                     1.11   \n",
       "3       57,995                        0.00                     1.11   \n",
       "4       57,995                        0.00                     1.11   \n",
       "\n",
       "   gross_rental_yield rental_price_change_year bedrooms  ... has_gym  \\\n",
       "0                5.50                    11.30        1  ...    True   \n",
       "1                5.50                    11.30        1  ...    True   \n",
       "2                5.50                    11.30        1  ...    True   \n",
       "3                5.50                    11.30        1  ...    True   \n",
       "4                5.50                    11.30        1  ...    True   \n",
       "\n",
       "  has_garden_bbq has_playground has_shop_on_premise has_restaurant_on_premise  \\\n",
       "0           True           True               False                     False   \n",
       "1           True           True               False                     False   \n",
       "2           True           True               False                     False   \n",
       "3           True           True               False                     False   \n",
       "4           True           True               False                     False   \n",
       "\n",
       "  has_wifi city_train_distance express_way_distance close_city_train  \\\n",
       "0    False             6600.00              6200.00                0   \n",
       "1    False             6600.00              6200.00                0   \n",
       "2    False             6600.00              6200.00                0   \n",
       "3    False             6600.00              6200.00                0   \n",
       "4    False             6600.00              6200.00                0   \n",
       "\n",
       "  close_express_way  \n",
       "0                 0  \n",
       "1                 0  \n",
       "2                 0  \n",
       "3                 0  \n",
       "4                 0  \n",
       "\n",
       "[5 rows x 32 columns]"
      ]
     },
     "execution_count": 474,
     "metadata": {},
     "output_type": "execute_result"
    }
   ],
   "source": [
    "raw_df.head()"
   ]
  },
  {
   "cell_type": "markdown",
   "id": "4767454d-589c-4d2d-a4ab-5a05544fee2e",
   "metadata": {},
   "source": [
    "### 3.2.3 Missing Values and Data Types Check"
   ]
  },
  {
   "cell_type": "code",
   "execution_count": 475,
   "id": "f3158e7f-e640-416b-bc98-5c5b41e4e7c0",
   "metadata": {},
   "outputs": [],
   "source": [
    "def missing_values_df(df):\n",
    "    \"\"\"Return dataframe of missing values and its percentage comparing with total length of dataframe\"\"\"\n",
    "    missing_df = pd.DataFrame({'n_missing': df.isnull().sum().sort_values(ascending=False)})\n",
    "    missing_df['pct_missing'] = round(missing_df['n_missing'] / len(df) * 100, 2)\n",
    "    return missing_df[missing_df['n_missing'] > 0]"
   ]
  },
  {
   "cell_type": "code",
   "execution_count": 476,
   "id": "73a75d63-095b-4997-b78a-d38492426fc7",
   "metadata": {},
   "outputs": [
    {
     "data": {
      "text/html": [
       "<div>\n",
       "<style scoped>\n",
       "    .dataframe tbody tr th:only-of-type {\n",
       "        vertical-align: middle;\n",
       "    }\n",
       "\n",
       "    .dataframe tbody tr th {\n",
       "        vertical-align: top;\n",
       "    }\n",
       "\n",
       "    .dataframe thead th {\n",
       "        text-align: right;\n",
       "    }\n",
       "</style>\n",
       "<table border=\"1\" class=\"dataframe\">\n",
       "  <thead>\n",
       "    <tr style=\"text-align: right;\">\n",
       "      <th></th>\n",
       "      <th>n_missing</th>\n",
       "      <th>pct_missing</th>\n",
       "    </tr>\n",
       "  </thead>\n",
       "  <tbody>\n",
       "    <tr>\n",
       "      <th>rent_price</th>\n",
       "      <td>19820</td>\n",
       "      <td>86.49</td>\n",
       "    </tr>\n",
       "    <tr>\n",
       "      <th>project_area</th>\n",
       "      <td>10359</td>\n",
       "      <td>45.21</td>\n",
       "    </tr>\n",
       "    <tr>\n",
       "      <th>bathrooms</th>\n",
       "      <td>2496</td>\n",
       "      <td>10.89</td>\n",
       "    </tr>\n",
       "    <tr>\n",
       "      <th>year_built</th>\n",
       "      <td>2077</td>\n",
       "      <td>9.06</td>\n",
       "    </tr>\n",
       "    <tr>\n",
       "      <th>has_restaurant_on_premise</th>\n",
       "      <td>1805</td>\n",
       "      <td>7.88</td>\n",
       "    </tr>\n",
       "    <tr>\n",
       "      <th>has_playground</th>\n",
       "      <td>1558</td>\n",
       "      <td>6.80</td>\n",
       "    </tr>\n",
       "    <tr>\n",
       "      <th>has_shop_on_premise</th>\n",
       "      <td>1248</td>\n",
       "      <td>5.45</td>\n",
       "    </tr>\n",
       "    <tr>\n",
       "      <th>has_wifi</th>\n",
       "      <td>1128</td>\n",
       "      <td>4.92</td>\n",
       "    </tr>\n",
       "    <tr>\n",
       "      <th>has_sauna</th>\n",
       "      <td>1124</td>\n",
       "      <td>4.91</td>\n",
       "    </tr>\n",
       "    <tr>\n",
       "      <th>bedrooms</th>\n",
       "      <td>847</td>\n",
       "      <td>3.70</td>\n",
       "    </tr>\n",
       "    <tr>\n",
       "      <th>rental_price_change_year</th>\n",
       "      <td>592</td>\n",
       "      <td>2.58</td>\n",
       "    </tr>\n",
       "    <tr>\n",
       "      <th>gross_rental_yield</th>\n",
       "      <td>592</td>\n",
       "      <td>2.58</td>\n",
       "    </tr>\n",
       "    <tr>\n",
       "      <th>asking_price</th>\n",
       "      <td>592</td>\n",
       "      <td>2.58</td>\n",
       "    </tr>\n",
       "    <tr>\n",
       "      <th>asking_price_change_quater</th>\n",
       "      <td>592</td>\n",
       "      <td>2.58</td>\n",
       "    </tr>\n",
       "    <tr>\n",
       "      <th>asking_price_change_year</th>\n",
       "      <td>592</td>\n",
       "      <td>2.58</td>\n",
       "    </tr>\n",
       "    <tr>\n",
       "      <th>express_way_distance</th>\n",
       "      <td>559</td>\n",
       "      <td>2.44</td>\n",
       "    </tr>\n",
       "    <tr>\n",
       "      <th>has_garden_bbq</th>\n",
       "      <td>434</td>\n",
       "      <td>1.89</td>\n",
       "    </tr>\n",
       "    <tr>\n",
       "      <th>city_train_distance</th>\n",
       "      <td>409</td>\n",
       "      <td>1.78</td>\n",
       "    </tr>\n",
       "    <tr>\n",
       "      <th>floors</th>\n",
       "      <td>322</td>\n",
       "      <td>1.41</td>\n",
       "    </tr>\n",
       "    <tr>\n",
       "      <th>has_cctv</th>\n",
       "      <td>310</td>\n",
       "      <td>1.35</td>\n",
       "    </tr>\n",
       "    <tr>\n",
       "      <th>has_gym</th>\n",
       "      <td>302</td>\n",
       "      <td>1.32</td>\n",
       "    </tr>\n",
       "    <tr>\n",
       "      <th>has_elevator</th>\n",
       "      <td>290</td>\n",
       "      <td>1.27</td>\n",
       "    </tr>\n",
       "    <tr>\n",
       "      <th>internal_area</th>\n",
       "      <td>251</td>\n",
       "      <td>1.10</td>\n",
       "    </tr>\n",
       "    <tr>\n",
       "      <th>has_pool</th>\n",
       "      <td>41</td>\n",
       "      <td>0.18</td>\n",
       "    </tr>\n",
       "    <tr>\n",
       "      <th>has_security</th>\n",
       "      <td>20</td>\n",
       "      <td>0.09</td>\n",
       "    </tr>\n",
       "    <tr>\n",
       "      <th>has_parking</th>\n",
       "      <td>6</td>\n",
       "      <td>0.03</td>\n",
       "    </tr>\n",
       "    <tr>\n",
       "      <th>towers</th>\n",
       "      <td>1</td>\n",
       "      <td>0.00</td>\n",
       "    </tr>\n",
       "  </tbody>\n",
       "</table>\n",
       "</div>"
      ],
      "text/plain": [
       "                            n_missing  pct_missing\n",
       "rent_price                      19820        86.49\n",
       "project_area                    10359        45.21\n",
       "bathrooms                        2496        10.89\n",
       "year_built                       2077         9.06\n",
       "has_restaurant_on_premise        1805         7.88\n",
       "has_playground                   1558         6.80\n",
       "has_shop_on_premise              1248         5.45\n",
       "has_wifi                         1128         4.92\n",
       "has_sauna                        1124         4.91\n",
       "bedrooms                          847         3.70\n",
       "rental_price_change_year          592         2.58\n",
       "gross_rental_yield                592         2.58\n",
       "asking_price                      592         2.58\n",
       "asking_price_change_quater        592         2.58\n",
       "asking_price_change_year          592         2.58\n",
       "express_way_distance              559         2.44\n",
       "has_garden_bbq                    434         1.89\n",
       "city_train_distance               409         1.78\n",
       "floors                            322         1.41\n",
       "has_cctv                          310         1.35\n",
       "has_gym                           302         1.32\n",
       "has_elevator                      290         1.27\n",
       "internal_area                     251         1.10\n",
       "has_pool                           41         0.18\n",
       "has_security                       20         0.09\n",
       "has_parking                         6         0.03\n",
       "towers                              1         0.00"
      ]
     },
     "execution_count": 476,
     "metadata": {},
     "output_type": "execute_result"
    }
   ],
   "source": [
    "# Check missing values\n",
    "missing_values_df(raw_df)"
   ]
  },
  {
   "cell_type": "markdown",
   "id": "bd5dd999-a907-4e0a-b3fd-6a69b9e840c0",
   "metadata": {},
   "source": [
    "**According to missing value table, missing values can be separated to 4 groups by number of missing and approach to fix them.**\n",
    "1. **High percentage of missig data:**\n",
    "    - Approch: Drop whole columns\n",
    "    - `rent_price` : 86.46% missing\n",
    "    - `project_area` : 42.49% missing\n",
    "2. **Boolean columns (all amenity features):**\n",
    "    - Approch: Treat missing data as 0 since absences of objects that unable to scrape could imply that condominiums do not have these fuctions.\n",
    "3. **Columns that missing percentage less than or equal to 15%:**\n",
    "    - `year_built` which has 15% of missing also considered\n",
    "    - 2 approaches could be applied:\n",
    "        - Drop missing rows\n",
    "        - Impute median values\n",
    "4.**Columns that do not need to fix:** Sice they are additional detail of codominiums.\n",
    "    - `dev`\n",
    "    - `address`\n",
    "    - `detail`\n",
    "    - `description`"
   ]
  },
  {
   "cell_type": "code",
   "execution_count": 477,
   "id": "55338325-397a-49a3-b335-a25702360328",
   "metadata": {},
   "outputs": [],
   "source": [
    "# 1. Drop columns\n",
    "raw_df.drop(columns=['rent_price', 'project_area'], inplace=True)"
   ]
  },
  {
   "cell_type": "code",
   "execution_count": 478,
   "id": "d16823c0-cfa3-468c-9b32-31c32f72fa1b",
   "metadata": {},
   "outputs": [],
   "source": [
    "# 2. Fill null with zero for boolean features\n",
    "amenity_columns = raw_df.columns[raw_df.columns.str.contains('has')]\n",
    "raw_df[amenity_columns] = raw_df[amenity_columns].fillna(value=0)"
   ]
  },
  {
   "cell_type": "code",
   "execution_count": 479,
   "id": "9c116001-2245-4f12-9923-cbd5ce48ae60",
   "metadata": {},
   "outputs": [],
   "source": [
    "# 3. Columns that missing percentage less than or equal to 15%"
   ]
  },
  {
   "cell_type": "code",
   "execution_count": 480,
   "id": "1857f1ec-e44e-4d25-be1a-2cc1120ba8aa",
   "metadata": {},
   "outputs": [
    {
     "data": {
      "image/png": "[encoded data removed]",
      "text/plain": [
       "<Figure size 1800x720 with 2 Axes>"
      ]
     },
     "metadata": {
      "needs_background": "light"
     },
     "output_type": "display_data"
    }
   ],
   "source": [
    "# Check missing values by missingno library to see patern and effect on missing data\n",
    "msno.matrix(raw_df);"
   ]
  },
  {
   "cell_type": "markdown",
   "id": "6afc34a9-090b-4265-8dd1-11594b3ad73a",
   "metadata": {},
   "source": [
    "**From missingno matrix**, data are likely to be missing on the same rows, which could imply that if we drop row that contain null, \n",
    "<br>data will be missing about 15% based on maxmimum percentage of missing values. \n",
    "<br>It also can implay that if we drop rows that missing one feature, the rest of features will be droped the same rows that have missing value."
   ]
  },
  {
   "cell_type": "code",
   "execution_count": 481,
   "id": "5c0a7996-cbac-4bd6-bb01-64bd73fb656b",
   "metadata": {},
   "outputs": [
    {
     "name": "stdout",
     "output_type": "stream",
     "text": [
      "Original data: 22915\n",
      "Data after dropping null: 17243\n",
      "Row loss: 5672\n",
      "%Loss: 24.75\n"
     ]
    }
   ],
   "source": [
    "# Check if we drop rows that contain missing value\n",
    "len_df = raw_df.shape[0]\n",
    "len_drop_df = raw_df.drop(columns=['dev']).dropna().shape[0]\n",
    "print(f\"Original data: {len_df}\")\n",
    "print(f\"Data after dropping null: {len_drop_df}\")\n",
    "print(f\"Row loss: {len_df - len_drop_df}\")\n",
    "print(f\"%Loss: {round((len_df - len_drop_df) / len_df * 100, 2)}\")"
   ]
  },
  {
   "cell_type": "markdown",
   "id": "2d91f370-a02c-4190-a175-97e88b9dab4c",
   "metadata": {},
   "source": [
    "**If we drop null values**, data will be decreased 181 rows, which are 17.89% of original rows, and will be 831 rows totally.\n",
    "<br>831 data are still accepctable for regression problem but we can also try to impute data.\n",
    "<br> We will pause fixing missing values for a moment and cotinue again when we're doing model after train test spliting to avoid data leakage.\n"
   ]
  },
  {
   "cell_type": "code",
   "execution_count": 482,
   "id": "9baf0941-aabd-4612-b378-331080c01c67",
   "metadata": {},
   "outputs": [
    {
     "data": {
      "text/html": [
       "<div>\n",
       "<style scoped>\n",
       "    .dataframe tbody tr th:only-of-type {\n",
       "        vertical-align: middle;\n",
       "    }\n",
       "\n",
       "    .dataframe tbody tr th {\n",
       "        vertical-align: top;\n",
       "    }\n",
       "\n",
       "    .dataframe thead th {\n",
       "        text-align: right;\n",
       "    }\n",
       "</style>\n",
       "<table border=\"1\" class=\"dataframe\">\n",
       "  <thead>\n",
       "    <tr style=\"text-align: right;\">\n",
       "      <th></th>\n",
       "      <th>n_missing</th>\n",
       "      <th>pct_missing</th>\n",
       "    </tr>\n",
       "  </thead>\n",
       "  <tbody>\n",
       "    <tr>\n",
       "      <th>bathrooms</th>\n",
       "      <td>2496</td>\n",
       "      <td>10.89</td>\n",
       "    </tr>\n",
       "    <tr>\n",
       "      <th>year_built</th>\n",
       "      <td>2077</td>\n",
       "      <td>9.06</td>\n",
       "    </tr>\n",
       "    <tr>\n",
       "      <th>bedrooms</th>\n",
       "      <td>847</td>\n",
       "      <td>3.70</td>\n",
       "    </tr>\n",
       "    <tr>\n",
       "      <th>asking_price</th>\n",
       "      <td>592</td>\n",
       "      <td>2.58</td>\n",
       "    </tr>\n",
       "    <tr>\n",
       "      <th>asking_price_change_quater</th>\n",
       "      <td>592</td>\n",
       "      <td>2.58</td>\n",
       "    </tr>\n",
       "    <tr>\n",
       "      <th>asking_price_change_year</th>\n",
       "      <td>592</td>\n",
       "      <td>2.58</td>\n",
       "    </tr>\n",
       "    <tr>\n",
       "      <th>gross_rental_yield</th>\n",
       "      <td>592</td>\n",
       "      <td>2.58</td>\n",
       "    </tr>\n",
       "    <tr>\n",
       "      <th>rental_price_change_year</th>\n",
       "      <td>592</td>\n",
       "      <td>2.58</td>\n",
       "    </tr>\n",
       "    <tr>\n",
       "      <th>express_way_distance</th>\n",
       "      <td>559</td>\n",
       "      <td>2.44</td>\n",
       "    </tr>\n",
       "    <tr>\n",
       "      <th>city_train_distance</th>\n",
       "      <td>409</td>\n",
       "      <td>1.78</td>\n",
       "    </tr>\n",
       "    <tr>\n",
       "      <th>floors</th>\n",
       "      <td>322</td>\n",
       "      <td>1.41</td>\n",
       "    </tr>\n",
       "    <tr>\n",
       "      <th>internal_area</th>\n",
       "      <td>251</td>\n",
       "      <td>1.10</td>\n",
       "    </tr>\n",
       "    <tr>\n",
       "      <th>towers</th>\n",
       "      <td>1</td>\n",
       "      <td>0.00</td>\n",
       "    </tr>\n",
       "  </tbody>\n",
       "</table>\n",
       "</div>"
      ],
      "text/plain": [
       "                            n_missing  pct_missing\n",
       "bathrooms                        2496        10.89\n",
       "year_built                       2077         9.06\n",
       "bedrooms                          847         3.70\n",
       "asking_price                      592         2.58\n",
       "asking_price_change_quater        592         2.58\n",
       "asking_price_change_year          592         2.58\n",
       "gross_rental_yield                592         2.58\n",
       "rental_price_change_year          592         2.58\n",
       "express_way_distance              559         2.44\n",
       "city_train_distance               409         1.78\n",
       "floors                            322         1.41\n",
       "internal_area                     251         1.10\n",
       "towers                              1         0.00"
      ]
     },
     "execution_count": 482,
     "metadata": {},
     "output_type": "execute_result"
    }
   ],
   "source": [
    "# Check missing values\n",
    "missing_values_df(raw_df)"
   ]
  },
  {
   "cell_type": "markdown",
   "id": "826557cc-fd10-41e4-a102-4a387e3fae6b",
   "metadata": {},
   "source": [
    "### 3.2.4 Data Type Check\n",
    "Data were scraped as text without any transforming before saving to .csv, therefore we need to turn numeric features to be appropriate form."
   ]
  },
  {
   "cell_type": "code",
   "execution_count": 483,
   "id": "96d99b91-4dfc-41fa-bb59-58de4809f696",
   "metadata": {},
   "outputs": [
    {
     "data": {
      "text/plain": [
       "dev                            object\n",
       "district                       object\n",
       "sale_price                    float64\n",
       "asking_price                   object\n",
       "asking_price_change_quater    float64\n",
       "asking_price_change_year       object\n",
       "gross_rental_yield            float64\n",
       "rental_price_change_year       object\n",
       "bedrooms                       object\n",
       "bathrooms                      object\n",
       "internal_area                  object\n",
       "floors                         object\n",
       "towers                         object\n",
       "year_built                     object\n",
       "has_elevator                   object\n",
       "has_parking                    object\n",
       "has_security                   object\n",
       "has_cctv                       object\n",
       "has_pool                       object\n",
       "has_sauna                      object\n",
       "has_gym                        object\n",
       "has_garden_bbq                 object\n",
       "has_playground                 object\n",
       "has_shop_on_premise            object\n",
       "has_restaurant_on_premise      object\n",
       "has_wifi                       object\n",
       "city_train_distance           float64\n",
       "express_way_distance          float64\n",
       "close_city_train                int64\n",
       "close_express_way               int64\n",
       "dtype: object"
      ]
     },
     "execution_count": 483,
     "metadata": {},
     "output_type": "execute_result"
    }
   ],
   "source": [
    "raw_df.dtypes"
   ]
  },
  {
   "cell_type": "markdown",
   "id": "41605192-7c52-464f-8cdb-7372a205daaf",
   "metadata": {},
   "source": [
    "#### 3.2.4.1 Type Casting"
   ]
  },
  {
   "cell_type": "markdown",
   "id": "4ae187d9-5f35-4ee1-8867-8f42408f1e86",
   "metadata": {},
   "source": [
    "##### **`asking_price`**\n",
    "---"
   ]
  },
  {
   "cell_type": "code",
   "execution_count": 484,
   "id": "ac451e61-941a-4a53-b2cf-6179d08ec530",
   "metadata": {},
   "outputs": [
    {
     "data": {
      "text/plain": [
       "0         57,995\n",
       "1         57,995\n",
       "2         57,995\n",
       "3         57,995\n",
       "4         57,995\n",
       "          ...   \n",
       "22910    142,521\n",
       "22911    126,211\n",
       "22912    164,122\n",
       "22913     79,486\n",
       "22914     92,308\n",
       "Name: asking_price, Length: 22915, dtype: object"
      ]
     },
     "execution_count": 484,
     "metadata": {},
     "output_type": "execute_result"
    }
   ],
   "source": [
    "# Cast 'asking_price' to be float\n",
    "# 'asking_price' has ',' in each value, we need to remove it before casting\n",
    "raw_df['asking_price']"
   ]
  },
  {
   "cell_type": "code",
   "execution_count": 485,
   "id": "96f3b5f3-aae0-422b-bd56-9772f6ac014b",
   "metadata": {},
   "outputs": [],
   "source": [
    "# 'asking_price'\n",
    "# Remove ','\n",
    "raw_df['asking_price'] = raw_df['asking_price'].str.replace(',', '')\n",
    "\n",
    "# Cast to float\n",
    "raw_df['asking_price'] = raw_df['asking_price'].astype(float)"
   ]
  },
  {
   "cell_type": "markdown",
   "id": "7fb0488d-673e-4e3b-ac15-5288c5448875",
   "metadata": {},
   "source": [
    "##### **`asking_price_change_year`**\n",
    "---"
   ]
  },
  {
   "cell_type": "code",
   "execution_count": 486,
   "id": "4305319f-6462-40e6-b509-04f2c5484977",
   "metadata": {},
   "outputs": [
    {
     "data": {
      "text/plain": [
       "4299    –\n",
       "4350    –\n",
       "4351    –\n",
       "4361    –\n",
       "4368    –\n",
       "Name: asking_price_change_year, dtype: object"
      ]
     },
     "execution_count": 486,
     "metadata": {},
     "output_type": "execute_result"
    }
   ],
   "source": [
    "# Cast 'asking_price_change_year' to be float\n",
    "# 'asking_price_change_year' has '–' that represent of null value, we need to remove it.\n",
    "raw_df['asking_price_change_year'][raw_df['asking_price_change_year'] == '–'][:5]"
   ]
  },
  {
   "cell_type": "code",
   "execution_count": 487,
   "id": "a9b121e1-e499-4a2a-9ef1-4a0c8eed5041",
   "metadata": {},
   "outputs": [],
   "source": [
    "# 'asking_price_change_year'\n",
    "# Remove '–'\n",
    "raw_df['asking_price_change_year'] = raw_df['asking_price_change_year'].replace('–', None)\n",
    "\n",
    "# Cast to float\n",
    "raw_df['asking_price_change_year'] = raw_df['asking_price_change_year'].astype(float)"
   ]
  },
  {
   "cell_type": "markdown",
   "id": "59345470-eef7-4257-9ab7-94128fd028d5",
   "metadata": {},
   "source": [
    "##### **`rental_price_change_year`**\n",
    "---"
   ]
  },
  {
   "cell_type": "code",
   "execution_count": 488,
   "id": "219640c2-3227-45be-b028-fb44a5e5f424",
   "metadata": {},
   "outputs": [
    {
     "data": {
      "text/plain": [
       "28     –\n",
       "114    –\n",
       "135    –\n",
       "136    –\n",
       "137    –\n",
       "Name: rental_price_change_year, dtype: object"
      ]
     },
     "execution_count": 488,
     "metadata": {},
     "output_type": "execute_result"
    }
   ],
   "source": [
    "# Cast 'rental_price_change_year' to be float\n",
    "# 'rental_price_change_year' has '–' that represent of null value, we need to remove it.\n",
    "raw_df['rental_price_change_year'][raw_df['rental_price_change_year'] == '–'][:5]"
   ]
  },
  {
   "cell_type": "code",
   "execution_count": 489,
   "id": "946bf5fd-b607-4918-8e8d-a79417e6136b",
   "metadata": {},
   "outputs": [],
   "source": [
    "# 'rental_price_change_year'\n",
    "# Remove '–'\n",
    "raw_df['rental_price_change_year'] = raw_df['rental_price_change_year'].replace('–', None)\n",
    "\n",
    "# Cast to float\n",
    "raw_df['rental_price_change_year'] = raw_df['rental_price_change_year'].astype(float)"
   ]
  },
  {
   "cell_type": "markdown",
   "id": "947cb4b7-37c5-47f2-8f55-dae5443c744c",
   "metadata": {
    "tags": []
   },
   "source": [
    "##### **`internal_area`**\n",
    "---\n",
    "Problem: After trying to cast `internal_area` as float, an error raised up that ',' was found in the feature.\n",
    "<br>So, we need to explore more about the feature whether it was a mistake by scaping process or a mistake from the website itself."
   ]
  },
  {
   "cell_type": "code",
   "execution_count": 490,
   "id": "7c06d4ee-4b90-4e4a-a415-33aefb0c5863",
   "metadata": {},
   "outputs": [
    {
     "data": {
      "text/html": [
       "<div>\n",
       "<style scoped>\n",
       "    .dataframe tbody tr th:only-of-type {\n",
       "        vertical-align: middle;\n",
       "    }\n",
       "\n",
       "    .dataframe tbody tr th {\n",
       "        vertical-align: top;\n",
       "    }\n",
       "\n",
       "    .dataframe thead th {\n",
       "        text-align: right;\n",
       "    }\n",
       "</style>\n",
       "<table border=\"1\" class=\"dataframe\">\n",
       "  <thead>\n",
       "    <tr style=\"text-align: right;\">\n",
       "      <th></th>\n",
       "      <th>dev</th>\n",
       "      <th>sale_price</th>\n",
       "      <th>internal_area</th>\n",
       "    </tr>\n",
       "  </thead>\n",
       "  <tbody>\n",
       "    <tr>\n",
       "      <th>1987</th>\n",
       "      <td>Four Seasons Private Residences</td>\n",
       "      <td>475000000.00</td>\n",
       "      <td>1,050</td>\n",
       "    </tr>\n",
       "    <tr>\n",
       "      <th>2214</th>\n",
       "      <td>Four Seasons Private Residences</td>\n",
       "      <td>453933000.00</td>\n",
       "      <td>1,008</td>\n",
       "    </tr>\n",
       "    <tr>\n",
       "      <th>3376</th>\n",
       "      <td>The Tree RIO</td>\n",
       "      <td>6190000.00</td>\n",
       "      <td>6,190,000</td>\n",
       "    </tr>\n",
       "    <tr>\n",
       "      <th>3781</th>\n",
       "      <td>Commonwealth Pinklao</td>\n",
       "      <td>56990000.00</td>\n",
       "      <td>1,268.2</td>\n",
       "    </tr>\n",
       "    <tr>\n",
       "      <th>3819</th>\n",
       "      <td>Bangkok River Marina</td>\n",
       "      <td>200000000.00</td>\n",
       "      <td>1,000</td>\n",
       "    </tr>\n",
       "    <tr>\n",
       "      <th>8195</th>\n",
       "      <td>Emerald Residence Ratchada</td>\n",
       "      <td>2750000.00</td>\n",
       "      <td>10,000</td>\n",
       "    </tr>\n",
       "    <tr>\n",
       "      <th>8409</th>\n",
       "      <td>Belle Grand Rama 9</td>\n",
       "      <td>11700535.00</td>\n",
       "      <td>36,049</td>\n",
       "    </tr>\n",
       "    <tr>\n",
       "      <th>9061</th>\n",
       "      <td>Condolette Midst Rama 9</td>\n",
       "      <td>4797000.00</td>\n",
       "      <td>2,940</td>\n",
       "    </tr>\n",
       "    <tr>\n",
       "      <th>10445</th>\n",
       "      <td>Siamese Exclusive Queens</td>\n",
       "      <td>13401574.00</td>\n",
       "      <td>44,814</td>\n",
       "    </tr>\n",
       "    <tr>\n",
       "      <th>11310</th>\n",
       "      <td>The ESSE Sukhumvit 36</td>\n",
       "      <td>20302257.00</td>\n",
       "      <td>61,588</td>\n",
       "    </tr>\n",
       "    <tr>\n",
       "      <th>12365</th>\n",
       "      <td>Baan Siri 31</td>\n",
       "      <td>12597426.00</td>\n",
       "      <td>11,746</td>\n",
       "    </tr>\n",
       "    <tr>\n",
       "      <th>12690</th>\n",
       "      <td>Rin House</td>\n",
       "      <td>3953437.00</td>\n",
       "      <td>16,650</td>\n",
       "    </tr>\n",
       "    <tr>\n",
       "      <th>14063</th>\n",
       "      <td>Supalai Park Ratchaphruek - Phetkasem</td>\n",
       "      <td>1930000.00</td>\n",
       "      <td>1,000,000</td>\n",
       "    </tr>\n",
       "    <tr>\n",
       "      <th>18545</th>\n",
       "      <td>Sathorn Gardens</td>\n",
       "      <td>30000000.00</td>\n",
       "      <td>2,000</td>\n",
       "    </tr>\n",
       "    <tr>\n",
       "      <th>18559</th>\n",
       "      <td>The Sukhothai Residences</td>\n",
       "      <td>580000000.00</td>\n",
       "      <td>1,182.69</td>\n",
       "    </tr>\n",
       "    <tr>\n",
       "      <th>18778</th>\n",
       "      <td>The Sukhothai Residences</td>\n",
       "      <td>580000000.00</td>\n",
       "      <td>1,182.69</td>\n",
       "    </tr>\n",
       "    <tr>\n",
       "      <th>18832</th>\n",
       "      <td>The Sukhothai Residences</td>\n",
       "      <td>580000000.00</td>\n",
       "      <td>1,182</td>\n",
       "    </tr>\n",
       "    <tr>\n",
       "      <th>20972</th>\n",
       "      <td>Plum Condo Ladprao 101</td>\n",
       "      <td>1200000.00</td>\n",
       "      <td>1,000,000</td>\n",
       "    </tr>\n",
       "    <tr>\n",
       "      <th>21455</th>\n",
       "      <td>Rin House</td>\n",
       "      <td>3953437.00</td>\n",
       "      <td>16,650</td>\n",
       "    </tr>\n",
       "    <tr>\n",
       "      <th>21954</th>\n",
       "      <td>Eight Thonglor Residence</td>\n",
       "      <td>360000000.00</td>\n",
       "      <td>1,000</td>\n",
       "    </tr>\n",
       "  </tbody>\n",
       "</table>\n",
       "</div>"
      ],
      "text/plain": [
       "                                         dev   sale_price internal_area\n",
       "1987         Four Seasons Private Residences 475000000.00         1,050\n",
       "2214         Four Seasons Private Residences 453933000.00         1,008\n",
       "3376                            The Tree RIO   6190000.00     6,190,000\n",
       "3781                    Commonwealth Pinklao  56990000.00       1,268.2\n",
       "3819                    Bangkok River Marina 200000000.00         1,000\n",
       "8195              Emerald Residence Ratchada   2750000.00        10,000\n",
       "8409                      Belle Grand Rama 9  11700535.00        36,049\n",
       "9061                 Condolette Midst Rama 9   4797000.00         2,940\n",
       "10445               Siamese Exclusive Queens  13401574.00        44,814\n",
       "11310                  The ESSE Sukhumvit 36  20302257.00        61,588\n",
       "12365                           Baan Siri 31  12597426.00        11,746\n",
       "12690                              Rin House   3953437.00        16,650\n",
       "14063  Supalai Park Ratchaphruek - Phetkasem   1930000.00     1,000,000\n",
       "18545                        Sathorn Gardens  30000000.00         2,000\n",
       "18559               The Sukhothai Residences 580000000.00      1,182.69\n",
       "18778               The Sukhothai Residences 580000000.00      1,182.69\n",
       "18832               The Sukhothai Residences 580000000.00         1,182\n",
       "20972                 Plum Condo Ladprao 101   1200000.00     1,000,000\n",
       "21455                              Rin House   3953437.00        16,650\n",
       "21954               Eight Thonglor Residence 360000000.00         1,000"
      ]
     },
     "execution_count": 490,
     "metadata": {},
     "output_type": "execute_result"
    }
   ],
   "source": [
    "# Find values of 'internal_area' that contain ','\n",
    "raw_df[['dev', 'sale_price', 'internal_area']][raw_df['internal_area'].str.find(',') > 0]"
   ]
  },
  {
   "cell_type": "markdown",
   "id": "8ed6a8e1-1f95-4a6d-b363-173aa2a21606",
   "metadata": {},
   "source": [
    "**From the result above**, 6 rows incorrectly returned `internal_area`, which should be returned in square meter unit of room size.\n",
    "\n",
    "**The possible reasons are:**\n",
    "1. Incorrectly scraping problem\n",
    "2. Incorrect input from the website\n",
    "\n",
    "**Conclusion:** After revisiting the website, it was found that these 6 observations were reported as overall internal area but unable to find the correct internal area of each room because of varity numbers of internal infrastructures. Therefore, **they will be replaced as null and be imputed in the future process.**"
   ]
  },
  {
   "cell_type": "code",
   "execution_count": 491,
   "id": "57fb897d-d38d-4ac0-90eb-a7d1a16646a2",
   "metadata": {},
   "outputs": [
    {
     "data": {
      "text/html": [
       "<div>\n",
       "<style scoped>\n",
       "    .dataframe tbody tr th:only-of-type {\n",
       "        vertical-align: middle;\n",
       "    }\n",
       "\n",
       "    .dataframe tbody tr th {\n",
       "        vertical-align: top;\n",
       "    }\n",
       "\n",
       "    .dataframe thead th {\n",
       "        text-align: right;\n",
       "    }\n",
       "</style>\n",
       "<table border=\"1\" class=\"dataframe\">\n",
       "  <thead>\n",
       "    <tr style=\"text-align: right;\">\n",
       "      <th></th>\n",
       "      <th>dev</th>\n",
       "      <th>sale_price</th>\n",
       "      <th>internal_area</th>\n",
       "    </tr>\n",
       "  </thead>\n",
       "  <tbody>\n",
       "    <tr>\n",
       "      <th>1987</th>\n",
       "      <td>Four Seasons Private Residences</td>\n",
       "      <td>475000000.00</td>\n",
       "      <td>None</td>\n",
       "    </tr>\n",
       "    <tr>\n",
       "      <th>2214</th>\n",
       "      <td>Four Seasons Private Residences</td>\n",
       "      <td>453933000.00</td>\n",
       "      <td>None</td>\n",
       "    </tr>\n",
       "    <tr>\n",
       "      <th>3376</th>\n",
       "      <td>The Tree RIO</td>\n",
       "      <td>6190000.00</td>\n",
       "      <td>None</td>\n",
       "    </tr>\n",
       "    <tr>\n",
       "      <th>3781</th>\n",
       "      <td>Commonwealth Pinklao</td>\n",
       "      <td>56990000.00</td>\n",
       "      <td>None</td>\n",
       "    </tr>\n",
       "    <tr>\n",
       "      <th>3819</th>\n",
       "      <td>Bangkok River Marina</td>\n",
       "      <td>200000000.00</td>\n",
       "      <td>None</td>\n",
       "    </tr>\n",
       "    <tr>\n",
       "      <th>8195</th>\n",
       "      <td>Emerald Residence Ratchada</td>\n",
       "      <td>2750000.00</td>\n",
       "      <td>None</td>\n",
       "    </tr>\n",
       "    <tr>\n",
       "      <th>8409</th>\n",
       "      <td>Belle Grand Rama 9</td>\n",
       "      <td>11700535.00</td>\n",
       "      <td>None</td>\n",
       "    </tr>\n",
       "    <tr>\n",
       "      <th>9061</th>\n",
       "      <td>Condolette Midst Rama 9</td>\n",
       "      <td>4797000.00</td>\n",
       "      <td>None</td>\n",
       "    </tr>\n",
       "    <tr>\n",
       "      <th>10445</th>\n",
       "      <td>Siamese Exclusive Queens</td>\n",
       "      <td>13401574.00</td>\n",
       "      <td>None</td>\n",
       "    </tr>\n",
       "    <tr>\n",
       "      <th>11310</th>\n",
       "      <td>The ESSE Sukhumvit 36</td>\n",
       "      <td>20302257.00</td>\n",
       "      <td>None</td>\n",
       "    </tr>\n",
       "    <tr>\n",
       "      <th>12365</th>\n",
       "      <td>Baan Siri 31</td>\n",
       "      <td>12597426.00</td>\n",
       "      <td>None</td>\n",
       "    </tr>\n",
       "    <tr>\n",
       "      <th>12690</th>\n",
       "      <td>Rin House</td>\n",
       "      <td>3953437.00</td>\n",
       "      <td>None</td>\n",
       "    </tr>\n",
       "    <tr>\n",
       "      <th>14063</th>\n",
       "      <td>Supalai Park Ratchaphruek - Phetkasem</td>\n",
       "      <td>1930000.00</td>\n",
       "      <td>None</td>\n",
       "    </tr>\n",
       "    <tr>\n",
       "      <th>18545</th>\n",
       "      <td>Sathorn Gardens</td>\n",
       "      <td>30000000.00</td>\n",
       "      <td>None</td>\n",
       "    </tr>\n",
       "    <tr>\n",
       "      <th>18559</th>\n",
       "      <td>The Sukhothai Residences</td>\n",
       "      <td>580000000.00</td>\n",
       "      <td>None</td>\n",
       "    </tr>\n",
       "    <tr>\n",
       "      <th>18778</th>\n",
       "      <td>The Sukhothai Residences</td>\n",
       "      <td>580000000.00</td>\n",
       "      <td>None</td>\n",
       "    </tr>\n",
       "    <tr>\n",
       "      <th>18832</th>\n",
       "      <td>The Sukhothai Residences</td>\n",
       "      <td>580000000.00</td>\n",
       "      <td>None</td>\n",
       "    </tr>\n",
       "    <tr>\n",
       "      <th>20972</th>\n",
       "      <td>Plum Condo Ladprao 101</td>\n",
       "      <td>1200000.00</td>\n",
       "      <td>None</td>\n",
       "    </tr>\n",
       "    <tr>\n",
       "      <th>21455</th>\n",
       "      <td>Rin House</td>\n",
       "      <td>3953437.00</td>\n",
       "      <td>None</td>\n",
       "    </tr>\n",
       "    <tr>\n",
       "      <th>21954</th>\n",
       "      <td>Eight Thonglor Residence</td>\n",
       "      <td>360000000.00</td>\n",
       "      <td>None</td>\n",
       "    </tr>\n",
       "  </tbody>\n",
       "</table>\n",
       "</div>"
      ],
      "text/plain": [
       "                                         dev   sale_price internal_area\n",
       "1987         Four Seasons Private Residences 475000000.00          None\n",
       "2214         Four Seasons Private Residences 453933000.00          None\n",
       "3376                            The Tree RIO   6190000.00          None\n",
       "3781                    Commonwealth Pinklao  56990000.00          None\n",
       "3819                    Bangkok River Marina 200000000.00          None\n",
       "8195              Emerald Residence Ratchada   2750000.00          None\n",
       "8409                      Belle Grand Rama 9  11700535.00          None\n",
       "9061                 Condolette Midst Rama 9   4797000.00          None\n",
       "10445               Siamese Exclusive Queens  13401574.00          None\n",
       "11310                  The ESSE Sukhumvit 36  20302257.00          None\n",
       "12365                           Baan Siri 31  12597426.00          None\n",
       "12690                              Rin House   3953437.00          None\n",
       "14063  Supalai Park Ratchaphruek - Phetkasem   1930000.00          None\n",
       "18545                        Sathorn Gardens  30000000.00          None\n",
       "18559               The Sukhothai Residences 580000000.00          None\n",
       "18778               The Sukhothai Residences 580000000.00          None\n",
       "18832               The Sukhothai Residences 580000000.00          None\n",
       "20972                 Plum Condo Ladprao 101   1200000.00          None\n",
       "21455                              Rin House   3953437.00          None\n",
       "21954               Eight Thonglor Residence 360000000.00          None"
      ]
     },
     "execution_count": 491,
     "metadata": {},
     "output_type": "execute_result"
    }
   ],
   "source": [
    "# Get incorrect values' indexes\n",
    "selective_index = raw_df[['dev', 'sale_price', 'internal_area']][raw_df['internal_area'].str.find(',') > 0].index\n",
    "\n",
    "# Replace 'internal_area' by None\n",
    "raw_df.loc[selective_index, 'internal_area'] = None\n",
    "\n",
    "# Check result\n",
    "raw_df.loc[selective_index, ['dev', 'sale_price', 'internal_area']]"
   ]
  },
  {
   "cell_type": "code",
   "execution_count": 492,
   "id": "181e0895-b5a8-4108-b838-12c3dfaab7be",
   "metadata": {},
   "outputs": [],
   "source": [
    "# Now we can cast it as float\n",
    "raw_df['internal_area'] = raw_df['internal_area'].astype(float)"
   ]
  },
  {
   "cell_type": "markdown",
   "id": "180a4375-3e26-4958-94da-4f0b0b382809",
   "metadata": {},
   "source": [
    "##### **`bedrooms`**\n",
    "---\n",
    "`bedrooms` feature has one obstacle that make this feature unable to be casted as float, which is 'Studio' so we can replace it as 0 due to it as one room with all functions.\n",
    "\n",
    "We also see some obviouse values in this feature, which bedrooms that too large number, so we need to explore it further."
   ]
  },
  {
   "cell_type": "code",
   "execution_count": 493,
   "id": "287ec349-b4c0-4296-9081-995deb77c338",
   "metadata": {},
   "outputs": [
    {
     "data": {
      "text/plain": [
       "array(['1', None, '3', '2', '5', '4', '11', 'Studio', '8', '6', '7', '9',\n",
       "       '27'], dtype=object)"
      ]
     },
     "execution_count": 493,
     "metadata": {},
     "output_type": "execute_result"
    }
   ],
   "source": [
    "raw_df['bedrooms'].unique()"
   ]
  },
  {
   "cell_type": "code",
   "execution_count": 494,
   "id": "ec20b53e-0252-44d7-9702-f6b6c479f1ae",
   "metadata": {},
   "outputs": [],
   "source": [
    "# Replace 'Studio' with zero\n",
    "raw_df['bedrooms'] = raw_df['bedrooms'].replace('Studio', '0')\n",
    "\n",
    "# Cast as float\n",
    "raw_df['bedrooms'] = raw_df['bedrooms'].astype(float)"
   ]
  },
  {
   "cell_type": "code",
   "execution_count": 500,
   "id": "b0c5cc45-d2c9-445e-833c-5ebebfebf8ce",
   "metadata": {},
   "outputs": [
    {
     "data": {
      "text/html": [
       "<div>\n",
       "<style scoped>\n",
       "    .dataframe tbody tr th:only-of-type {\n",
       "        vertical-align: middle;\n",
       "    }\n",
       "\n",
       "    .dataframe tbody tr th {\n",
       "        vertical-align: top;\n",
       "    }\n",
       "\n",
       "    .dataframe thead th {\n",
       "        text-align: right;\n",
       "    }\n",
       "</style>\n",
       "<table border=\"1\" class=\"dataframe\">\n",
       "  <thead>\n",
       "    <tr style=\"text-align: right;\">\n",
       "      <th></th>\n",
       "      <th>dev</th>\n",
       "      <th>sale_price</th>\n",
       "      <th>bedrooms</th>\n",
       "    </tr>\n",
       "  </thead>\n",
       "  <tbody>\n",
       "    <tr>\n",
       "      <th>11895</th>\n",
       "      <td>D Condo Onnut - Suvarnabhumi</td>\n",
       "      <td>1300000.00</td>\n",
       "      <td>11.00</td>\n",
       "    </tr>\n",
       "    <tr>\n",
       "      <th>8357</th>\n",
       "      <td>JW CONDO @DONMUANG</td>\n",
       "      <td>1690000.00</td>\n",
       "      <td>9.00</td>\n",
       "    </tr>\n",
       "    <tr>\n",
       "      <th>482</th>\n",
       "      <td>Bangkok Horizon Ramkhamhaeng</td>\n",
       "      <td>2200000.00</td>\n",
       "      <td>11.00</td>\n",
       "    </tr>\n",
       "    <tr>\n",
       "      <th>9167</th>\n",
       "      <td>Chrisma Condo Ramintra</td>\n",
       "      <td>4500000.00</td>\n",
       "      <td>27.00</td>\n",
       "    </tr>\n",
       "    <tr>\n",
       "      <th>19563</th>\n",
       "      <td>Flora Ville</td>\n",
       "      <td>5900000.00</td>\n",
       "      <td>5.00</td>\n",
       "    </tr>\n",
       "    <tr>\n",
       "      <th>7382</th>\n",
       "      <td>Ekachai Condominium 2</td>\n",
       "      <td>6050000.00</td>\n",
       "      <td>7.00</td>\n",
       "    </tr>\n",
       "    <tr>\n",
       "      <th>19737</th>\n",
       "      <td>Royal Castle Pattanakarn</td>\n",
       "      <td>12000000.00</td>\n",
       "      <td>6.00</td>\n",
       "    </tr>\n",
       "    <tr>\n",
       "      <th>16089</th>\n",
       "      <td>Baan On Nut Sukhumvit 77</td>\n",
       "      <td>14000000.00</td>\n",
       "      <td>7.00</td>\n",
       "    </tr>\n",
       "    <tr>\n",
       "      <th>2924</th>\n",
       "      <td>NS Tower Central City Bangna</td>\n",
       "      <td>16500000.00</td>\n",
       "      <td>5.00</td>\n",
       "    </tr>\n",
       "    <tr>\n",
       "      <th>19915</th>\n",
       "      <td>Royal Castle Pattanakarn</td>\n",
       "      <td>18000000.00</td>\n",
       "      <td>5.00</td>\n",
       "    </tr>\n",
       "  </tbody>\n",
       "</table>\n",
       "</div>"
      ],
      "text/plain": [
       "                                dev  sale_price  bedrooms\n",
       "11895  D Condo Onnut - Suvarnabhumi  1300000.00     11.00\n",
       "8357             JW CONDO @DONMUANG  1690000.00      9.00\n",
       "482    Bangkok Horizon Ramkhamhaeng  2200000.00     11.00\n",
       "9167         Chrisma Condo Ramintra  4500000.00     27.00\n",
       "19563                   Flora Ville  5900000.00      5.00\n",
       "7382          Ekachai Condominium 2  6050000.00      7.00\n",
       "19737      Royal Castle Pattanakarn 12000000.00      6.00\n",
       "16089      Baan On Nut Sukhumvit 77 14000000.00      7.00\n",
       "2924   NS Tower Central City Bangna 16500000.00      5.00\n",
       "19915      Royal Castle Pattanakarn 18000000.00      5.00"
      ]
     },
     "execution_count": 500,
     "metadata": {},
     "output_type": "execute_result"
    }
   ],
   "source": [
    "raw_df[raw_df['bedrooms'] >= 5][['dev', 'sale_price', 'bedrooms']].sort_values(by='sale_price')[:10]"
   ]
  },
  {
   "cell_type": "code",
   "execution_count": 501,
   "id": "c408e4ed-cbf0-4f6f-b4ec-30d7250fd780",
   "metadata": {},
   "outputs": [
    {
     "data": {
      "text/plain": [
       "Int64Index([11895, 8357, 482, 9167, 19563, 7382, 19737, 16089, 2924, 19915], dtype='int64')"
      ]
     },
     "execution_count": 501,
     "metadata": {},
     "output_type": "execute_result"
    }
   ],
   "source": [
    "raw_df[raw_df['bedrooms'] >= 5][['dev', 'sale_price', 'bedrooms']].sort_values(by='sale_price')[:10].index"
   ]
  },
  {
   "cell_type": "code",
   "execution_count": 505,
   "id": "758267d9-37f6-4379-ab6a-b00cd8c54aac",
   "metadata": {},
   "outputs": [],
   "source": [
    "# Change to 1 beds\n",
    "# 11895, 482\n",
    "raw_df.loc[[11895, 482], 'bedrooms'] = 1"
   ]
  },
  {
   "cell_type": "code",
   "execution_count": 506,
   "id": "28066fe6-d37e-4544-b166-facc52860ba1",
   "metadata": {},
   "outputs": [],
   "source": [
    "# Change to 0 beds\n",
    "# 8357\n",
    "raw_df.loc[8357, 'bedrooms'] = 0"
   ]
  },
  {
   "cell_type": "code",
   "execution_count": 507,
   "id": "590f5055-3f73-417d-aaee-4e78b8463bc1",
   "metadata": {},
   "outputs": [],
   "source": [
    "# Change to 2 beds\n",
    "# 9167\n",
    "raw_df.loc[9167, 'bedrooms'] = 2"
   ]
  },
  {
   "cell_type": "code",
   "execution_count": 508,
   "id": "70119a2b-817d-400f-ac9b-cecc442e874f",
   "metadata": {},
   "outputs": [],
   "source": [
    "# Drop rows\n",
    "# 7382\n",
    "raw_df = raw_df.drop(7382)"
   ]
  },
  {
   "cell_type": "code",
   "execution_count": 509,
   "id": "cb0f91aa-7b3e-463d-9111-844f4857cb5f",
   "metadata": {},
   "outputs": [
    {
     "data": {
      "text/html": [
       "<div>\n",
       "<style scoped>\n",
       "    .dataframe tbody tr th:only-of-type {\n",
       "        vertical-align: middle;\n",
       "    }\n",
       "\n",
       "    .dataframe tbody tr th {\n",
       "        vertical-align: top;\n",
       "    }\n",
       "\n",
       "    .dataframe thead th {\n",
       "        text-align: right;\n",
       "    }\n",
       "</style>\n",
       "<table border=\"1\" class=\"dataframe\">\n",
       "  <thead>\n",
       "    <tr style=\"text-align: right;\">\n",
       "      <th></th>\n",
       "      <th>dev</th>\n",
       "      <th>sale_price</th>\n",
       "      <th>bedrooms</th>\n",
       "    </tr>\n",
       "  </thead>\n",
       "  <tbody>\n",
       "    <tr>\n",
       "      <th>19563</th>\n",
       "      <td>Flora Ville</td>\n",
       "      <td>5900000.00</td>\n",
       "      <td>5.00</td>\n",
       "    </tr>\n",
       "    <tr>\n",
       "      <th>19737</th>\n",
       "      <td>Royal Castle Pattanakarn</td>\n",
       "      <td>12000000.00</td>\n",
       "      <td>6.00</td>\n",
       "    </tr>\n",
       "    <tr>\n",
       "      <th>16089</th>\n",
       "      <td>Baan On Nut Sukhumvit 77</td>\n",
       "      <td>14000000.00</td>\n",
       "      <td>7.00</td>\n",
       "    </tr>\n",
       "    <tr>\n",
       "      <th>2924</th>\n",
       "      <td>NS Tower Central City Bangna</td>\n",
       "      <td>16500000.00</td>\n",
       "      <td>5.00</td>\n",
       "    </tr>\n",
       "    <tr>\n",
       "      <th>19915</th>\n",
       "      <td>Royal Castle Pattanakarn</td>\n",
       "      <td>18000000.00</td>\n",
       "      <td>5.00</td>\n",
       "    </tr>\n",
       "    <tr>\n",
       "      <th>18416</th>\n",
       "      <td>Bangkok Boulevard Ramintra-Watcharapol</td>\n",
       "      <td>19900000.00</td>\n",
       "      <td>5.00</td>\n",
       "    </tr>\n",
       "    <tr>\n",
       "      <th>8987</th>\n",
       "      <td>Supalai Wellington</td>\n",
       "      <td>25000000.00</td>\n",
       "      <td>5.00</td>\n",
       "    </tr>\n",
       "    <tr>\n",
       "      <th>8457</th>\n",
       "      <td>Supalai Wellington</td>\n",
       "      <td>25500000.00</td>\n",
       "      <td>5.00</td>\n",
       "    </tr>\n",
       "    <tr>\n",
       "      <th>16914</th>\n",
       "      <td>Tree Condo LUXE Sukhumvit 52</td>\n",
       "      <td>30000000.00</td>\n",
       "      <td>5.00</td>\n",
       "    </tr>\n",
       "    <tr>\n",
       "      <th>8443</th>\n",
       "      <td>Belle Grand Rama 9</td>\n",
       "      <td>33000000.00</td>\n",
       "      <td>5.00</td>\n",
       "    </tr>\n",
       "  </tbody>\n",
       "</table>\n",
       "</div>"
      ],
      "text/plain": [
       "                                          dev  sale_price  bedrooms\n",
       "19563                             Flora Ville  5900000.00      5.00\n",
       "19737                Royal Castle Pattanakarn 12000000.00      6.00\n",
       "16089                Baan On Nut Sukhumvit 77 14000000.00      7.00\n",
       "2924             NS Tower Central City Bangna 16500000.00      5.00\n",
       "19915                Royal Castle Pattanakarn 18000000.00      5.00\n",
       "18416  Bangkok Boulevard Ramintra-Watcharapol 19900000.00      5.00\n",
       "8987                       Supalai Wellington 25000000.00      5.00\n",
       "8457                       Supalai Wellington 25500000.00      5.00\n",
       "16914            Tree Condo LUXE Sukhumvit 52 30000000.00      5.00\n",
       "8443                       Belle Grand Rama 9 33000000.00      5.00"
      ]
     },
     "execution_count": 509,
     "metadata": {},
     "output_type": "execute_result"
    }
   ],
   "source": [
    "# Check result\n",
    "raw_df[raw_df['bedrooms'] >= 5][['dev', 'sale_price', 'bedrooms']].sort_values(by='sale_price')[:10]"
   ]
  },
  {
   "cell_type": "markdown",
   "id": "b5f3eab0-76d3-45d4-83fe-a0a14df5de25",
   "metadata": {},
   "source": [
    "As per above table, there are 3 rooms that number of bedrooms and sale prices are not reasonable. After we exploring sources of data, It was found that there are typo mistakes from salers, thus we will fix it."
   ]
  },
  {
   "cell_type": "markdown",
   "id": "e5ade259-89ff-4a1e-b034-6b57dd633b26",
   "metadata": {},
   "source": [
    "##### **`bathrooms`, `floors`, `towers`, `year_built`**\n",
    "---\n",
    "These features can be casted directly without any error occurrence."
   ]
  },
  {
   "cell_type": "code",
   "execution_count": 510,
   "id": "7dd880d4-2711-4ab4-b5d6-f6d32f576106",
   "metadata": {},
   "outputs": [],
   "source": [
    "for feat in ['bathrooms', 'floors', 'towers', 'year_built']:\n",
    "    raw_df[feat] = raw_df[feat].astype(float)"
   ]
  },
  {
   "cell_type": "code",
   "execution_count": 511,
   "id": "fd2ba586-08fa-4f43-90e0-1cbae0070023",
   "metadata": {},
   "outputs": [
    {
     "data": {
      "text/plain": [
       "dev                            object\n",
       "district                       object\n",
       "sale_price                    float64\n",
       "asking_price                  float64\n",
       "asking_price_change_quater    float64\n",
       "asking_price_change_year      float64\n",
       "gross_rental_yield            float64\n",
       "rental_price_change_year      float64\n",
       "bedrooms                      float64\n",
       "bathrooms                     float64\n",
       "internal_area                 float64\n",
       "floors                        float64\n",
       "towers                        float64\n",
       "year_built                    float64\n",
       "has_elevator                   object\n",
       "has_parking                    object\n",
       "has_security                   object\n",
       "has_cctv                       object\n",
       "has_pool                       object\n",
       "has_sauna                      object\n",
       "has_gym                        object\n",
       "has_garden_bbq                 object\n",
       "has_playground                 object\n",
       "has_shop_on_premise            object\n",
       "has_restaurant_on_premise      object\n",
       "has_wifi                       object\n",
       "city_train_distance           float64\n",
       "express_way_distance          float64\n",
       "close_city_train                int64\n",
       "close_express_way               int64\n",
       "dtype: object"
      ]
     },
     "execution_count": 511,
     "metadata": {},
     "output_type": "execute_result"
    }
   ],
   "source": [
    "raw_df.dtypes"
   ]
  },
  {
   "cell_type": "markdown",
   "id": "ee8ba433-7c34-400d-af93-66e7bb293de0",
   "metadata": {},
   "source": [
    "##### **`Boolean features`**\n",
    "---\n",
    "All boolean featurs, now are string, need to be interger."
   ]
  },
  {
   "cell_type": "code",
   "execution_count": 512,
   "id": "16de8dea-9a92-4cdf-bb9b-42a4efac3f51",
   "metadata": {},
   "outputs": [
    {
     "data": {
      "text/plain": [
       "Index(['has_elevator', 'has_parking', 'has_security', 'has_cctv', 'has_pool',\n",
       "       'has_sauna', 'has_gym', 'has_garden_bbq', 'has_playground',\n",
       "       'has_shop_on_premise', 'has_restaurant_on_premise', 'has_wifi'],\n",
       "      dtype='object')"
      ]
     },
     "execution_count": 512,
     "metadata": {},
     "output_type": "execute_result"
    }
   ],
   "source": [
    "raw_df.columns[raw_df.columns.str.contains('has')]"
   ]
  },
  {
   "cell_type": "code",
   "execution_count": 513,
   "id": "15fc59e9-ea0c-40fe-89d9-2d8f4d13086c",
   "metadata": {},
   "outputs": [
    {
     "name": "stdout",
     "output_type": "stream",
     "text": [
      "Unable to cast: has_elevator\n",
      "Unable to cast: has_parking\n",
      "Unable to cast: has_security\n",
      "Unable to cast: has_cctv\n",
      "Unable to cast: has_pool\n",
      "Unable to cast: has_sauna\n",
      "Unable to cast: has_gym\n",
      "Unable to cast: has_garden_bbq\n",
      "Unable to cast: has_playground\n",
      "Unable to cast: has_shop_on_premise\n",
      "Unable to cast: has_restaurant_on_premise\n",
      "Unable to cast: has_wifi\n"
     ]
    }
   ],
   "source": [
    "# List columns that need to be interger\n",
    "boolean_features = raw_df.columns[raw_df.columns.str.contains('has')]\n",
    "\n",
    "# Check if features are unable to be casted\n",
    "for feat in boolean_features:\n",
    "    try:\n",
    "        raw_df[feat].astype(int)\n",
    "    except:\n",
    "        print('Unable to cast:', feat)"
   ]
  },
  {
   "cell_type": "markdown",
   "id": "d9523f8f-45aa-4cb7-82c3-48d0d4b3bfa8",
   "metadata": {},
   "source": [
    "**After tring to cast boolean features as int, errors were raised.** "
   ]
  },
  {
   "cell_type": "code",
   "execution_count": 514,
   "id": "e8368265-2f0e-4ede-b6bd-bf6ebfd2d6f4",
   "metadata": {},
   "outputs": [
    {
     "data": {
      "text/plain": [
       "array(['True', 'False', 0], dtype=object)"
      ]
     },
     "execution_count": 514,
     "metadata": {},
     "output_type": "execute_result"
    }
   ],
   "source": [
    "# Check values inside boolean feature\n",
    "raw_df['has_pool'].unique()"
   ]
  },
  {
   "cell_type": "markdown",
   "id": "71950228-6943-481d-a746-ca47805eb4bb",
   "metadata": {},
   "source": [
    "It was found out that values 'True' and 'False' as string were not treated as `Boolean`. To cast these features, we need to use condition to check context for these string."
   ]
  },
  {
   "cell_type": "code",
   "execution_count": 515,
   "id": "2cf4162c-e503-4f09-ac96-f8862d8a4f49",
   "metadata": {},
   "outputs": [],
   "source": [
    "for feat in boolean_features:\n",
    "    raw_df[feat] = raw_df[feat].apply(lambda x: 1 if x == 'True' else 0)"
   ]
  },
  {
   "cell_type": "markdown",
   "id": "b1bf8bd0-54f7-49ab-820b-ab3cd861cfe6",
   "metadata": {},
   "source": [
    "##### **`Final feature data types`**\n",
    "---"
   ]
  },
  {
   "cell_type": "code",
   "execution_count": 516,
   "id": "f16de14b-cc5a-434a-9c8a-eda864eef3cd",
   "metadata": {},
   "outputs": [
    {
     "data": {
      "text/plain": [
       "dev                            object\n",
       "district                       object\n",
       "sale_price                    float64\n",
       "asking_price                  float64\n",
       "asking_price_change_quater    float64\n",
       "asking_price_change_year      float64\n",
       "gross_rental_yield            float64\n",
       "rental_price_change_year      float64\n",
       "bedrooms                      float64\n",
       "bathrooms                     float64\n",
       "internal_area                 float64\n",
       "floors                        float64\n",
       "towers                        float64\n",
       "year_built                    float64\n",
       "has_elevator                    int64\n",
       "has_parking                     int64\n",
       "has_security                    int64\n",
       "has_cctv                        int64\n",
       "has_pool                        int64\n",
       "has_sauna                       int64\n",
       "has_gym                         int64\n",
       "has_garden_bbq                  int64\n",
       "has_playground                  int64\n",
       "has_shop_on_premise             int64\n",
       "has_restaurant_on_premise       int64\n",
       "has_wifi                        int64\n",
       "city_train_distance           float64\n",
       "express_way_distance          float64\n",
       "close_city_train                int64\n",
       "close_express_way               int64\n",
       "dtype: object"
      ]
     },
     "execution_count": 516,
     "metadata": {},
     "output_type": "execute_result"
    }
   ],
   "source": [
    "# Check final data types\n",
    "raw_df.dtypes"
   ]
  },
  {
   "cell_type": "markdown",
   "id": "f67a6e35-6dda-4b13-9150-fcee0667cc8d",
   "metadata": {},
   "source": [
    "#### 3.2.4.2 Missing Values Re-check\n",
    "After fixing all data types, number of missing values will be increased from some strings removal process.\n",
    "<br>**Let's re-check missing values again.**"
   ]
  },
  {
   "cell_type": "code",
   "execution_count": 517,
   "id": "c1889f89-3735-4760-8718-464834fc04fe",
   "metadata": {},
   "outputs": [
    {
     "data": {
      "text/html": [
       "<div>\n",
       "<style scoped>\n",
       "    .dataframe tbody tr th:only-of-type {\n",
       "        vertical-align: middle;\n",
       "    }\n",
       "\n",
       "    .dataframe tbody tr th {\n",
       "        vertical-align: top;\n",
       "    }\n",
       "\n",
       "    .dataframe thead th {\n",
       "        text-align: right;\n",
       "    }\n",
       "</style>\n",
       "<table border=\"1\" class=\"dataframe\">\n",
       "  <thead>\n",
       "    <tr style=\"text-align: right;\">\n",
       "      <th></th>\n",
       "      <th>n_missing</th>\n",
       "      <th>pct_missing</th>\n",
       "    </tr>\n",
       "  </thead>\n",
       "  <tbody>\n",
       "    <tr>\n",
       "      <th>bathrooms</th>\n",
       "      <td>2496</td>\n",
       "      <td>10.89</td>\n",
       "    </tr>\n",
       "    <tr>\n",
       "      <th>year_built</th>\n",
       "      <td>2077</td>\n",
       "      <td>9.06</td>\n",
       "    </tr>\n",
       "    <tr>\n",
       "      <th>rental_price_change_year</th>\n",
       "      <td>1638</td>\n",
       "      <td>7.15</td>\n",
       "    </tr>\n",
       "    <tr>\n",
       "      <th>bedrooms</th>\n",
       "      <td>847</td>\n",
       "      <td>3.70</td>\n",
       "    </tr>\n",
       "    <tr>\n",
       "      <th>asking_price_change_year</th>\n",
       "      <td>609</td>\n",
       "      <td>2.66</td>\n",
       "    </tr>\n",
       "    <tr>\n",
       "      <th>asking_price</th>\n",
       "      <td>591</td>\n",
       "      <td>2.58</td>\n",
       "    </tr>\n",
       "    <tr>\n",
       "      <th>asking_price_change_quater</th>\n",
       "      <td>591</td>\n",
       "      <td>2.58</td>\n",
       "    </tr>\n",
       "    <tr>\n",
       "      <th>gross_rental_yield</th>\n",
       "      <td>591</td>\n",
       "      <td>2.58</td>\n",
       "    </tr>\n",
       "    <tr>\n",
       "      <th>express_way_distance</th>\n",
       "      <td>559</td>\n",
       "      <td>2.44</td>\n",
       "    </tr>\n",
       "    <tr>\n",
       "      <th>city_train_distance</th>\n",
       "      <td>409</td>\n",
       "      <td>1.78</td>\n",
       "    </tr>\n",
       "    <tr>\n",
       "      <th>floors</th>\n",
       "      <td>322</td>\n",
       "      <td>1.41</td>\n",
       "    </tr>\n",
       "    <tr>\n",
       "      <th>internal_area</th>\n",
       "      <td>271</td>\n",
       "      <td>1.18</td>\n",
       "    </tr>\n",
       "    <tr>\n",
       "      <th>towers</th>\n",
       "      <td>1</td>\n",
       "      <td>0.00</td>\n",
       "    </tr>\n",
       "  </tbody>\n",
       "</table>\n",
       "</div>"
      ],
      "text/plain": [
       "                            n_missing  pct_missing\n",
       "bathrooms                        2496        10.89\n",
       "year_built                       2077         9.06\n",
       "rental_price_change_year         1638         7.15\n",
       "bedrooms                          847         3.70\n",
       "asking_price_change_year          609         2.66\n",
       "asking_price                      591         2.58\n",
       "asking_price_change_quater        591         2.58\n",
       "gross_rental_yield                591         2.58\n",
       "express_way_distance              559         2.44\n",
       "city_train_distance               409         1.78\n",
       "floors                            322         1.41\n",
       "internal_area                     271         1.18\n",
       "towers                              1         0.00"
      ]
     },
     "execution_count": 517,
     "metadata": {},
     "output_type": "execute_result"
    }
   ],
   "source": [
    "# Check missing values\n",
    "missing_df = pd.DataFrame({'n_missing': raw_df.isnull().sum().sort_values(ascending=False)})\n",
    "missing_df['pct_missing'] = round(missing_df['n_missing'] / len(raw_df) * 100, 2)\n",
    "missing_df[missing_df['n_missing'] > 0]"
   ]
  },
  {
   "cell_type": "code",
   "execution_count": 518,
   "id": "6e38d83f-5dfe-4739-9e85-7075091ab671",
   "metadata": {},
   "outputs": [
    {
     "data": {
      "image/png": "[encoded data removed]",
      "text/plain": [
       "<Figure size 1800x720 with 2 Axes>"
      ]
     },
     "metadata": {
      "needs_background": "light"
     },
     "output_type": "display_data"
    }
   ],
   "source": [
    "# Check missing values by missingno library to see patern and effect on missing data\n",
    "msno.matrix(raw_df);"
   ]
  },
  {
   "cell_type": "code",
   "execution_count": 519,
   "id": "864aa6e2-bbc3-4263-9597-3fb20cbecbaa",
   "metadata": {},
   "outputs": [
    {
     "name": "stdout",
     "output_type": "stream",
     "text": [
      "Original data: 22914\n",
      "Data after dropping null: 16604\n",
      "Row loss: 6310\n",
      "%Loss: 27.54\n"
     ]
    }
   ],
   "source": [
    "# Check if we drop rows that contain missing value\n",
    "len_df = raw_df.shape[0]\n",
    "len_drop_df = raw_df.drop(columns=['dev']).dropna().shape[0]\n",
    "print(f\"Original data: {len_df}\")\n",
    "print(f\"Data after dropping null: {len_drop_df}\")\n",
    "print(f\"Row loss: {len_df - len_drop_df}\")\n",
    "print(f\"%Loss: {round((len_df - len_drop_df) / len_df * 100, 2)}\")\n",
    "\n",
    "## Original result\n",
    "# Original data: 1012\n",
    "# Data after dropping null: 831\n",
    "# Row loss: 181\n",
    "# %Loss: 17.89"
   ]
  },
  {
   "cell_type": "markdown",
   "id": "20a4b20c-783b-476a-9485-40e260945642",
   "metadata": {},
   "source": [
    "**As per result,** if we drop rows that contain null value, data loss increase from 181 rows to 195 rows, which is equivalent to 19.27% loss.\n",
    "<br> 817 remaining observations are still reasonable to solve a regression problem.\n",
    "\n",
    "**Now we decided to leave a missing values handeling for a moment and move through EDA section to understand data behavior before going to impute or remove it.**"
   ]
  },
  {
   "cell_type": "code",
   "execution_count": 521,
   "id": "bbba90e5-af95-4fb7-b468-b08cdf20e634",
   "metadata": {},
   "outputs": [],
   "source": [
    "# Save clean dataframe as csv to re-use it\n",
    "raw_df.to_csv('./data/condominium_price_all_clean_final.csv', index=False)"
   ]
  },
  {
   "cell_type": "markdown",
   "id": "a8cda5c6-8e3a-4a64-af96-87962c342af2",
   "metadata": {},
   "source": [
    "# 4. EDA\n",
    "---\n",
    "---"
   ]
  },
  {
   "cell_type": "code",
   "execution_count": 533,
   "id": "7bfdca3b-e9bc-4bf8-8189-967d6825ac38",
   "metadata": {},
   "outputs": [],
   "source": [
    "# Read saved csv file\n",
    "df = pd.read_csv('./data/condominium_price_all_clean_final.csv')"
   ]
  },
  {
   "cell_type": "code",
   "execution_count": 535,
   "id": "e2c3f8fd-1503-4b00-94a1-e1f65a2d82ee",
   "metadata": {},
   "outputs": [],
   "source": [
    "# Set numeric features' column names\n",
    "numeric_features = [\n",
    "    'asking_price', 'asking_price_change_quater', 'asking_price_change_year',\n",
    "    'gross_rental_yield', 'rental_price_change_year', 'bedrooms',\n",
    "    'bathrooms', 'internal_area', 'floors', 'towers', 'year_built',\n",
    "    'city_train_distance', 'express_way_distance']\n",
    "\n",
    "categorical_features = [\n",
    "    'bedrooms', 'bathrooms',\n",
    "    'has_elevator', 'has_parking', 'has_security', 'has_cctv', 'has_pool',\n",
    "    'has_sauna', 'has_gym', 'has_garden_bbq', 'has_playground',\n",
    "    'has_shop_on_premise', 'has_restaurant_on_premise', 'has_wifi',\n",
    "    'close_city_train', 'close_express_way']"
   ]
  },
  {
   "cell_type": "code",
   "execution_count": 536,
   "id": "b087cc06-04bc-4d12-9b43-46d90f48513b",
   "metadata": {},
   "outputs": [
    {
     "data": {
      "text/html": [
       "<div>\n",
       "<style scoped>\n",
       "    .dataframe tbody tr th:only-of-type {\n",
       "        vertical-align: middle;\n",
       "    }\n",
       "\n",
       "    .dataframe tbody tr th {\n",
       "        vertical-align: top;\n",
       "    }\n",
       "\n",
       "    .dataframe thead th {\n",
       "        text-align: right;\n",
       "    }\n",
       "</style>\n",
       "<table border=\"1\" class=\"dataframe\">\n",
       "  <thead>\n",
       "    <tr style=\"text-align: right;\">\n",
       "      <th></th>\n",
       "      <th>count</th>\n",
       "      <th>mean</th>\n",
       "      <th>std</th>\n",
       "      <th>min</th>\n",
       "      <th>25%</th>\n",
       "      <th>50%</th>\n",
       "      <th>75%</th>\n",
       "      <th>max</th>\n",
       "    </tr>\n",
       "  </thead>\n",
       "  <tbody>\n",
       "    <tr>\n",
       "      <th>sale_price</th>\n",
       "      <td>22914.00</td>\n",
       "      <td>10392374.34</td>\n",
       "      <td>22887064.60</td>\n",
       "      <td>300000.00</td>\n",
       "      <td>2500000.00</td>\n",
       "      <td>4500000.00</td>\n",
       "      <td>9400000.00</td>\n",
       "      <td>580000000.00</td>\n",
       "    </tr>\n",
       "    <tr>\n",
       "      <th>asking_price</th>\n",
       "      <td>22323.00</td>\n",
       "      <td>133422.99</td>\n",
       "      <td>91072.66</td>\n",
       "      <td>11212.00</td>\n",
       "      <td>74066.00</td>\n",
       "      <td>105879.00</td>\n",
       "      <td>161842.00</td>\n",
       "      <td>780470.00</td>\n",
       "    </tr>\n",
       "    <tr>\n",
       "      <th>asking_price_change_quater</th>\n",
       "      <td>22323.00</td>\n",
       "      <td>0.80</td>\n",
       "      <td>26.50</td>\n",
       "      <td>-57.21</td>\n",
       "      <td>0.00</td>\n",
       "      <td>0.00</td>\n",
       "      <td>0.00</td>\n",
       "      <td>664.00</td>\n",
       "    </tr>\n",
       "    <tr>\n",
       "      <th>asking_price_change_year</th>\n",
       "      <td>22305.00</td>\n",
       "      <td>2.00</td>\n",
       "      <td>15.49</td>\n",
       "      <td>-81.16</td>\n",
       "      <td>-4.70</td>\n",
       "      <td>0.87</td>\n",
       "      <td>8.78</td>\n",
       "      <td>218.00</td>\n",
       "    </tr>\n",
       "    <tr>\n",
       "      <th>gross_rental_yield</th>\n",
       "      <td>22323.00</td>\n",
       "      <td>4.43</td>\n",
       "      <td>1.49</td>\n",
       "      <td>0.00</td>\n",
       "      <td>3.91</td>\n",
       "      <td>4.46</td>\n",
       "      <td>5.13</td>\n",
       "      <td>27.51</td>\n",
       "    </tr>\n",
       "    <tr>\n",
       "      <th>rental_price_change_year</th>\n",
       "      <td>21276.00</td>\n",
       "      <td>1.04</td>\n",
       "      <td>14.87</td>\n",
       "      <td>-94.46</td>\n",
       "      <td>-5.74</td>\n",
       "      <td>1.10</td>\n",
       "      <td>7.75</td>\n",
       "      <td>130.24</td>\n",
       "    </tr>\n",
       "    <tr>\n",
       "      <th>bedrooms</th>\n",
       "      <td>22067.00</td>\n",
       "      <td>1.43</td>\n",
       "      <td>0.69</td>\n",
       "      <td>0.00</td>\n",
       "      <td>1.00</td>\n",
       "      <td>1.00</td>\n",
       "      <td>2.00</td>\n",
       "      <td>8.00</td>\n",
       "    </tr>\n",
       "    <tr>\n",
       "      <th>bathrooms</th>\n",
       "      <td>20418.00</td>\n",
       "      <td>1.42</td>\n",
       "      <td>0.81</td>\n",
       "      <td>1.00</td>\n",
       "      <td>1.00</td>\n",
       "      <td>1.00</td>\n",
       "      <td>2.00</td>\n",
       "      <td>24.00</td>\n",
       "    </tr>\n",
       "    <tr>\n",
       "      <th>internal_area</th>\n",
       "      <td>22643.00</td>\n",
       "      <td>61.94</td>\n",
       "      <td>63.47</td>\n",
       "      <td>1.00</td>\n",
       "      <td>30.00</td>\n",
       "      <td>39.00</td>\n",
       "      <td>65.43</td>\n",
       "      <td>929.00</td>\n",
       "    </tr>\n",
       "    <tr>\n",
       "      <th>floors</th>\n",
       "      <td>22592.00</td>\n",
       "      <td>26.47</td>\n",
       "      <td>16.75</td>\n",
       "      <td>2.00</td>\n",
       "      <td>8.00</td>\n",
       "      <td>26.00</td>\n",
       "      <td>37.00</td>\n",
       "      <td>77.00</td>\n",
       "    </tr>\n",
       "    <tr>\n",
       "      <th>towers</th>\n",
       "      <td>22913.00</td>\n",
       "      <td>2.20</td>\n",
       "      <td>2.28</td>\n",
       "      <td>1.00</td>\n",
       "      <td>1.00</td>\n",
       "      <td>1.00</td>\n",
       "      <td>2.00</td>\n",
       "      <td>53.00</td>\n",
       "    </tr>\n",
       "    <tr>\n",
       "      <th>year_built</th>\n",
       "      <td>20837.00</td>\n",
       "      <td>2013.35</td>\n",
       "      <td>6.00</td>\n",
       "      <td>1981.00</td>\n",
       "      <td>2010.00</td>\n",
       "      <td>2014.00</td>\n",
       "      <td>2017.00</td>\n",
       "      <td>2025.00</td>\n",
       "    </tr>\n",
       "    <tr>\n",
       "      <th>has_elevator</th>\n",
       "      <td>22914.00</td>\n",
       "      <td>0.98</td>\n",
       "      <td>0.12</td>\n",
       "      <td>0.00</td>\n",
       "      <td>1.00</td>\n",
       "      <td>1.00</td>\n",
       "      <td>1.00</td>\n",
       "      <td>1.00</td>\n",
       "    </tr>\n",
       "    <tr>\n",
       "      <th>has_parking</th>\n",
       "      <td>22914.00</td>\n",
       "      <td>1.00</td>\n",
       "      <td>0.04</td>\n",
       "      <td>0.00</td>\n",
       "      <td>1.00</td>\n",
       "      <td>1.00</td>\n",
       "      <td>1.00</td>\n",
       "      <td>1.00</td>\n",
       "    </tr>\n",
       "    <tr>\n",
       "      <th>has_security</th>\n",
       "      <td>22914.00</td>\n",
       "      <td>1.00</td>\n",
       "      <td>0.05</td>\n",
       "      <td>0.00</td>\n",
       "      <td>1.00</td>\n",
       "      <td>1.00</td>\n",
       "      <td>1.00</td>\n",
       "      <td>1.00</td>\n",
       "    </tr>\n",
       "    <tr>\n",
       "      <th>has_cctv</th>\n",
       "      <td>22914.00</td>\n",
       "      <td>0.99</td>\n",
       "      <td>0.12</td>\n",
       "      <td>0.00</td>\n",
       "      <td>1.00</td>\n",
       "      <td>1.00</td>\n",
       "      <td>1.00</td>\n",
       "      <td>1.00</td>\n",
       "    </tr>\n",
       "    <tr>\n",
       "      <th>has_pool</th>\n",
       "      <td>22914.00</td>\n",
       "      <td>0.96</td>\n",
       "      <td>0.20</td>\n",
       "      <td>0.00</td>\n",
       "      <td>1.00</td>\n",
       "      <td>1.00</td>\n",
       "      <td>1.00</td>\n",
       "      <td>1.00</td>\n",
       "    </tr>\n",
       "    <tr>\n",
       "      <th>has_sauna</th>\n",
       "      <td>22914.00</td>\n",
       "      <td>0.47</td>\n",
       "      <td>0.50</td>\n",
       "      <td>0.00</td>\n",
       "      <td>0.00</td>\n",
       "      <td>0.00</td>\n",
       "      <td>1.00</td>\n",
       "      <td>1.00</td>\n",
       "    </tr>\n",
       "    <tr>\n",
       "      <th>has_gym</th>\n",
       "      <td>22914.00</td>\n",
       "      <td>0.96</td>\n",
       "      <td>0.21</td>\n",
       "      <td>0.00</td>\n",
       "      <td>1.00</td>\n",
       "      <td>1.00</td>\n",
       "      <td>1.00</td>\n",
       "      <td>1.00</td>\n",
       "    </tr>\n",
       "    <tr>\n",
       "      <th>has_garden_bbq</th>\n",
       "      <td>22914.00</td>\n",
       "      <td>0.85</td>\n",
       "      <td>0.36</td>\n",
       "      <td>0.00</td>\n",
       "      <td>1.00</td>\n",
       "      <td>1.00</td>\n",
       "      <td>1.00</td>\n",
       "      <td>1.00</td>\n",
       "    </tr>\n",
       "    <tr>\n",
       "      <th>has_playground</th>\n",
       "      <td>22914.00</td>\n",
       "      <td>0.41</td>\n",
       "      <td>0.49</td>\n",
       "      <td>0.00</td>\n",
       "      <td>0.00</td>\n",
       "      <td>0.00</td>\n",
       "      <td>1.00</td>\n",
       "      <td>1.00</td>\n",
       "    </tr>\n",
       "    <tr>\n",
       "      <th>has_shop_on_premise</th>\n",
       "      <td>22914.00</td>\n",
       "      <td>0.39</td>\n",
       "      <td>0.49</td>\n",
       "      <td>0.00</td>\n",
       "      <td>0.00</td>\n",
       "      <td>0.00</td>\n",
       "      <td>1.00</td>\n",
       "      <td>1.00</td>\n",
       "    </tr>\n",
       "    <tr>\n",
       "      <th>has_restaurant_on_premise</th>\n",
       "      <td>22914.00</td>\n",
       "      <td>0.23</td>\n",
       "      <td>0.42</td>\n",
       "      <td>0.00</td>\n",
       "      <td>0.00</td>\n",
       "      <td>0.00</td>\n",
       "      <td>0.00</td>\n",
       "      <td>1.00</td>\n",
       "    </tr>\n",
       "    <tr>\n",
       "      <th>has_wifi</th>\n",
       "      <td>22914.00</td>\n",
       "      <td>0.48</td>\n",
       "      <td>0.50</td>\n",
       "      <td>0.00</td>\n",
       "      <td>0.00</td>\n",
       "      <td>0.00</td>\n",
       "      <td>1.00</td>\n",
       "      <td>1.00</td>\n",
       "    </tr>\n",
       "    <tr>\n",
       "      <th>city_train_distance</th>\n",
       "      <td>22505.00</td>\n",
       "      <td>3146.98</td>\n",
       "      <td>3791.26</td>\n",
       "      <td>0.00</td>\n",
       "      <td>560.00</td>\n",
       "      <td>1400.00</td>\n",
       "      <td>4600.00</td>\n",
       "      <td>20000.00</td>\n",
       "    </tr>\n",
       "    <tr>\n",
       "      <th>express_way_distance</th>\n",
       "      <td>22355.00</td>\n",
       "      <td>2877.27</td>\n",
       "      <td>2237.46</td>\n",
       "      <td>150.00</td>\n",
       "      <td>1300.00</td>\n",
       "      <td>2100.00</td>\n",
       "      <td>3800.00</td>\n",
       "      <td>14000.00</td>\n",
       "    </tr>\n",
       "    <tr>\n",
       "      <th>close_city_train</th>\n",
       "      <td>22914.00</td>\n",
       "      <td>0.43</td>\n",
       "      <td>0.49</td>\n",
       "      <td>0.00</td>\n",
       "      <td>0.00</td>\n",
       "      <td>0.00</td>\n",
       "      <td>1.00</td>\n",
       "      <td>1.00</td>\n",
       "    </tr>\n",
       "    <tr>\n",
       "      <th>close_express_way</th>\n",
       "      <td>22914.00</td>\n",
       "      <td>0.15</td>\n",
       "      <td>0.36</td>\n",
       "      <td>0.00</td>\n",
       "      <td>0.00</td>\n",
       "      <td>0.00</td>\n",
       "      <td>0.00</td>\n",
       "      <td>1.00</td>\n",
       "    </tr>\n",
       "  </tbody>\n",
       "</table>\n",
       "</div>"
      ],
      "text/plain": [
       "                              count        mean         std       min  \\\n",
       "sale_price                 22914.00 10392374.34 22887064.60 300000.00   \n",
       "asking_price               22323.00   133422.99    91072.66  11212.00   \n",
       "asking_price_change_quater 22323.00        0.80       26.50    -57.21   \n",
       "asking_price_change_year   22305.00        2.00       15.49    -81.16   \n",
       "gross_rental_yield         22323.00        4.43        1.49      0.00   \n",
       "rental_price_change_year   21276.00        1.04       14.87    -94.46   \n",
       "bedrooms                   22067.00        1.43        0.69      0.00   \n",
       "bathrooms                  20418.00        1.42        0.81      1.00   \n",
       "internal_area              22643.00       61.94       63.47      1.00   \n",
       "floors                     22592.00       26.47       16.75      2.00   \n",
       "towers                     22913.00        2.20        2.28      1.00   \n",
       "year_built                 20837.00     2013.35        6.00   1981.00   \n",
       "has_elevator               22914.00        0.98        0.12      0.00   \n",
       "has_parking                22914.00        1.00        0.04      0.00   \n",
       "has_security               22914.00        1.00        0.05      0.00   \n",
       "has_cctv                   22914.00        0.99        0.12      0.00   \n",
       "has_pool                   22914.00        0.96        0.20      0.00   \n",
       "has_sauna                  22914.00        0.47        0.50      0.00   \n",
       "has_gym                    22914.00        0.96        0.21      0.00   \n",
       "has_garden_bbq             22914.00        0.85        0.36      0.00   \n",
       "has_playground             22914.00        0.41        0.49      0.00   \n",
       "has_shop_on_premise        22914.00        0.39        0.49      0.00   \n",
       "has_restaurant_on_premise  22914.00        0.23        0.42      0.00   \n",
       "has_wifi                   22914.00        0.48        0.50      0.00   \n",
       "city_train_distance        22505.00     3146.98     3791.26      0.00   \n",
       "express_way_distance       22355.00     2877.27     2237.46    150.00   \n",
       "close_city_train           22914.00        0.43        0.49      0.00   \n",
       "close_express_way          22914.00        0.15        0.36      0.00   \n",
       "\n",
       "                                  25%        50%        75%          max  \n",
       "sale_price                 2500000.00 4500000.00 9400000.00 580000000.00  \n",
       "asking_price                 74066.00  105879.00  161842.00    780470.00  \n",
       "asking_price_change_quater       0.00       0.00       0.00       664.00  \n",
       "asking_price_change_year        -4.70       0.87       8.78       218.00  \n",
       "gross_rental_yield               3.91       4.46       5.13        27.51  \n",
       "rental_price_change_year        -5.74       1.10       7.75       130.24  \n",
       "bedrooms                         1.00       1.00       2.00         8.00  \n",
       "bathrooms                        1.00       1.00       2.00        24.00  \n",
       "internal_area                   30.00      39.00      65.43       929.00  \n",
       "floors                           8.00      26.00      37.00        77.00  \n",
       "towers                           1.00       1.00       2.00        53.00  \n",
       "year_built                    2010.00    2014.00    2017.00      2025.00  \n",
       "has_elevator                     1.00       1.00       1.00         1.00  \n",
       "has_parking                      1.00       1.00       1.00         1.00  \n",
       "has_security                     1.00       1.00       1.00         1.00  \n",
       "has_cctv                         1.00       1.00       1.00         1.00  \n",
       "has_pool                         1.00       1.00       1.00         1.00  \n",
       "has_sauna                        0.00       0.00       1.00         1.00  \n",
       "has_gym                          1.00       1.00       1.00         1.00  \n",
       "has_garden_bbq                   1.00       1.00       1.00         1.00  \n",
       "has_playground                   0.00       0.00       1.00         1.00  \n",
       "has_shop_on_premise              0.00       0.00       1.00         1.00  \n",
       "has_restaurant_on_premise        0.00       0.00       0.00         1.00  \n",
       "has_wifi                         0.00       0.00       1.00         1.00  \n",
       "city_train_distance            560.00    1400.00    4600.00     20000.00  \n",
       "express_way_distance          1300.00    2100.00    3800.00     14000.00  \n",
       "close_city_train                 0.00       0.00       1.00         1.00  \n",
       "close_express_way                0.00       0.00       0.00         1.00  "
      ]
     },
     "execution_count": 536,
     "metadata": {},
     "output_type": "execute_result"
    }
   ],
   "source": [
    "df.describe().T"
   ]
  },
  {
   "cell_type": "markdown",
   "id": "361f4eee-9cc4-4392-81df-e74019dfbeb9",
   "metadata": {},
   "source": [
    "## 4.1 Sale Price Outlier Check"
   ]
  },
  {
   "cell_type": "code",
   "execution_count": 537,
   "id": "ea664852-9879-40a4-9239-82ad74a0fb1f",
   "metadata": {},
   "outputs": [
    {
     "data": {
      "text/plain": [
       "count        22914.00\n",
       "max      580000000.00\n",
       "min         300000.00\n",
       "mean      10392374.34\n",
       "median     4500000.00\n",
       "Name: sale_price, dtype: float64"
      ]
     },
     "execution_count": 537,
     "metadata": {},
     "output_type": "execute_result"
    }
   ],
   "source": [
    "\n",
    "df['sale_price'].agg(['count', 'max', 'min', 'mean', 'median'])"
   ]
  },
  {
   "cell_type": "code",
   "execution_count": 538,
   "id": "a0125240-2b05-48d6-b27a-a70a5099dd68",
   "metadata": {},
   "outputs": [
    {
     "name": "stdout",
     "output_type": "stream",
     "text": [
      "Skewness: 10.403399585502914\n"
     ]
    },
    {
     "data": {
      "image/png": "[encoded data removed]",
      "text/plain": [
       "<Figure size 864x432 with 1 Axes>"
      ]
     },
     "metadata": {
      "needs_background": "light"
     },
     "output_type": "display_data"
    }
   ],
   "source": [
    "# Plot sale_price distribution.\n",
    "\n",
    "print('Skewness:', df['sale_price'].skew())\n",
    "\n",
    "plt.figure(figsize=(12, 6))\n",
    "plt.hist(df['sale_price'])\n",
    "plt.vlines(df['sale_price'].mean(), ymin=0, ymax=df.shape[0], color='red', label='Mean')\n",
    "plt.vlines(df['sale_price'].median(), ymin=0, ymax=df.shape[0], color='Green', label='Median')\n",
    "plt.title('Histogram - Sale Price')\n",
    "plt.legend();\n",
    "\n",
    "\n",
    "## The saleprice distribution is right skew so we could normalize it by using log e"
   ]
  },
  {
   "cell_type": "code",
   "execution_count": 539,
   "id": "126af1b7-2cae-4762-800f-c45ca809b1e8",
   "metadata": {},
   "outputs": [
    {
     "data": {
      "image/png": "[encoded data removed]",
      "text/plain": [
       "<Figure size 432x288 with 1 Axes>"
      ]
     },
     "metadata": {
      "needs_background": "light"
     },
     "output_type": "display_data"
    }
   ],
   "source": [
    "# Boxplot\n",
    "plt.boxplot(df['sale_price']);"
   ]
  },
  {
   "cell_type": "markdown",
   "id": "540e368b-08b8-4c98-a760-2ed2da1cbd95",
   "metadata": {},
   "source": [
    "**Due to various characters of condominium and differences demand in each district,** condominium sale price range is extremely wide that made sale price variable has outlier values on the right hand side.\n",
    "\n",
    "The effect of extremely wide sale price range could affect liner regression model more than other types of model.\n",
    "\n",
    "**To minimize the effect on liner regression model we can:**\n",
    "1. Remove some extreme outliers out from our dataset\n",
    "2. Log transform sale price variable to normalize its scale"
   ]
  },
  {
   "cell_type": "code",
   "execution_count": 540,
   "id": "047a1c12-069f-46bb-87b3-426c0d283880",
   "metadata": {},
   "outputs": [
    {
     "name": "stdout",
     "output_type": "stream",
     "text": [
      "Skewness: 0.8232295008680824\n"
     ]
    },
    {
     "data": {
      "image/png": "[encoded data removed]",
      "text/plain": [
       "<Figure size 864x432 with 1 Axes>"
      ]
     },
     "metadata": {
      "needs_background": "light"
     },
     "output_type": "display_data"
    }
   ],
   "source": [
    "# Plot sale_price distribution.\n",
    "\n",
    "print('Skewness:', np.log(df['sale_price']).skew())\n",
    "\n",
    "plt.figure(figsize=(12, 6))\n",
    "plt.hist(np.log(df['sale_price']))\n",
    "plt.vlines(np.log(df['sale_price']).mean(), ymin=0, ymax=df.shape[0], color='red', label='Mean')\n",
    "plt.vlines(np.log(df['sale_price']).median(), ymin=0, ymax=df.shape[0], color='Green', label='Median')\n",
    "plt.title('Histogram - Sale Price')\n",
    "plt.legend();\n",
    "\n",
    "\n",
    "## The saleprice distribution is right skew so we could normalize it by using log e"
   ]
  },
  {
   "cell_type": "markdown",
   "id": "086c946e-62bb-4260-8bb8-ba557f8e873e",
   "metadata": {},
   "source": [
    "**After `sale_price` log transformation,** its distribution looks more normal. comparing before and after transformation, skewness has reduced and histogram chart is also more normally distributed."
   ]
  },
  {
   "cell_type": "markdown",
   "id": "c7e2a75c-23ab-409b-a5f8-387c435df5e5",
   "metadata": {},
   "source": [
    "## 4.3 Correlation"
   ]
  },
  {
   "cell_type": "code",
   "execution_count": 541,
   "id": "100b2a85-232d-44a7-a46e-737b7053fd17",
   "metadata": {},
   "outputs": [
    {
     "data": {
      "image/png": "[encoded data removed]",
      "text/plain": [
       "<Figure size 720x1440 with 2 Axes>"
      ]
     },
     "metadata": {
      "needs_background": "light"
     },
     "output_type": "display_data"
    }
   ],
   "source": [
    "# Find correlation to sale_price\n",
    "# Check correlation with saleprice\n",
    "plt.figure(figsize=(10,20))\n",
    "sns.heatmap(df.corr()[['sale_price']].sort_values(by='sale_price', ascending=False)\n",
    "            , cmap='bone', annot=True, vmin=-1, vmax=1);"
   ]
  },
  {
   "cell_type": "markdown",
   "id": "dd61962a-bd0b-4b59-897a-c05359aa45a7",
   "metadata": {},
   "source": [
    "## 4.4 Data Characteristic"
   ]
  },
  {
   "cell_type": "markdown",
   "id": "610229f3-f731-4b1b-ae00-c5e1e7470580",
   "metadata": {},
   "source": [
    "### 4.4.1 Numeric Features"
   ]
  },
  {
   "cell_type": "code",
   "execution_count": 542,
   "id": "0dafbc8f-c22d-4199-9877-8e48648c29f2",
   "metadata": {},
   "outputs": [
    {
     "name": "stdout",
     "output_type": "stream",
     "text": [
      "\n",
      "-------------- asking_price --------------\n",
      "count     22323.00\n",
      "max      780470.00\n",
      "min       11212.00\n",
      "mean     133422.99\n",
      "median   105879.00\n",
      "Name: asking_price, dtype: float64\n",
      "-------------------------------------\n",
      "\n",
      "-------------- asking_price_change_quater --------------\n",
      "count    22323.00\n",
      "max        664.00\n",
      "min        -57.21\n",
      "mean         0.80\n",
      "median       0.00\n",
      "Name: asking_price_change_quater, dtype: float64\n",
      "-------------------------------------\n",
      "\n",
      "-------------- asking_price_change_year --------------\n",
      "count    22305.00\n",
      "max        218.00\n",
      "min        -81.16\n",
      "mean         2.00\n",
      "median       0.87\n",
      "Name: asking_price_change_year, dtype: float64\n",
      "-------------------------------------\n",
      "\n",
      "-------------- gross_rental_yield --------------\n",
      "count    22323.00\n",
      "max         27.51\n",
      "min          0.00\n",
      "mean         4.43\n",
      "median       4.46\n",
      "Name: gross_rental_yield, dtype: float64\n",
      "-------------------------------------\n",
      "\n",
      "-------------- rental_price_change_year --------------\n",
      "count    21276.00\n",
      "max        130.24\n",
      "min        -94.46\n",
      "mean         1.04\n",
      "median       1.10\n",
      "Name: rental_price_change_year, dtype: float64\n",
      "-------------------------------------\n",
      "\n",
      "-------------- bedrooms --------------\n",
      "count    22067.00\n",
      "max          8.00\n",
      "min          0.00\n",
      "mean         1.43\n",
      "median       1.00\n",
      "Name: bedrooms, dtype: float64\n",
      "-------------------------------------\n",
      "\n",
      "-------------- bathrooms --------------\n",
      "count    20418.00\n",
      "max         24.00\n",
      "min          1.00\n",
      "mean         1.42\n",
      "median       1.00\n",
      "Name: bathrooms, dtype: float64\n",
      "-------------------------------------\n",
      "\n",
      "-------------- internal_area --------------\n",
      "count    22643.00\n",
      "max        929.00\n",
      "min          1.00\n",
      "mean        61.94\n",
      "median      39.00\n",
      "Name: internal_area, dtype: float64\n",
      "-------------------------------------\n",
      "\n",
      "-------------- floors --------------\n",
      "count    22592.00\n",
      "max         77.00\n",
      "min          2.00\n",
      "mean        26.47\n",
      "median      26.00\n",
      "Name: floors, dtype: float64\n",
      "-------------------------------------\n",
      "\n",
      "-------------- towers --------------\n",
      "count    22913.00\n",
      "max         53.00\n",
      "min          1.00\n",
      "mean         2.20\n",
      "median       1.00\n",
      "Name: towers, dtype: float64\n",
      "-------------------------------------\n",
      "\n",
      "-------------- year_built --------------\n",
      "count    20837.00\n",
      "max       2025.00\n",
      "min       1981.00\n",
      "mean      2013.35\n",
      "median    2014.00\n",
      "Name: year_built, dtype: float64\n",
      "-------------------------------------\n",
      "\n",
      "-------------- city_train_distance --------------\n",
      "count    22505.00\n",
      "max      20000.00\n",
      "min          0.00\n",
      "mean      3146.98\n",
      "median    1400.00\n",
      "Name: city_train_distance, dtype: float64\n",
      "-------------------------------------\n",
      "\n",
      "-------------- express_way_distance --------------\n",
      "count    22355.00\n",
      "max      14000.00\n",
      "min        150.00\n",
      "mean      2877.27\n",
      "median    2100.00\n",
      "Name: express_way_distance, dtype: float64\n",
      "-------------------------------------\n"
     ]
    }
   ],
   "source": [
    "# Print each numeric features aggregate values\n",
    "\n",
    "for feat in numeric_features:\n",
    "    print(f\"\"\"\n",
    "-------------- {feat} --------------\"\"\")\n",
    "    print(df[feat].agg(['count', 'max', 'min', 'mean', 'median']))\n",
    "    print(\"-------------------------------------\")\n",
    "    "
   ]
  },
  {
   "cell_type": "markdown",
   "id": "2e3434b0-5d70-438f-b4cb-bd58aff67c86",
   "metadata": {},
   "source": [
    "To understand more about relationship of `sale_price` and numeric features, we will plot `sale_price` against each features."
   ]
  },
  {
   "cell_type": "code",
   "execution_count": 543,
   "id": "5bffddcd-12c4-4f5b-993b-a773c9b6c69c",
   "metadata": {},
   "outputs": [
    {
     "data": {
      "image/png": "[encoded data removed]",
      "text/plain": [
       "<Figure size 1152x1440 with 16 Axes>"
      ]
     },
     "metadata": {
      "needs_background": "light"
     },
     "output_type": "display_data"
    }
   ],
   "source": [
    "# Plot numeric features against saleprice.\n",
    "\n",
    "fig, axes = plt.subplots(4, 4, figsize=(16,20))\n",
    "\n",
    "for i, feat in enumerate(numeric_features): ## iterate column name\n",
    "    x = i // 4\n",
    "    y = i % 4\n",
    "    pl = sns.scatterplot(\n",
    "        ax=axes[x,y],\n",
    "        x=feat,\n",
    "        y='sale_price',\n",
    "        data=df)\n",
    "    if y != 0:\n",
    "        pl.set(ylabel=None, yticklabels=[])  ## show label only the leftmost plot "
   ]
  },
  {
   "cell_type": "markdown",
   "id": "0156c8ca-5347-4955-bcf7-8b54d7458628",
   "metadata": {},
   "source": [
    "### 4.4.2 Categorical Features"
   ]
  },
  {
   "cell_type": "code",
   "execution_count": 544,
   "id": "fbdad708-5e68-4b5e-8fe3-1ecbdb02ce90",
   "metadata": {},
   "outputs": [],
   "source": [
    "def category_chart(data, features, target):\n",
    "    \"\"\"Create barcharts from iterating all categorical variables from 'x' list of variables \n",
    "    against y\n",
    "    data = pd.DataFrame\n",
    "    x = list of categorical variable name\n",
    "    y = target variable\"\"\"\n",
    "    # create subplots by number of x\n",
    "    rows = math.ceil(len(features) / 4)\n",
    "    fig, axes = plt.subplots(rows, 4, figsize=(20, rows * 5))\n",
    "    \n",
    "    # iterate column name\n",
    "    for i, feat in enumerate(features): \n",
    "        x = i // 4\n",
    "        y = i % 4\n",
    "        if len(features) <= 4:\n",
    "            axs = axes[y]\n",
    "        else:\n",
    "            axs = axes[x, y]\n",
    "        pl = sns.barplot(\n",
    "            ax = axs,\n",
    "            x = feat,\n",
    "            y = target,\n",
    "            data = data)\n",
    "        if y != 0:\n",
    "            pl.set(ylabel=None, yticklabels=[])  ## show label only the leftmost plot "
   ]
  },
  {
   "cell_type": "code",
   "execution_count": 545,
   "id": "2671f51f-5842-4b48-8eb8-6906bed2f1fe",
   "metadata": {},
   "outputs": [
    {
     "data": {
      "image/png": "[encoded data removed]",
      "text/plain": [
       "<Figure size 1440x1440 with 16 Axes>"
      ]
     },
     "metadata": {
      "needs_background": "light"
     },
     "output_type": "display_data"
    }
   ],
   "source": [
    "# Plot barchart vs. saleprice\n",
    "category_chart(df, categorical_features, 'sale_price')"
   ]
  },
  {
   "cell_type": "code",
   "execution_count": null,
   "id": "05b7d446-1c22-426b-a00c-c71b8153abea",
   "metadata": {},
   "outputs": [],
   "source": []
  },
  {
   "cell_type": "markdown",
   "id": "7031d18f-1e1c-447d-9c32-bf564516896a",
   "metadata": {},
   "source": [
    "## 4.4 Feature Engineering"
   ]
  },
  {
   "cell_type": "code",
   "execution_count": null,
   "id": "8b863b00-66bd-4a0d-85b2-0354c16bae06",
   "metadata": {},
   "outputs": [],
   "source": []
  },
  {
   "cell_type": "markdown",
   "id": "80b7a059-c359-4de3-9f1f-5bf8bd100f4c",
   "metadata": {},
   "source": [
    "## 4.4.2 Data Preparation for Modeling"
   ]
  },
  {
   "cell_type": "markdown",
   "id": "fee577be-3652-44e4-82cb-dc618bc3889b",
   "metadata": {},
   "source": [
    "**This part will create 3 types of dataframe to train models**\n",
    "1. Dataframe that drop all rows that contain missing values\n",
    "2. Dataframe that impute missing values by each feature median\n",
    "3. Dataframe that fill missing values by 0 -> Filling 0 to missing values is good for XGBoost model\n",
    "\n",
    "Market stats features such as `asking_price`, `rental_price`, `etc.` were decided to remove out from models because they could leave some information leakage to our features."
   ]
  },
  {
   "cell_type": "markdown",
   "id": "710c412b-ea29-4dcc-9776-bee0ca3f3e1a",
   "metadata": {},
   "source": [
    "**To have all values for on hot encoder, all dataset will be feeded to fit one hot encoder.**"
   ]
  },
  {
   "cell_type": "code",
   "execution_count": 546,
   "id": "143bb932-7a7d-40d1-8294-a415ec885249",
   "metadata": {},
   "outputs": [
    {
     "data": {
      "text/html": [
       "<style>#sk-container-id-23 {color: black;background-color: white;}#sk-container-id-23 pre{padding: 0;}#sk-container-id-23 div.sk-toggleable {background-color: white;}#sk-container-id-23 label.sk-toggleable__label {cursor: pointer;display: block;width: 100%;margin-bottom: 0;padding: 0.3em;box-sizing: border-box;text-align: center;}#sk-container-id-23 label.sk-toggleable__label-arrow:before {content: \"▸\";float: left;margin-right: 0.25em;color: #696969;}#sk-container-id-23 label.sk-toggleable__label-arrow:hover:before {color: black;}#sk-container-id-23 div.sk-estimator:hover label.sk-toggleable__label-arrow:before {color: black;}#sk-container-id-23 div.sk-toggleable__content {max-height: 0;max-width: 0;overflow: hidden;text-align: left;background-color: #f0f8ff;}#sk-container-id-23 div.sk-toggleable__content pre {margin: 0.2em;color: black;border-radius: 0.25em;background-color: #f0f8ff;}#sk-container-id-23 input.sk-toggleable__control:checked~div.sk-toggleable__content {max-height: 200px;max-width: 100%;overflow: auto;}#sk-container-id-23 input.sk-toggleable__control:checked~label.sk-toggleable__label-arrow:before {content: \"▾\";}#sk-container-id-23 div.sk-estimator input.sk-toggleable__control:checked~label.sk-toggleable__label {background-color: #d4ebff;}#sk-container-id-23 div.sk-label input.sk-toggleable__control:checked~label.sk-toggleable__label {background-color: #d4ebff;}#sk-container-id-23 input.sk-hidden--visually {border: 0;clip: rect(1px 1px 1px 1px);clip: rect(1px, 1px, 1px, 1px);height: 1px;margin: -1px;overflow: hidden;padding: 0;position: absolute;width: 1px;}#sk-container-id-23 div.sk-estimator {font-family: monospace;background-color: #f0f8ff;border: 1px dotted black;border-radius: 0.25em;box-sizing: border-box;margin-bottom: 0.5em;}#sk-container-id-23 div.sk-estimator:hover {background-color: #d4ebff;}#sk-container-id-23 div.sk-parallel-item::after {content: \"\";width: 100%;border-bottom: 1px solid gray;flex-grow: 1;}#sk-container-id-23 div.sk-label:hover label.sk-toggleable__label {background-color: #d4ebff;}#sk-container-id-23 div.sk-serial::before {content: \"\";position: absolute;border-left: 1px solid gray;box-sizing: border-box;top: 0;bottom: 0;left: 50%;z-index: 0;}#sk-container-id-23 div.sk-serial {display: flex;flex-direction: column;align-items: center;background-color: white;padding-right: 0.2em;padding-left: 0.2em;position: relative;}#sk-container-id-23 div.sk-item {position: relative;z-index: 1;}#sk-container-id-23 div.sk-parallel {display: flex;align-items: stretch;justify-content: center;background-color: white;position: relative;}#sk-container-id-23 div.sk-item::before, #sk-container-id-23 div.sk-parallel-item::before {content: \"\";position: absolute;border-left: 1px solid gray;box-sizing: border-box;top: 0;bottom: 0;left: 50%;z-index: -1;}#sk-container-id-23 div.sk-parallel-item {display: flex;flex-direction: column;z-index: 1;position: relative;background-color: white;}#sk-container-id-23 div.sk-parallel-item:first-child::after {align-self: flex-end;width: 50%;}#sk-container-id-23 div.sk-parallel-item:last-child::after {align-self: flex-start;width: 50%;}#sk-container-id-23 div.sk-parallel-item:only-child::after {width: 0;}#sk-container-id-23 div.sk-dashed-wrapped {border: 1px dashed gray;margin: 0 0.4em 0.5em 0.4em;box-sizing: border-box;padding-bottom: 0.4em;background-color: white;}#sk-container-id-23 div.sk-label label {font-family: monospace;font-weight: bold;display: inline-block;line-height: 1.2em;}#sk-container-id-23 div.sk-label-container {text-align: center;}#sk-container-id-23 div.sk-container {/* jupyter's `normalize.less` sets `[hidden] { display: none; }` but bootstrap.min.css set `[hidden] { display: none !important; }` so we also need the `!important` here to be able to override the default hidden behavior on the sphinx rendered scikit-learn.org. See: https://github.com/scikit-learn/scikit-learn/issues/21755 */display: inline-block !important;position: relative;}#sk-container-id-23 div.sk-text-repr-fallback {display: none;}</style><div id=\"sk-container-id-23\" class=\"sk-top-container\"><div class=\"sk-text-repr-fallback\"><pre>OneHotEncoder()</pre><b>In a Jupyter environment, please rerun this cell to show the HTML representation or trust the notebook. <br />On GitHub, the HTML representation is unable to render, please try loading this page with nbviewer.org.</b></div><div class=\"sk-container\" hidden><div class=\"sk-item\"><div class=\"sk-estimator sk-toggleable\"><input class=\"sk-toggleable__control sk-hidden--visually\" id=\"sk-estimator-id-25\" type=\"checkbox\" checked><label for=\"sk-estimator-id-25\" class=\"sk-toggleable__label sk-toggleable__label-arrow\">OneHotEncoder</label><div class=\"sk-toggleable__content\"><pre>OneHotEncoder()</pre></div></div></div></div></div>"
      ],
      "text/plain": [
       "OneHotEncoder()"
      ]
     },
     "execution_count": 546,
     "metadata": {},
     "output_type": "execute_result"
    }
   ],
   "source": [
    "# Prepare for one hot encoder\n",
    "oh = OneHotEncoder()\n",
    "oh.fit(df[['district']])"
   ]
  },
  {
   "cell_type": "markdown",
   "id": "8c28b7c0-a1e9-409b-8116-93c83c36ada9",
   "metadata": {},
   "source": [
    "### Dataframe Type 1: \n",
    "Drop all rows that contain missing values\n",
    "\n",
    "---"
   ]
  },
  {
   "cell_type": "code",
   "execution_count": 580,
   "id": "df4bd321-9c3c-4b20-9da0-4bc4dac277e0",
   "metadata": {
    "tags": []
   },
   "outputs": [],
   "source": [
    "# Drop null rows\n",
    "df_dropna = df.dropna().reset_index()\n",
    "\n",
    "# 'asking_price', 'asking_price_change_quater',\n",
    "#     'asking_price_change_year', 'gross_rental_yield',\n",
    "#     'rental_price_change_year', \n",
    "    \n",
    "# Prepare features\n",
    "features = [\n",
    "    'bedrooms', 'bathrooms', 'internal_area',\n",
    "    'floors', 'towers', 'year_built', 'has_elevator', 'has_parking',\n",
    "    'has_security', 'has_cctv', 'has_pool', 'has_sauna', 'has_gym',\n",
    "    'has_garden_bbq', 'has_playground', 'has_shop_on_premise',\n",
    "    'has_restaurant_on_premise', 'has_wifi', 'city_train_distance',\n",
    "    'express_way_distance', 'close_city_train', 'close_express_way'\n",
    "]\n",
    "\n",
    "# Get dummy features by one hot encoder\n",
    "df_dummy_district = pd.DataFrame(oh.transform(df_dropna[['district']]).toarray(),\n",
    "                                 columns=oh.get_feature_names_out())\n",
    "\n",
    "# Create X and y\n",
    "X = df_dropna[features].merge(df_dummy_district, left_index=True, right_index=True)\n",
    "y = df_dropna['sale_price']\n",
    "\n",
    "# Train and test split\n",
    "X_train, X_test, y_train, y_test = train_test_split(X, y, random_state=42)\n",
    "\n",
    "# y log transformation\n",
    "y_train_log = np.log(y_train)\n",
    "y_test_log = np.log(y_test)"
   ]
  },
  {
   "cell_type": "markdown",
   "id": "7169ee0a-6624-4c69-a481-832d3d5e0455",
   "metadata": {},
   "source": [
    "### Dataframe Type 2: \n",
    "Impute missing values by its median.\n",
    "\n",
    "**To avoid data leakage,** data need to be split as train and test sets before imputation.\n",
    "\n",
    "---"
   ]
  },
  {
   "cell_type": "code",
   "execution_count": 548,
   "id": "f88964c6-1f13-4183-b8d4-06a5337bda93",
   "metadata": {},
   "outputs": [
    {
     "data": {
      "text/html": [
       "<div>\n",
       "<style scoped>\n",
       "    .dataframe tbody tr th:only-of-type {\n",
       "        vertical-align: middle;\n",
       "    }\n",
       "\n",
       "    .dataframe tbody tr th {\n",
       "        vertical-align: top;\n",
       "    }\n",
       "\n",
       "    .dataframe thead th {\n",
       "        text-align: right;\n",
       "    }\n",
       "</style>\n",
       "<table border=\"1\" class=\"dataframe\">\n",
       "  <thead>\n",
       "    <tr style=\"text-align: right;\">\n",
       "      <th></th>\n",
       "      <th>n_missing</th>\n",
       "      <th>pct_missing</th>\n",
       "    </tr>\n",
       "  </thead>\n",
       "  <tbody>\n",
       "    <tr>\n",
       "      <th>bathrooms</th>\n",
       "      <td>2496</td>\n",
       "      <td>10.89</td>\n",
       "    </tr>\n",
       "    <tr>\n",
       "      <th>year_built</th>\n",
       "      <td>2077</td>\n",
       "      <td>9.06</td>\n",
       "    </tr>\n",
       "    <tr>\n",
       "      <th>rental_price_change_year</th>\n",
       "      <td>1638</td>\n",
       "      <td>7.15</td>\n",
       "    </tr>\n",
       "    <tr>\n",
       "      <th>bedrooms</th>\n",
       "      <td>847</td>\n",
       "      <td>3.70</td>\n",
       "    </tr>\n",
       "    <tr>\n",
       "      <th>asking_price_change_year</th>\n",
       "      <td>609</td>\n",
       "      <td>2.66</td>\n",
       "    </tr>\n",
       "    <tr>\n",
       "      <th>asking_price</th>\n",
       "      <td>591</td>\n",
       "      <td>2.58</td>\n",
       "    </tr>\n",
       "    <tr>\n",
       "      <th>asking_price_change_quater</th>\n",
       "      <td>591</td>\n",
       "      <td>2.58</td>\n",
       "    </tr>\n",
       "    <tr>\n",
       "      <th>gross_rental_yield</th>\n",
       "      <td>591</td>\n",
       "      <td>2.58</td>\n",
       "    </tr>\n",
       "    <tr>\n",
       "      <th>express_way_distance</th>\n",
       "      <td>559</td>\n",
       "      <td>2.44</td>\n",
       "    </tr>\n",
       "    <tr>\n",
       "      <th>city_train_distance</th>\n",
       "      <td>409</td>\n",
       "      <td>1.78</td>\n",
       "    </tr>\n",
       "    <tr>\n",
       "      <th>floors</th>\n",
       "      <td>322</td>\n",
       "      <td>1.41</td>\n",
       "    </tr>\n",
       "    <tr>\n",
       "      <th>internal_area</th>\n",
       "      <td>271</td>\n",
       "      <td>1.18</td>\n",
       "    </tr>\n",
       "    <tr>\n",
       "      <th>towers</th>\n",
       "      <td>1</td>\n",
       "      <td>0.00</td>\n",
       "    </tr>\n",
       "  </tbody>\n",
       "</table>\n",
       "</div>"
      ],
      "text/plain": [
       "                            n_missing  pct_missing\n",
       "bathrooms                        2496        10.89\n",
       "year_built                       2077         9.06\n",
       "rental_price_change_year         1638         7.15\n",
       "bedrooms                          847         3.70\n",
       "asking_price_change_year          609         2.66\n",
       "asking_price                      591         2.58\n",
       "asking_price_change_quater        591         2.58\n",
       "gross_rental_yield                591         2.58\n",
       "express_way_distance              559         2.44\n",
       "city_train_distance               409         1.78\n",
       "floors                            322         1.41\n",
       "internal_area                     271         1.18\n",
       "towers                              1         0.00"
      ]
     },
     "execution_count": 548,
     "metadata": {},
     "output_type": "execute_result"
    }
   ],
   "source": [
    "# Check features that contain missing values\n",
    "missing_values_df(df)"
   ]
  },
  {
   "cell_type": "code",
   "execution_count": 581,
   "id": "5993f1a3-6784-4258-93aa-2464cc7058a9",
   "metadata": {},
   "outputs": [],
   "source": [
    "# Prepare dataframe for imputing median\n",
    "df_median\n",
    "\n",
    "# Split data before imputation\n",
    "df_train_median, df_test_median = train_test_split(df, random_state=42)\n",
    "\n",
    "df_train_median.reset_index(inplace=True)\n",
    "df_test_median.reset_index(inplace=True)\n",
    "\n",
    "# Impute interger features\n",
    "missing_features = missing_values_df(df).index\n",
    "\n",
    "\n",
    "\n",
    "for feat in missing_features:\n",
    "    df_train_median[feat].fillna(df_train_median[feat].median(), inplace=True)\n",
    "    # Impute test data by train values\n",
    "    df_test_median[feat].fillna(df_train_median[feat].median(), inplace=True)\n",
    "\n",
    "features = [\n",
    "    'bedrooms', 'bathrooms', 'internal_area',\n",
    "    'floors', 'towers', 'year_built', 'has_elevator', 'has_parking',\n",
    "    'has_security', 'has_cctv', 'has_pool', 'has_sauna', 'has_gym',\n",
    "    'has_garden_bbq', 'has_playground', 'has_shop_on_premise',\n",
    "    'has_restaurant_on_premise', 'has_wifi', 'city_train_distance',\n",
    "    'express_way_distance', 'close_city_train', 'close_express_way'\n",
    "]\n",
    "\n",
    "# Get dummy features by one hot encoder\n",
    "df_dummy_district_train = pd.DataFrame(oh.transform(df_train_median[['district']]).toarray(),\n",
    "                                 columns=oh.get_feature_names_out())\n",
    "df_dummy_district_test = pd.DataFrame(oh.transform(df_test_median[['district']]).toarray(),\n",
    "                                 columns=oh.get_feature_names_out())\n",
    "\n",
    "# Create train and test sets\n",
    "X_train_median = df_train_median[features].merge(df_dummy_district_train, left_index=True, right_index=True)\n",
    "X_test_median = df_test_median[features].merge(df_dummy_district_test, left_index=True, right_index=True)\n",
    "y_train_median = df_train_median['sale_price']\n",
    "y_test_median = df_test_median['sale_price']\n",
    "\n",
    "\n",
    "# y log transformation\n",
    "y_train_median_log = np.log(y_train_median)\n",
    "y_test_median_log = np.log(y_test_median)\n"
   ]
  },
  {
   "cell_type": "code",
   "execution_count": 556,
   "id": "95bfddae-371d-473c-b534-b09025ca0665",
   "metadata": {},
   "outputs": [
    {
     "data": {
      "text/html": [
       "<div>\n",
       "<style scoped>\n",
       "    .dataframe tbody tr th:only-of-type {\n",
       "        vertical-align: middle;\n",
       "    }\n",
       "\n",
       "    .dataframe tbody tr th {\n",
       "        vertical-align: top;\n",
       "    }\n",
       "\n",
       "    .dataframe thead th {\n",
       "        text-align: right;\n",
       "    }\n",
       "</style>\n",
       "<table border=\"1\" class=\"dataframe\">\n",
       "  <thead>\n",
       "    <tr style=\"text-align: right;\">\n",
       "      <th></th>\n",
       "      <th>n_missing</th>\n",
       "      <th>pct_missing</th>\n",
       "    </tr>\n",
       "  </thead>\n",
       "  <tbody>\n",
       "  </tbody>\n",
       "</table>\n",
       "</div>"
      ],
      "text/plain": [
       "Empty DataFrame\n",
       "Columns: [n_missing, pct_missing]\n",
       "Index: []"
      ]
     },
     "execution_count": 556,
     "metadata": {},
     "output_type": "execute_result"
    }
   ],
   "source": [
    "# Check result train set\n",
    "missing_values_df(df_train_median)"
   ]
  },
  {
   "cell_type": "code",
   "execution_count": 557,
   "id": "d7531af1-945f-441a-afb7-d30ad2f830e8",
   "metadata": {},
   "outputs": [
    {
     "data": {
      "text/html": [
       "<div>\n",
       "<style scoped>\n",
       "    .dataframe tbody tr th:only-of-type {\n",
       "        vertical-align: middle;\n",
       "    }\n",
       "\n",
       "    .dataframe tbody tr th {\n",
       "        vertical-align: top;\n",
       "    }\n",
       "\n",
       "    .dataframe thead th {\n",
       "        text-align: right;\n",
       "    }\n",
       "</style>\n",
       "<table border=\"1\" class=\"dataframe\">\n",
       "  <thead>\n",
       "    <tr style=\"text-align: right;\">\n",
       "      <th></th>\n",
       "      <th>n_missing</th>\n",
       "      <th>pct_missing</th>\n",
       "    </tr>\n",
       "  </thead>\n",
       "  <tbody>\n",
       "  </tbody>\n",
       "</table>\n",
       "</div>"
      ],
      "text/plain": [
       "Empty DataFrame\n",
       "Columns: [n_missing, pct_missing]\n",
       "Index: []"
      ]
     },
     "execution_count": 557,
     "metadata": {},
     "output_type": "execute_result"
    }
   ],
   "source": [
    "# Check result test set\n",
    "missing_values_df(df_test_median)"
   ]
  },
  {
   "cell_type": "markdown",
   "id": "1fbcc1d0-4691-4c10-a5b8-e3d742970bfa",
   "metadata": {},
   "source": [
    "### Dataframe Type 3: \n",
    "Fill null values with zero\n",
    "\n",
    "---"
   ]
  },
  {
   "cell_type": "code",
   "execution_count": 582,
   "id": "30dccca6-0f93-42e8-a338-c07a9697f229",
   "metadata": {},
   "outputs": [],
   "source": [
    "# Prepare data for filling zero\n",
    "df_zero = df.copy()\n",
    "\n",
    "# Fil missing values with zero\n",
    "df_zero.fillna(value=0, inplace=True)\n",
    "\n",
    "# Create X, y\n",
    "features = [\n",
    "    'bedrooms', 'bathrooms', 'internal_area',\n",
    "    'floors', 'towers', 'year_built', 'has_elevator', 'has_parking',\n",
    "    'has_security', 'has_cctv', 'has_pool', 'has_sauna', 'has_gym',\n",
    "    'has_garden_bbq', 'has_playground', 'has_shop_on_premise',\n",
    "    'has_restaurant_on_premise', 'has_wifi', 'city_train_distance',\n",
    "    'express_way_distance', 'close_city_train', 'close_express_way'\n",
    "]\n",
    "\n",
    "# Get dummy features by one hot encoder\n",
    "df_dummy_district = pd.DataFrame(oh.transform(df_zero[['district']]).toarray(),\n",
    "                                 columns=oh.get_feature_names_out())\n",
    "\n",
    "# Create X and y\n",
    "X_zero = df_zero[features].merge(df_dummy_district, left_index=True, right_index=True)\n",
    "y_zero = df_zero['sale_price']\n",
    "\n",
    "# Train and test split\n",
    "X_train_zero, X_test_zero, y_train_zero, y_test_zero = train_test_split(X_zero, y_zero, random_state=42)\n",
    "\n",
    "# y log transformation\n",
    "y_train_zero_log = np.log(y_train_zero)\n",
    "y_test_zero_log = np.log(y_test_zero)\n"
   ]
  },
  {
   "cell_type": "markdown",
   "id": "d12f6461-970d-4e98-9e4c-40630a96d1e3",
   "metadata": {},
   "source": [
    "# 5. Modeling and Evaluation\n",
    "---\n",
    "---"
   ]
  },
  {
   "cell_type": "code",
   "execution_count": 559,
   "id": "617f5650-3446-44c6-8644-4e08bb62391c",
   "metadata": {},
   "outputs": [],
   "source": [
    "# create function to return model metrics\n",
    "\n",
    "def r2_adj(y_true, y_pred):\n",
    "    \"\"\"Calcualte adjusted R^2\"\"\"\n",
    "    return 1 - (1-metrics.r2_score(y_true, y_pred)) * (len(y) - 1 ) / (len(y) - X.shape[1] - 1)\n",
    "\n",
    "\n",
    "def reg_metrics(trained_model, X_train, X_test, y_train, y_test, \n",
    "                cross_val=True, log_y=False):\n",
    "    \"\"\"Return evaluation metrices of regression problems:\n",
    "    \"\"\"\n",
    "    # Predict y\n",
    "    y_train_preds = trained_model.predict(X_train)\n",
    "    y_test_preds = trained_model.predict(X_test)\n",
    "    \n",
    "    # Compute R^2\n",
    "    train_r2 = metrics.r2_score(y_train, y_train_preds)\n",
    "    train_adj_r2 = r2_adj(y_train, y_train_preds)\n",
    "    test_r2 = metrics.r2_score(y_test, y_test_preds)\n",
    "    test_adj_r2 = r2_adj(y_test, y_test_preds)\n",
    "    \n",
    "    \n",
    "    # Turn of cross validation scores if cross_val == Fasle\n",
    "    if cross_val == True:\n",
    "        cross_train = cross_val_score(trained_model, X_train, y_train)\n",
    "        cross_train_mean = cross_val_score(trained_model, X_train, y_train).mean()\n",
    "    else:\n",
    "        cross_train = None\n",
    "        cross_train_mean = None\n",
    "    \n",
    "    \n",
    "    # If log is True -> Turn y to exp(y) to return MSE as the same units\n",
    "    if log_y == True:\n",
    "        y_train = np.exp(y_train)\n",
    "        y_test = np.exp(y_test)\n",
    "        y_train_preds = np.exp(y_train_preds)\n",
    "        y_test_preds = np.exp(y_test_preds)\n",
    "    else:\n",
    "        pass\n",
    "    \n",
    "    # Compute MSE\n",
    "    train_mae = metrics.mean_absolute_error(y_train, y_train_preds)\n",
    "    train_rmse = metrics.mean_squared_error(y_train, y_train_preds, squared=False)\n",
    "    test_mae = metrics.mean_absolute_error(y_test, y_test_preds)\n",
    "    test_rmse = metrics.mean_squared_error(y_test, y_test_preds, squared=False)\n",
    "\n",
    "        \n",
    "    print(f\"\"\"-----------Train Data-----------\n",
    "MAE: {train_mae}\n",
    "MSE: {train_rmse**2}\n",
    "RMSE: {train_rmse}\n",
    "R2: {train_r2}\n",
    "Adj_R2: {train_adj_r2}\n",
    "Cross Validation: {cross_train}\n",
    "Cross Validation Mean: {cross_train_mean}\n",
    "--------------------------------\"\"\")\n",
    "    print(f\"\"\"-----------Test Data-----------\n",
    "MAE: {test_mae}\n",
    "MSE: {test_rmse**2}\n",
    "RMSE: {test_rmse}\n",
    "R2: {test_r2}\n",
    "Adj_R2: {test_adj_r2}\n",
    "--------------------------------\"\"\")"
   ]
  },
  {
   "cell_type": "code",
   "execution_count": 560,
   "id": "69f06706-6717-4a49-9b56-46f1d94565e6",
   "metadata": {},
   "outputs": [],
   "source": [
    "def plot_ytrue_ypred(y_true, y_pred):\n",
    "    \"\"\"Make a scatter plot of y_true vs y_pred\"\"\"\n",
    "    plt.figure(figsize=(10,6))\n",
    "    plt.scatter(y_true, y_pred)\n",
    "    min_val = min(min(y_true), min(y_pred)) * 0.9\n",
    "    max_val = max(max(y_true), max(y_pred)) * 1.1\n",
    "    plt.axline([min_val, min_val], [max_val, max_val], color='orange')\n",
    "    plt.xlim(min_val,max_val)\n",
    "    plt.ylim(min_val,max_val);\n",
    "    plt.title('True Values vs. Prediction', fontsize=15)\n",
    "    plt.xlabel('True Values', fontsize=12)\n",
    "    plt.ylabel('Predictions', fontsize=12)\n",
    "    \n",
    "    "
   ]
  },
  {
   "cell_type": "markdown",
   "id": "0002c5eb-8d08-4ab3-a2ee-99338379134e",
   "metadata": {},
   "source": [
    "## 5.1 Linear Regression Models\n",
    "To squeeze performance of linear regression based models, feature selection and feature engineering will paly important role of this section."
   ]
  },
  {
   "cell_type": "markdown",
   "id": "5e922c41-e79a-4b57-b578-990b61fc0094",
   "metadata": {},
   "source": [
    "### Base Model\n",
    "---"
   ]
  },
  {
   "cell_type": "code",
   "execution_count": 579,
   "id": "a83da3e6-adf9-413c-a469-625c015dc731",
   "metadata": {},
   "outputs": [
    {
     "name": "stdout",
     "output_type": "stream",
     "text": [
      "-----------Train Data-----------\n",
      "MAE: 5664118.578465519\n",
      "MSE: 160907888143031.66\n",
      "RMSE: 12684947.30548896\n",
      "R2: 0.6681362946145513\n",
      "Adj_R2: 0.6667513547529572\n",
      "Cross Validation: [0.66051874 0.61600802 0.69868928 0.69420511 0.65978057]\n",
      "Cross Validation Mean: 0.6658403425478211\n",
      "--------------------------------\n",
      "-----------Test Data-----------\n",
      "MAE: 5671281.648425381\n",
      "MSE: 147742961397344.6\n",
      "RMSE: 12154956.248269452\n",
      "R2: 0.7108521986900165\n",
      "Adj_R2: 0.7096455216433013\n",
      "--------------------------------\n"
     ]
    }
   ],
   "source": [
    "# Regression with drop n/a\n",
    "lr = LinearRegression()\n",
    "lr.fit(X_train, y_train)\n",
    "reg_metrics(lr, X_train, X_test, y_train, y_test)"
   ]
  },
  {
   "cell_type": "code",
   "execution_count": 562,
   "id": "a5a2af8f-6678-4be1-9a06-5177649414d8",
   "metadata": {},
   "outputs": [
    {
     "name": "stdout",
     "output_type": "stream",
     "text": [
      "-----------Train Data-----------\n",
      "MAE: 5684258.020160479\n",
      "MSE: 208397158156791.3\n",
      "RMSE: 14435967.517170137\n",
      "R2: 0.60461320707518\n",
      "Adj_R2: 0.6029631714690464\n",
      "Cross Validation: [0.65402307 0.55647516 0.63336031 0.60517503 0.55489648]\n",
      "Cross Validation Mean: 0.6007860132016125\n",
      "--------------------------------\n",
      "-----------Test Data-----------\n",
      "MAE: 5619972.162636525\n",
      "MSE: 225624372156550.47\n",
      "RMSE: 15020797.98667669\n",
      "R2: 0.5608417755794026\n",
      "Adj_R2: 0.5590090722114929\n",
      "--------------------------------\n"
     ]
    }
   ],
   "source": [
    "# Regression with median imputation\n",
    "lr = LinearRegression()\n",
    "lr.fit(X_train_median, y_train_median)\n",
    "reg_metrics(lr, X_train_median, X_test_median, y_train_median, y_test_median)"
   ]
  },
  {
   "cell_type": "code",
   "execution_count": 171,
   "id": "075e686d-86b9-42d1-9796-4b4cd8533ace",
   "metadata": {},
   "outputs": [
    {
     "data": {
      "text/plain": [
       "has_parking              8112635.30\n",
       "district_Bang Bon        5079483.49\n",
       "district_Lak Si          4915447.99\n",
       "district_Phasi Charoen   4024911.47\n",
       "district_Taling Chan     3950899.13\n",
       "district_Bueng Kum       3917913.21\n",
       "bathrooms                3129558.53\n",
       "district_Bang Sue        2934340.41\n",
       "district_Prawet          2773144.61\n",
       "district_Rat Burana      2723788.16\n",
       "dtype: float64"
      ]
     },
     "execution_count": 171,
     "metadata": {},
     "output_type": "execute_result"
    }
   ],
   "source": [
    "pd.Series(lr.coef_, index=X_train.columns).sort_values(ascending=False)[:10]"
   ]
  },
  {
   "cell_type": "markdown",
   "id": "ef2f0487-3fd5-4d8d-99ec-b19f750cb444",
   "metadata": {},
   "source": [
    "### Linear Regression with Log Transformation\n",
    "---\n",
    "\n",
    "Using log `sale_price`"
   ]
  },
  {
   "cell_type": "code",
   "execution_count": 563,
   "id": "97275439-4d5b-454e-9208-093cb3ab37ea",
   "metadata": {},
   "outputs": [
    {
     "data": {
      "text/html": [
       "<style>#sk-container-id-24 {color: black;background-color: white;}#sk-container-id-24 pre{padding: 0;}#sk-container-id-24 div.sk-toggleable {background-color: white;}#sk-container-id-24 label.sk-toggleable__label {cursor: pointer;display: block;width: 100%;margin-bottom: 0;padding: 0.3em;box-sizing: border-box;text-align: center;}#sk-container-id-24 label.sk-toggleable__label-arrow:before {content: \"▸\";float: left;margin-right: 0.25em;color: #696969;}#sk-container-id-24 label.sk-toggleable__label-arrow:hover:before {color: black;}#sk-container-id-24 div.sk-estimator:hover label.sk-toggleable__label-arrow:before {color: black;}#sk-container-id-24 div.sk-toggleable__content {max-height: 0;max-width: 0;overflow: hidden;text-align: left;background-color: #f0f8ff;}#sk-container-id-24 div.sk-toggleable__content pre {margin: 0.2em;color: black;border-radius: 0.25em;background-color: #f0f8ff;}#sk-container-id-24 input.sk-toggleable__control:checked~div.sk-toggleable__content {max-height: 200px;max-width: 100%;overflow: auto;}#sk-container-id-24 input.sk-toggleable__control:checked~label.sk-toggleable__label-arrow:before {content: \"▾\";}#sk-container-id-24 div.sk-estimator input.sk-toggleable__control:checked~label.sk-toggleable__label {background-color: #d4ebff;}#sk-container-id-24 div.sk-label input.sk-toggleable__control:checked~label.sk-toggleable__label {background-color: #d4ebff;}#sk-container-id-24 input.sk-hidden--visually {border: 0;clip: rect(1px 1px 1px 1px);clip: rect(1px, 1px, 1px, 1px);height: 1px;margin: -1px;overflow: hidden;padding: 0;position: absolute;width: 1px;}#sk-container-id-24 div.sk-estimator {font-family: monospace;background-color: #f0f8ff;border: 1px dotted black;border-radius: 0.25em;box-sizing: border-box;margin-bottom: 0.5em;}#sk-container-id-24 div.sk-estimator:hover {background-color: #d4ebff;}#sk-container-id-24 div.sk-parallel-item::after {content: \"\";width: 100%;border-bottom: 1px solid gray;flex-grow: 1;}#sk-container-id-24 div.sk-label:hover label.sk-toggleable__label {background-color: #d4ebff;}#sk-container-id-24 div.sk-serial::before {content: \"\";position: absolute;border-left: 1px solid gray;box-sizing: border-box;top: 0;bottom: 0;left: 50%;z-index: 0;}#sk-container-id-24 div.sk-serial {display: flex;flex-direction: column;align-items: center;background-color: white;padding-right: 0.2em;padding-left: 0.2em;position: relative;}#sk-container-id-24 div.sk-item {position: relative;z-index: 1;}#sk-container-id-24 div.sk-parallel {display: flex;align-items: stretch;justify-content: center;background-color: white;position: relative;}#sk-container-id-24 div.sk-item::before, #sk-container-id-24 div.sk-parallel-item::before {content: \"\";position: absolute;border-left: 1px solid gray;box-sizing: border-box;top: 0;bottom: 0;left: 50%;z-index: -1;}#sk-container-id-24 div.sk-parallel-item {display: flex;flex-direction: column;z-index: 1;position: relative;background-color: white;}#sk-container-id-24 div.sk-parallel-item:first-child::after {align-self: flex-end;width: 50%;}#sk-container-id-24 div.sk-parallel-item:last-child::after {align-self: flex-start;width: 50%;}#sk-container-id-24 div.sk-parallel-item:only-child::after {width: 0;}#sk-container-id-24 div.sk-dashed-wrapped {border: 1px dashed gray;margin: 0 0.4em 0.5em 0.4em;box-sizing: border-box;padding-bottom: 0.4em;background-color: white;}#sk-container-id-24 div.sk-label label {font-family: monospace;font-weight: bold;display: inline-block;line-height: 1.2em;}#sk-container-id-24 div.sk-label-container {text-align: center;}#sk-container-id-24 div.sk-container {/* jupyter's `normalize.less` sets `[hidden] { display: none; }` but bootstrap.min.css set `[hidden] { display: none !important; }` so we also need the `!important` here to be able to override the default hidden behavior on the sphinx rendered scikit-learn.org. See: https://github.com/scikit-learn/scikit-learn/issues/21755 */display: inline-block !important;position: relative;}#sk-container-id-24 div.sk-text-repr-fallback {display: none;}</style><div id=\"sk-container-id-24\" class=\"sk-top-container\"><div class=\"sk-text-repr-fallback\"><pre>LinearRegression()</pre><b>In a Jupyter environment, please rerun this cell to show the HTML representation or trust the notebook. <br />On GitHub, the HTML representation is unable to render, please try loading this page with nbviewer.org.</b></div><div class=\"sk-container\" hidden><div class=\"sk-item\"><div class=\"sk-estimator sk-toggleable\"><input class=\"sk-toggleable__control sk-hidden--visually\" id=\"sk-estimator-id-26\" type=\"checkbox\" checked><label for=\"sk-estimator-id-26\" class=\"sk-toggleable__label sk-toggleable__label-arrow\">LinearRegression</label><div class=\"sk-toggleable__content\"><pre>LinearRegression()</pre></div></div></div></div></div>"
      ],
      "text/plain": [
       "LinearRegression()"
      ]
     },
     "execution_count": 563,
     "metadata": {},
     "output_type": "execute_result"
    }
   ],
   "source": [
    "lr_log_y = LinearRegression()\n",
    "lr_log_y.fit(X_train, y_train_log)"
   ]
  },
  {
   "cell_type": "code",
   "execution_count": 564,
   "id": "55e1472a-eb73-4f74-b623-a8811c6e56c5",
   "metadata": {},
   "outputs": [
    {
     "name": "stdout",
     "output_type": "stream",
     "text": [
      "-----------Train Data-----------\n",
      "MAE: 5399321.2291035885\n",
      "MSE: 3344584147689284.5\n",
      "RMSE: 57832379.75121968\n",
      "R2: 0.8775764904054434\n",
      "Adj_R2: 0.8770655903109699\n",
      "Cross Validation: [0.87330378 0.87394899 0.87899909 0.87960668 0.87374623]\n",
      "Cross Validation Mean: 0.8759209543216372\n",
      "--------------------------------\n",
      "-----------Test Data-----------\n",
      "MAE: 5835837.382524506\n",
      "MSE: 2774698775126900.0\n",
      "RMSE: 52675409.58670279\n",
      "R2: 0.8795004964583967\n",
      "Adj_R2: 0.8789976256621966\n",
      "--------------------------------\n"
     ]
    }
   ],
   "source": [
    "reg_metrics(lr_log_y, X_train, X_test, y_train_log, y_test_log, log_y=True)"
   ]
  },
  {
   "cell_type": "code",
   "execution_count": 565,
   "id": "a283e5a4-d9b9-4e52-bc88-c97efd08a383",
   "metadata": {},
   "outputs": [
    {
     "data": {
      "text/plain": [
       "57832379.75121968"
      ]
     },
     "execution_count": 565,
     "metadata": {},
     "output_type": "execute_result"
    }
   ],
   "source": [
    "test_y_preds = lr_log_y.predict(X_train)\n",
    "metrics.mean_squared_error(np.exp(y_train_log), np.exp(test_y_preds), squared=False)"
   ]
  },
  {
   "cell_type": "markdown",
   "id": "c703a3dd-7b11-462c-955c-e1fea2eb161f",
   "metadata": {},
   "source": [
    "From log transformation of `sale_price`, a model performance is better comparing by R-squared."
   ]
  },
  {
   "cell_type": "markdown",
   "id": "45915319-5d63-4357-a3a0-2d463bf796b6",
   "metadata": {},
   "source": [
    "---"
   ]
  },
  {
   "cell_type": "code",
   "execution_count": 566,
   "id": "3ba3d5fe-ccee-4516-b612-2897d5788561",
   "metadata": {},
   "outputs": [
    {
     "data": {
      "image/png": "[encoded data removed]",
      "text/plain": [
       "<Figure size 720x432 with 1 Axes>"
      ]
     },
     "metadata": {
      "needs_background": "light"
     },
     "output_type": "display_data"
    }
   ],
   "source": [
    "plot_ytrue_ypred(y_train_log, test_y_preds)"
   ]
  },
  {
   "cell_type": "code",
   "execution_count": 567,
   "id": "066f6b0b-9c94-4bed-80d7-383ebe81b242",
   "metadata": {},
   "outputs": [
    {
     "data": {
      "image/png": "[encoded data removed]",
      "text/plain": [
       "<Figure size 720x432 with 1 Axes>"
      ]
     },
     "metadata": {
      "needs_background": "light"
     },
     "output_type": "display_data"
    }
   ],
   "source": [
    "plot_ytrue_ypred(np.exp(y_train_log), np.exp(test_y_preds))"
   ]
  },
  {
   "cell_type": "code",
   "execution_count": 568,
   "id": "5120ddfa-2eb7-4234-b810-4cedab8c7779",
   "metadata": {},
   "outputs": [
    {
     "name": "stderr",
     "output_type": "stream",
     "text": [
      "D:\\ProgramData\\Anaconda3\\lib\\site-packages\\seaborn\\_decorators.py:36: FutureWarning: Pass the following variables as keyword args: x, y. From version 0.12, the only valid positional argument will be `data`, and passing other arguments without an explicit keyword will result in an error or misinterpretation.\n",
      "  warnings.warn(\n"
     ]
    },
    {
     "data": {
      "image/png": "[encoded data removed]",
      "text/plain": [
       "<Figure size 432x288 with 1 Axes>"
      ]
     },
     "metadata": {
      "needs_background": "light"
     },
     "output_type": "display_data"
    }
   ],
   "source": [
    "res = y_train_log - test_y_preds\n",
    "sns.residplot(y_train_log, res);"
   ]
  },
  {
   "cell_type": "markdown",
   "id": "daeb94f5-d33a-411f-b012-489a27b3df46",
   "metadata": {},
   "source": [
    "## 5.2 Random Forest Models"
   ]
  },
  {
   "cell_type": "markdown",
   "id": "3747a9c3-7a28-4096-a30d-636851c90a7d",
   "metadata": {},
   "source": [
    "### Normal Random Forest\n",
    "---"
   ]
  },
  {
   "cell_type": "code",
   "execution_count": 569,
   "id": "a3c37c8a-ac34-4d76-ac0a-6231fa5701a6",
   "metadata": {},
   "outputs": [
    {
     "name": "stdout",
     "output_type": "stream",
     "text": [
      "CPU times: total: 5.53 s\n",
      "Wall time: 5.53 s\n"
     ]
    },
    {
     "data": {
      "text/html": [
       "<style>#sk-container-id-25 {color: black;background-color: white;}#sk-container-id-25 pre{padding: 0;}#sk-container-id-25 div.sk-toggleable {background-color: white;}#sk-container-id-25 label.sk-toggleable__label {cursor: pointer;display: block;width: 100%;margin-bottom: 0;padding: 0.3em;box-sizing: border-box;text-align: center;}#sk-container-id-25 label.sk-toggleable__label-arrow:before {content: \"▸\";float: left;margin-right: 0.25em;color: #696969;}#sk-container-id-25 label.sk-toggleable__label-arrow:hover:before {color: black;}#sk-container-id-25 div.sk-estimator:hover label.sk-toggleable__label-arrow:before {color: black;}#sk-container-id-25 div.sk-toggleable__content {max-height: 0;max-width: 0;overflow: hidden;text-align: left;background-color: #f0f8ff;}#sk-container-id-25 div.sk-toggleable__content pre {margin: 0.2em;color: black;border-radius: 0.25em;background-color: #f0f8ff;}#sk-container-id-25 input.sk-toggleable__control:checked~div.sk-toggleable__content {max-height: 200px;max-width: 100%;overflow: auto;}#sk-container-id-25 input.sk-toggleable__control:checked~label.sk-toggleable__label-arrow:before {content: \"▾\";}#sk-container-id-25 div.sk-estimator input.sk-toggleable__control:checked~label.sk-toggleable__label {background-color: #d4ebff;}#sk-container-id-25 div.sk-label input.sk-toggleable__control:checked~label.sk-toggleable__label {background-color: #d4ebff;}#sk-container-id-25 input.sk-hidden--visually {border: 0;clip: rect(1px 1px 1px 1px);clip: rect(1px, 1px, 1px, 1px);height: 1px;margin: -1px;overflow: hidden;padding: 0;position: absolute;width: 1px;}#sk-container-id-25 div.sk-estimator {font-family: monospace;background-color: #f0f8ff;border: 1px dotted black;border-radius: 0.25em;box-sizing: border-box;margin-bottom: 0.5em;}#sk-container-id-25 div.sk-estimator:hover {background-color: #d4ebff;}#sk-container-id-25 div.sk-parallel-item::after {content: \"\";width: 100%;border-bottom: 1px solid gray;flex-grow: 1;}#sk-container-id-25 div.sk-label:hover label.sk-toggleable__label {background-color: #d4ebff;}#sk-container-id-25 div.sk-serial::before {content: \"\";position: absolute;border-left: 1px solid gray;box-sizing: border-box;top: 0;bottom: 0;left: 50%;z-index: 0;}#sk-container-id-25 div.sk-serial {display: flex;flex-direction: column;align-items: center;background-color: white;padding-right: 0.2em;padding-left: 0.2em;position: relative;}#sk-container-id-25 div.sk-item {position: relative;z-index: 1;}#sk-container-id-25 div.sk-parallel {display: flex;align-items: stretch;justify-content: center;background-color: white;position: relative;}#sk-container-id-25 div.sk-item::before, #sk-container-id-25 div.sk-parallel-item::before {content: \"\";position: absolute;border-left: 1px solid gray;box-sizing: border-box;top: 0;bottom: 0;left: 50%;z-index: -1;}#sk-container-id-25 div.sk-parallel-item {display: flex;flex-direction: column;z-index: 1;position: relative;background-color: white;}#sk-container-id-25 div.sk-parallel-item:first-child::after {align-self: flex-end;width: 50%;}#sk-container-id-25 div.sk-parallel-item:last-child::after {align-self: flex-start;width: 50%;}#sk-container-id-25 div.sk-parallel-item:only-child::after {width: 0;}#sk-container-id-25 div.sk-dashed-wrapped {border: 1px dashed gray;margin: 0 0.4em 0.5em 0.4em;box-sizing: border-box;padding-bottom: 0.4em;background-color: white;}#sk-container-id-25 div.sk-label label {font-family: monospace;font-weight: bold;display: inline-block;line-height: 1.2em;}#sk-container-id-25 div.sk-label-container {text-align: center;}#sk-container-id-25 div.sk-container {/* jupyter's `normalize.less` sets `[hidden] { display: none; }` but bootstrap.min.css set `[hidden] { display: none !important; }` so we also need the `!important` here to be able to override the default hidden behavior on the sphinx rendered scikit-learn.org. See: https://github.com/scikit-learn/scikit-learn/issues/21755 */display: inline-block !important;position: relative;}#sk-container-id-25 div.sk-text-repr-fallback {display: none;}</style><div id=\"sk-container-id-25\" class=\"sk-top-container\"><div class=\"sk-text-repr-fallback\"><pre>RandomForestRegressor(random_state=42)</pre><b>In a Jupyter environment, please rerun this cell to show the HTML representation or trust the notebook. <br />On GitHub, the HTML representation is unable to render, please try loading this page with nbviewer.org.</b></div><div class=\"sk-container\" hidden><div class=\"sk-item\"><div class=\"sk-estimator sk-toggleable\"><input class=\"sk-toggleable__control sk-hidden--visually\" id=\"sk-estimator-id-27\" type=\"checkbox\" checked><label for=\"sk-estimator-id-27\" class=\"sk-toggleable__label sk-toggleable__label-arrow\">RandomForestRegressor</label><div class=\"sk-toggleable__content\"><pre>RandomForestRegressor(random_state=42)</pre></div></div></div></div></div>"
      ],
      "text/plain": [
       "RandomForestRegressor(random_state=42)"
      ]
     },
     "execution_count": 569,
     "metadata": {},
     "output_type": "execute_result"
    }
   ],
   "source": [
    "%%time\n",
    "rfr = RandomForestRegressor(random_state=42)\n",
    "\n",
    "rfr.fit(X_train, y_train)"
   ]
  },
  {
   "cell_type": "code",
   "execution_count": 570,
   "id": "1968b5a3-d6c3-459d-9f6e-02b4b219f46a",
   "metadata": {},
   "outputs": [
    {
     "name": "stdout",
     "output_type": "stream",
     "text": [
      "-----------Train Data-----------\n",
      "MAE: 755633.3044401448\n",
      "MSE: 7071213291385.506\n",
      "RMSE: 2659175.3028684487\n",
      "R2: 0.9854160099201348\n",
      "Adj_R2: 0.9853551477382362\n",
      "Cross Validation: None\n",
      "Cross Validation Mean: None\n",
      "--------------------------------\n",
      "-----------Test Data-----------\n",
      "MAE: 1503870.4950415294\n",
      "MSE: 30047382843574.254\n",
      "RMSE: 5481549.31051197\n",
      "R2: 0.9411942565509251\n",
      "Adj_R2: 0.9409488473155323\n",
      "--------------------------------\n"
     ]
    }
   ],
   "source": [
    "reg_metrics(rfr, X_train, X_test, y_train, y_test, cross_val=False)"
   ]
  },
  {
   "cell_type": "markdown",
   "id": "61dd1c2e-903b-4d07-a310-27c072c1ec97",
   "metadata": {},
   "source": [
    "### Random Forest with Log Transformation\n",
    "---\n",
    "Using log `sale_price`"
   ]
  },
  {
   "cell_type": "code",
   "execution_count": 571,
   "id": "14d03279-ed5d-4711-ace5-8af321f1d5f6",
   "metadata": {},
   "outputs": [
    {
     "data": {
      "text/html": [
       "<style>#sk-container-id-26 {color: black;background-color: white;}#sk-container-id-26 pre{padding: 0;}#sk-container-id-26 div.sk-toggleable {background-color: white;}#sk-container-id-26 label.sk-toggleable__label {cursor: pointer;display: block;width: 100%;margin-bottom: 0;padding: 0.3em;box-sizing: border-box;text-align: center;}#sk-container-id-26 label.sk-toggleable__label-arrow:before {content: \"▸\";float: left;margin-right: 0.25em;color: #696969;}#sk-container-id-26 label.sk-toggleable__label-arrow:hover:before {color: black;}#sk-container-id-26 div.sk-estimator:hover label.sk-toggleable__label-arrow:before {color: black;}#sk-container-id-26 div.sk-toggleable__content {max-height: 0;max-width: 0;overflow: hidden;text-align: left;background-color: #f0f8ff;}#sk-container-id-26 div.sk-toggleable__content pre {margin: 0.2em;color: black;border-radius: 0.25em;background-color: #f0f8ff;}#sk-container-id-26 input.sk-toggleable__control:checked~div.sk-toggleable__content {max-height: 200px;max-width: 100%;overflow: auto;}#sk-container-id-26 input.sk-toggleable__control:checked~label.sk-toggleable__label-arrow:before {content: \"▾\";}#sk-container-id-26 div.sk-estimator input.sk-toggleable__control:checked~label.sk-toggleable__label {background-color: #d4ebff;}#sk-container-id-26 div.sk-label input.sk-toggleable__control:checked~label.sk-toggleable__label {background-color: #d4ebff;}#sk-container-id-26 input.sk-hidden--visually {border: 0;clip: rect(1px 1px 1px 1px);clip: rect(1px, 1px, 1px, 1px);height: 1px;margin: -1px;overflow: hidden;padding: 0;position: absolute;width: 1px;}#sk-container-id-26 div.sk-estimator {font-family: monospace;background-color: #f0f8ff;border: 1px dotted black;border-radius: 0.25em;box-sizing: border-box;margin-bottom: 0.5em;}#sk-container-id-26 div.sk-estimator:hover {background-color: #d4ebff;}#sk-container-id-26 div.sk-parallel-item::after {content: \"\";width: 100%;border-bottom: 1px solid gray;flex-grow: 1;}#sk-container-id-26 div.sk-label:hover label.sk-toggleable__label {background-color: #d4ebff;}#sk-container-id-26 div.sk-serial::before {content: \"\";position: absolute;border-left: 1px solid gray;box-sizing: border-box;top: 0;bottom: 0;left: 50%;z-index: 0;}#sk-container-id-26 div.sk-serial {display: flex;flex-direction: column;align-items: center;background-color: white;padding-right: 0.2em;padding-left: 0.2em;position: relative;}#sk-container-id-26 div.sk-item {position: relative;z-index: 1;}#sk-container-id-26 div.sk-parallel {display: flex;align-items: stretch;justify-content: center;background-color: white;position: relative;}#sk-container-id-26 div.sk-item::before, #sk-container-id-26 div.sk-parallel-item::before {content: \"\";position: absolute;border-left: 1px solid gray;box-sizing: border-box;top: 0;bottom: 0;left: 50%;z-index: -1;}#sk-container-id-26 div.sk-parallel-item {display: flex;flex-direction: column;z-index: 1;position: relative;background-color: white;}#sk-container-id-26 div.sk-parallel-item:first-child::after {align-self: flex-end;width: 50%;}#sk-container-id-26 div.sk-parallel-item:last-child::after {align-self: flex-start;width: 50%;}#sk-container-id-26 div.sk-parallel-item:only-child::after {width: 0;}#sk-container-id-26 div.sk-dashed-wrapped {border: 1px dashed gray;margin: 0 0.4em 0.5em 0.4em;box-sizing: border-box;padding-bottom: 0.4em;background-color: white;}#sk-container-id-26 div.sk-label label {font-family: monospace;font-weight: bold;display: inline-block;line-height: 1.2em;}#sk-container-id-26 div.sk-label-container {text-align: center;}#sk-container-id-26 div.sk-container {/* jupyter's `normalize.less` sets `[hidden] { display: none; }` but bootstrap.min.css set `[hidden] { display: none !important; }` so we also need the `!important` here to be able to override the default hidden behavior on the sphinx rendered scikit-learn.org. See: https://github.com/scikit-learn/scikit-learn/issues/21755 */display: inline-block !important;position: relative;}#sk-container-id-26 div.sk-text-repr-fallback {display: none;}</style><div id=\"sk-container-id-26\" class=\"sk-top-container\"><div class=\"sk-text-repr-fallback\"><pre>RandomForestRegressor(random_state=42)</pre><b>In a Jupyter environment, please rerun this cell to show the HTML representation or trust the notebook. <br />On GitHub, the HTML representation is unable to render, please try loading this page with nbviewer.org.</b></div><div class=\"sk-container\" hidden><div class=\"sk-item\"><div class=\"sk-estimator sk-toggleable\"><input class=\"sk-toggleable__control sk-hidden--visually\" id=\"sk-estimator-id-28\" type=\"checkbox\" checked><label for=\"sk-estimator-id-28\" class=\"sk-toggleable__label sk-toggleable__label-arrow\">RandomForestRegressor</label><div class=\"sk-toggleable__content\"><pre>RandomForestRegressor(random_state=42)</pre></div></div></div></div></div>"
      ],
      "text/plain": [
       "RandomForestRegressor(random_state=42)"
      ]
     },
     "execution_count": 571,
     "metadata": {},
     "output_type": "execute_result"
    }
   ],
   "source": [
    "# Try log transformation\n",
    "rfr_log = RandomForestRegressor(random_state=42)\n",
    "\n",
    "rfr_log.fit(X_train, y_train_log)"
   ]
  },
  {
   "cell_type": "code",
   "execution_count": 573,
   "id": "55ad9510-60fd-4a9f-8982-df516c7a56f3",
   "metadata": {},
   "outputs": [
    {
     "name": "stdout",
     "output_type": "stream",
     "text": [
      "-----------Train Data-----------\n",
      "MAE: 720174.9881915714\n",
      "MSE: 7612962638855.341\n",
      "RMSE: 2759159.7704473985\n",
      "R2: 0.9908477835330495\n",
      "Adj_R2: 0.9908095893310283\n",
      "Cross Validation: [0.96242714 0.96390492 0.96208007 0.96786857 0.96312574]\n",
      "Cross Validation Mean: 0.963881287622353\n",
      "--------------------------------\n",
      "-----------Test Data-----------\n",
      "MAE: 1479352.141284887\n",
      "MSE: 28899710554953.676\n",
      "RMSE: 5375845.101465785\n",
      "R2: 0.9709850550408771\n",
      "Adj_R2: 0.9708639693264596\n",
      "--------------------------------\n"
     ]
    }
   ],
   "source": [
    "reg_metrics(rfr_log, X_train, X_test, y_train_log, y_test_log, log_y=True)"
   ]
  },
  {
   "cell_type": "markdown",
   "id": "6913dfac-29f8-49d5-883c-6a661025a818",
   "metadata": {},
   "source": [
    "**Note:** Even R-squared is high but converted RMSE is higher than normal model with lower R-squared"
   ]
  },
  {
   "cell_type": "markdown",
   "id": "005df1d0-57b4-4240-b702-ac0d8cc94df6",
   "metadata": {},
   "source": [
    "### Random Forest with GridSearch\n",
    "---"
   ]
  },
  {
   "cell_type": "code",
   "execution_count": 204,
   "id": "b62340bc-64d6-4862-a204-29475266277b",
   "metadata": {},
   "outputs": [
    {
     "name": "stdout",
     "output_type": "stream",
     "text": [
      "Fitting 5 folds for each of 18 candidates, totalling 90 fits\n"
     ]
    }
   ],
   "source": [
    "%%time\n",
    "# Set hyperparametesr\n",
    "hyper_params = {'max_depth': [5, 10, 15],\n",
    "                'min_samples_leaf': [3, 4, 5],\n",
    "                'n_estimators': [100, 200]\n",
    "               }\n",
    "\n",
    "# Instantiate GridSearchCV\n",
    "rfr_gridsearch = GridSearchCV(RandomForestRegressor(),\n",
    "                              hyper_params,\n",
    "                              cv=5,\n",
    "                              verbose=1\n",
    "                             )\n",
    "\n",
    "# Fit train data\n",
    "rfr_gridsearch.fit(X_train, y_train);"
   ]
  },
  {
   "cell_type": "code",
   "execution_count": 205,
   "id": "f0f9701b-5ec6-46bf-b374-d433c8d315fd",
   "metadata": {},
   "outputs": [
    {
     "data": {
      "text/plain": [
       "{'max_depth': 15, 'min_samples_leaf': 3, 'n_estimators': 100}"
      ]
     },
     "execution_count": 205,
     "metadata": {},
     "output_type": "execute_result"
    }
   ],
   "source": [
    "rfr_gridsearch.best_params_"
   ]
  },
  {
   "cell_type": "code",
   "execution_count": 206,
   "id": "c89b6a80-e8ae-4861-a2a1-f78d6c77e4f5",
   "metadata": {},
   "outputs": [
    {
     "name": "stdout",
     "output_type": "stream",
     "text": [
      "-----------Train Data-----------\n",
      "MAE: 1008814.8065281063\n",
      "MSE: 9548854491974.355\n",
      "RMSE: 3090122.083668274\n",
      "R2: 0.9819553393863594\n",
      "Adj_R2: 0.9818713566468572\n",
      "Cross Validation: None\n",
      "Cross Validation Mean: None\n",
      "--------------------------------\n",
      "-----------Test Data-----------\n",
      "MAE: 1693161.798461926\n",
      "MSE: 50026097375780.78\n",
      "RMSE: 7072912.934271196\n",
      "R2: 0.9243292688965828\n",
      "Adj_R2: 0.9239770851989083\n",
      "--------------------------------\n"
     ]
    }
   ],
   "source": [
    "reg_metrics(rfr_gridsearch, cross_val=False)"
   ]
  },
  {
   "cell_type": "markdown",
   "id": "0043327b-89ea-4294-9cf7-74037d5ec995",
   "metadata": {},
   "source": [
    "## 5.3 XGBoost"
   ]
  },
  {
   "cell_type": "markdown",
   "id": "d076e111-5d7e-4973-8cf0-f288f68c8d69",
   "metadata": {},
   "source": [
    "### XGBoost - Model 1\n",
    "---"
   ]
  },
  {
   "cell_type": "code",
   "execution_count": 574,
   "id": "9b87bff0-a0da-41a6-b3da-8722fd048b96",
   "metadata": {},
   "outputs": [
    {
     "data": {
      "text/html": [
       "<style>#sk-container-id-27 {color: black;background-color: white;}#sk-container-id-27 pre{padding: 0;}#sk-container-id-27 div.sk-toggleable {background-color: white;}#sk-container-id-27 label.sk-toggleable__label {cursor: pointer;display: block;width: 100%;margin-bottom: 0;padding: 0.3em;box-sizing: border-box;text-align: center;}#sk-container-id-27 label.sk-toggleable__label-arrow:before {content: \"▸\";float: left;margin-right: 0.25em;color: #696969;}#sk-container-id-27 label.sk-toggleable__label-arrow:hover:before {color: black;}#sk-container-id-27 div.sk-estimator:hover label.sk-toggleable__label-arrow:before {color: black;}#sk-container-id-27 div.sk-toggleable__content {max-height: 0;max-width: 0;overflow: hidden;text-align: left;background-color: #f0f8ff;}#sk-container-id-27 div.sk-toggleable__content pre {margin: 0.2em;color: black;border-radius: 0.25em;background-color: #f0f8ff;}#sk-container-id-27 input.sk-toggleable__control:checked~div.sk-toggleable__content {max-height: 200px;max-width: 100%;overflow: auto;}#sk-container-id-27 input.sk-toggleable__control:checked~label.sk-toggleable__label-arrow:before {content: \"▾\";}#sk-container-id-27 div.sk-estimator input.sk-toggleable__control:checked~label.sk-toggleable__label {background-color: #d4ebff;}#sk-container-id-27 div.sk-label input.sk-toggleable__control:checked~label.sk-toggleable__label {background-color: #d4ebff;}#sk-container-id-27 input.sk-hidden--visually {border: 0;clip: rect(1px 1px 1px 1px);clip: rect(1px, 1px, 1px, 1px);height: 1px;margin: -1px;overflow: hidden;padding: 0;position: absolute;width: 1px;}#sk-container-id-27 div.sk-estimator {font-family: monospace;background-color: #f0f8ff;border: 1px dotted black;border-radius: 0.25em;box-sizing: border-box;margin-bottom: 0.5em;}#sk-container-id-27 div.sk-estimator:hover {background-color: #d4ebff;}#sk-container-id-27 div.sk-parallel-item::after {content: \"\";width: 100%;border-bottom: 1px solid gray;flex-grow: 1;}#sk-container-id-27 div.sk-label:hover label.sk-toggleable__label {background-color: #d4ebff;}#sk-container-id-27 div.sk-serial::before {content: \"\";position: absolute;border-left: 1px solid gray;box-sizing: border-box;top: 0;bottom: 0;left: 50%;z-index: 0;}#sk-container-id-27 div.sk-serial {display: flex;flex-direction: column;align-items: center;background-color: white;padding-right: 0.2em;padding-left: 0.2em;position: relative;}#sk-container-id-27 div.sk-item {position: relative;z-index: 1;}#sk-container-id-27 div.sk-parallel {display: flex;align-items: stretch;justify-content: center;background-color: white;position: relative;}#sk-container-id-27 div.sk-item::before, #sk-container-id-27 div.sk-parallel-item::before {content: \"\";position: absolute;border-left: 1px solid gray;box-sizing: border-box;top: 0;bottom: 0;left: 50%;z-index: -1;}#sk-container-id-27 div.sk-parallel-item {display: flex;flex-direction: column;z-index: 1;position: relative;background-color: white;}#sk-container-id-27 div.sk-parallel-item:first-child::after {align-self: flex-end;width: 50%;}#sk-container-id-27 div.sk-parallel-item:last-child::after {align-self: flex-start;width: 50%;}#sk-container-id-27 div.sk-parallel-item:only-child::after {width: 0;}#sk-container-id-27 div.sk-dashed-wrapped {border: 1px dashed gray;margin: 0 0.4em 0.5em 0.4em;box-sizing: border-box;padding-bottom: 0.4em;background-color: white;}#sk-container-id-27 div.sk-label label {font-family: monospace;font-weight: bold;display: inline-block;line-height: 1.2em;}#sk-container-id-27 div.sk-label-container {text-align: center;}#sk-container-id-27 div.sk-container {/* jupyter's `normalize.less` sets `[hidden] { display: none; }` but bootstrap.min.css set `[hidden] { display: none !important; }` so we also need the `!important` here to be able to override the default hidden behavior on the sphinx rendered scikit-learn.org. See: https://github.com/scikit-learn/scikit-learn/issues/21755 */display: inline-block !important;position: relative;}#sk-container-id-27 div.sk-text-repr-fallback {display: none;}</style><div id=\"sk-container-id-27\" class=\"sk-top-container\"><div class=\"sk-text-repr-fallback\"><pre>XGBRegressor(base_score=0.5, booster=&#x27;gbtree&#x27;, callbacks=None,\n",
       "             colsample_bylevel=1, colsample_bynode=1, colsample_bytree=1,\n",
       "             early_stopping_rounds=None, enable_categorical=False,\n",
       "             eval_metric=None, feature_types=None, gamma=0, gpu_id=-1,\n",
       "             grow_policy=&#x27;depthwise&#x27;, importance_type=None,\n",
       "             interaction_constraints=&#x27;&#x27;, learning_rate=0.300000012, max_bin=256,\n",
       "             max_cat_threshold=64, max_cat_to_onehot=4, max_delta_step=0,\n",
       "             max_depth=6, max_leaves=0, min_child_weight=1, missing=nan,\n",
       "             monotone_constraints=&#x27;()&#x27;, n_estimators=100, n_jobs=0,\n",
       "             num_parallel_tree=1, predictor=&#x27;auto&#x27;, random_state=42, ...)</pre><b>In a Jupyter environment, please rerun this cell to show the HTML representation or trust the notebook. <br />On GitHub, the HTML representation is unable to render, please try loading this page with nbviewer.org.</b></div><div class=\"sk-container\" hidden><div class=\"sk-item\"><div class=\"sk-estimator sk-toggleable\"><input class=\"sk-toggleable__control sk-hidden--visually\" id=\"sk-estimator-id-29\" type=\"checkbox\" checked><label for=\"sk-estimator-id-29\" class=\"sk-toggleable__label sk-toggleable__label-arrow\">XGBRegressor</label><div class=\"sk-toggleable__content\"><pre>XGBRegressor(base_score=0.5, booster=&#x27;gbtree&#x27;, callbacks=None,\n",
       "             colsample_bylevel=1, colsample_bynode=1, colsample_bytree=1,\n",
       "             early_stopping_rounds=None, enable_categorical=False,\n",
       "             eval_metric=None, feature_types=None, gamma=0, gpu_id=-1,\n",
       "             grow_policy=&#x27;depthwise&#x27;, importance_type=None,\n",
       "             interaction_constraints=&#x27;&#x27;, learning_rate=0.300000012, max_bin=256,\n",
       "             max_cat_threshold=64, max_cat_to_onehot=4, max_delta_step=0,\n",
       "             max_depth=6, max_leaves=0, min_child_weight=1, missing=nan,\n",
       "             monotone_constraints=&#x27;()&#x27;, n_estimators=100, n_jobs=0,\n",
       "             num_parallel_tree=1, predictor=&#x27;auto&#x27;, random_state=42, ...)</pre></div></div></div></div></div>"
      ],
      "text/plain": [
       "XGBRegressor(base_score=0.5, booster='gbtree', callbacks=None,\n",
       "             colsample_bylevel=1, colsample_bynode=1, colsample_bytree=1,\n",
       "             early_stopping_rounds=None, enable_categorical=False,\n",
       "             eval_metric=None, feature_types=None, gamma=0, gpu_id=-1,\n",
       "             grow_policy='depthwise', importance_type=None,\n",
       "             interaction_constraints='', learning_rate=0.300000012, max_bin=256,\n",
       "             max_cat_threshold=64, max_cat_to_onehot=4, max_delta_step=0,\n",
       "             max_depth=6, max_leaves=0, min_child_weight=1, missing=nan,\n",
       "             monotone_constraints='()', n_estimators=100, n_jobs=0,\n",
       "             num_parallel_tree=1, predictor='auto', random_state=42, ...)"
      ]
     },
     "execution_count": 574,
     "metadata": {},
     "output_type": "execute_result"
    }
   ],
   "source": [
    "%%time\n",
    "xgbr = xgboost.XGBRegressor(objective='reg:squarederror',\n",
    "                            seed=42)\n",
    "\n",
    "xgbr.fit(X_train, y_train)"
   ]
  },
  {
   "cell_type": "code",
   "execution_count": 575,
   "id": "76ed0e66-6ff2-42a3-a40a-702540d311ae",
   "metadata": {},
   "outputs": [
    {
     "name": "stdout",
     "output_type": "stream",
     "text": [
      "-----------Train Data-----------\n",
      "MAE: 995991.2942990644\n",
      "MSE: 5401721127887.436\n",
      "RMSE: 2324160.3059787927\n",
      "R2: 0.988859246059049\n",
      "Adj_R2: 0.9888127532550133\n",
      "Cross Validation: [0.914898   0.8890534  0.90030456 0.94893753 0.94467344]\n",
      "Cross Validation Mean: 0.919573385234812\n",
      "--------------------------------\n",
      "-----------Test Data-----------\n",
      "MAE: 1590772.1424506144\n",
      "MSE: 25601344415513.99\n",
      "RMSE: 5059777.111248477\n",
      "R2: 0.9498955999100575\n",
      "Adj_R2: 0.9496865032845461\n",
      "--------------------------------\n"
     ]
    }
   ],
   "source": [
    "reg_metrics(xgbr, X_train, X_test, y_train, y_test)"
   ]
  },
  {
   "cell_type": "markdown",
   "id": "fdc087fc-7689-4643-8db0-2cdcdd30f36e",
   "metadata": {},
   "source": [
    "### XGBoost - Model 2\n",
    "---"
   ]
  },
  {
   "cell_type": "code",
   "execution_count": 576,
   "id": "07451a51-fcf5-486f-8008-9d85813aeeaf",
   "metadata": {},
   "outputs": [
    {
     "name": "stdout",
     "output_type": "stream",
     "text": [
      "CPU times: total: 6.81 s\n",
      "Wall time: 995 ms\n"
     ]
    },
    {
     "data": {
      "text/html": [
       "<style>#sk-container-id-28 {color: black;background-color: white;}#sk-container-id-28 pre{padding: 0;}#sk-container-id-28 div.sk-toggleable {background-color: white;}#sk-container-id-28 label.sk-toggleable__label {cursor: pointer;display: block;width: 100%;margin-bottom: 0;padding: 0.3em;box-sizing: border-box;text-align: center;}#sk-container-id-28 label.sk-toggleable__label-arrow:before {content: \"▸\";float: left;margin-right: 0.25em;color: #696969;}#sk-container-id-28 label.sk-toggleable__label-arrow:hover:before {color: black;}#sk-container-id-28 div.sk-estimator:hover label.sk-toggleable__label-arrow:before {color: black;}#sk-container-id-28 div.sk-toggleable__content {max-height: 0;max-width: 0;overflow: hidden;text-align: left;background-color: #f0f8ff;}#sk-container-id-28 div.sk-toggleable__content pre {margin: 0.2em;color: black;border-radius: 0.25em;background-color: #f0f8ff;}#sk-container-id-28 input.sk-toggleable__control:checked~div.sk-toggleable__content {max-height: 200px;max-width: 100%;overflow: auto;}#sk-container-id-28 input.sk-toggleable__control:checked~label.sk-toggleable__label-arrow:before {content: \"▾\";}#sk-container-id-28 div.sk-estimator input.sk-toggleable__control:checked~label.sk-toggleable__label {background-color: #d4ebff;}#sk-container-id-28 div.sk-label input.sk-toggleable__control:checked~label.sk-toggleable__label {background-color: #d4ebff;}#sk-container-id-28 input.sk-hidden--visually {border: 0;clip: rect(1px 1px 1px 1px);clip: rect(1px, 1px, 1px, 1px);height: 1px;margin: -1px;overflow: hidden;padding: 0;position: absolute;width: 1px;}#sk-container-id-28 div.sk-estimator {font-family: monospace;background-color: #f0f8ff;border: 1px dotted black;border-radius: 0.25em;box-sizing: border-box;margin-bottom: 0.5em;}#sk-container-id-28 div.sk-estimator:hover {background-color: #d4ebff;}#sk-container-id-28 div.sk-parallel-item::after {content: \"\";width: 100%;border-bottom: 1px solid gray;flex-grow: 1;}#sk-container-id-28 div.sk-label:hover label.sk-toggleable__label {background-color: #d4ebff;}#sk-container-id-28 div.sk-serial::before {content: \"\";position: absolute;border-left: 1px solid gray;box-sizing: border-box;top: 0;bottom: 0;left: 50%;z-index: 0;}#sk-container-id-28 div.sk-serial {display: flex;flex-direction: column;align-items: center;background-color: white;padding-right: 0.2em;padding-left: 0.2em;position: relative;}#sk-container-id-28 div.sk-item {position: relative;z-index: 1;}#sk-container-id-28 div.sk-parallel {display: flex;align-items: stretch;justify-content: center;background-color: white;position: relative;}#sk-container-id-28 div.sk-item::before, #sk-container-id-28 div.sk-parallel-item::before {content: \"\";position: absolute;border-left: 1px solid gray;box-sizing: border-box;top: 0;bottom: 0;left: 50%;z-index: -1;}#sk-container-id-28 div.sk-parallel-item {display: flex;flex-direction: column;z-index: 1;position: relative;background-color: white;}#sk-container-id-28 div.sk-parallel-item:first-child::after {align-self: flex-end;width: 50%;}#sk-container-id-28 div.sk-parallel-item:last-child::after {align-self: flex-start;width: 50%;}#sk-container-id-28 div.sk-parallel-item:only-child::after {width: 0;}#sk-container-id-28 div.sk-dashed-wrapped {border: 1px dashed gray;margin: 0 0.4em 0.5em 0.4em;box-sizing: border-box;padding-bottom: 0.4em;background-color: white;}#sk-container-id-28 div.sk-label label {font-family: monospace;font-weight: bold;display: inline-block;line-height: 1.2em;}#sk-container-id-28 div.sk-label-container {text-align: center;}#sk-container-id-28 div.sk-container {/* jupyter's `normalize.less` sets `[hidden] { display: none; }` but bootstrap.min.css set `[hidden] { display: none !important; }` so we also need the `!important` here to be able to override the default hidden behavior on the sphinx rendered scikit-learn.org. See: https://github.com/scikit-learn/scikit-learn/issues/21755 */display: inline-block !important;position: relative;}#sk-container-id-28 div.sk-text-repr-fallback {display: none;}</style><div id=\"sk-container-id-28\" class=\"sk-top-container\"><div class=\"sk-text-repr-fallback\"><pre>XGBRegressor(base_score=0.5, booster=&#x27;gbtree&#x27;, callbacks=None,\n",
       "             colsample_bylevel=1, colsample_bynode=1, colsample_bytree=1,\n",
       "             early_stopping_rounds=None, enable_categorical=False,\n",
       "             eval_metric=None, feature_types=None, gamma=0, gpu_id=-1,\n",
       "             grow_policy=&#x27;depthwise&#x27;, importance_type=None,\n",
       "             interaction_constraints=&#x27;&#x27;, learning_rate=0.300000012, max_bin=256,\n",
       "             max_cat_threshold=64, max_cat_to_onehot=4, max_delta_step=0,\n",
       "             max_depth=6, max_leaves=0, min_child_weight=1, missing=nan,\n",
       "             monotone_constraints=&#x27;()&#x27;, n_estimators=100, n_jobs=0,\n",
       "             num_parallel_tree=1, predictor=&#x27;auto&#x27;, random_state=42, ...)</pre><b>In a Jupyter environment, please rerun this cell to show the HTML representation or trust the notebook. <br />On GitHub, the HTML representation is unable to render, please try loading this page with nbviewer.org.</b></div><div class=\"sk-container\" hidden><div class=\"sk-item\"><div class=\"sk-estimator sk-toggleable\"><input class=\"sk-toggleable__control sk-hidden--visually\" id=\"sk-estimator-id-30\" type=\"checkbox\" checked><label for=\"sk-estimator-id-30\" class=\"sk-toggleable__label sk-toggleable__label-arrow\">XGBRegressor</label><div class=\"sk-toggleable__content\"><pre>XGBRegressor(base_score=0.5, booster=&#x27;gbtree&#x27;, callbacks=None,\n",
       "             colsample_bylevel=1, colsample_bynode=1, colsample_bytree=1,\n",
       "             early_stopping_rounds=None, enable_categorical=False,\n",
       "             eval_metric=None, feature_types=None, gamma=0, gpu_id=-1,\n",
       "             grow_policy=&#x27;depthwise&#x27;, importance_type=None,\n",
       "             interaction_constraints=&#x27;&#x27;, learning_rate=0.300000012, max_bin=256,\n",
       "             max_cat_threshold=64, max_cat_to_onehot=4, max_delta_step=0,\n",
       "             max_depth=6, max_leaves=0, min_child_weight=1, missing=nan,\n",
       "             monotone_constraints=&#x27;()&#x27;, n_estimators=100, n_jobs=0,\n",
       "             num_parallel_tree=1, predictor=&#x27;auto&#x27;, random_state=42, ...)</pre></div></div></div></div></div>"
      ],
      "text/plain": [
       "XGBRegressor(base_score=0.5, booster='gbtree', callbacks=None,\n",
       "             colsample_bylevel=1, colsample_bynode=1, colsample_bytree=1,\n",
       "             early_stopping_rounds=None, enable_categorical=False,\n",
       "             eval_metric=None, feature_types=None, gamma=0, gpu_id=-1,\n",
       "             grow_policy='depthwise', importance_type=None,\n",
       "             interaction_constraints='', learning_rate=0.300000012, max_bin=256,\n",
       "             max_cat_threshold=64, max_cat_to_onehot=4, max_delta_step=0,\n",
       "             max_depth=6, max_leaves=0, min_child_weight=1, missing=nan,\n",
       "             monotone_constraints='()', n_estimators=100, n_jobs=0,\n",
       "             num_parallel_tree=1, predictor='auto', random_state=42, ...)"
      ]
     },
     "execution_count": 576,
     "metadata": {},
     "output_type": "execute_result"
    }
   ],
   "source": [
    "%%time\n",
    "xgbr_2 = xgboost.XGBRegressor(objective='reg:squarederror',\n",
    "                            seed=42)\n",
    "\n",
    "xgbr_2.fit(X_train, \n",
    "         y_train,\n",
    "         eval_set=[(X_test, y_test)],\n",
    "         verbose=False)"
   ]
  },
  {
   "cell_type": "code",
   "execution_count": 578,
   "id": "df6bd356-0113-4f4c-aeac-637b0718c739",
   "metadata": {},
   "outputs": [
    {
     "name": "stdout",
     "output_type": "stream",
     "text": [
      "-----------Train Data-----------\n",
      "MAE: 995991.2942990644\n",
      "MSE: 5401721127887.436\n",
      "RMSE: 2324160.3059787927\n",
      "R2: 0.988859246059049\n",
      "Adj_R2: 0.9888127532550133\n",
      "Cross Validation: [0.914898   0.8890534  0.90030456 0.94893753 0.94467344]\n",
      "Cross Validation Mean: 0.919573385234812\n",
      "--------------------------------\n",
      "-----------Test Data-----------\n",
      "MAE: 1590772.1424506144\n",
      "MSE: 25601344415513.99\n",
      "RMSE: 5059777.111248477\n",
      "R2: 0.9498955999100575\n",
      "Adj_R2: 0.9496865032845461\n",
      "--------------------------------\n"
     ]
    }
   ],
   "source": [
    "reg_metrics(xgbr_2, X_train, X_test, y_train, y_test)"
   ]
  },
  {
   "cell_type": "markdown",
   "id": "db5907a2-5239-459a-b91a-87c18b92282e",
   "metadata": {},
   "source": [
    "### XGBoost with GridSearch\n",
    "---"
   ]
  },
  {
   "cell_type": "code",
   "execution_count": null,
   "id": "68830dcb-0559-4ee7-9303-04ecc89cca29",
   "metadata": {},
   "outputs": [],
   "source": [
    "#    'colsample_bytree':[0.4,0.6,0.8],\n",
    "#    'gamma':[0,0.03,0.1,0.3],\n",
    "#    'min_child_weight':[1.5,6,10],\n",
    "#    'learning_rate':[0.1,0.07],\n",
    "#    'max_depth':[3,5],\n",
    "#    'n_estimators':[10000],\n",
    "#    'reg_alpha':[1e-5, 1e-2,  0.75],\n",
    "#    'reg_lambda':[1e-5, 1e-2, 0.45],\n",
    "#    'subsample':[0.6,0.95]  "
   ]
  },
  {
   "cell_type": "code",
   "execution_count": 8,
   "id": "38acc8a1-9b02-483e-8551-80ea9304d4ed",
   "metadata": {},
   "outputs": [
    {
     "name": "stdout",
     "output_type": "stream",
     "text": [
      "Fitting 5 folds for each of 1458 candidates, totalling 7290 fits\n",
      "CPU times: total: 1h 41min 48s\n",
      "Wall time: 16min 10s\n"
     ]
    },
    {
     "data": {
      "text/html": [
       "<style>#sk-container-id-1 {color: black;background-color: white;}#sk-container-id-1 pre{padding: 0;}#sk-container-id-1 div.sk-toggleable {background-color: white;}#sk-container-id-1 label.sk-toggleable__label {cursor: pointer;display: block;width: 100%;margin-bottom: 0;padding: 0.3em;box-sizing: border-box;text-align: center;}#sk-container-id-1 label.sk-toggleable__label-arrow:before {content: \"▸\";float: left;margin-right: 0.25em;color: #696969;}#sk-container-id-1 label.sk-toggleable__label-arrow:hover:before {color: black;}#sk-container-id-1 div.sk-estimator:hover label.sk-toggleable__label-arrow:before {color: black;}#sk-container-id-1 div.sk-toggleable__content {max-height: 0;max-width: 0;overflow: hidden;text-align: left;background-color: #f0f8ff;}#sk-container-id-1 div.sk-toggleable__content pre {margin: 0.2em;color: black;border-radius: 0.25em;background-color: #f0f8ff;}#sk-container-id-1 input.sk-toggleable__control:checked~div.sk-toggleable__content {max-height: 200px;max-width: 100%;overflow: auto;}#sk-container-id-1 input.sk-toggleable__control:checked~label.sk-toggleable__label-arrow:before {content: \"▾\";}#sk-container-id-1 div.sk-estimator input.sk-toggleable__control:checked~label.sk-toggleable__label {background-color: #d4ebff;}#sk-container-id-1 div.sk-label input.sk-toggleable__control:checked~label.sk-toggleable__label {background-color: #d4ebff;}#sk-container-id-1 input.sk-hidden--visually {border: 0;clip: rect(1px 1px 1px 1px);clip: rect(1px, 1px, 1px, 1px);height: 1px;margin: -1px;overflow: hidden;padding: 0;position: absolute;width: 1px;}#sk-container-id-1 div.sk-estimator {font-family: monospace;background-color: #f0f8ff;border: 1px dotted black;border-radius: 0.25em;box-sizing: border-box;margin-bottom: 0.5em;}#sk-container-id-1 div.sk-estimator:hover {background-color: #d4ebff;}#sk-container-id-1 div.sk-parallel-item::after {content: \"\";width: 100%;border-bottom: 1px solid gray;flex-grow: 1;}#sk-container-id-1 div.sk-label:hover label.sk-toggleable__label {background-color: #d4ebff;}#sk-container-id-1 div.sk-serial::before {content: \"\";position: absolute;border-left: 1px solid gray;box-sizing: border-box;top: 0;bottom: 0;left: 50%;z-index: 0;}#sk-container-id-1 div.sk-serial {display: flex;flex-direction: column;align-items: center;background-color: white;padding-right: 0.2em;padding-left: 0.2em;position: relative;}#sk-container-id-1 div.sk-item {position: relative;z-index: 1;}#sk-container-id-1 div.sk-parallel {display: flex;align-items: stretch;justify-content: center;background-color: white;position: relative;}#sk-container-id-1 div.sk-item::before, #sk-container-id-1 div.sk-parallel-item::before {content: \"\";position: absolute;border-left: 1px solid gray;box-sizing: border-box;top: 0;bottom: 0;left: 50%;z-index: -1;}#sk-container-id-1 div.sk-parallel-item {display: flex;flex-direction: column;z-index: 1;position: relative;background-color: white;}#sk-container-id-1 div.sk-parallel-item:first-child::after {align-self: flex-end;width: 50%;}#sk-container-id-1 div.sk-parallel-item:last-child::after {align-self: flex-start;width: 50%;}#sk-container-id-1 div.sk-parallel-item:only-child::after {width: 0;}#sk-container-id-1 div.sk-dashed-wrapped {border: 1px dashed gray;margin: 0 0.4em 0.5em 0.4em;box-sizing: border-box;padding-bottom: 0.4em;background-color: white;}#sk-container-id-1 div.sk-label label {font-family: monospace;font-weight: bold;display: inline-block;line-height: 1.2em;}#sk-container-id-1 div.sk-label-container {text-align: center;}#sk-container-id-1 div.sk-container {/* jupyter's `normalize.less` sets `[hidden] { display: none; }` but bootstrap.min.css set `[hidden] { display: none !important; }` so we also need the `!important` here to be able to override the default hidden behavior on the sphinx rendered scikit-learn.org. See: https://github.com/scikit-learn/scikit-learn/issues/21755 */display: inline-block !important;position: relative;}#sk-container-id-1 div.sk-text-repr-fallback {display: none;}</style><div id=\"sk-container-id-1\" class=\"sk-top-container\"><div class=\"sk-text-repr-fallback\"><pre>GridSearchCV(cv=5,\n",
       "             estimator=XGBRegressor(base_score=None, booster=None,\n",
       "                                    callbacks=None, colsample_bylevel=None,\n",
       "                                    colsample_bynode=None,\n",
       "                                    colsample_bytree=None,\n",
       "                                    early_stopping_rounds=None,\n",
       "                                    enable_categorical=False, eval_metric=None,\n",
       "                                    feature_types=None, gamma=None, gpu_id=None,\n",
       "                                    grow_policy=None, importance_type=None,\n",
       "                                    interaction_constraints=None,\n",
       "                                    learning_rate=None, m...\n",
       "                                    min_child_weight=None, missing=nan,\n",
       "                                    monotone_constraints=None, n_estimators=100,\n",
       "                                    n_jobs=None, num_parallel_tree=None,\n",
       "                                    predictor=None, random_state=None, ...),\n",
       "             param_grid={&#x27;gamma&#x27;: [0, 0.25, 1.0],\n",
       "                         &#x27;learning_rate&#x27;: [0.1, 0.01, 0.05],\n",
       "                         &#x27;max_depth&#x27;: [3, 4, 5],\n",
       "                         &#x27;min_child_weight&#x27;: [1.5, 6, 10],\n",
       "                         &#x27;reg_alpha&#x27;: [0, 1.0, 10.0],\n",
       "                         &#x27;reg_lambda&#x27;: [0, 1.0, 10.0],\n",
       "                         &#x27;subsample&#x27;: [0.6, 0.9]},\n",
       "             scoring=&#x27;neg_mean_squared_error&#x27;, verbose=1)</pre><b>In a Jupyter environment, please rerun this cell to show the HTML representation or trust the notebook. <br />On GitHub, the HTML representation is unable to render, please try loading this page with nbviewer.org.</b></div><div class=\"sk-container\" hidden><div class=\"sk-item sk-dashed-wrapped\"><div class=\"sk-label-container\"><div class=\"sk-label sk-toggleable\"><input class=\"sk-toggleable__control sk-hidden--visually\" id=\"sk-estimator-id-1\" type=\"checkbox\" ><label for=\"sk-estimator-id-1\" class=\"sk-toggleable__label sk-toggleable__label-arrow\">GridSearchCV</label><div class=\"sk-toggleable__content\"><pre>GridSearchCV(cv=5,\n",
       "             estimator=XGBRegressor(base_score=None, booster=None,\n",
       "                                    callbacks=None, colsample_bylevel=None,\n",
       "                                    colsample_bynode=None,\n",
       "                                    colsample_bytree=None,\n",
       "                                    early_stopping_rounds=None,\n",
       "                                    enable_categorical=False, eval_metric=None,\n",
       "                                    feature_types=None, gamma=None, gpu_id=None,\n",
       "                                    grow_policy=None, importance_type=None,\n",
       "                                    interaction_constraints=None,\n",
       "                                    learning_rate=None, m...\n",
       "                                    min_child_weight=None, missing=nan,\n",
       "                                    monotone_constraints=None, n_estimators=100,\n",
       "                                    n_jobs=None, num_parallel_tree=None,\n",
       "                                    predictor=None, random_state=None, ...),\n",
       "             param_grid={&#x27;gamma&#x27;: [0, 0.25, 1.0],\n",
       "                         &#x27;learning_rate&#x27;: [0.1, 0.01, 0.05],\n",
       "                         &#x27;max_depth&#x27;: [3, 4, 5],\n",
       "                         &#x27;min_child_weight&#x27;: [1.5, 6, 10],\n",
       "                         &#x27;reg_alpha&#x27;: [0, 1.0, 10.0],\n",
       "                         &#x27;reg_lambda&#x27;: [0, 1.0, 10.0],\n",
       "                         &#x27;subsample&#x27;: [0.6, 0.9]},\n",
       "             scoring=&#x27;neg_mean_squared_error&#x27;, verbose=1)</pre></div></div></div><div class=\"sk-parallel\"><div class=\"sk-parallel-item\"><div class=\"sk-item\"><div class=\"sk-label-container\"><div class=\"sk-label sk-toggleable\"><input class=\"sk-toggleable__control sk-hidden--visually\" id=\"sk-estimator-id-2\" type=\"checkbox\" ><label for=\"sk-estimator-id-2\" class=\"sk-toggleable__label sk-toggleable__label-arrow\">estimator: XGBRegressor</label><div class=\"sk-toggleable__content\"><pre>XGBRegressor(base_score=None, booster=None, callbacks=None,\n",
       "             colsample_bylevel=None, colsample_bynode=None,\n",
       "             colsample_bytree=None, early_stopping_rounds=None,\n",
       "             enable_categorical=False, eval_metric=None, feature_types=None,\n",
       "             gamma=None, gpu_id=None, grow_policy=None, importance_type=None,\n",
       "             interaction_constraints=None, learning_rate=None, max_bin=None,\n",
       "             max_cat_threshold=None, max_cat_to_onehot=None,\n",
       "             max_delta_step=None, max_depth=None, max_leaves=None,\n",
       "             min_child_weight=None, missing=nan, monotone_constraints=None,\n",
       "             n_estimators=100, n_jobs=None, num_parallel_tree=None,\n",
       "             predictor=None, random_state=None, ...)</pre></div></div></div><div class=\"sk-serial\"><div class=\"sk-item\"><div class=\"sk-estimator sk-toggleable\"><input class=\"sk-toggleable__control sk-hidden--visually\" id=\"sk-estimator-id-3\" type=\"checkbox\" ><label for=\"sk-estimator-id-3\" class=\"sk-toggleable__label sk-toggleable__label-arrow\">XGBRegressor</label><div class=\"sk-toggleable__content\"><pre>XGBRegressor(base_score=None, booster=None, callbacks=None,\n",
       "             colsample_bylevel=None, colsample_bynode=None,\n",
       "             colsample_bytree=None, early_stopping_rounds=None,\n",
       "             enable_categorical=False, eval_metric=None, feature_types=None,\n",
       "             gamma=None, gpu_id=None, grow_policy=None, importance_type=None,\n",
       "             interaction_constraints=None, learning_rate=None, max_bin=None,\n",
       "             max_cat_threshold=None, max_cat_to_onehot=None,\n",
       "             max_delta_step=None, max_depth=None, max_leaves=None,\n",
       "             min_child_weight=None, missing=nan, monotone_constraints=None,\n",
       "             n_estimators=100, n_jobs=None, num_parallel_tree=None,\n",
       "             predictor=None, random_state=None, ...)</pre></div></div></div></div></div></div></div></div></div></div>"
      ],
      "text/plain": [
       "GridSearchCV(cv=5,\n",
       "             estimator=XGBRegressor(base_score=None, booster=None,\n",
       "                                    callbacks=None, colsample_bylevel=None,\n",
       "                                    colsample_bynode=None,\n",
       "                                    colsample_bytree=None,\n",
       "                                    early_stopping_rounds=None,\n",
       "                                    enable_categorical=False, eval_metric=None,\n",
       "                                    feature_types=None, gamma=None, gpu_id=None,\n",
       "                                    grow_policy=None, importance_type=None,\n",
       "                                    interaction_constraints=None,\n",
       "                                    learning_rate=None, m...\n",
       "                                    min_child_weight=None, missing=nan,\n",
       "                                    monotone_constraints=None, n_estimators=100,\n",
       "                                    n_jobs=None, num_parallel_tree=None,\n",
       "                                    predictor=None, random_state=None, ...),\n",
       "             param_grid={'gamma': [0, 0.25, 1.0],\n",
       "                         'learning_rate': [0.1, 0.01, 0.05],\n",
       "                         'max_depth': [3, 4, 5],\n",
       "                         'min_child_weight': [1.5, 6, 10],\n",
       "                         'reg_alpha': [0, 1.0, 10.0],\n",
       "                         'reg_lambda': [0, 1.0, 10.0],\n",
       "                         'subsample': [0.6, 0.9]},\n",
       "             scoring='neg_mean_squared_error', verbose=1)"
      ]
     },
     "execution_count": 8,
     "metadata": {},
     "output_type": "execute_result"
    }
   ],
   "source": [
    "%%time\n",
    "# Set hyperparametesr\n",
    "hyper_params = {\n",
    "    'max_depth': [3, 4, 5],\n",
    "    'learning_rate': [0.1, 0.01, 0.05],\n",
    "    'gamma': [0, 0.25, 1.0],\n",
    "    'reg_alpha': [0, 1.0, 10.0],\n",
    "    'reg_lambda': [0, 1.0, 10.0],\n",
    "    'min_child_weight': [1.5, 6, 10],\n",
    "    'subsample':[0.6, 0.90]  \n",
    "}\n",
    "\n",
    "xgbr_model = xgboost.XGBRegressor(objective='reg:squarederror',\n",
    "                            seed=42)\n",
    "\n",
    "# Instantiate GridSearchCV\n",
    "xgbr_gridsearch = GridSearchCV(xgbr_model,\n",
    "                              hyper_params,\n",
    "                              cv=5,\n",
    "                              verbose=1,\n",
    "                              scoring='neg_mean_squared_error'\n",
    "                              )\n",
    "\n",
    "# Fit train data\n",
    "xgbr_gridsearch.fit(X_train, y_train);"
   ]
  },
  {
   "cell_type": "code",
   "execution_count": 12,
   "id": "287bdeaf-cd55-431b-a315-81edcdc4cf61",
   "metadata": {},
   "outputs": [
    {
     "data": {
      "text/plain": [
       "{'gamma': 0,\n",
       " 'learning_rate': 0.1,\n",
       " 'max_depth': 3,\n",
       " 'min_child_weight': 1.5,\n",
       " 'reg_alpha': 0,\n",
       " 'reg_lambda': 0,\n",
       " 'subsample': 0.9}"
      ]
     },
     "execution_count": 12,
     "metadata": {},
     "output_type": "execute_result"
    }
   ],
   "source": [
    "xgbr_gridsearch.best_params_"
   ]
  },
  {
   "cell_type": "code",
   "execution_count": 11,
   "id": "0d4f6d0a-5e75-4159-a8f7-8b9804763b8d",
   "metadata": {},
   "outputs": [
    {
     "name": "stdout",
     "output_type": "stream",
     "text": [
      "-----------Train Data-----------\n",
      "MAE: 1392102.3978960395\n",
      "MSE: 4051813084980.057\n",
      "RMSE: 2012911.5939305574\n",
      "R2: 0.9888593018350843\n",
      "Adj_R2: 0.9882168500405151\n",
      "Cross Validation: None\n",
      "Cross Validation Mean: None\n",
      "--------------------------------\n",
      "-----------Test Data-----------\n",
      "MAE: 2634339.173267327\n",
      "MSE: 23593161263846.97\n",
      "RMSE: 4857279.2038184265\n",
      "R2: 0.891512435632122\n",
      "Adj_R2: 0.8852562720250622\n",
      "--------------------------------\n"
     ]
    }
   ],
   "source": [
    "reg_metrics(xgbr_gridsearch, cross_val=False)"
   ]
  },
  {
   "cell_type": "markdown",
   "id": "26dcf8ee-32d9-418c-bf61-44d99d663006",
   "metadata": {},
   "source": [
    "## 5.3 Neural Network Based Models\n",
    "---"
   ]
  },
  {
   "cell_type": "code",
   "execution_count": 363,
   "id": "84db61e4-634f-43f6-96ff-07839ef7573c",
   "metadata": {},
   "outputs": [],
   "source": [
    "# Scale data\n",
    "sc = StandardScaler()\n",
    "\n",
    "X_train_sc = sc.fit_transform(X_train)\n",
    "X_test_sc = sc.transform(X_test)"
   ]
  },
  {
   "cell_type": "code",
   "execution_count": 367,
   "id": "2e2de6df-61ff-4060-a3a3-8bb3ebbdc907",
   "metadata": {},
   "outputs": [],
   "source": [
    "%%time\n",
    "# Insert model here...\n",
    "model = Sequential()\n",
    "\n",
    "# Hidden layer\n",
    "model.add(Dense(16, activation='relu', input_shape=(X_train.shape[1],)))\n",
    "\n",
    "model.add(Dense(32, activation='relu'))\n",
    "\n",
    "model.add(Dense(32, activation='relu'))\n",
    "\n",
    "model.add(Dense(16, activation='relu'))\n",
    "\n",
    "# Output layer\n",
    "model.add(Dense(1, activation=None))\n",
    "\n",
    "# Compile model (loss fuction optimzing)\n",
    "model.compile(optimizer='adam',\n",
    "              loss='mean_squared_error')\n",
    "\n",
    "res = model.fit(X_train_sc, y_train,\n",
    "                epochs=500,\n",
    "                validation_data=(X_test_sc, y_test),\n",
    "                verbose=0\n",
    "         )"
   ]
  },
  {
   "cell_type": "code",
   "execution_count": 368,
   "id": "b6e82177-73a0-48b0-8c98-0391bbdff108",
   "metadata": {},
   "outputs": [
    {
     "name": "stdout",
     "output_type": "stream",
     "text": [
      "329/329 [==============================] - 0s 1ms/step\n",
      "110/110 [==============================] - 0s 1ms/step\n",
      "-----------Train Data-----------\n",
      "MAE: 1885791.2721873813\n",
      "MSE: 22597864193059.445\n",
      "RMSE: 4753721.089111081\n",
      "R2: 0.9572963657264205\n",
      "Adj_R2: 0.9570945440391985\n",
      "Cross Validation: None\n",
      "Cross Validation Mean: None\n",
      "--------------------------------\n",
      "-----------Test Data-----------\n",
      "MAE: 2127788.258516249\n",
      "MSE: 32793784910916.35\n",
      "RMSE: 5726585.798791139\n",
      "R2: 0.9503952974541117\n",
      "Adj_R2: 0.9501608606214565\n",
      "--------------------------------\n"
     ]
    }
   ],
   "source": [
    "reg_metrics(model, X_train=X_train_sc, X_test=X_test_sc, cross_val=False)"
   ]
  },
  {
   "cell_type": "code",
   "execution_count": 369,
   "id": "499b0c86-8a5b-43be-9f7a-8876d1e120df",
   "metadata": {},
   "outputs": [
    {
     "data": {
      "image/png": "[encoded data removed]",
      "text/plain": [
       "<Figure size 432x288 with 1 Axes>"
      ]
     },
     "metadata": {
      "needs_background": "light"
     },
     "output_type": "display_data"
    }
   ],
   "source": [
    "plt.plot(res.history['loss'], label='Train Loss')\n",
    "plt.plot(res.history['val_loss'], label='Validation Loss')\n",
    "plt.legend();"
   ]
  },
  {
   "cell_type": "code",
   "execution_count": 370,
   "id": "91c220bd-9821-42d4-8c22-b78d88a7d024",
   "metadata": {},
   "outputs": [],
   "source": [
    "res_2 = model.fit(X_train_sc, y_train,\n",
    "                epochs=100,\n",
    "                validation_data=(X_test_sc, y_test),\n",
    "                verbose=0\n",
    "         )"
   ]
  },
  {
   "cell_type": "code",
   "execution_count": 372,
   "id": "9b9f28a0-8be5-482d-af4c-dfe2ca31ea6d",
   "metadata": {},
   "outputs": [
    {
     "data": {
      "image/png": "[encoded data removed]",
      "text/plain": [
       "<Figure size 432x288 with 1 Axes>"
      ]
     },
     "metadata": {
      "needs_background": "light"
     },
     "output_type": "display_data"
    }
   ],
   "source": [
    "plt.plot(res_2.history['loss'], label='Train Loss')\n",
    "plt.plot(res_2.history['val_loss'], label='Validation Loss')\n",
    "plt.legend();"
   ]
  },
  {
   "cell_type": "code",
   "execution_count": 373,
   "id": "53a827dd-9591-4429-a392-2a602c3c36b7",
   "metadata": {},
   "outputs": [
    {
     "name": "stdout",
     "output_type": "stream",
     "text": [
      "329/329 [==============================] - 0s 861us/step\n",
      "110/110 [==============================] - 0s 950us/step\n",
      "-----------Train Data-----------\n",
      "MAE: 1823650.353786583\n",
      "MSE: 20980477997718.434\n",
      "RMSE: 4580445.174622051\n",
      "R2: 0.9603527726494336\n",
      "Adj_R2: 0.960165395849925\n",
      "Cross Validation: None\n",
      "Cross Validation Mean: None\n",
      "--------------------------------\n",
      "-----------Test Data-----------\n",
      "MAE: 2062530.0586872862\n",
      "MSE: 31571993178796.67\n",
      "RMSE: 5618896.081864895\n",
      "R2: 0.9522434103087107\n",
      "Adj_R2: 0.9520177078440043\n",
      "--------------------------------\n"
     ]
    }
   ],
   "source": [
    "reg_metrics(model, X_train=X_train_sc, X_test=X_test_sc, cross_val=False)"
   ]
  },
  {
   "cell_type": "code",
   "execution_count": 374,
   "id": "c338c241-3996-41ba-9fc6-36e06192a988",
   "metadata": {},
   "outputs": [
    {
     "data": {
      "text/html": [
       "<div>\n",
       "<style scoped>\n",
       "    .dataframe tbody tr th:only-of-type {\n",
       "        vertical-align: middle;\n",
       "    }\n",
       "\n",
       "    .dataframe tbody tr th {\n",
       "        vertical-align: top;\n",
       "    }\n",
       "\n",
       "    .dataframe thead th {\n",
       "        text-align: right;\n",
       "    }\n",
       "</style>\n",
       "<table border=\"1\" class=\"dataframe\">\n",
       "  <thead>\n",
       "    <tr style=\"text-align: right;\">\n",
       "      <th></th>\n",
       "      <th>asking_price</th>\n",
       "      <th>asking_price_change_quater</th>\n",
       "      <th>asking_price_change_year</th>\n",
       "      <th>gross_rental_yield</th>\n",
       "      <th>rental_price_change_year</th>\n",
       "      <th>bedrooms</th>\n",
       "      <th>bathrooms</th>\n",
       "      <th>internal_area</th>\n",
       "      <th>floors</th>\n",
       "      <th>towers</th>\n",
       "      <th>...</th>\n",
       "      <th>district_Rat Burana</th>\n",
       "      <th>district_Ratchathewi</th>\n",
       "      <th>district_Saphan Sung</th>\n",
       "      <th>district_Sathon</th>\n",
       "      <th>district_Suan Luang</th>\n",
       "      <th>district_Taling Chan</th>\n",
       "      <th>district_Thon Buri</th>\n",
       "      <th>district_Wang Thonglang</th>\n",
       "      <th>district_Watthana</th>\n",
       "      <th>district_Yan Nawa</th>\n",
       "    </tr>\n",
       "  </thead>\n",
       "  <tbody>\n",
       "    <tr>\n",
       "      <th>407</th>\n",
       "      <td>44759.00</td>\n",
       "      <td>0.00</td>\n",
       "      <td>-8.25</td>\n",
       "      <td>6.11</td>\n",
       "      <td>-5.79</td>\n",
       "      <td>2.00</td>\n",
       "      <td>2.00</td>\n",
       "      <td>114.00</td>\n",
       "      <td>19.00</td>\n",
       "      <td>2.00</td>\n",
       "      <td>...</td>\n",
       "      <td>0.00</td>\n",
       "      <td>0.00</td>\n",
       "      <td>0.00</td>\n",
       "      <td>0.00</td>\n",
       "      <td>0.00</td>\n",
       "      <td>0.00</td>\n",
       "      <td>0.00</td>\n",
       "      <td>0.00</td>\n",
       "      <td>0.00</td>\n",
       "      <td>0.00</td>\n",
       "    </tr>\n",
       "    <tr>\n",
       "      <th>4489</th>\n",
       "      <td>100988.00</td>\n",
       "      <td>0.00</td>\n",
       "      <td>2.07</td>\n",
       "      <td>4.09</td>\n",
       "      <td>-8.27</td>\n",
       "      <td>1.00</td>\n",
       "      <td>1.00</td>\n",
       "      <td>35.00</td>\n",
       "      <td>23.00</td>\n",
       "      <td>1.00</td>\n",
       "      <td>...</td>\n",
       "      <td>0.00</td>\n",
       "      <td>0.00</td>\n",
       "      <td>0.00</td>\n",
       "      <td>0.00</td>\n",
       "      <td>0.00</td>\n",
       "      <td>0.00</td>\n",
       "      <td>0.00</td>\n",
       "      <td>0.00</td>\n",
       "      <td>0.00</td>\n",
       "      <td>0.00</td>\n",
       "    </tr>\n",
       "    <tr>\n",
       "      <th>8183</th>\n",
       "      <td>98839.00</td>\n",
       "      <td>0.00</td>\n",
       "      <td>-0.90</td>\n",
       "      <td>4.02</td>\n",
       "      <td>-17.87</td>\n",
       "      <td>2.00</td>\n",
       "      <td>1.00</td>\n",
       "      <td>85.22</td>\n",
       "      <td>21.00</td>\n",
       "      <td>1.00</td>\n",
       "      <td>...</td>\n",
       "      <td>0.00</td>\n",
       "      <td>0.00</td>\n",
       "      <td>0.00</td>\n",
       "      <td>0.00</td>\n",
       "      <td>0.00</td>\n",
       "      <td>0.00</td>\n",
       "      <td>0.00</td>\n",
       "      <td>0.00</td>\n",
       "      <td>0.00</td>\n",
       "      <td>0.00</td>\n",
       "    </tr>\n",
       "    <tr>\n",
       "      <th>11547</th>\n",
       "      <td>193382.00</td>\n",
       "      <td>0.00</td>\n",
       "      <td>-3.50</td>\n",
       "      <td>3.93</td>\n",
       "      <td>7.09</td>\n",
       "      <td>1.00</td>\n",
       "      <td>1.00</td>\n",
       "      <td>51.00</td>\n",
       "      <td>40.00</td>\n",
       "      <td>1.00</td>\n",
       "      <td>...</td>\n",
       "      <td>0.00</td>\n",
       "      <td>0.00</td>\n",
       "      <td>0.00</td>\n",
       "      <td>1.00</td>\n",
       "      <td>0.00</td>\n",
       "      <td>0.00</td>\n",
       "      <td>0.00</td>\n",
       "      <td>0.00</td>\n",
       "      <td>0.00</td>\n",
       "      <td>0.00</td>\n",
       "    </tr>\n",
       "    <tr>\n",
       "      <th>13040</th>\n",
       "      <td>109803.00</td>\n",
       "      <td>0.00</td>\n",
       "      <td>1.77</td>\n",
       "      <td>4.61</td>\n",
       "      <td>16.25</td>\n",
       "      <td>3.00</td>\n",
       "      <td>2.00</td>\n",
       "      <td>147.00</td>\n",
       "      <td>23.00</td>\n",
       "      <td>1.00</td>\n",
       "      <td>...</td>\n",
       "      <td>0.00</td>\n",
       "      <td>0.00</td>\n",
       "      <td>0.00</td>\n",
       "      <td>0.00</td>\n",
       "      <td>0.00</td>\n",
       "      <td>0.00</td>\n",
       "      <td>0.00</td>\n",
       "      <td>0.00</td>\n",
       "      <td>1.00</td>\n",
       "      <td>0.00</td>\n",
       "    </tr>\n",
       "    <tr>\n",
       "      <th>...</th>\n",
       "      <td>...</td>\n",
       "      <td>...</td>\n",
       "      <td>...</td>\n",
       "      <td>...</td>\n",
       "      <td>...</td>\n",
       "      <td>...</td>\n",
       "      <td>...</td>\n",
       "      <td>...</td>\n",
       "      <td>...</td>\n",
       "      <td>...</td>\n",
       "      <td>...</td>\n",
       "      <td>...</td>\n",
       "      <td>...</td>\n",
       "      <td>...</td>\n",
       "      <td>...</td>\n",
       "      <td>...</td>\n",
       "      <td>...</td>\n",
       "      <td>...</td>\n",
       "      <td>...</td>\n",
       "      <td>...</td>\n",
       "      <td>...</td>\n",
       "    </tr>\n",
       "    <tr>\n",
       "      <th>5191</th>\n",
       "      <td>108571.00</td>\n",
       "      <td>0.00</td>\n",
       "      <td>0.00</td>\n",
       "      <td>4.26</td>\n",
       "      <td>-1.28</td>\n",
       "      <td>2.00</td>\n",
       "      <td>2.00</td>\n",
       "      <td>57.68</td>\n",
       "      <td>24.00</td>\n",
       "      <td>1.00</td>\n",
       "      <td>...</td>\n",
       "      <td>0.00</td>\n",
       "      <td>0.00</td>\n",
       "      <td>0.00</td>\n",
       "      <td>0.00</td>\n",
       "      <td>0.00</td>\n",
       "      <td>0.00</td>\n",
       "      <td>0.00</td>\n",
       "      <td>0.00</td>\n",
       "      <td>0.00</td>\n",
       "      <td>0.00</td>\n",
       "    </tr>\n",
       "    <tr>\n",
       "      <th>13418</th>\n",
       "      <td>100703.00</td>\n",
       "      <td>0.00</td>\n",
       "      <td>2.97</td>\n",
       "      <td>3.67</td>\n",
       "      <td>-3.14</td>\n",
       "      <td>2.00</td>\n",
       "      <td>2.00</td>\n",
       "      <td>89.00</td>\n",
       "      <td>47.00</td>\n",
       "      <td>1.00</td>\n",
       "      <td>...</td>\n",
       "      <td>0.00</td>\n",
       "      <td>0.00</td>\n",
       "      <td>0.00</td>\n",
       "      <td>0.00</td>\n",
       "      <td>0.00</td>\n",
       "      <td>0.00</td>\n",
       "      <td>0.00</td>\n",
       "      <td>0.00</td>\n",
       "      <td>0.00</td>\n",
       "      <td>1.00</td>\n",
       "    </tr>\n",
       "    <tr>\n",
       "      <th>5390</th>\n",
       "      <td>98333.00</td>\n",
       "      <td>5.29</td>\n",
       "      <td>-10.48</td>\n",
       "      <td>5.44</td>\n",
       "      <td>3.72</td>\n",
       "      <td>1.00</td>\n",
       "      <td>1.00</td>\n",
       "      <td>39.72</td>\n",
       "      <td>8.00</td>\n",
       "      <td>4.00</td>\n",
       "      <td>...</td>\n",
       "      <td>0.00</td>\n",
       "      <td>0.00</td>\n",
       "      <td>0.00</td>\n",
       "      <td>0.00</td>\n",
       "      <td>0.00</td>\n",
       "      <td>0.00</td>\n",
       "      <td>0.00</td>\n",
       "      <td>0.00</td>\n",
       "      <td>0.00</td>\n",
       "      <td>0.00</td>\n",
       "    </tr>\n",
       "    <tr>\n",
       "      <th>860</th>\n",
       "      <td>54839.00</td>\n",
       "      <td>8.51</td>\n",
       "      <td>75.86</td>\n",
       "      <td>4.95</td>\n",
       "      <td>3.67</td>\n",
       "      <td>1.00</td>\n",
       "      <td>1.00</td>\n",
       "      <td>32.00</td>\n",
       "      <td>14.00</td>\n",
       "      <td>2.00</td>\n",
       "      <td>...</td>\n",
       "      <td>0.00</td>\n",
       "      <td>0.00</td>\n",
       "      <td>0.00</td>\n",
       "      <td>0.00</td>\n",
       "      <td>0.00</td>\n",
       "      <td>0.00</td>\n",
       "      <td>0.00</td>\n",
       "      <td>0.00</td>\n",
       "      <td>0.00</td>\n",
       "      <td>0.00</td>\n",
       "    </tr>\n",
       "    <tr>\n",
       "      <th>7270</th>\n",
       "      <td>54974.00</td>\n",
       "      <td>0.00</td>\n",
       "      <td>8.00</td>\n",
       "      <td>5.13</td>\n",
       "      <td>3.98</td>\n",
       "      <td>1.00</td>\n",
       "      <td>1.00</td>\n",
       "      <td>29.00</td>\n",
       "      <td>8.00</td>\n",
       "      <td>3.00</td>\n",
       "      <td>...</td>\n",
       "      <td>0.00</td>\n",
       "      <td>0.00</td>\n",
       "      <td>0.00</td>\n",
       "      <td>0.00</td>\n",
       "      <td>0.00</td>\n",
       "      <td>0.00</td>\n",
       "      <td>0.00</td>\n",
       "      <td>0.00</td>\n",
       "      <td>0.00</td>\n",
       "      <td>0.00</td>\n",
       "    </tr>\n",
       "  </tbody>\n",
       "</table>\n",
       "<p>10524 rows × 66 columns</p>\n",
       "</div>"
      ],
      "text/plain": [
       "       asking_price  asking_price_change_quater  asking_price_change_year  \\\n",
       "407        44759.00                        0.00                     -8.25   \n",
       "4489      100988.00                        0.00                      2.07   \n",
       "8183       98839.00                        0.00                     -0.90   \n",
       "11547     193382.00                        0.00                     -3.50   \n",
       "13040     109803.00                        0.00                      1.77   \n",
       "...             ...                         ...                       ...   \n",
       "5191      108571.00                        0.00                      0.00   \n",
       "13418     100703.00                        0.00                      2.97   \n",
       "5390       98333.00                        5.29                    -10.48   \n",
       "860        54839.00                        8.51                     75.86   \n",
       "7270       54974.00                        0.00                      8.00   \n",
       "\n",
       "       gross_rental_yield  rental_price_change_year  bedrooms  bathrooms  \\\n",
       "407                  6.11                     -5.79      2.00       2.00   \n",
       "4489                 4.09                     -8.27      1.00       1.00   \n",
       "8183                 4.02                    -17.87      2.00       1.00   \n",
       "11547                3.93                      7.09      1.00       1.00   \n",
       "13040                4.61                     16.25      3.00       2.00   \n",
       "...                   ...                       ...       ...        ...   \n",
       "5191                 4.26                     -1.28      2.00       2.00   \n",
       "13418                3.67                     -3.14      2.00       2.00   \n",
       "5390                 5.44                      3.72      1.00       1.00   \n",
       "860                  4.95                      3.67      1.00       1.00   \n",
       "7270                 5.13                      3.98      1.00       1.00   \n",
       "\n",
       "       internal_area  floors  towers  ...  district_Rat Burana  \\\n",
       "407           114.00   19.00    2.00  ...                 0.00   \n",
       "4489           35.00   23.00    1.00  ...                 0.00   \n",
       "8183           85.22   21.00    1.00  ...                 0.00   \n",
       "11547          51.00   40.00    1.00  ...                 0.00   \n",
       "13040         147.00   23.00    1.00  ...                 0.00   \n",
       "...              ...     ...     ...  ...                  ...   \n",
       "5191           57.68   24.00    1.00  ...                 0.00   \n",
       "13418          89.00   47.00    1.00  ...                 0.00   \n",
       "5390           39.72    8.00    4.00  ...                 0.00   \n",
       "860            32.00   14.00    2.00  ...                 0.00   \n",
       "7270           29.00    8.00    3.00  ...                 0.00   \n",
       "\n",
       "       district_Ratchathewi  district_Saphan Sung  district_Sathon  \\\n",
       "407                    0.00                  0.00             0.00   \n",
       "4489                   0.00                  0.00             0.00   \n",
       "8183                   0.00                  0.00             0.00   \n",
       "11547                  0.00                  0.00             1.00   \n",
       "13040                  0.00                  0.00             0.00   \n",
       "...                     ...                   ...              ...   \n",
       "5191                   0.00                  0.00             0.00   \n",
       "13418                  0.00                  0.00             0.00   \n",
       "5390                   0.00                  0.00             0.00   \n",
       "860                    0.00                  0.00             0.00   \n",
       "7270                   0.00                  0.00             0.00   \n",
       "\n",
       "       district_Suan Luang  district_Taling Chan  district_Thon Buri  \\\n",
       "407                   0.00                  0.00                0.00   \n",
       "4489                  0.00                  0.00                0.00   \n",
       "8183                  0.00                  0.00                0.00   \n",
       "11547                 0.00                  0.00                0.00   \n",
       "13040                 0.00                  0.00                0.00   \n",
       "...                    ...                   ...                 ...   \n",
       "5191                  0.00                  0.00                0.00   \n",
       "13418                 0.00                  0.00                0.00   \n",
       "5390                  0.00                  0.00                0.00   \n",
       "860                   0.00                  0.00                0.00   \n",
       "7270                  0.00                  0.00                0.00   \n",
       "\n",
       "       district_Wang Thonglang  district_Watthana  district_Yan Nawa  \n",
       "407                       0.00               0.00               0.00  \n",
       "4489                      0.00               0.00               0.00  \n",
       "8183                      0.00               0.00               0.00  \n",
       "11547                     0.00               0.00               0.00  \n",
       "13040                     0.00               1.00               0.00  \n",
       "...                        ...                ...                ...  \n",
       "5191                      0.00               0.00               0.00  \n",
       "13418                     0.00               0.00               1.00  \n",
       "5390                      0.00               0.00               0.00  \n",
       "860                       0.00               0.00               0.00  \n",
       "7270                      0.00               0.00               0.00  \n",
       "\n",
       "[10524 rows x 66 columns]"
      ]
     },
     "execution_count": 374,
     "metadata": {},
     "output_type": "execute_result"
    }
   ],
   "source": [
    "X_train"
   ]
  },
  {
   "cell_type": "code",
   "execution_count": null,
   "id": "76ace127-d475-4dc3-8c3d-7a5ef6045cd5",
   "metadata": {},
   "outputs": [],
   "source": []
  },
  {
   "cell_type": "markdown",
   "id": "b65dcdbc-0bc2-48de-a8ec-bbb3eac15b9b",
   "metadata": {},
   "source": [
    "## 5.4 Final Model"
   ]
  },
  {
   "cell_type": "markdown",
   "id": "f60ebadf-bdb1-4bc9-aad9-265bd1bd385b",
   "metadata": {},
   "source": [
    "# 6. Additional Section\n",
    "---\n",
    "---"
   ]
  },
  {
   "cell_type": "code",
   "execution_count": null,
   "id": "3815032b-c6cd-455d-b8c5-5f4a7fe3c049",
   "metadata": {},
   "outputs": [],
   "source": []
  },
  {
   "cell_type": "markdown",
   "id": "5eda7050-8b74-4a83-8e5b-2e0b9ef01eb0",
   "metadata": {},
   "source": [
    "# 7. Summarization\n",
    "---\n",
    "---"
   ]
  },
  {
   "cell_type": "code",
   "execution_count": null,
   "id": "2c623c86-543a-4bf2-8449-1b8b3c89df27",
   "metadata": {},
   "outputs": [],
   "source": []
  },
  {
   "cell_type": "markdown",
   "id": "3359b81e-8c63-4429-b9b4-927140b6ad3e",
   "metadata": {},
   "source": [
    "## 7.2 Future Works\n",
    "\n",
    "This project's model and dataset do not captured element of design which is one of main factor that could make impact on condominium value. So the next project would capture it by using condominium images to predict condominium price as well."
   ]
  }
 ],
 "metadata": {
  "kernelspec": {
   "display_name": "Python 3 (ipykernel)",
   "language": "python",
   "name": "python3"
  },
  "language_info": {
   "codemirror_mode": {
    "name": "ipython",
    "version": 3
   },
   "file_extension": ".py",
   "mimetype": "text/x-python",
   "name": "python",
   "nbconvert_exporter": "python",
   "pygments_lexer": "ipython3",
   "version": "3.9.12"
  }
 },
 "nbformat": 4,
 "nbformat_minor": 5
}
