{
 "cells": [
  {
   "cell_type": "markdown",
   "id": "6b9b2222-8504-4f30-97db-0b3803688522",
   "metadata": {},
   "source": [
    "# 1. Introduction\n",
    "---\n",
    "---"
   ]
  },
  {
   "cell_type": "markdown",
   "id": "07613f1b-a685-4be2-9dd9-5c4f37040a3d",
   "metadata": {},
   "source": [
    "## 1.1 Problem Statement"
   ]
  },
  {
   "cell_type": "markdown",
   "id": "d6b2b020-0dc1-4441-af9e-b2f3bc2a3fd4",
   "metadata": {},
   "source": [
    "Property investment is one of large sector in Thailand....\n",
    "Bangkok condo market is comming back after Covid-19, people are looking for affordable condominuim price.\n",
    "\n",
    "Opportunities:\n",
    "- Pandemic situation is getting better\n",
    "- Goverment policy that open for foreigners to invest in Thailand condominiums\n",
    "\n",
    "Good for:\n",
    "- My self, finding good condominium with reasonable price\n",
    "- Investors, to find underpriced condominiums\n",
    "- Developers, to consider which attributes could lead condominiums to be high value"
   ]
  },
  {
   "cell_type": "markdown",
   "id": "0a2f4a07-ff51-411e-ba93-43b3a7e09633",
   "metadata": {},
   "source": [
    "## 1.2 Data Dictionary"
   ]
  },
  {
   "cell_type": "code",
   "execution_count": null,
   "id": "923cf2e0-2650-4323-8535-a1c788de8d78",
   "metadata": {},
   "outputs": [],
   "source": []
  },
  {
   "cell_type": "markdown",
   "id": "dcd68b68-f172-414b-b928-081501773d25",
   "metadata": {},
   "source": [
    "# 2. Functions Preparation\n",
    "---\n",
    "---"
   ]
  },
  {
   "cell_type": "markdown",
   "id": "4ca7b901-e58e-458a-a903-c3386829bf15",
   "metadata": {},
   "source": [
    "## 2.1 Libraries Importation"
   ]
  },
  {
   "cell_type": "code",
   "execution_count": 2,
   "id": "86b3ea0a-1232-496c-8897-c6de7d46c32a",
   "metadata": {},
   "outputs": [],
   "source": [
    "# Import libraries\n",
    "\n",
    "# General libraries\n",
    "import os\n",
    "import math\n",
    "import numpy as np\n",
    "import pandas as pd\n",
    "import matplotlib.pyplot as plt\n",
    "import seaborn as sns\n",
    "import missingno as msno\n",
    "\n",
    "# Preprocessing and evaluation\n",
    "from sklearn.preprocessing import OneHotEncoder\n",
    "from sklearn.preprocessing import StandardScaler\n",
    "from sklearn.model_selection import GridSearchCV, train_test_split, cross_val_score\n",
    "from sklearn import metrics\n",
    "\n",
    "# Model\n",
    "from sklearn.linear_model import LinearRegression\n",
    "from sklearn.ensemble import RandomForestRegressor\n",
    "from tensorflow.keras.models import Sequential\n",
    "from tensorflow.keras.layers import Dense\n",
    "from tensorflow import keras\n",
    "import xgboost\n",
    "\n"
   ]
  },
  {
   "cell_type": "markdown",
   "id": "a075ce05-8e75-4c80-8af5-12bd41fceeb7",
   "metadata": {},
   "source": [
    "## 2.2 In-notebook Functions Creation"
   ]
  },
  {
   "cell_type": "code",
   "execution_count": null,
   "id": "53d80f1a-d9cb-429d-9c26-f5ba9ea9779b",
   "metadata": {},
   "outputs": [],
   "source": []
  },
  {
   "cell_type": "markdown",
   "id": "5b3333f3-4b48-40be-b293-82471bf0850e",
   "metadata": {},
   "source": [
    "# 3. Data Preparation\n",
    "---\n",
    "---"
   ]
  },
  {
   "cell_type": "markdown",
   "id": "2ccee513-027a-4787-bb72-1b4168ac62cc",
   "metadata": {},
   "source": [
    "## 3.1 Data Consolidation"
   ]
  },
  {
   "cell_type": "code",
   "execution_count": 2,
   "id": "cfdaf5cc-a268-4e24-a8c9-b3d54f219133",
   "metadata": {},
   "outputs": [],
   "source": [
    "df = pd.DataFrame()\n",
    "\n",
    "# Set relative path for raw data folder\n",
    "relative_path = \".\\selenium\\scrape_data\"\n",
    "\n",
    "# Get file names in folder as a list\n",
    "file_names = os.listdir(relative_path)\n",
    "\n",
    "# Iterate raw csv files in folder\n",
    "for file_name in file_names:\n",
    "    try: \n",
    "        temp_df = pd.read_csv(f\"{relative_path}\\\\{file_name}\")\n",
    "        df = pd.concat([df, temp_df])\n",
    "    except:\n",
    "        # Print error file name\n",
    "        print(file_name)"
   ]
  },
  {
   "cell_type": "markdown",
   "id": "362939b8-213c-45d5-92e0-f6ab8df39398",
   "metadata": {},
   "source": [
    "## 3.2 Data Cleansing"
   ]
  },
  {
   "cell_type": "markdown",
   "id": "c4dff267-37ce-48ae-b5f3-da180647beec",
   "metadata": {},
   "source": [
    "### 3.2.1 Duplication Removal"
   ]
  },
  {
   "cell_type": "code",
   "execution_count": 3,
   "id": "cac5d5e4-1a3e-4a30-86ba-b060e21fe50c",
   "metadata": {},
   "outputs": [
    {
     "data": {
      "text/plain": [
       "(1020, 21)"
      ]
     },
     "execution_count": 3,
     "metadata": {},
     "output_type": "execute_result"
    }
   ],
   "source": [
    "# Check data shape\n",
    "# There are 1020 rows and 21 features from raw datas\n",
    "df.shape"
   ]
  },
  {
   "cell_type": "code",
   "execution_count": 4,
   "id": "ec637f04-7691-42f9-9a9d-84c636fc2235",
   "metadata": {},
   "outputs": [
    {
     "data": {
      "text/plain": [
       "8"
      ]
     },
     "execution_count": 4,
     "metadata": {},
     "output_type": "execute_result"
    }
   ],
   "source": [
    "# Check duplicate data\n",
    "# Dataset contains 8 duplicate rows, we can drop it.\n",
    "df.duplicated().sum()"
   ]
  },
  {
   "cell_type": "code",
   "execution_count": 5,
   "id": "ae481c7b-f769-4d6a-89fa-5c6740c2a8b9",
   "metadata": {},
   "outputs": [
    {
     "data": {
      "text/plain": [
       "(1012, 21)"
      ]
     },
     "execution_count": 5,
     "metadata": {},
     "output_type": "execute_result"
    }
   ],
   "source": [
    "# Drop duplicate rows and check result\n",
    "df.drop_duplicates(inplace=True)\n",
    "df.shape"
   ]
  },
  {
   "cell_type": "code",
   "execution_count": 6,
   "id": "654d9194-5319-4c63-8609-baf380e24bb9",
   "metadata": {},
   "outputs": [],
   "source": [
    "# Reset index after dropping duplicate rows\n",
    "df = df.reset_index(drop=True)"
   ]
  },
  {
   "cell_type": "code",
   "execution_count": 7,
   "id": "5eec9af4-c2eb-4812-99dc-5834b1c4fe12",
   "metadata": {},
   "outputs": [
    {
     "data": {
      "text/html": [
       "<div>\n",
       "<style scoped>\n",
       "    .dataframe tbody tr th:only-of-type {\n",
       "        vertical-align: middle;\n",
       "    }\n",
       "\n",
       "    .dataframe tbody tr th {\n",
       "        vertical-align: top;\n",
       "    }\n",
       "\n",
       "    .dataframe thead th {\n",
       "        text-align: right;\n",
       "    }\n",
       "</style>\n",
       "<table border=\"1\" class=\"dataframe\">\n",
       "  <thead>\n",
       "    <tr style=\"text-align: right;\">\n",
       "      <th></th>\n",
       "      <th>dev</th>\n",
       "      <th>address</th>\n",
       "      <th>district</th>\n",
       "      <th>sale_price</th>\n",
       "      <th>rent_price</th>\n",
       "      <th>internal_feature_keys</th>\n",
       "      <th>internal_feature_values</th>\n",
       "      <th>external_feature_keys</th>\n",
       "      <th>exteranal_feature_values</th>\n",
       "      <th>description</th>\n",
       "      <th>...</th>\n",
       "      <th>amenity_keys</th>\n",
       "      <th>amenity_values</th>\n",
       "      <th>neighbor_cats</th>\n",
       "      <th>neighbor_names</th>\n",
       "      <th>neighbor_distances</th>\n",
       "      <th>asking_price</th>\n",
       "      <th>asking_price_change_quater</th>\n",
       "      <th>asking_price_change_year</th>\n",
       "      <th>gross_rental_yield</th>\n",
       "      <th>rental_price_change_year</th>\n",
       "    </tr>\n",
       "  </thead>\n",
       "  <tbody>\n",
       "    <tr>\n",
       "      <th>0</th>\n",
       "      <td>H Sukhumvit 43</td>\n",
       "      <td>Soi Phrom Mit, Khlong Toei Nuea, Vadhana, Bang...</td>\n",
       "      <td>Watthana</td>\n",
       "      <td>12000000.0</td>\n",
       "      <td>57000.0</td>\n",
       "      <td>Bedrooms|Bathrooms|Internal area</td>\n",
       "      <td>2|2|59</td>\n",
       "      <td>Floors|Towers|Project Area|Year built</td>\n",
       "      <td>32|1|3,080 m2|2014</td>\n",
       "      <td>PropertyScout ID 954486\\nCheck all listing det...</td>\n",
       "      <td>...</td>\n",
       "      <td>Elevator|Parking|24-hours Security|CCTV|Swimmi...</td>\n",
       "      <td>True|True|True|True|True|True|True|False|False...</td>\n",
       "      <td>marker marker-bts|marker marker-bts|marker mar...</td>\n",
       "      <td>Phrom Phong|Thong Lo|Sukhumvit|Asok 4 Toll Pla...</td>\n",
       "      <td>830 m / 10 minutes by foot|1.5 km / 8 minutes ...</td>\n",
       "      <td>195,125</td>\n",
       "      <td>0.0</td>\n",
       "      <td>0.74</td>\n",
       "      <td>4.67</td>\n",
       "      <td>-6.06</td>\n",
       "    </tr>\n",
       "    <tr>\n",
       "      <th>1</th>\n",
       "      <td>A Space I.D. Asoke - Ratchada</td>\n",
       "      <td>Thanon Din Daeng, Din Daeng, Bangkok 10400</td>\n",
       "      <td>Ratchathewi</td>\n",
       "      <td>4639200.0</td>\n",
       "      <td>15000.0</td>\n",
       "      <td>Bedrooms|Bathrooms|Internal area</td>\n",
       "      <td>1|1|33</td>\n",
       "      <td>Floors|Towers|Year built</td>\n",
       "      <td>30|1|2016</td>\n",
       "      <td>PropertyScout ID 954280\\nCheck all listing det...</td>\n",
       "      <td>...</td>\n",
       "      <td>Elevator|Parking|24-hours Security|CCTV|Swimmi...</td>\n",
       "      <td>True|True|True|True|True|True|True|True|False|...</td>\n",
       "      <td>marker marker-mrt|marker marker-mrt|marker mar...</td>\n",
       "      <td>Phraram Kao 9|Phra Ram 9|Asok 2 Toll Plaza|Aso...</td>\n",
       "      <td>710 m / 9 minutes by foot|740 m / 9 minutes by...</td>\n",
       "      <td>126,979</td>\n",
       "      <td>0.0</td>\n",
       "      <td>11.06</td>\n",
       "      <td>4.16</td>\n",
       "      <td>4.51</td>\n",
       "    </tr>\n",
       "  </tbody>\n",
       "</table>\n",
       "<p>2 rows × 21 columns</p>\n",
       "</div>"
      ],
      "text/plain": [
       "                             dev  \\\n",
       "0                 H Sukhumvit 43   \n",
       "1  A Space I.D. Asoke - Ratchada   \n",
       "\n",
       "                                             address     district  sale_price  \\\n",
       "0  Soi Phrom Mit, Khlong Toei Nuea, Vadhana, Bang...     Watthana  12000000.0   \n",
       "1         Thanon Din Daeng, Din Daeng, Bangkok 10400  Ratchathewi   4639200.0   \n",
       "\n",
       "   rent_price             internal_feature_keys internal_feature_values  \\\n",
       "0     57000.0  Bedrooms|Bathrooms|Internal area                  2|2|59   \n",
       "1     15000.0  Bedrooms|Bathrooms|Internal area                  1|1|33   \n",
       "\n",
       "                   external_feature_keys exteranal_feature_values  \\\n",
       "0  Floors|Towers|Project Area|Year built       32|1|3,080 m2|2014   \n",
       "1               Floors|Towers|Year built                30|1|2016   \n",
       "\n",
       "                                         description  ...  \\\n",
       "0  PropertyScout ID 954486\\nCheck all listing det...  ...   \n",
       "1  PropertyScout ID 954280\\nCheck all listing det...  ...   \n",
       "\n",
       "                                        amenity_keys  \\\n",
       "0  Elevator|Parking|24-hours Security|CCTV|Swimmi...   \n",
       "1  Elevator|Parking|24-hours Security|CCTV|Swimmi...   \n",
       "\n",
       "                                      amenity_values  \\\n",
       "0  True|True|True|True|True|True|True|False|False...   \n",
       "1  True|True|True|True|True|True|True|True|False|...   \n",
       "\n",
       "                                       neighbor_cats  \\\n",
       "0  marker marker-bts|marker marker-bts|marker mar...   \n",
       "1  marker marker-mrt|marker marker-mrt|marker mar...   \n",
       "\n",
       "                                      neighbor_names  \\\n",
       "0  Phrom Phong|Thong Lo|Sukhumvit|Asok 4 Toll Pla...   \n",
       "1  Phraram Kao 9|Phra Ram 9|Asok 2 Toll Plaza|Aso...   \n",
       "\n",
       "                                  neighbor_distances asking_price  \\\n",
       "0  830 m / 10 minutes by foot|1.5 km / 8 minutes ...      195,125   \n",
       "1  710 m / 9 minutes by foot|740 m / 9 minutes by...      126,979   \n",
       "\n",
       "  asking_price_change_quater  asking_price_change_year  gross_rental_yield  \\\n",
       "0                        0.0                      0.74                4.67   \n",
       "1                        0.0                     11.06                4.16   \n",
       "\n",
       "   rental_price_change_year  \n",
       "0                     -6.06  \n",
       "1                      4.51  \n",
       "\n",
       "[2 rows x 21 columns]"
      ]
     },
     "execution_count": 7,
     "metadata": {},
     "output_type": "execute_result"
    }
   ],
   "source": [
    "# Check index head\n",
    "df.head(2)"
   ]
  },
  {
   "cell_type": "code",
   "execution_count": 8,
   "id": "e047a53b-9ba5-45c5-891a-7b0b477735e5",
   "metadata": {},
   "outputs": [
    {
     "data": {
      "text/html": [
       "<div>\n",
       "<style scoped>\n",
       "    .dataframe tbody tr th:only-of-type {\n",
       "        vertical-align: middle;\n",
       "    }\n",
       "\n",
       "    .dataframe tbody tr th {\n",
       "        vertical-align: top;\n",
       "    }\n",
       "\n",
       "    .dataframe thead th {\n",
       "        text-align: right;\n",
       "    }\n",
       "</style>\n",
       "<table border=\"1\" class=\"dataframe\">\n",
       "  <thead>\n",
       "    <tr style=\"text-align: right;\">\n",
       "      <th></th>\n",
       "      <th>dev</th>\n",
       "      <th>address</th>\n",
       "      <th>district</th>\n",
       "      <th>sale_price</th>\n",
       "      <th>rent_price</th>\n",
       "      <th>internal_feature_keys</th>\n",
       "      <th>internal_feature_values</th>\n",
       "      <th>external_feature_keys</th>\n",
       "      <th>exteranal_feature_values</th>\n",
       "      <th>description</th>\n",
       "      <th>...</th>\n",
       "      <th>amenity_keys</th>\n",
       "      <th>amenity_values</th>\n",
       "      <th>neighbor_cats</th>\n",
       "      <th>neighbor_names</th>\n",
       "      <th>neighbor_distances</th>\n",
       "      <th>asking_price</th>\n",
       "      <th>asking_price_change_quater</th>\n",
       "      <th>asking_price_change_year</th>\n",
       "      <th>gross_rental_yield</th>\n",
       "      <th>rental_price_change_year</th>\n",
       "    </tr>\n",
       "  </thead>\n",
       "  <tbody>\n",
       "    <tr>\n",
       "      <th>1010</th>\n",
       "      <td>Beverly 33</td>\n",
       "      <td>Soi Daeng Udom, Khlong Toei Nuea, Vadhana, Ban...</td>\n",
       "      <td>Watthana</td>\n",
       "      <td>5790000.0</td>\n",
       "      <td>NaN</td>\n",
       "      <td>Bedrooms|Bathrooms|Internal area</td>\n",
       "      <td>1|1|40</td>\n",
       "      <td>Floors|Towers|Project Area|Year built</td>\n",
       "      <td>8|1|1,232 m2|2012</td>\n",
       "      <td>This condo on Sukhumvit 33 for sale with 1 bed...</td>\n",
       "      <td>...</td>\n",
       "      <td>Elevator|Parking|24-hours Security|CCTV|Swimmi...</td>\n",
       "      <td>True|True|True|True|True|False|True|False|Fals...</td>\n",
       "      <td>marker marker-bts|marker marker-bts|marker mar...</td>\n",
       "      <td>Phrom Phong|Asok|Sukhumvit|Asok 3 Toll Plaza|A...</td>\n",
       "      <td>660 m / 8 minutes by foot|1.2 km / 9 minutes b...</td>\n",
       "      <td>163,696</td>\n",
       "      <td>0.0</td>\n",
       "      <td>7.34</td>\n",
       "      <td>4.65</td>\n",
       "      <td>33.68</td>\n",
       "    </tr>\n",
       "    <tr>\n",
       "      <th>1011</th>\n",
       "      <td>NaN</td>\n",
       "      <td>NaN</td>\n",
       "      <td>Watthana</td>\n",
       "      <td>7700000.0</td>\n",
       "      <td>NaN</td>\n",
       "      <td>Bedrooms|Bathrooms|Internal area</td>\n",
       "      <td>2|2|66.17</td>\n",
       "      <td>NaN</td>\n",
       "      <td>NaN</td>\n",
       "      <td>This 2-bedroom condo in Thonglor on a high flo...</td>\n",
       "      <td>...</td>\n",
       "      <td>NaN</td>\n",
       "      <td>NaN</td>\n",
       "      <td>NaN</td>\n",
       "      <td>NaN</td>\n",
       "      <td>NaN</td>\n",
       "      <td>NaN</td>\n",
       "      <td>NaN</td>\n",
       "      <td>NaN</td>\n",
       "      <td>NaN</td>\n",
       "      <td>NaN</td>\n",
       "    </tr>\n",
       "  </tbody>\n",
       "</table>\n",
       "<p>2 rows × 21 columns</p>\n",
       "</div>"
      ],
      "text/plain": [
       "             dev                                            address  district  \\\n",
       "1010  Beverly 33  Soi Daeng Udom, Khlong Toei Nuea, Vadhana, Ban...  Watthana   \n",
       "1011         NaN                                                NaN  Watthana   \n",
       "\n",
       "      sale_price  rent_price             internal_feature_keys  \\\n",
       "1010   5790000.0         NaN  Bedrooms|Bathrooms|Internal area   \n",
       "1011   7700000.0         NaN  Bedrooms|Bathrooms|Internal area   \n",
       "\n",
       "     internal_feature_values                  external_feature_keys  \\\n",
       "1010                  1|1|40  Floors|Towers|Project Area|Year built   \n",
       "1011               2|2|66.17                                    NaN   \n",
       "\n",
       "     exteranal_feature_values  \\\n",
       "1010        8|1|1,232 m2|2012   \n",
       "1011                      NaN   \n",
       "\n",
       "                                            description  ...  \\\n",
       "1010  This condo on Sukhumvit 33 for sale with 1 bed...  ...   \n",
       "1011  This 2-bedroom condo in Thonglor on a high flo...  ...   \n",
       "\n",
       "                                           amenity_keys  \\\n",
       "1010  Elevator|Parking|24-hours Security|CCTV|Swimmi...   \n",
       "1011                                                NaN   \n",
       "\n",
       "                                         amenity_values  \\\n",
       "1010  True|True|True|True|True|False|True|False|Fals...   \n",
       "1011                                                NaN   \n",
       "\n",
       "                                          neighbor_cats  \\\n",
       "1010  marker marker-bts|marker marker-bts|marker mar...   \n",
       "1011                                                NaN   \n",
       "\n",
       "                                         neighbor_names  \\\n",
       "1010  Phrom Phong|Asok|Sukhumvit|Asok 3 Toll Plaza|A...   \n",
       "1011                                                NaN   \n",
       "\n",
       "                                     neighbor_distances asking_price  \\\n",
       "1010  660 m / 8 minutes by foot|1.2 km / 9 minutes b...      163,696   \n",
       "1011                                                NaN          NaN   \n",
       "\n",
       "     asking_price_change_quater  asking_price_change_year  gross_rental_yield  \\\n",
       "1010                        0.0                      7.34                4.65   \n",
       "1011                        NaN                       NaN                 NaN   \n",
       "\n",
       "      rental_price_change_year  \n",
       "1010                     33.68  \n",
       "1011                       NaN  \n",
       "\n",
       "[2 rows x 21 columns]"
      ]
     },
     "execution_count": 8,
     "metadata": {},
     "output_type": "execute_result"
    }
   ],
   "source": [
    "# Check index tail\n",
    "df.tail(2)"
   ]
  },
  {
   "cell_type": "markdown",
   "id": "2f04e4af-9a3c-4a71-ab8c-58e6c3a50196",
   "metadata": {},
   "source": [
    "### 3.2.2 Features Preparation\n",
    "From scraping process, some features were collected as list of features due to uncertainty of the features occurrence that make .csv unable to store it in one column. \n",
    "<br>In-order-that, a list of features were joined by `|` to be a single string.\n",
    "\n",
    "For example, column `internal_feature_keys` and `internal_feature_values` contain information of `number of bedrooms`, `number of bathrooms`, and `internal area` together as\n",
    "<br>`bedrooms|bathrooms|internal area`.\n",
    "\n",
    "**Hence, this section is to split the joined features to be ready for analyzing.**"
   ]
  },
  {
   "cell_type": "code",
   "execution_count": 9,
   "id": "151795f5-8857-4290-8b41-289717bf2e02",
   "metadata": {},
   "outputs": [
    {
     "data": {
      "text/html": [
       "<div>\n",
       "<style scoped>\n",
       "    .dataframe tbody tr th:only-of-type {\n",
       "        vertical-align: middle;\n",
       "    }\n",
       "\n",
       "    .dataframe tbody tr th {\n",
       "        vertical-align: top;\n",
       "    }\n",
       "\n",
       "    .dataframe thead th {\n",
       "        text-align: right;\n",
       "    }\n",
       "</style>\n",
       "<table border=\"1\" class=\"dataframe\">\n",
       "  <thead>\n",
       "    <tr style=\"text-align: right;\">\n",
       "      <th></th>\n",
       "      <th>dev</th>\n",
       "      <th>address</th>\n",
       "      <th>district</th>\n",
       "      <th>sale_price</th>\n",
       "      <th>rent_price</th>\n",
       "      <th>internal_feature_keys</th>\n",
       "      <th>internal_feature_values</th>\n",
       "      <th>external_feature_keys</th>\n",
       "      <th>exteranal_feature_values</th>\n",
       "      <th>description</th>\n",
       "      <th>...</th>\n",
       "      <th>amenity_keys</th>\n",
       "      <th>amenity_values</th>\n",
       "      <th>neighbor_cats</th>\n",
       "      <th>neighbor_names</th>\n",
       "      <th>neighbor_distances</th>\n",
       "      <th>asking_price</th>\n",
       "      <th>asking_price_change_quater</th>\n",
       "      <th>asking_price_change_year</th>\n",
       "      <th>gross_rental_yield</th>\n",
       "      <th>rental_price_change_year</th>\n",
       "    </tr>\n",
       "  </thead>\n",
       "  <tbody>\n",
       "    <tr>\n",
       "      <th>0</th>\n",
       "      <td>H Sukhumvit 43</td>\n",
       "      <td>Soi Phrom Mit, Khlong Toei Nuea, Vadhana, Bang...</td>\n",
       "      <td>Watthana</td>\n",
       "      <td>12000000.0</td>\n",
       "      <td>57000.0</td>\n",
       "      <td>Bedrooms|Bathrooms|Internal area</td>\n",
       "      <td>2|2|59</td>\n",
       "      <td>Floors|Towers|Project Area|Year built</td>\n",
       "      <td>32|1|3,080 m2|2014</td>\n",
       "      <td>PropertyScout ID 954486\\nCheck all listing det...</td>\n",
       "      <td>...</td>\n",
       "      <td>Elevator|Parking|24-hours Security|CCTV|Swimmi...</td>\n",
       "      <td>True|True|True|True|True|True|True|False|False...</td>\n",
       "      <td>marker marker-bts|marker marker-bts|marker mar...</td>\n",
       "      <td>Phrom Phong|Thong Lo|Sukhumvit|Asok 4 Toll Pla...</td>\n",
       "      <td>830 m / 10 minutes by foot|1.5 km / 8 minutes ...</td>\n",
       "      <td>195,125</td>\n",
       "      <td>0.0</td>\n",
       "      <td>0.74</td>\n",
       "      <td>4.67</td>\n",
       "      <td>-6.06</td>\n",
       "    </tr>\n",
       "    <tr>\n",
       "      <th>1</th>\n",
       "      <td>A Space I.D. Asoke - Ratchada</td>\n",
       "      <td>Thanon Din Daeng, Din Daeng, Bangkok 10400</td>\n",
       "      <td>Ratchathewi</td>\n",
       "      <td>4639200.0</td>\n",
       "      <td>15000.0</td>\n",
       "      <td>Bedrooms|Bathrooms|Internal area</td>\n",
       "      <td>1|1|33</td>\n",
       "      <td>Floors|Towers|Year built</td>\n",
       "      <td>30|1|2016</td>\n",
       "      <td>PropertyScout ID 954280\\nCheck all listing det...</td>\n",
       "      <td>...</td>\n",
       "      <td>Elevator|Parking|24-hours Security|CCTV|Swimmi...</td>\n",
       "      <td>True|True|True|True|True|True|True|True|False|...</td>\n",
       "      <td>marker marker-mrt|marker marker-mrt|marker mar...</td>\n",
       "      <td>Phraram Kao 9|Phra Ram 9|Asok 2 Toll Plaza|Aso...</td>\n",
       "      <td>710 m / 9 minutes by foot|740 m / 9 minutes by...</td>\n",
       "      <td>126,979</td>\n",
       "      <td>0.0</td>\n",
       "      <td>11.06</td>\n",
       "      <td>4.16</td>\n",
       "      <td>4.51</td>\n",
       "    </tr>\n",
       "  </tbody>\n",
       "</table>\n",
       "<p>2 rows × 21 columns</p>\n",
       "</div>"
      ],
      "text/plain": [
       "                             dev  \\\n",
       "0                 H Sukhumvit 43   \n",
       "1  A Space I.D. Asoke - Ratchada   \n",
       "\n",
       "                                             address     district  sale_price  \\\n",
       "0  Soi Phrom Mit, Khlong Toei Nuea, Vadhana, Bang...     Watthana  12000000.0   \n",
       "1         Thanon Din Daeng, Din Daeng, Bangkok 10400  Ratchathewi   4639200.0   \n",
       "\n",
       "   rent_price             internal_feature_keys internal_feature_values  \\\n",
       "0     57000.0  Bedrooms|Bathrooms|Internal area                  2|2|59   \n",
       "1     15000.0  Bedrooms|Bathrooms|Internal area                  1|1|33   \n",
       "\n",
       "                   external_feature_keys exteranal_feature_values  \\\n",
       "0  Floors|Towers|Project Area|Year built       32|1|3,080 m2|2014   \n",
       "1               Floors|Towers|Year built                30|1|2016   \n",
       "\n",
       "                                         description  ...  \\\n",
       "0  PropertyScout ID 954486\\nCheck all listing det...  ...   \n",
       "1  PropertyScout ID 954280\\nCheck all listing det...  ...   \n",
       "\n",
       "                                        amenity_keys  \\\n",
       "0  Elevator|Parking|24-hours Security|CCTV|Swimmi...   \n",
       "1  Elevator|Parking|24-hours Security|CCTV|Swimmi...   \n",
       "\n",
       "                                      amenity_values  \\\n",
       "0  True|True|True|True|True|True|True|False|False...   \n",
       "1  True|True|True|True|True|True|True|True|False|...   \n",
       "\n",
       "                                       neighbor_cats  \\\n",
       "0  marker marker-bts|marker marker-bts|marker mar...   \n",
       "1  marker marker-mrt|marker marker-mrt|marker mar...   \n",
       "\n",
       "                                      neighbor_names  \\\n",
       "0  Phrom Phong|Thong Lo|Sukhumvit|Asok 4 Toll Pla...   \n",
       "1  Phraram Kao 9|Phra Ram 9|Asok 2 Toll Plaza|Aso...   \n",
       "\n",
       "                                  neighbor_distances asking_price  \\\n",
       "0  830 m / 10 minutes by foot|1.5 km / 8 minutes ...      195,125   \n",
       "1  710 m / 9 minutes by foot|740 m / 9 minutes by...      126,979   \n",
       "\n",
       "  asking_price_change_quater  asking_price_change_year  gross_rental_yield  \\\n",
       "0                        0.0                      0.74                4.67   \n",
       "1                        0.0                     11.06                4.16   \n",
       "\n",
       "   rental_price_change_year  \n",
       "0                     -6.06  \n",
       "1                      4.51  \n",
       "\n",
       "[2 rows x 21 columns]"
      ]
     },
     "execution_count": 9,
     "metadata": {},
     "output_type": "execute_result"
    }
   ],
   "source": [
    "df.head(2)"
   ]
  },
  {
   "cell_type": "code",
   "execution_count": 10,
   "id": "e095650b-be6f-4339-bf2a-849b0573f0fc",
   "metadata": {},
   "outputs": [],
   "source": [
    "# def split funciton\n",
    "def split_feature(string):\n",
    "    try:\n",
    "        return string.split(\"|\")\n",
    "    except:\n",
    "        return None"
   ]
  },
  {
   "cell_type": "code",
   "execution_count": 11,
   "id": "99744063-a2e5-4b35-9e52-f356dd8d8d42",
   "metadata": {},
   "outputs": [],
   "source": [
    "# List of joined feature column names\n",
    "joined_features = ['internal_feature_keys', 'internal_feature_values', 'external_feature_keys', 'exteranal_feature_values',\n",
    "                  'amenity_keys', 'amenity_values', 'neighbor_cats', 'neighbor_names', 'neighbor_distances']\n",
    "\n",
    "# Iterate column names to create list\n",
    "for feature in joined_features:\n",
    "    df[feature] = df[feature].apply(split_feature)"
   ]
  },
  {
   "cell_type": "code",
   "execution_count": 12,
   "id": "d25c84fa-0d0c-45d0-81aa-134ccb7423ba",
   "metadata": {},
   "outputs": [
    {
     "data": {
      "text/html": [
       "<div>\n",
       "<style scoped>\n",
       "    .dataframe tbody tr th:only-of-type {\n",
       "        vertical-align: middle;\n",
       "    }\n",
       "\n",
       "    .dataframe tbody tr th {\n",
       "        vertical-align: top;\n",
       "    }\n",
       "\n",
       "    .dataframe thead th {\n",
       "        text-align: right;\n",
       "    }\n",
       "</style>\n",
       "<table border=\"1\" class=\"dataframe\">\n",
       "  <thead>\n",
       "    <tr style=\"text-align: right;\">\n",
       "      <th></th>\n",
       "      <th>dev</th>\n",
       "      <th>address</th>\n",
       "      <th>district</th>\n",
       "      <th>sale_price</th>\n",
       "      <th>rent_price</th>\n",
       "      <th>internal_feature_keys</th>\n",
       "      <th>internal_feature_values</th>\n",
       "      <th>external_feature_keys</th>\n",
       "      <th>exteranal_feature_values</th>\n",
       "      <th>description</th>\n",
       "      <th>...</th>\n",
       "      <th>amenity_keys</th>\n",
       "      <th>amenity_values</th>\n",
       "      <th>neighbor_cats</th>\n",
       "      <th>neighbor_names</th>\n",
       "      <th>neighbor_distances</th>\n",
       "      <th>asking_price</th>\n",
       "      <th>asking_price_change_quater</th>\n",
       "      <th>asking_price_change_year</th>\n",
       "      <th>gross_rental_yield</th>\n",
       "      <th>rental_price_change_year</th>\n",
       "    </tr>\n",
       "  </thead>\n",
       "  <tbody>\n",
       "    <tr>\n",
       "      <th>0</th>\n",
       "      <td>H Sukhumvit 43</td>\n",
       "      <td>Soi Phrom Mit, Khlong Toei Nuea, Vadhana, Bang...</td>\n",
       "      <td>Watthana</td>\n",
       "      <td>12000000.0</td>\n",
       "      <td>57000.0</td>\n",
       "      <td>[Bedrooms, Bathrooms, Internal area]</td>\n",
       "      <td>[2, 2, 59]</td>\n",
       "      <td>[Floors, Towers, Project Area, Year built]</td>\n",
       "      <td>[32, 1, 3,080 m2, 2014]</td>\n",
       "      <td>PropertyScout ID 954486\\nCheck all listing det...</td>\n",
       "      <td>...</td>\n",
       "      <td>[Elevator, Parking, 24-hours Security, CCTV, S...</td>\n",
       "      <td>[True, True, True, True, True, True, True, Fal...</td>\n",
       "      <td>[marker marker-bts, marker marker-bts, marker ...</td>\n",
       "      <td>[Phrom Phong, Thong Lo, Sukhumvit, Asok 4 Toll...</td>\n",
       "      <td>[830 m / 10 minutes by foot, 1.5 km / 8 minute...</td>\n",
       "      <td>195,125</td>\n",
       "      <td>0.0</td>\n",
       "      <td>0.74</td>\n",
       "      <td>4.67</td>\n",
       "      <td>-6.06</td>\n",
       "    </tr>\n",
       "    <tr>\n",
       "      <th>1</th>\n",
       "      <td>A Space I.D. Asoke - Ratchada</td>\n",
       "      <td>Thanon Din Daeng, Din Daeng, Bangkok 10400</td>\n",
       "      <td>Ratchathewi</td>\n",
       "      <td>4639200.0</td>\n",
       "      <td>15000.0</td>\n",
       "      <td>[Bedrooms, Bathrooms, Internal area]</td>\n",
       "      <td>[1, 1, 33]</td>\n",
       "      <td>[Floors, Towers, Year built]</td>\n",
       "      <td>[30, 1, 2016]</td>\n",
       "      <td>PropertyScout ID 954280\\nCheck all listing det...</td>\n",
       "      <td>...</td>\n",
       "      <td>[Elevator, Parking, 24-hours Security, CCTV, S...</td>\n",
       "      <td>[True, True, True, True, True, True, True, Tru...</td>\n",
       "      <td>[marker marker-mrt, marker marker-mrt, marker ...</td>\n",
       "      <td>[Phraram Kao 9, Phra Ram 9, Asok 2 Toll Plaza,...</td>\n",
       "      <td>[710 m / 9 minutes by foot, 740 m / 9 minutes ...</td>\n",
       "      <td>126,979</td>\n",
       "      <td>0.0</td>\n",
       "      <td>11.06</td>\n",
       "      <td>4.16</td>\n",
       "      <td>4.51</td>\n",
       "    </tr>\n",
       "  </tbody>\n",
       "</table>\n",
       "<p>2 rows × 21 columns</p>\n",
       "</div>"
      ],
      "text/plain": [
       "                             dev  \\\n",
       "0                 H Sukhumvit 43   \n",
       "1  A Space I.D. Asoke - Ratchada   \n",
       "\n",
       "                                             address     district  sale_price  \\\n",
       "0  Soi Phrom Mit, Khlong Toei Nuea, Vadhana, Bang...     Watthana  12000000.0   \n",
       "1         Thanon Din Daeng, Din Daeng, Bangkok 10400  Ratchathewi   4639200.0   \n",
       "\n",
       "   rent_price                 internal_feature_keys internal_feature_values  \\\n",
       "0     57000.0  [Bedrooms, Bathrooms, Internal area]              [2, 2, 59]   \n",
       "1     15000.0  [Bedrooms, Bathrooms, Internal area]              [1, 1, 33]   \n",
       "\n",
       "                        external_feature_keys exteranal_feature_values  \\\n",
       "0  [Floors, Towers, Project Area, Year built]  [32, 1, 3,080 m2, 2014]   \n",
       "1                [Floors, Towers, Year built]            [30, 1, 2016]   \n",
       "\n",
       "                                         description  ...  \\\n",
       "0  PropertyScout ID 954486\\nCheck all listing det...  ...   \n",
       "1  PropertyScout ID 954280\\nCheck all listing det...  ...   \n",
       "\n",
       "                                        amenity_keys  \\\n",
       "0  [Elevator, Parking, 24-hours Security, CCTV, S...   \n",
       "1  [Elevator, Parking, 24-hours Security, CCTV, S...   \n",
       "\n",
       "                                      amenity_values  \\\n",
       "0  [True, True, True, True, True, True, True, Fal...   \n",
       "1  [True, True, True, True, True, True, True, Tru...   \n",
       "\n",
       "                                       neighbor_cats  \\\n",
       "0  [marker marker-bts, marker marker-bts, marker ...   \n",
       "1  [marker marker-mrt, marker marker-mrt, marker ...   \n",
       "\n",
       "                                      neighbor_names  \\\n",
       "0  [Phrom Phong, Thong Lo, Sukhumvit, Asok 4 Toll...   \n",
       "1  [Phraram Kao 9, Phra Ram 9, Asok 2 Toll Plaza,...   \n",
       "\n",
       "                                  neighbor_distances asking_price  \\\n",
       "0  [830 m / 10 minutes by foot, 1.5 km / 8 minute...      195,125   \n",
       "1  [710 m / 9 minutes by foot, 740 m / 9 minutes ...      126,979   \n",
       "\n",
       "  asking_price_change_quater  asking_price_change_year  gross_rental_yield  \\\n",
       "0                        0.0                      0.74                4.67   \n",
       "1                        0.0                     11.06                4.16   \n",
       "\n",
       "   rental_price_change_year  \n",
       "0                     -6.06  \n",
       "1                      4.51  \n",
       "\n",
       "[2 rows x 21 columns]"
      ]
     },
     "execution_count": 12,
     "metadata": {},
     "output_type": "execute_result"
    }
   ],
   "source": [
    "# Check result\n",
    "df.head(2)"
   ]
  },
  {
   "cell_type": "code",
   "execution_count": 13,
   "id": "9d9196ed-f269-4b0b-a246-2f4ca8bca061",
   "metadata": {},
   "outputs": [],
   "source": [
    "def restructure_feature(keyword, keys_series, values_series):\n",
    "    \"\"\" Return value in values_list of given keyword that matched keys_list\"\"\"\n",
    "    result_list = []\n",
    "    for i in range(len(keys_series)):\n",
    "        try:\n",
    "            result_list.append(list(values_series)[i][list(keys_series)[i].index(keyword)])\n",
    "        except:\n",
    "            result_list.append(None)\n",
    "    return result_list"
   ]
  },
  {
   "cell_type": "code",
   "execution_count": 14,
   "id": "4101bec1-7f1b-4635-9843-d1a1f570b5ef",
   "metadata": {},
   "outputs": [],
   "source": [
    "# Restructure list to columns\n",
    "# Internal features\n",
    "df['bedrooms'] = restructure_feature('Bedrooms', df['internal_feature_keys'], df['internal_feature_values'])\n",
    "df['bathrooms'] = restructure_feature('Bathrooms', df['internal_feature_keys'], df['internal_feature_values'])\n",
    "df['internal_area'] = restructure_feature('Internal area', df['internal_feature_keys'], df['internal_feature_values'])"
   ]
  },
  {
   "cell_type": "code",
   "execution_count": 15,
   "id": "205660ff-4861-43ca-9779-a452348ba239",
   "metadata": {},
   "outputs": [],
   "source": [
    "# Restructure list to columns\n",
    "# External features\n",
    "df['floors'] = restructure_feature('Floors', df['external_feature_keys'], df['exteranal_feature_values'])\n",
    "df['towers'] = restructure_feature('Towers', df['external_feature_keys'], df['exteranal_feature_values'])\n",
    "df['project_area'] = restructure_feature('Project Area', df['external_feature_keys'], df['exteranal_feature_values'])\n",
    "df['year_built'] = restructure_feature('Year built', df['external_feature_keys'], df['exteranal_feature_values'])"
   ]
  },
  {
   "cell_type": "code",
   "execution_count": 16,
   "id": "75882dc0-158a-4c44-9f82-fca3fff8fc94",
   "metadata": {},
   "outputs": [],
   "source": [
    "# Restructure list to columns\n",
    "# Amenities\n",
    "df['has_elevator'] = restructure_feature('Elevator', df['amenity_keys'], df['amenity_values'])\n",
    "df['has_parking'] = restructure_feature('Parking', df['amenity_keys'], df['amenity_values'])\n",
    "df['has_security'] = restructure_feature('24-hours Security', df['amenity_keys'], df['amenity_values'])\n",
    "df['has_cctv'] = restructure_feature('CCTV', df['amenity_keys'], df['amenity_values'])\n",
    "df['has_pool'] = restructure_feature('Swimming Pool', df['amenity_keys'], df['amenity_values'])\n",
    "df['has_sauna'] = restructure_feature('Sauna', df['amenity_keys'], df['amenity_values'])\n",
    "df['has_gym'] = restructure_feature('Gym', df['amenity_keys'], df['amenity_values'])\n",
    "df['has_garden_bbq'] = restructure_feature('Garden / BBQ', df['amenity_keys'], df['amenity_values'])\n",
    "df['has_playground'] = restructure_feature(\"Playground / Kid's Area\", df['amenity_keys'], df['amenity_values'])\n",
    "df['has_shop_on_premise'] = restructure_feature('Shop on Premise', df['amenity_keys'], df['amenity_values'])\n",
    "df['has_restaurant_on_premise'] = restructure_feature('Restaurant on Premise', df['amenity_keys'], df['amenity_values'])\n",
    "df['has_wifi'] = restructure_feature('Wi-Fi', df['amenity_keys'], df['amenity_values'])"
   ]
  },
  {
   "cell_type": "code",
   "execution_count": 17,
   "id": "32aee60d-e13f-41a6-9a47-b1b97a2f979d",
   "metadata": {},
   "outputs": [
    {
     "data": {
      "text/html": [
       "<div>\n",
       "<style scoped>\n",
       "    .dataframe tbody tr th:only-of-type {\n",
       "        vertical-align: middle;\n",
       "    }\n",
       "\n",
       "    .dataframe tbody tr th {\n",
       "        vertical-align: top;\n",
       "    }\n",
       "\n",
       "    .dataframe thead th {\n",
       "        text-align: right;\n",
       "    }\n",
       "</style>\n",
       "<table border=\"1\" class=\"dataframe\">\n",
       "  <thead>\n",
       "    <tr style=\"text-align: right;\">\n",
       "      <th></th>\n",
       "      <th>neighbor_cats</th>\n",
       "      <th>neighbor_names</th>\n",
       "      <th>neighbor_distances</th>\n",
       "    </tr>\n",
       "  </thead>\n",
       "  <tbody>\n",
       "    <tr>\n",
       "      <th>0</th>\n",
       "      <td>[marker marker-bts, marker marker-bts, marker ...</td>\n",
       "      <td>[Phrom Phong, Thong Lo, Sukhumvit, Asok 4 Toll...</td>\n",
       "      <td>[830 m / 10 minutes by foot, 1.5 km / 8 minute...</td>\n",
       "    </tr>\n",
       "    <tr>\n",
       "      <th>1</th>\n",
       "      <td>[marker marker-mrt, marker marker-mrt, marker ...</td>\n",
       "      <td>[Phraram Kao 9, Phra Ram 9, Asok 2 Toll Plaza,...</td>\n",
       "      <td>[710 m / 9 minutes by foot, 740 m / 9 minutes ...</td>\n",
       "    </tr>\n",
       "    <tr>\n",
       "      <th>2</th>\n",
       "      <td>[marker marker-bts, marker marker-mrt, marker ...</td>\n",
       "      <td>[Phrom Phong, Queen Sirikit National Conventio...</td>\n",
       "      <td>[1.4 km / 7 minutes by car, 1.7 km / 8 minutes...</td>\n",
       "    </tr>\n",
       "    <tr>\n",
       "      <th>3</th>\n",
       "      <td>None</td>\n",
       "      <td>None</td>\n",
       "      <td>None</td>\n",
       "    </tr>\n",
       "    <tr>\n",
       "      <th>4</th>\n",
       "      <td>[marker marker-bts, marker marker-bts, marker ...</td>\n",
       "      <td>[Phra Khanong, On Nut, Phra Khanong Toll Plaza...</td>\n",
       "      <td>[880 m / 4 minutes by car, 1.2 km / 12 minutes...</td>\n",
       "    </tr>\n",
       "    <tr>\n",
       "      <th>...</th>\n",
       "      <td>...</td>\n",
       "      <td>...</td>\n",
       "      <td>...</td>\n",
       "    </tr>\n",
       "    <tr>\n",
       "      <th>1007</th>\n",
       "      <td>[marker marker-bts, marker marker-bts, marker ...</td>\n",
       "      <td>[Thong Lo, Phrom Phong, Ekkamai, At Narong Tol...</td>\n",
       "      <td>[280 m / 4 minutes by foot, 1.1 km / 7 minutes...</td>\n",
       "    </tr>\n",
       "    <tr>\n",
       "      <th>1008</th>\n",
       "      <td>[marker marker-mrt, marker marker-expressway, ...</td>\n",
       "      <td>[Phetchaburi, Asok 2 Toll Plaza, Asok 4 Toll P...</td>\n",
       "      <td>[220 m / 3 minutes by foot, 800 m / 2 minutes ...</td>\n",
       "    </tr>\n",
       "    <tr>\n",
       "      <th>1009</th>\n",
       "      <td>[marker marker-bts, marker marker-mrt, marker ...</td>\n",
       "      <td>[Asok, Sukhumvit, Phrom Phong, Sukhumvit Toll ...</td>\n",
       "      <td>[630 m / 9 minutes by foot, 750 m / 10 minutes...</td>\n",
       "    </tr>\n",
       "    <tr>\n",
       "      <th>1010</th>\n",
       "      <td>[marker marker-bts, marker marker-bts, marker ...</td>\n",
       "      <td>[Phrom Phong, Asok, Sukhumvit, Asok 3 Toll Pla...</td>\n",
       "      <td>[660 m / 8 minutes by foot, 1.2 km / 9 minutes...</td>\n",
       "    </tr>\n",
       "    <tr>\n",
       "      <th>1011</th>\n",
       "      <td>None</td>\n",
       "      <td>None</td>\n",
       "      <td>None</td>\n",
       "    </tr>\n",
       "  </tbody>\n",
       "</table>\n",
       "<p>1012 rows × 3 columns</p>\n",
       "</div>"
      ],
      "text/plain": [
       "                                          neighbor_cats  \\\n",
       "0     [marker marker-bts, marker marker-bts, marker ...   \n",
       "1     [marker marker-mrt, marker marker-mrt, marker ...   \n",
       "2     [marker marker-bts, marker marker-mrt, marker ...   \n",
       "3                                                  None   \n",
       "4     [marker marker-bts, marker marker-bts, marker ...   \n",
       "...                                                 ...   \n",
       "1007  [marker marker-bts, marker marker-bts, marker ...   \n",
       "1008  [marker marker-mrt, marker marker-expressway, ...   \n",
       "1009  [marker marker-bts, marker marker-mrt, marker ...   \n",
       "1010  [marker marker-bts, marker marker-bts, marker ...   \n",
       "1011                                               None   \n",
       "\n",
       "                                         neighbor_names  \\\n",
       "0     [Phrom Phong, Thong Lo, Sukhumvit, Asok 4 Toll...   \n",
       "1     [Phraram Kao 9, Phra Ram 9, Asok 2 Toll Plaza,...   \n",
       "2     [Phrom Phong, Queen Sirikit National Conventio...   \n",
       "3                                                  None   \n",
       "4     [Phra Khanong, On Nut, Phra Khanong Toll Plaza...   \n",
       "...                                                 ...   \n",
       "1007  [Thong Lo, Phrom Phong, Ekkamai, At Narong Tol...   \n",
       "1008  [Phetchaburi, Asok 2 Toll Plaza, Asok 4 Toll P...   \n",
       "1009  [Asok, Sukhumvit, Phrom Phong, Sukhumvit Toll ...   \n",
       "1010  [Phrom Phong, Asok, Sukhumvit, Asok 3 Toll Pla...   \n",
       "1011                                               None   \n",
       "\n",
       "                                     neighbor_distances  \n",
       "0     [830 m / 10 minutes by foot, 1.5 km / 8 minute...  \n",
       "1     [710 m / 9 minutes by foot, 740 m / 9 minutes ...  \n",
       "2     [1.4 km / 7 minutes by car, 1.7 km / 8 minutes...  \n",
       "3                                                  None  \n",
       "4     [880 m / 4 minutes by car, 1.2 km / 12 minutes...  \n",
       "...                                                 ...  \n",
       "1007  [280 m / 4 minutes by foot, 1.1 km / 7 minutes...  \n",
       "1008  [220 m / 3 minutes by foot, 800 m / 2 minutes ...  \n",
       "1009  [630 m / 9 minutes by foot, 750 m / 10 minutes...  \n",
       "1010  [660 m / 8 minutes by foot, 1.2 km / 9 minutes...  \n",
       "1011                                               None  \n",
       "\n",
       "[1012 rows x 3 columns]"
      ]
     },
     "execution_count": 17,
     "metadata": {},
     "output_type": "execute_result"
    }
   ],
   "source": [
    "# Restructure list to columns\n",
    "# neighborhood\n",
    "df[['neighbor_cats', 'neighbor_names', 'neighbor_distances']]"
   ]
  },
  {
   "cell_type": "markdown",
   "id": "9e7099eb-cf9e-41b8-b801-f30495b9c793",
   "metadata": {},
   "source": [
    "**Neighborhood features have to be done more additional steps to split list to be columns.** \n",
    "<br>These features are about the top 6 nerest transportation facilities, which including city train(BTS and MRT), express way.\n",
    "These features were captured by iteration of algorithm that made a length of list for each row \n",
    "\n",
    "Challenges:\n",
    "1. Differece in number of value in list: 0 to 6\n",
    "2. Differece in order of value in categorical list\n",
    "3. Difference in type of facility\n",
    "4. Difference in unit of measurement: meters, kilometers\n",
    "\n",
    "**To simplify these features' situation, features will be cosidered as two types:**\n",
    "1. Nearest distance between condominium and tranportation facilities\n",
    "    - City train\n",
    "    - Express way\n",
    "2. Boolean features wheater condominium is closer than 1 km. to transportation facilities\n",
    "    - City train\n",
    "    - Express way"
   ]
  },
  {
   "cell_type": "code",
   "execution_count": 18,
   "id": "89c403ee-3d39-4749-bf30-db8a979c0499",
   "metadata": {},
   "outputs": [],
   "source": [
    "# define function that returns closet distance to transportation facilities\n",
    "\n",
    "def distance_str_to_float(string):\n",
    "    \"\"\"Covert string distance to float and covert to meter\"\"\"\n",
    "    if len(string) > 0:\n",
    "        trim_str = string.split('/')[0].strip()\n",
    "        if trim_str[-2:] == 'km':\n",
    "            return float(trim_str[:-3]) * 1000\n",
    "        elif trim_str[-1] == 'm':\n",
    "            return float(trim_str[:-2])\n",
    "    else:\n",
    "        return None\n",
    "\n",
    "def get_distance_citytrain(category_list, distance_list):\n",
    "    \"\"\"Fuction use with dataframe .apply or .map\n",
    "    Return: distance of closest city train in meter unit\"\"\"\n",
    "    if (category_list != None):\n",
    "        if ('marker marker-bts' in category_list) or ('marker marker-mrt' in category_list):\n",
    "            convert_distance_list = []\n",
    "            # Iterate all value in list to find city train distances\n",
    "            for i in range(len(category_list)):\n",
    "                if category_list[i] in ['marker marker-bts', 'marker marker-mrt']:\n",
    "                    # Convert string to distance\n",
    "                    convert_distance = distance_str_to_float(distance_list[i])\n",
    "                    # Append all bts/mrt distances\n",
    "                    if convert_distance != None:\n",
    "                        convert_distance_list.append(convert_distance)\n",
    "            # return closest distance\n",
    "            convert_distance_list.sort()\n",
    "            return convert_distance_list[0]\n",
    "    return None\n",
    "\n",
    "def get_distance_expressway(category_list, distance_list):\n",
    "    \"\"\"Fuction use with dataframe .apply or .map\n",
    "    Return: distance of closest express way in meter unit\"\"\"\n",
    "    if (category_list != None):\n",
    "        if ('marker marker-expressway' in category_list):\n",
    "            convert_distance_list = []\n",
    "            # Iterate all value in list to find city train distances\n",
    "            for i in range(len(category_list)):\n",
    "                if category_list[i] in ['marker marker-expressway']:\n",
    "                    # Convert string to distance\n",
    "                    convert_distance = distance_str_to_float(distance_list[i])\n",
    "                    # Append all bts/mrt distances\n",
    "                    if convert_distance != None:\n",
    "                        convert_distance_list.append(convert_distance)\n",
    "            # return closest distance\n",
    "            convert_distance_list.sort()\n",
    "            try:\n",
    "                return convert_distance_list[0]\n",
    "            except:\n",
    "                return None\n",
    "    return None"
   ]
  },
  {
   "cell_type": "code",
   "execution_count": 19,
   "id": "226d4380-d7e2-403e-a51a-6a3cd5cb6d3f",
   "metadata": {},
   "outputs": [],
   "source": [
    "# Create transport facility distance columns\n",
    "df['city_train_distance'] = df[['neighbor_cats', 'neighbor_distances']].apply(lambda x: get_distance_citytrain(x[0], x[1]), axis=1)\n",
    "df['express_way_distance'] = df[['neighbor_cats', 'neighbor_distances']].apply(lambda x: get_distance_expressway(x[0], x[1]), axis=1)\n",
    "\n",
    "# Create boolean columns if distance <= 1 km.\n",
    "df['close_city_train'] = df['city_train_distance'].apply(lambda x: int(x <= 1000) if x != None else 0)\n",
    "df['close_express_way'] = df['express_way_distance'].apply(lambda x: int(x <= 1000) if x != None else 0)"
   ]
  },
  {
   "cell_type": "code",
   "execution_count": 20,
   "id": "830ccd32-2240-4940-88fa-9f15f18fc82b",
   "metadata": {},
   "outputs": [],
   "source": [
    "# Drop unused columns\n",
    "df.drop(columns=joined_features, inplace=True)"
   ]
  },
  {
   "cell_type": "code",
   "execution_count": 21,
   "id": "a0141dc6-2e54-4ba3-a7bb-43f5d7161259",
   "metadata": {},
   "outputs": [
    {
     "data": {
      "text/html": [
       "<div>\n",
       "<style scoped>\n",
       "    .dataframe tbody tr th:only-of-type {\n",
       "        vertical-align: middle;\n",
       "    }\n",
       "\n",
       "    .dataframe tbody tr th {\n",
       "        vertical-align: top;\n",
       "    }\n",
       "\n",
       "    .dataframe thead th {\n",
       "        text-align: right;\n",
       "    }\n",
       "</style>\n",
       "<table border=\"1\" class=\"dataframe\">\n",
       "  <thead>\n",
       "    <tr style=\"text-align: right;\">\n",
       "      <th></th>\n",
       "      <th>dev</th>\n",
       "      <th>address</th>\n",
       "      <th>district</th>\n",
       "      <th>sale_price</th>\n",
       "      <th>rent_price</th>\n",
       "      <th>description</th>\n",
       "      <th>detail</th>\n",
       "      <th>asking_price</th>\n",
       "      <th>asking_price_change_quater</th>\n",
       "      <th>asking_price_change_year</th>\n",
       "      <th>...</th>\n",
       "      <th>has_gym</th>\n",
       "      <th>has_garden_bbq</th>\n",
       "      <th>has_playground</th>\n",
       "      <th>has_shop_on_premise</th>\n",
       "      <th>has_restaurant_on_premise</th>\n",
       "      <th>has_wifi</th>\n",
       "      <th>city_train_distance</th>\n",
       "      <th>express_way_distance</th>\n",
       "      <th>close_city_train</th>\n",
       "      <th>close_express_way</th>\n",
       "    </tr>\n",
       "  </thead>\n",
       "  <tbody>\n",
       "    <tr>\n",
       "      <th>0</th>\n",
       "      <td>H Sukhumvit 43</td>\n",
       "      <td>Soi Phrom Mit, Khlong Toei Nuea, Vadhana, Bang...</td>\n",
       "      <td>Watthana</td>\n",
       "      <td>12000000.0</td>\n",
       "      <td>57000.0</td>\n",
       "      <td>PropertyScout ID 954486\\nCheck all listing det...</td>\n",
       "      <td>Fully furnished 2 bedrooms, 2 bathrooms condom...</td>\n",
       "      <td>195,125</td>\n",
       "      <td>0.0</td>\n",
       "      <td>0.74</td>\n",
       "      <td>...</td>\n",
       "      <td>True</td>\n",
       "      <td>False</td>\n",
       "      <td>False</td>\n",
       "      <td>False</td>\n",
       "      <td>False</td>\n",
       "      <td>True</td>\n",
       "      <td>830.0</td>\n",
       "      <td>3600.0</td>\n",
       "      <td>1</td>\n",
       "      <td>0</td>\n",
       "    </tr>\n",
       "    <tr>\n",
       "      <th>1</th>\n",
       "      <td>A Space I.D. Asoke - Ratchada</td>\n",
       "      <td>Thanon Din Daeng, Din Daeng, Bangkok 10400</td>\n",
       "      <td>Ratchathewi</td>\n",
       "      <td>4639200.0</td>\n",
       "      <td>15000.0</td>\n",
       "      <td>PropertyScout ID 954280\\nCheck all listing det...</td>\n",
       "      <td>Fully Fitted 1 bedroom, 1 bathroom condo for s...</td>\n",
       "      <td>126,979</td>\n",
       "      <td>0.0</td>\n",
       "      <td>11.06</td>\n",
       "      <td>...</td>\n",
       "      <td>True</td>\n",
       "      <td>True</td>\n",
       "      <td>False</td>\n",
       "      <td>False</td>\n",
       "      <td>False</td>\n",
       "      <td>True</td>\n",
       "      <td>710.0</td>\n",
       "      <td>910.0</td>\n",
       "      <td>1</td>\n",
       "      <td>1</td>\n",
       "    </tr>\n",
       "    <tr>\n",
       "      <th>2</th>\n",
       "      <td>Aguston Sukhumvit 22</td>\n",
       "      <td>150/1 สุขุมวิท Khwaeng Khlong Toei, Khet Khlon...</td>\n",
       "      <td>Khlong Toei</td>\n",
       "      <td>15000000.0</td>\n",
       "      <td>NaN</td>\n",
       "      <td>PropertyScout ID 923172\\nCheck all listing det...</td>\n",
       "      <td>Modern 2-bedroom 2-bathroom Condo unit, sized ...</td>\n",
       "      <td>151,925</td>\n",
       "      <td>0.0</td>\n",
       "      <td>-4.70</td>\n",
       "      <td>...</td>\n",
       "      <td>True</td>\n",
       "      <td>True</td>\n",
       "      <td>True</td>\n",
       "      <td>False</td>\n",
       "      <td>False</td>\n",
       "      <td>True</td>\n",
       "      <td>1400.0</td>\n",
       "      <td>1900.0</td>\n",
       "      <td>0</td>\n",
       "      <td>0</td>\n",
       "    </tr>\n",
       "    <tr>\n",
       "      <th>3</th>\n",
       "      <td>KHUN by YOO inspired by Starck</td>\n",
       "      <td>139 Soi Sukhumvit 55, Khwaeng Khlong Tan Nuea,...</td>\n",
       "      <td>Watthana</td>\n",
       "      <td>25000000.0</td>\n",
       "      <td>65000.0</td>\n",
       "      <td>PropertyScout ID 923585\\nCheck all listing det...</td>\n",
       "      <td>Modern 1-bedroom 1-bathroom Condo unit, sized ...</td>\n",
       "      <td>428,041</td>\n",
       "      <td>0.0</td>\n",
       "      <td>-11.55</td>\n",
       "      <td>...</td>\n",
       "      <td>True</td>\n",
       "      <td>True</td>\n",
       "      <td>True</td>\n",
       "      <td>True</td>\n",
       "      <td>True</td>\n",
       "      <td>True</td>\n",
       "      <td>NaN</td>\n",
       "      <td>NaN</td>\n",
       "      <td>0</td>\n",
       "      <td>0</td>\n",
       "    </tr>\n",
       "    <tr>\n",
       "      <th>4</th>\n",
       "      <td>Aspire Sukhumvit 48</td>\n",
       "      <td>Soi Piya Watchara, Phra Khanong, Khlong Toei, ...</td>\n",
       "      <td>Khlong Toei</td>\n",
       "      <td>4500000.0</td>\n",
       "      <td>20000.0</td>\n",
       "      <td>PropertyScout ID 513916\\nCheck all listing det...</td>\n",
       "      <td>Fully furnished 2 bedrooms, 2 bathrooms condo ...</td>\n",
       "      <td>97,051</td>\n",
       "      <td>0.0</td>\n",
       "      <td>-7.54</td>\n",
       "      <td>...</td>\n",
       "      <td>True</td>\n",
       "      <td>False</td>\n",
       "      <td>False</td>\n",
       "      <td>False</td>\n",
       "      <td>False</td>\n",
       "      <td>True</td>\n",
       "      <td>880.0</td>\n",
       "      <td>1700.0</td>\n",
       "      <td>1</td>\n",
       "      <td>0</td>\n",
       "    </tr>\n",
       "  </tbody>\n",
       "</table>\n",
       "<p>5 rows × 35 columns</p>\n",
       "</div>"
      ],
      "text/plain": [
       "                              dev  \\\n",
       "0                  H Sukhumvit 43   \n",
       "1   A Space I.D. Asoke - Ratchada   \n",
       "2            Aguston Sukhumvit 22   \n",
       "3  KHUN by YOO inspired by Starck   \n",
       "4             Aspire Sukhumvit 48   \n",
       "\n",
       "                                             address     district  sale_price  \\\n",
       "0  Soi Phrom Mit, Khlong Toei Nuea, Vadhana, Bang...     Watthana  12000000.0   \n",
       "1         Thanon Din Daeng, Din Daeng, Bangkok 10400  Ratchathewi   4639200.0   \n",
       "2  150/1 สุขุมวิท Khwaeng Khlong Toei, Khet Khlon...  Khlong Toei  15000000.0   \n",
       "3  139 Soi Sukhumvit 55, Khwaeng Khlong Tan Nuea,...     Watthana  25000000.0   \n",
       "4  Soi Piya Watchara, Phra Khanong, Khlong Toei, ...  Khlong Toei   4500000.0   \n",
       "\n",
       "   rent_price                                        description  \\\n",
       "0     57000.0  PropertyScout ID 954486\\nCheck all listing det...   \n",
       "1     15000.0  PropertyScout ID 954280\\nCheck all listing det...   \n",
       "2         NaN  PropertyScout ID 923172\\nCheck all listing det...   \n",
       "3     65000.0  PropertyScout ID 923585\\nCheck all listing det...   \n",
       "4     20000.0  PropertyScout ID 513916\\nCheck all listing det...   \n",
       "\n",
       "                                              detail asking_price  \\\n",
       "0  Fully furnished 2 bedrooms, 2 bathrooms condom...      195,125   \n",
       "1  Fully Fitted 1 bedroom, 1 bathroom condo for s...      126,979   \n",
       "2  Modern 2-bedroom 2-bathroom Condo unit, sized ...      151,925   \n",
       "3  Modern 1-bedroom 1-bathroom Condo unit, sized ...      428,041   \n",
       "4  Fully furnished 2 bedrooms, 2 bathrooms condo ...       97,051   \n",
       "\n",
       "   asking_price_change_quater  asking_price_change_year  ...  has_gym  \\\n",
       "0                         0.0                      0.74  ...     True   \n",
       "1                         0.0                     11.06  ...     True   \n",
       "2                         0.0                     -4.70  ...     True   \n",
       "3                         0.0                    -11.55  ...     True   \n",
       "4                         0.0                     -7.54  ...     True   \n",
       "\n",
       "  has_garden_bbq has_playground has_shop_on_premise has_restaurant_on_premise  \\\n",
       "0          False          False               False                     False   \n",
       "1           True          False               False                     False   \n",
       "2           True           True               False                     False   \n",
       "3           True           True                True                      True   \n",
       "4          False          False               False                     False   \n",
       "\n",
       "  has_wifi city_train_distance express_way_distance close_city_train  \\\n",
       "0     True               830.0               3600.0                1   \n",
       "1     True               710.0                910.0                1   \n",
       "2     True              1400.0               1900.0                0   \n",
       "3     True                 NaN                  NaN                0   \n",
       "4     True               880.0               1700.0                1   \n",
       "\n",
       "  close_express_way  \n",
       "0                 0  \n",
       "1                 1  \n",
       "2                 0  \n",
       "3                 0  \n",
       "4                 0  \n",
       "\n",
       "[5 rows x 35 columns]"
      ]
     },
     "execution_count": 21,
     "metadata": {},
     "output_type": "execute_result"
    }
   ],
   "source": [
    "df.head()"
   ]
  },
  {
   "cell_type": "markdown",
   "id": "4767454d-589c-4d2d-a4ab-5a05544fee2e",
   "metadata": {},
   "source": [
    "### 3.2.3 Missing Values and Data Types Check"
   ]
  },
  {
   "cell_type": "code",
   "execution_count": 22,
   "id": "73a75d63-095b-4997-b78a-d38492426fc7",
   "metadata": {},
   "outputs": [
    {
     "data": {
      "text/html": [
       "<div>\n",
       "<style scoped>\n",
       "    .dataframe tbody tr th:only-of-type {\n",
       "        vertical-align: middle;\n",
       "    }\n",
       "\n",
       "    .dataframe tbody tr th {\n",
       "        vertical-align: top;\n",
       "    }\n",
       "\n",
       "    .dataframe thead th {\n",
       "        text-align: right;\n",
       "    }\n",
       "</style>\n",
       "<table border=\"1\" class=\"dataframe\">\n",
       "  <thead>\n",
       "    <tr style=\"text-align: right;\">\n",
       "      <th></th>\n",
       "      <th>n_missing</th>\n",
       "      <th>pct_missing</th>\n",
       "    </tr>\n",
       "  </thead>\n",
       "  <tbody>\n",
       "    <tr>\n",
       "      <th>rent_price</th>\n",
       "      <td>875</td>\n",
       "      <td>86.46</td>\n",
       "    </tr>\n",
       "    <tr>\n",
       "      <th>project_area</th>\n",
       "      <td>430</td>\n",
       "      <td>42.49</td>\n",
       "    </tr>\n",
       "    <tr>\n",
       "      <th>year_built</th>\n",
       "      <td>154</td>\n",
       "      <td>15.22</td>\n",
       "    </tr>\n",
       "    <tr>\n",
       "      <th>has_playground</th>\n",
       "      <td>110</td>\n",
       "      <td>10.87</td>\n",
       "    </tr>\n",
       "    <tr>\n",
       "      <th>has_restaurant_on_premise</th>\n",
       "      <td>106</td>\n",
       "      <td>10.47</td>\n",
       "    </tr>\n",
       "    <tr>\n",
       "      <th>has_wifi</th>\n",
       "      <td>105</td>\n",
       "      <td>10.38</td>\n",
       "    </tr>\n",
       "    <tr>\n",
       "      <th>has_shop_on_premise</th>\n",
       "      <td>104</td>\n",
       "      <td>10.28</td>\n",
       "    </tr>\n",
       "    <tr>\n",
       "      <th>has_garden_bbq</th>\n",
       "      <td>98</td>\n",
       "      <td>9.68</td>\n",
       "    </tr>\n",
       "    <tr>\n",
       "      <th>has_sauna</th>\n",
       "      <td>97</td>\n",
       "      <td>9.58</td>\n",
       "    </tr>\n",
       "    <tr>\n",
       "      <th>has_elevator</th>\n",
       "      <td>86</td>\n",
       "      <td>8.50</td>\n",
       "    </tr>\n",
       "    <tr>\n",
       "      <th>has_gym</th>\n",
       "      <td>86</td>\n",
       "      <td>8.50</td>\n",
       "    </tr>\n",
       "    <tr>\n",
       "      <th>has_cctv</th>\n",
       "      <td>86</td>\n",
       "      <td>8.50</td>\n",
       "    </tr>\n",
       "    <tr>\n",
       "      <th>floors</th>\n",
       "      <td>83</td>\n",
       "      <td>8.20</td>\n",
       "    </tr>\n",
       "    <tr>\n",
       "      <th>has_pool</th>\n",
       "      <td>79</td>\n",
       "      <td>7.81</td>\n",
       "    </tr>\n",
       "    <tr>\n",
       "      <th>has_parking</th>\n",
       "      <td>79</td>\n",
       "      <td>7.81</td>\n",
       "    </tr>\n",
       "    <tr>\n",
       "      <th>has_security</th>\n",
       "      <td>79</td>\n",
       "      <td>7.81</td>\n",
       "    </tr>\n",
       "    <tr>\n",
       "      <th>express_way_distance</th>\n",
       "      <td>75</td>\n",
       "      <td>7.41</td>\n",
       "    </tr>\n",
       "    <tr>\n",
       "      <th>city_train_distance</th>\n",
       "      <td>59</td>\n",
       "      <td>5.83</td>\n",
       "    </tr>\n",
       "    <tr>\n",
       "      <th>gross_rental_yield</th>\n",
       "      <td>50</td>\n",
       "      <td>4.94</td>\n",
       "    </tr>\n",
       "    <tr>\n",
       "      <th>asking_price_change_year</th>\n",
       "      <td>50</td>\n",
       "      <td>4.94</td>\n",
       "    </tr>\n",
       "    <tr>\n",
       "      <th>asking_price_change_quater</th>\n",
       "      <td>50</td>\n",
       "      <td>4.94</td>\n",
       "    </tr>\n",
       "    <tr>\n",
       "      <th>asking_price</th>\n",
       "      <td>50</td>\n",
       "      <td>4.94</td>\n",
       "    </tr>\n",
       "    <tr>\n",
       "      <th>rental_price_change_year</th>\n",
       "      <td>50</td>\n",
       "      <td>4.94</td>\n",
       "    </tr>\n",
       "    <tr>\n",
       "      <th>dev</th>\n",
       "      <td>44</td>\n",
       "      <td>4.35</td>\n",
       "    </tr>\n",
       "    <tr>\n",
       "      <th>address</th>\n",
       "      <td>44</td>\n",
       "      <td>4.35</td>\n",
       "    </tr>\n",
       "    <tr>\n",
       "      <th>towers</th>\n",
       "      <td>44</td>\n",
       "      <td>4.35</td>\n",
       "    </tr>\n",
       "    <tr>\n",
       "      <th>detail</th>\n",
       "      <td>15</td>\n",
       "      <td>1.48</td>\n",
       "    </tr>\n",
       "    <tr>\n",
       "      <th>bathrooms</th>\n",
       "      <td>2</td>\n",
       "      <td>0.20</td>\n",
       "    </tr>\n",
       "    <tr>\n",
       "      <th>internal_area</th>\n",
       "      <td>1</td>\n",
       "      <td>0.10</td>\n",
       "    </tr>\n",
       "    <tr>\n",
       "      <th>description</th>\n",
       "      <td>1</td>\n",
       "      <td>0.10</td>\n",
       "    </tr>\n",
       "  </tbody>\n",
       "</table>\n",
       "</div>"
      ],
      "text/plain": [
       "                            n_missing  pct_missing\n",
       "rent_price                        875        86.46\n",
       "project_area                      430        42.49\n",
       "year_built                        154        15.22\n",
       "has_playground                    110        10.87\n",
       "has_restaurant_on_premise         106        10.47\n",
       "has_wifi                          105        10.38\n",
       "has_shop_on_premise               104        10.28\n",
       "has_garden_bbq                     98         9.68\n",
       "has_sauna                          97         9.58\n",
       "has_elevator                       86         8.50\n",
       "has_gym                            86         8.50\n",
       "has_cctv                           86         8.50\n",
       "floors                             83         8.20\n",
       "has_pool                           79         7.81\n",
       "has_parking                        79         7.81\n",
       "has_security                       79         7.81\n",
       "express_way_distance               75         7.41\n",
       "city_train_distance                59         5.83\n",
       "gross_rental_yield                 50         4.94\n",
       "asking_price_change_year           50         4.94\n",
       "asking_price_change_quater         50         4.94\n",
       "asking_price                       50         4.94\n",
       "rental_price_change_year           50         4.94\n",
       "dev                                44         4.35\n",
       "address                            44         4.35\n",
       "towers                             44         4.35\n",
       "detail                             15         1.48\n",
       "bathrooms                           2         0.20\n",
       "internal_area                       1         0.10\n",
       "description                         1         0.10"
      ]
     },
     "execution_count": 22,
     "metadata": {},
     "output_type": "execute_result"
    }
   ],
   "source": [
    "# Check missing values\n",
    "missing_df = pd.DataFrame({'n_missing': df.isnull().sum().sort_values(ascending=False)})\n",
    "missing_df['pct_missing'] = round(missing_df['n_missing'] / len(df) * 100, 2)\n",
    "missing_df[missing_df['n_missing'] > 0]"
   ]
  },
  {
   "cell_type": "markdown",
   "id": "bd5dd999-a907-4e0a-b3fd-6a69b9e840c0",
   "metadata": {},
   "source": [
    "**According to missing value table, missing values can be separated to 4 groups by number of missing and approach to fix them.**\n",
    "1. **High percentage of missig data:**\n",
    "    - Approch: Drop whole columns\n",
    "    - `rent_price` : 86.46% missing\n",
    "    - `project_area` : 42.49% missing\n",
    "2. **Boolean columns (all amenity features):**\n",
    "    - Approch: Treat missing data as 0 since absences of objects that unable to scrape could imply that condominiums do not have these fuctions.\n",
    "3. **Columns that missing percentage less than or equal to 15%:**\n",
    "    - `year_built` which has 15% of missing also considered\n",
    "    - 2 approaches could be applied:\n",
    "        - Drop missing rows\n",
    "        - Impute median values\n",
    "4.**Columns that do not need to fix:** Sice they are additional detail of codominiums.\n",
    "    - `dev`\n",
    "    - `address`\n",
    "    - `detail`\n",
    "    - `description`"
   ]
  },
  {
   "cell_type": "code",
   "execution_count": 23,
   "id": "55338325-397a-49a3-b335-a25702360328",
   "metadata": {},
   "outputs": [],
   "source": [
    "# 1. Drop columns\n",
    "df.drop(columns=['rent_price', 'project_area'], inplace=True)"
   ]
  },
  {
   "cell_type": "code",
   "execution_count": 24,
   "id": "d16823c0-cfa3-468c-9b32-31c32f72fa1b",
   "metadata": {},
   "outputs": [],
   "source": [
    "# 2. Fill null with zero for boolean features\n",
    "amenity_columns = df.columns[df.columns.str.contains('has')]\n",
    "df[amenity_columns] = df[amenity_columns].fillna(value=0)"
   ]
  },
  {
   "cell_type": "code",
   "execution_count": 25,
   "id": "9c116001-2245-4f12-9923-cbd5ce48ae60",
   "metadata": {},
   "outputs": [],
   "source": [
    "# 3. Columns that missing percentage less than or equal to 15%"
   ]
  },
  {
   "cell_type": "code",
   "execution_count": 26,
   "id": "1857f1ec-e44e-4d25-be1a-2cc1120ba8aa",
   "metadata": {},
   "outputs": [
    {
     "data": {
      "image/png": "[encoded data removed]",
      "text/plain": [
       "<Figure size 1800x720 with 2 Axes>"
      ]
     },
     "metadata": {
      "needs_background": "light"
     },
     "output_type": "display_data"
    }
   ],
   "source": [
    "# Check missing values by missingno library to see patern and effect on missing data\n",
    "msno.matrix(df);"
   ]
  },
  {
   "cell_type": "markdown",
   "id": "6afc34a9-090b-4265-8dd1-11594b3ad73a",
   "metadata": {},
   "source": [
    "**From missingno matrix**, data are likely to be missing on the same rows, which could imply that if we drop row that contain null, \n",
    "<br>data will be missing about 15% based on maxmimum percentage of missing values. \n",
    "<br>It also can implay that if we drop rows that missing one feature, the rest of features will be droped the same rows that have missing value."
   ]
  },
  {
   "cell_type": "code",
   "execution_count": 27,
   "id": "5c0a7996-cbac-4bd6-bb01-64bd73fb656b",
   "metadata": {},
   "outputs": [
    {
     "name": "stdout",
     "output_type": "stream",
     "text": [
      "Original data: 1012\n",
      "Data after dropping null: 831\n",
      "Row loss: 181\n",
      "%Loss: 17.89\n"
     ]
    }
   ],
   "source": [
    "# Check if we drop rows that contain missing value\n",
    "len_df = df.shape[0]\n",
    "len_drop_df = df.drop(columns=['dev', 'address', 'description', 'detail']).dropna().shape[0]\n",
    "print(f\"Original data: {len_df}\")\n",
    "print(f\"Data after dropping null: {len_drop_df}\")\n",
    "print(f\"Row loss: {len_df - len_drop_df}\")\n",
    "print(f\"%Loss: {round((len_df - len_drop_df) / len_df * 100, 2)}\")"
   ]
  },
  {
   "cell_type": "markdown",
   "id": "2d91f370-a02c-4190-a175-97e88b9dab4c",
   "metadata": {},
   "source": [
    "**If we drop null values**, data will be decreased 181 rows, which are 17.89% of original rows, and will be 831 rows totally.\n",
    "<br>831 data are still accepctable for regression problem but we can also try to impute data.\n",
    "<br> We will pause fixing missing values for a moment and cotinue again when we're doing model after train test spliting to avoid data leakage.\n"
   ]
  },
  {
   "cell_type": "code",
   "execution_count": 28,
   "id": "9baf0941-aabd-4612-b378-331080c01c67",
   "metadata": {},
   "outputs": [
    {
     "data": {
      "text/html": [
       "<div>\n",
       "<style scoped>\n",
       "    .dataframe tbody tr th:only-of-type {\n",
       "        vertical-align: middle;\n",
       "    }\n",
       "\n",
       "    .dataframe tbody tr th {\n",
       "        vertical-align: top;\n",
       "    }\n",
       "\n",
       "    .dataframe thead th {\n",
       "        text-align: right;\n",
       "    }\n",
       "</style>\n",
       "<table border=\"1\" class=\"dataframe\">\n",
       "  <thead>\n",
       "    <tr style=\"text-align: right;\">\n",
       "      <th></th>\n",
       "      <th>n_missing</th>\n",
       "      <th>pct_missing</th>\n",
       "    </tr>\n",
       "  </thead>\n",
       "  <tbody>\n",
       "    <tr>\n",
       "      <th>year_built</th>\n",
       "      <td>154</td>\n",
       "      <td>15.22</td>\n",
       "    </tr>\n",
       "    <tr>\n",
       "      <th>floors</th>\n",
       "      <td>83</td>\n",
       "      <td>8.20</td>\n",
       "    </tr>\n",
       "    <tr>\n",
       "      <th>express_way_distance</th>\n",
       "      <td>75</td>\n",
       "      <td>7.41</td>\n",
       "    </tr>\n",
       "    <tr>\n",
       "      <th>city_train_distance</th>\n",
       "      <td>59</td>\n",
       "      <td>5.83</td>\n",
       "    </tr>\n",
       "    <tr>\n",
       "      <th>asking_price</th>\n",
       "      <td>50</td>\n",
       "      <td>4.94</td>\n",
       "    </tr>\n",
       "    <tr>\n",
       "      <th>asking_price_change_quater</th>\n",
       "      <td>50</td>\n",
       "      <td>4.94</td>\n",
       "    </tr>\n",
       "    <tr>\n",
       "      <th>asking_price_change_year</th>\n",
       "      <td>50</td>\n",
       "      <td>4.94</td>\n",
       "    </tr>\n",
       "    <tr>\n",
       "      <th>gross_rental_yield</th>\n",
       "      <td>50</td>\n",
       "      <td>4.94</td>\n",
       "    </tr>\n",
       "    <tr>\n",
       "      <th>rental_price_change_year</th>\n",
       "      <td>50</td>\n",
       "      <td>4.94</td>\n",
       "    </tr>\n",
       "    <tr>\n",
       "      <th>address</th>\n",
       "      <td>44</td>\n",
       "      <td>4.35</td>\n",
       "    </tr>\n",
       "    <tr>\n",
       "      <th>towers</th>\n",
       "      <td>44</td>\n",
       "      <td>4.35</td>\n",
       "    </tr>\n",
       "    <tr>\n",
       "      <th>dev</th>\n",
       "      <td>44</td>\n",
       "      <td>4.35</td>\n",
       "    </tr>\n",
       "    <tr>\n",
       "      <th>detail</th>\n",
       "      <td>15</td>\n",
       "      <td>1.48</td>\n",
       "    </tr>\n",
       "    <tr>\n",
       "      <th>bathrooms</th>\n",
       "      <td>2</td>\n",
       "      <td>0.20</td>\n",
       "    </tr>\n",
       "    <tr>\n",
       "      <th>description</th>\n",
       "      <td>1</td>\n",
       "      <td>0.10</td>\n",
       "    </tr>\n",
       "    <tr>\n",
       "      <th>internal_area</th>\n",
       "      <td>1</td>\n",
       "      <td>0.10</td>\n",
       "    </tr>\n",
       "  </tbody>\n",
       "</table>\n",
       "</div>"
      ],
      "text/plain": [
       "                            n_missing  pct_missing\n",
       "year_built                        154        15.22\n",
       "floors                             83         8.20\n",
       "express_way_distance               75         7.41\n",
       "city_train_distance                59         5.83\n",
       "asking_price                       50         4.94\n",
       "asking_price_change_quater         50         4.94\n",
       "asking_price_change_year           50         4.94\n",
       "gross_rental_yield                 50         4.94\n",
       "rental_price_change_year           50         4.94\n",
       "address                            44         4.35\n",
       "towers                             44         4.35\n",
       "dev                                44         4.35\n",
       "detail                             15         1.48\n",
       "bathrooms                           2         0.20\n",
       "description                         1         0.10\n",
       "internal_area                       1         0.10"
      ]
     },
     "execution_count": 28,
     "metadata": {},
     "output_type": "execute_result"
    }
   ],
   "source": [
    "# Check missing values\n",
    "missing_df = pd.DataFrame({'n_missing': df.isnull().sum().sort_values(ascending=False)})\n",
    "missing_df['pct_missing'] = round(missing_df['n_missing'] / len(df) * 100, 2)\n",
    "missing_df[missing_df['n_missing'] > 0]"
   ]
  },
  {
   "cell_type": "markdown",
   "id": "826557cc-fd10-41e4-a102-4a387e3fae6b",
   "metadata": {},
   "source": [
    "### 3.2.4 Data Type Check\n",
    "Data were scraped as text without any transforming before saving to .csv, therefore we need to turn numeric features to be appropriate form."
   ]
  },
  {
   "cell_type": "code",
   "execution_count": 29,
   "id": "96d99b91-4dfc-41fa-bb59-58de4809f696",
   "metadata": {},
   "outputs": [
    {
     "data": {
      "text/plain": [
       "dev                            object\n",
       "address                        object\n",
       "district                       object\n",
       "sale_price                    float64\n",
       "description                    object\n",
       "detail                         object\n",
       "asking_price                   object\n",
       "asking_price_change_quater    float64\n",
       "asking_price_change_year      float64\n",
       "gross_rental_yield            float64\n",
       "rental_price_change_year       object\n",
       "bedrooms                       object\n",
       "bathrooms                      object\n",
       "internal_area                  object\n",
       "floors                         object\n",
       "towers                         object\n",
       "year_built                     object\n",
       "has_elevator                   object\n",
       "has_parking                    object\n",
       "has_security                   object\n",
       "has_cctv                       object\n",
       "has_pool                       object\n",
       "has_sauna                      object\n",
       "has_gym                        object\n",
       "has_garden_bbq                 object\n",
       "has_playground                 object\n",
       "has_shop_on_premise            object\n",
       "has_restaurant_on_premise      object\n",
       "has_wifi                       object\n",
       "city_train_distance           float64\n",
       "express_way_distance          float64\n",
       "close_city_train                int64\n",
       "close_express_way               int64\n",
       "dtype: object"
      ]
     },
     "execution_count": 29,
     "metadata": {},
     "output_type": "execute_result"
    }
   ],
   "source": [
    "df.dtypes"
   ]
  },
  {
   "cell_type": "markdown",
   "id": "41605192-7c52-464f-8cdb-7372a205daaf",
   "metadata": {},
   "source": [
    "#### 3.2.4.1 Type Casting"
   ]
  },
  {
   "cell_type": "markdown",
   "id": "4ae187d9-5f35-4ee1-8867-8f42408f1e86",
   "metadata": {},
   "source": [
    "##### **`asking_price`**"
   ]
  },
  {
   "cell_type": "code",
   "execution_count": 30,
   "id": "ac451e61-941a-4a53-b2cf-6179d08ec530",
   "metadata": {},
   "outputs": [
    {
     "data": {
      "text/plain": [
       "0       195,125\n",
       "1       126,979\n",
       "2       151,925\n",
       "3       428,041\n",
       "4        97,051\n",
       "         ...   \n",
       "1007    165,459\n",
       "1008    156,451\n",
       "1009    142,583\n",
       "1010    163,696\n",
       "1011        NaN\n",
       "Name: asking_price, Length: 1012, dtype: object"
      ]
     },
     "execution_count": 30,
     "metadata": {},
     "output_type": "execute_result"
    }
   ],
   "source": [
    "# Cast 'asking_price' to be float\n",
    "# 'asking_price' has ',' in each value, we need to remove it before casting\n",
    "df['asking_price']"
   ]
  },
  {
   "cell_type": "code",
   "execution_count": 31,
   "id": "96f3b5f3-aae0-422b-bd56-9772f6ac014b",
   "metadata": {},
   "outputs": [],
   "source": [
    "# 'asking_price'\n",
    "# Remove ','\n",
    "df['asking_price'] = df['asking_price'].str.replace(',', '')\n",
    "\n",
    "# Cast to float\n",
    "df['asking_price'] = df['asking_price'].astype(float)"
   ]
  },
  {
   "cell_type": "markdown",
   "id": "59345470-eef7-4257-9ab7-94128fd028d5",
   "metadata": {},
   "source": [
    "##### **`rental_price_change_year`**"
   ]
  },
  {
   "cell_type": "code",
   "execution_count": 32,
   "id": "219640c2-3227-45be-b028-fb44a5e5f424",
   "metadata": {},
   "outputs": [
    {
     "data": {
      "text/plain": [
       "49    –\n",
       "58    –\n",
       "64    –\n",
       "70    –\n",
       "77    –\n",
       "Name: rental_price_change_year, dtype: object"
      ]
     },
     "execution_count": 32,
     "metadata": {},
     "output_type": "execute_result"
    }
   ],
   "source": [
    "# Cast 'rental_price_change_year' to be float\n",
    "# 'rental_price_change_year' has '–' that represent of null value, we need to remove it.\n",
    "df['rental_price_change_year'][df['rental_price_change_year'] == '–'][:5]"
   ]
  },
  {
   "cell_type": "code",
   "execution_count": 33,
   "id": "946bf5fd-b607-4918-8e8d-a79417e6136b",
   "metadata": {},
   "outputs": [],
   "source": [
    "# 'rental_price_change_year'\n",
    "# Remove '–'\n",
    "df['rental_price_change_year'] = df['rental_price_change_year'].replace('–', None)\n",
    "\n",
    "# Cast to float\n",
    "df['rental_price_change_year'] = df['rental_price_change_year'].astype(float)"
   ]
  },
  {
   "cell_type": "markdown",
   "id": "947cb4b7-37c5-47f2-8f55-dae5443c744c",
   "metadata": {
    "tags": []
   },
   "source": [
    "##### **`internal_area`**\n",
    "\n",
    "Problem: After trying to cast `internal_area` as float, an error raised up that ',' was found in the feature.\n",
    "<br>So, we need to explore more about the feature whether it was a mistake by scaping process or a mistake from the website itself."
   ]
  },
  {
   "cell_type": "code",
   "execution_count": 34,
   "id": "7c06d4ee-4b90-4e4a-a415-33aefb0c5863",
   "metadata": {},
   "outputs": [
    {
     "data": {
      "text/html": [
       "<div>\n",
       "<style scoped>\n",
       "    .dataframe tbody tr th:only-of-type {\n",
       "        vertical-align: middle;\n",
       "    }\n",
       "\n",
       "    .dataframe tbody tr th {\n",
       "        vertical-align: top;\n",
       "    }\n",
       "\n",
       "    .dataframe thead th {\n",
       "        text-align: right;\n",
       "    }\n",
       "</style>\n",
       "<table border=\"1\" class=\"dataframe\">\n",
       "  <thead>\n",
       "    <tr style=\"text-align: right;\">\n",
       "      <th></th>\n",
       "      <th>dev</th>\n",
       "      <th>sale_price</th>\n",
       "      <th>internal_area</th>\n",
       "    </tr>\n",
       "  </thead>\n",
       "  <tbody>\n",
       "    <tr>\n",
       "      <th>42</th>\n",
       "      <td>Baan Siri 31</td>\n",
       "      <td>12597426.0</td>\n",
       "      <td>11,746</td>\n",
       "    </tr>\n",
       "    <tr>\n",
       "      <th>128</th>\n",
       "      <td>Belle Grand Rama 9</td>\n",
       "      <td>11700535.0</td>\n",
       "      <td>36,049</td>\n",
       "    </tr>\n",
       "    <tr>\n",
       "      <th>297</th>\n",
       "      <td>The ESSE Sukhumvit 36</td>\n",
       "      <td>20302257.0</td>\n",
       "      <td>61,588</td>\n",
       "    </tr>\n",
       "    <tr>\n",
       "      <th>475</th>\n",
       "      <td>Siamese Exclusive Queens</td>\n",
       "      <td>13401574.0</td>\n",
       "      <td>44,814</td>\n",
       "    </tr>\n",
       "    <tr>\n",
       "      <th>506</th>\n",
       "      <td>Rin House</td>\n",
       "      <td>3953437.0</td>\n",
       "      <td>16,650</td>\n",
       "    </tr>\n",
       "    <tr>\n",
       "      <th>544</th>\n",
       "      <td>Circle S Sukhumvit 12</td>\n",
       "      <td>7570135.0</td>\n",
       "      <td>26,772</td>\n",
       "    </tr>\n",
       "  </tbody>\n",
       "</table>\n",
       "</div>"
      ],
      "text/plain": [
       "                          dev  sale_price internal_area\n",
       "42               Baan Siri 31  12597426.0        11,746\n",
       "128        Belle Grand Rama 9  11700535.0        36,049\n",
       "297     The ESSE Sukhumvit 36  20302257.0        61,588\n",
       "475  Siamese Exclusive Queens  13401574.0        44,814\n",
       "506                 Rin House   3953437.0        16,650\n",
       "544     Circle S Sukhumvit 12   7570135.0        26,772"
      ]
     },
     "execution_count": 34,
     "metadata": {},
     "output_type": "execute_result"
    }
   ],
   "source": [
    "# Find values of 'internal_area' that contain ','\n",
    "df[['dev', 'sale_price', 'internal_area']][df['internal_area'].str.find(',') > 0]"
   ]
  },
  {
   "cell_type": "markdown",
   "id": "8ed6a8e1-1f95-4a6d-b363-173aa2a21606",
   "metadata": {},
   "source": [
    "**From the result above**, 6 rows incorrectly returned `internal_area`, which should be returned in square meter unit of room size.\n",
    "\n",
    "**The possible reasons are:**\n",
    "1. Incorrectly scraping problem\n",
    "2. Incorrect input from the website\n",
    "\n",
    "**Conclusion:** After revisiting the website, it was found that these 6 observations were reported as overall internal area but unable to find the correct internal area of each room because of varity numbers of internal infrastructures. Therefore, **they will be replaced as null and be imputed in the future process.**"
   ]
  },
  {
   "cell_type": "code",
   "execution_count": 35,
   "id": "57fb897d-d38d-4ac0-90eb-a7d1a16646a2",
   "metadata": {},
   "outputs": [
    {
     "data": {
      "text/plain": [
       "Int64Index([42, 128, 297, 475, 506, 544], dtype='int64')"
      ]
     },
     "execution_count": 35,
     "metadata": {},
     "output_type": "execute_result"
    }
   ],
   "source": [
    "# Get incorrect values' indexes\n",
    "df[['dev', 'sale_price', 'internal_area']][df['internal_area'].str.find(',') > 0].index"
   ]
  },
  {
   "cell_type": "code",
   "execution_count": 36,
   "id": "f824e548-09bb-4e33-a75b-7f7e6a4d4f6b",
   "metadata": {},
   "outputs": [],
   "source": [
    "# Replace 'internal_area' by None\n",
    "df.loc[[42, 128, 297, 475, 506, 544], 'internal_area'] = None"
   ]
  },
  {
   "cell_type": "code",
   "execution_count": 37,
   "id": "d60eb84e-b763-4268-981e-5065f3727485",
   "metadata": {},
   "outputs": [
    {
     "data": {
      "text/html": [
       "<div>\n",
       "<style scoped>\n",
       "    .dataframe tbody tr th:only-of-type {\n",
       "        vertical-align: middle;\n",
       "    }\n",
       "\n",
       "    .dataframe tbody tr th {\n",
       "        vertical-align: top;\n",
       "    }\n",
       "\n",
       "    .dataframe thead th {\n",
       "        text-align: right;\n",
       "    }\n",
       "</style>\n",
       "<table border=\"1\" class=\"dataframe\">\n",
       "  <thead>\n",
       "    <tr style=\"text-align: right;\">\n",
       "      <th></th>\n",
       "      <th>dev</th>\n",
       "      <th>sale_price</th>\n",
       "      <th>internal_area</th>\n",
       "    </tr>\n",
       "  </thead>\n",
       "  <tbody>\n",
       "    <tr>\n",
       "      <th>42</th>\n",
       "      <td>Baan Siri 31</td>\n",
       "      <td>12597426.0</td>\n",
       "      <td>None</td>\n",
       "    </tr>\n",
       "    <tr>\n",
       "      <th>128</th>\n",
       "      <td>Belle Grand Rama 9</td>\n",
       "      <td>11700535.0</td>\n",
       "      <td>None</td>\n",
       "    </tr>\n",
       "    <tr>\n",
       "      <th>297</th>\n",
       "      <td>The ESSE Sukhumvit 36</td>\n",
       "      <td>20302257.0</td>\n",
       "      <td>None</td>\n",
       "    </tr>\n",
       "    <tr>\n",
       "      <th>475</th>\n",
       "      <td>Siamese Exclusive Queens</td>\n",
       "      <td>13401574.0</td>\n",
       "      <td>None</td>\n",
       "    </tr>\n",
       "    <tr>\n",
       "      <th>506</th>\n",
       "      <td>Rin House</td>\n",
       "      <td>3953437.0</td>\n",
       "      <td>None</td>\n",
       "    </tr>\n",
       "    <tr>\n",
       "      <th>544</th>\n",
       "      <td>Circle S Sukhumvit 12</td>\n",
       "      <td>7570135.0</td>\n",
       "      <td>None</td>\n",
       "    </tr>\n",
       "  </tbody>\n",
       "</table>\n",
       "</div>"
      ],
      "text/plain": [
       "                          dev  sale_price internal_area\n",
       "42               Baan Siri 31  12597426.0          None\n",
       "128        Belle Grand Rama 9  11700535.0          None\n",
       "297     The ESSE Sukhumvit 36  20302257.0          None\n",
       "475  Siamese Exclusive Queens  13401574.0          None\n",
       "506                 Rin House   3953437.0          None\n",
       "544     Circle S Sukhumvit 12   7570135.0          None"
      ]
     },
     "execution_count": 37,
     "metadata": {},
     "output_type": "execute_result"
    }
   ],
   "source": [
    "# Check result\n",
    "df.loc[[42, 128, 297, 475, 506, 544], ['dev', 'sale_price', 'internal_area']]"
   ]
  },
  {
   "cell_type": "code",
   "execution_count": 38,
   "id": "181e0895-b5a8-4108-b838-12c3dfaab7be",
   "metadata": {},
   "outputs": [],
   "source": [
    "# Now we can cast it as float\n",
    "df['internal_area'] = df['internal_area'].astype(float)"
   ]
  },
  {
   "cell_type": "markdown",
   "id": "e5ade259-89ff-4a1e-b034-6b57dd633b26",
   "metadata": {},
   "source": [
    "##### **`bathrooms`, `bathrooms`, `floors`, `towers`, `year_built`**\n",
    "These features can be casted directly without any error occurrence."
   ]
  },
  {
   "cell_type": "code",
   "execution_count": 39,
   "id": "7dd880d4-2711-4ab4-b5d6-f6d32f576106",
   "metadata": {},
   "outputs": [],
   "source": [
    "for feat in ['bedrooms', 'bathrooms', 'floors', 'towers', 'year_built']:\n",
    "    df[feat] = df[feat].astype(float)"
   ]
  },
  {
   "cell_type": "code",
   "execution_count": 40,
   "id": "fd2ba586-08fa-4f43-90e0-1cbae0070023",
   "metadata": {},
   "outputs": [
    {
     "data": {
      "text/plain": [
       "dev                            object\n",
       "address                        object\n",
       "district                       object\n",
       "sale_price                    float64\n",
       "description                    object\n",
       "detail                         object\n",
       "asking_price                  float64\n",
       "asking_price_change_quater    float64\n",
       "asking_price_change_year      float64\n",
       "gross_rental_yield            float64\n",
       "rental_price_change_year      float64\n",
       "bedrooms                      float64\n",
       "bathrooms                     float64\n",
       "internal_area                 float64\n",
       "floors                        float64\n",
       "towers                        float64\n",
       "year_built                    float64\n",
       "has_elevator                   object\n",
       "has_parking                    object\n",
       "has_security                   object\n",
       "has_cctv                       object\n",
       "has_pool                       object\n",
       "has_sauna                      object\n",
       "has_gym                        object\n",
       "has_garden_bbq                 object\n",
       "has_playground                 object\n",
       "has_shop_on_premise            object\n",
       "has_restaurant_on_premise      object\n",
       "has_wifi                       object\n",
       "city_train_distance           float64\n",
       "express_way_distance          float64\n",
       "close_city_train                int64\n",
       "close_express_way               int64\n",
       "dtype: object"
      ]
     },
     "execution_count": 40,
     "metadata": {},
     "output_type": "execute_result"
    }
   ],
   "source": [
    "df.dtypes"
   ]
  },
  {
   "cell_type": "markdown",
   "id": "ee8ba433-7c34-400d-af93-66e7bb293de0",
   "metadata": {},
   "source": [
    "##### **`Boolean features`**\n",
    "All boolean featurs, now are string, need to be interger."
   ]
  },
  {
   "cell_type": "code",
   "execution_count": 41,
   "id": "16de8dea-9a92-4cdf-bb9b-42a4efac3f51",
   "metadata": {},
   "outputs": [
    {
     "data": {
      "text/plain": [
       "Index(['has_elevator', 'has_parking', 'has_security', 'has_cctv', 'has_pool',\n",
       "       'has_sauna', 'has_gym', 'has_garden_bbq', 'has_playground',\n",
       "       'has_shop_on_premise', 'has_restaurant_on_premise', 'has_wifi'],\n",
       "      dtype='object')"
      ]
     },
     "execution_count": 41,
     "metadata": {},
     "output_type": "execute_result"
    }
   ],
   "source": [
    "df.columns[df.columns.str.contains('has')]"
   ]
  },
  {
   "cell_type": "code",
   "execution_count": 42,
   "id": "15fc59e9-ea0c-40fe-89d9-2d8f4d13086c",
   "metadata": {},
   "outputs": [
    {
     "name": "stdout",
     "output_type": "stream",
     "text": [
      "Unable to cast: has_elevator\n",
      "Unable to cast: has_parking\n",
      "Unable to cast: has_security\n",
      "Unable to cast: has_cctv\n",
      "Unable to cast: has_pool\n",
      "Unable to cast: has_sauna\n",
      "Unable to cast: has_gym\n",
      "Unable to cast: has_garden_bbq\n",
      "Unable to cast: has_playground\n",
      "Unable to cast: has_shop_on_premise\n",
      "Unable to cast: has_restaurant_on_premise\n",
      "Unable to cast: has_wifi\n"
     ]
    }
   ],
   "source": [
    "# List columns that need to be interger\n",
    "boolean_features = df.columns[df.columns.str.contains('has')]\n",
    "\n",
    "# Check if features are unable to be casted\n",
    "for feat in boolean_features:\n",
    "    try:\n",
    "        df[feat].astype(int)\n",
    "    except:\n",
    "        print('Unable to cast:', feat)"
   ]
  },
  {
   "cell_type": "markdown",
   "id": "d9523f8f-45aa-4cb7-82c3-48d0d4b3bfa8",
   "metadata": {},
   "source": [
    "**After tring to cast boolean features as int, errors were raised.** "
   ]
  },
  {
   "cell_type": "code",
   "execution_count": 43,
   "id": "e8368265-2f0e-4ede-b6bd-bf6ebfd2d6f4",
   "metadata": {},
   "outputs": [
    {
     "data": {
      "text/plain": [
       "array(['True', 0, 'False'], dtype=object)"
      ]
     },
     "execution_count": 43,
     "metadata": {},
     "output_type": "execute_result"
    }
   ],
   "source": [
    "# Check values inside boolean feature\n",
    "df['has_pool'].unique()"
   ]
  },
  {
   "cell_type": "markdown",
   "id": "71950228-6943-481d-a746-ca47805eb4bb",
   "metadata": {},
   "source": [
    "It was found out that values 'True' and 'False' as string were not treated as `Boolean`. To cast these features, we need to use condition to check context for these string."
   ]
  },
  {
   "cell_type": "code",
   "execution_count": 44,
   "id": "2cf4162c-e503-4f09-ac96-f8862d8a4f49",
   "metadata": {},
   "outputs": [],
   "source": [
    "for feat in boolean_features:\n",
    "    df[feat] = df[feat].apply(lambda x: 1 if x == 'True' else 0)"
   ]
  },
  {
   "cell_type": "markdown",
   "id": "b1bf8bd0-54f7-49ab-820b-ab3cd861cfe6",
   "metadata": {},
   "source": [
    "##### **`Final feature data types`**"
   ]
  },
  {
   "cell_type": "code",
   "execution_count": 45,
   "id": "f16de14b-cc5a-434a-9c8a-eda864eef3cd",
   "metadata": {},
   "outputs": [
    {
     "data": {
      "text/plain": [
       "dev                            object\n",
       "address                        object\n",
       "district                       object\n",
       "sale_price                    float64\n",
       "description                    object\n",
       "detail                         object\n",
       "asking_price                  float64\n",
       "asking_price_change_quater    float64\n",
       "asking_price_change_year      float64\n",
       "gross_rental_yield            float64\n",
       "rental_price_change_year      float64\n",
       "bedrooms                      float64\n",
       "bathrooms                     float64\n",
       "internal_area                 float64\n",
       "floors                        float64\n",
       "towers                        float64\n",
       "year_built                    float64\n",
       "has_elevator                    int64\n",
       "has_parking                     int64\n",
       "has_security                    int64\n",
       "has_cctv                        int64\n",
       "has_pool                        int64\n",
       "has_sauna                       int64\n",
       "has_gym                         int64\n",
       "has_garden_bbq                  int64\n",
       "has_playground                  int64\n",
       "has_shop_on_premise             int64\n",
       "has_restaurant_on_premise       int64\n",
       "has_wifi                        int64\n",
       "city_train_distance           float64\n",
       "express_way_distance          float64\n",
       "close_city_train                int64\n",
       "close_express_way               int64\n",
       "dtype: object"
      ]
     },
     "execution_count": 45,
     "metadata": {},
     "output_type": "execute_result"
    }
   ],
   "source": [
    "# Check final data types\n",
    "df.dtypes"
   ]
  },
  {
   "cell_type": "markdown",
   "id": "f67a6e35-6dda-4b13-9150-fcee0667cc8d",
   "metadata": {},
   "source": [
    "#### 3.2.4.2 Missing Values Re-check\n",
    "After fixing all data types, number of missing values will be increased from some strings removal process.\n",
    "<br>**Let's re-check missing values again.**"
   ]
  },
  {
   "cell_type": "code",
   "execution_count": 46,
   "id": "c1889f89-3735-4760-8718-464834fc04fe",
   "metadata": {},
   "outputs": [
    {
     "data": {
      "text/html": [
       "<div>\n",
       "<style scoped>\n",
       "    .dataframe tbody tr th:only-of-type {\n",
       "        vertical-align: middle;\n",
       "    }\n",
       "\n",
       "    .dataframe tbody tr th {\n",
       "        vertical-align: top;\n",
       "    }\n",
       "\n",
       "    .dataframe thead th {\n",
       "        text-align: right;\n",
       "    }\n",
       "</style>\n",
       "<table border=\"1\" class=\"dataframe\">\n",
       "  <thead>\n",
       "    <tr style=\"text-align: right;\">\n",
       "      <th></th>\n",
       "      <th>n_missing</th>\n",
       "      <th>pct_missing</th>\n",
       "    </tr>\n",
       "  </thead>\n",
       "  <tbody>\n",
       "    <tr>\n",
       "      <th>year_built</th>\n",
       "      <td>154</td>\n",
       "      <td>15.22</td>\n",
       "    </tr>\n",
       "    <tr>\n",
       "      <th>floors</th>\n",
       "      <td>83</td>\n",
       "      <td>8.20</td>\n",
       "    </tr>\n",
       "    <tr>\n",
       "      <th>rental_price_change_year</th>\n",
       "      <td>78</td>\n",
       "      <td>7.71</td>\n",
       "    </tr>\n",
       "    <tr>\n",
       "      <th>express_way_distance</th>\n",
       "      <td>75</td>\n",
       "      <td>7.41</td>\n",
       "    </tr>\n",
       "    <tr>\n",
       "      <th>city_train_distance</th>\n",
       "      <td>59</td>\n",
       "      <td>5.83</td>\n",
       "    </tr>\n",
       "    <tr>\n",
       "      <th>asking_price</th>\n",
       "      <td>50</td>\n",
       "      <td>4.94</td>\n",
       "    </tr>\n",
       "    <tr>\n",
       "      <th>asking_price_change_quater</th>\n",
       "      <td>50</td>\n",
       "      <td>4.94</td>\n",
       "    </tr>\n",
       "    <tr>\n",
       "      <th>asking_price_change_year</th>\n",
       "      <td>50</td>\n",
       "      <td>4.94</td>\n",
       "    </tr>\n",
       "    <tr>\n",
       "      <th>gross_rental_yield</th>\n",
       "      <td>50</td>\n",
       "      <td>4.94</td>\n",
       "    </tr>\n",
       "    <tr>\n",
       "      <th>address</th>\n",
       "      <td>44</td>\n",
       "      <td>4.35</td>\n",
       "    </tr>\n",
       "    <tr>\n",
       "      <th>towers</th>\n",
       "      <td>44</td>\n",
       "      <td>4.35</td>\n",
       "    </tr>\n",
       "    <tr>\n",
       "      <th>dev</th>\n",
       "      <td>44</td>\n",
       "      <td>4.35</td>\n",
       "    </tr>\n",
       "    <tr>\n",
       "      <th>detail</th>\n",
       "      <td>15</td>\n",
       "      <td>1.48</td>\n",
       "    </tr>\n",
       "    <tr>\n",
       "      <th>internal_area</th>\n",
       "      <td>7</td>\n",
       "      <td>0.69</td>\n",
       "    </tr>\n",
       "    <tr>\n",
       "      <th>bathrooms</th>\n",
       "      <td>2</td>\n",
       "      <td>0.20</td>\n",
       "    </tr>\n",
       "    <tr>\n",
       "      <th>description</th>\n",
       "      <td>1</td>\n",
       "      <td>0.10</td>\n",
       "    </tr>\n",
       "  </tbody>\n",
       "</table>\n",
       "</div>"
      ],
      "text/plain": [
       "                            n_missing  pct_missing\n",
       "year_built                        154        15.22\n",
       "floors                             83         8.20\n",
       "rental_price_change_year           78         7.71\n",
       "express_way_distance               75         7.41\n",
       "city_train_distance                59         5.83\n",
       "asking_price                       50         4.94\n",
       "asking_price_change_quater         50         4.94\n",
       "asking_price_change_year           50         4.94\n",
       "gross_rental_yield                 50         4.94\n",
       "address                            44         4.35\n",
       "towers                             44         4.35\n",
       "dev                                44         4.35\n",
       "detail                             15         1.48\n",
       "internal_area                       7         0.69\n",
       "bathrooms                           2         0.20\n",
       "description                         1         0.10"
      ]
     },
     "execution_count": 46,
     "metadata": {},
     "output_type": "execute_result"
    }
   ],
   "source": [
    "# Check missing values\n",
    "missing_df = pd.DataFrame({'n_missing': df.isnull().sum().sort_values(ascending=False)})\n",
    "missing_df['pct_missing'] = round(missing_df['n_missing'] / len(df) * 100, 2)\n",
    "missing_df[missing_df['n_missing'] > 0]"
   ]
  },
  {
   "cell_type": "code",
   "execution_count": 47,
   "id": "6e38d83f-5dfe-4739-9e85-7075091ab671",
   "metadata": {},
   "outputs": [
    {
     "data": {
      "image/png": "[encoded data removed]",
      "text/plain": [
       "<Figure size 1800x720 with 2 Axes>"
      ]
     },
     "metadata": {
      "needs_background": "light"
     },
     "output_type": "display_data"
    }
   ],
   "source": [
    "# Check missing values by missingno library to see patern and effect on missing data\n",
    "msno.matrix(df);"
   ]
  },
  {
   "cell_type": "code",
   "execution_count": 48,
   "id": "864aa6e2-bbc3-4263-9597-3fb20cbecbaa",
   "metadata": {},
   "outputs": [
    {
     "name": "stdout",
     "output_type": "stream",
     "text": [
      "Original data: 1012\n",
      "Data after dropping null: 817\n",
      "Row loss: 195\n",
      "%Loss: 19.27\n"
     ]
    }
   ],
   "source": [
    "# Check if we drop rows that contain missing value\n",
    "len_df = df.shape[0]\n",
    "len_drop_df = df.drop(columns=['dev', 'address', 'description', 'detail']).dropna().shape[0]\n",
    "print(f\"Original data: {len_df}\")\n",
    "print(f\"Data after dropping null: {len_drop_df}\")\n",
    "print(f\"Row loss: {len_df - len_drop_df}\")\n",
    "print(f\"%Loss: {round((len_df - len_drop_df) / len_df * 100, 2)}\")\n",
    "\n",
    "## Original result\n",
    "# Original data: 1012\n",
    "# Data after dropping null: 831\n",
    "# Row loss: 181\n",
    "# %Loss: 17.89"
   ]
  },
  {
   "cell_type": "markdown",
   "id": "20a4b20c-783b-476a-9485-40e260945642",
   "metadata": {},
   "source": [
    "**As per result,** if we drop rows that contain null value, data loss increase from 181 rows to 195 rows, which is equivalent to 19.27% loss.\n",
    "<br> 817 remaining observations are still reasonable to solve a regression problem.\n",
    "\n",
    "**Now we decided to leave a missing values handeling for a moment and move through EDA section to understand data behavior before going to impute or remove it.**"
   ]
  },
  {
   "cell_type": "code",
   "execution_count": 115,
   "id": "bbba90e5-af95-4fb7-b468-b08cdf20e634",
   "metadata": {},
   "outputs": [],
   "source": [
    "# Save clean dataframe as csv to re-use it\n",
    "# df.to_csv('./data/condominium_price_clean.csv', index=False)"
   ]
  },
  {
   "cell_type": "markdown",
   "id": "a8cda5c6-8e3a-4a64-af96-87962c342af2",
   "metadata": {},
   "source": [
    "# 4. EDA\n",
    "---\n",
    "---"
   ]
  },
  {
   "cell_type": "code",
   "execution_count": 3,
   "id": "7bfdca3b-e9bc-4bf8-8189-967d6825ac38",
   "metadata": {},
   "outputs": [],
   "source": [
    "# Read saved csv file\n",
    "# df = pd.read_csv('./data/condominium_price_clean.csv')"
   ]
  },
  {
   "cell_type": "code",
   "execution_count": 118,
   "id": "c611edae-3ef9-4b1f-8adb-7d9e94e10115",
   "metadata": {},
   "outputs": [
    {
     "data": {
      "text/plain": [
       "Index(['has_elevator', 'has_parking', 'has_security', 'has_cctv', 'has_pool',\n",
       "       'has_sauna', 'has_gym', 'has_garden_bbq', 'has_playground',\n",
       "       'has_shop_on_premise', 'has_restaurant_on_premise', 'has_wifi',\n",
       "       'close_city_train', 'close_express_way'],\n",
       "      dtype='object')"
      ]
     },
     "execution_count": 118,
     "metadata": {},
     "output_type": "execute_result"
    }
   ],
   "source": [
    "df.columns[df.columns.str.contains('has|close')]"
   ]
  },
  {
   "cell_type": "code",
   "execution_count": 119,
   "id": "e2c3f8fd-1503-4b00-94a1-e1f65a2d82ee",
   "metadata": {},
   "outputs": [],
   "source": [
    "# Set numeric features' column names\n",
    "numeric_features = [\n",
    "    'asking_price', 'asking_price_change_quater', 'asking_price_change_year',\n",
    "    'gross_rental_yield', 'rental_price_change_year', 'bedrooms',\n",
    "    'bathrooms', 'internal_area', 'floors', 'towers', 'year_built',\n",
    "    'city_train_distance', 'express_way_distance']\n",
    "\n",
    "categorical_features = [\n",
    "    'bedrooms', 'bathrooms',\n",
    "    'has_elevator', 'has_parking', 'has_security', 'has_cctv', 'has_pool',\n",
    "    'has_sauna', 'has_gym', 'has_garden_bbq', 'has_playground',\n",
    "    'has_shop_on_premise', 'has_restaurant_on_premise', 'has_wifi',\n",
    "    'close_city_train', 'close_express_way']"
   ]
  },
  {
   "cell_type": "code",
   "execution_count": 5,
   "id": "b087cc06-04bc-4d12-9b43-46d90f48513b",
   "metadata": {},
   "outputs": [
    {
     "data": {
      "text/html": [
       "<div>\n",
       "<style scoped>\n",
       "    .dataframe tbody tr th:only-of-type {\n",
       "        vertical-align: middle;\n",
       "    }\n",
       "\n",
       "    .dataframe tbody tr th {\n",
       "        vertical-align: top;\n",
       "    }\n",
       "\n",
       "    .dataframe thead th {\n",
       "        text-align: right;\n",
       "    }\n",
       "</style>\n",
       "<table border=\"1\" class=\"dataframe\">\n",
       "  <thead>\n",
       "    <tr style=\"text-align: right;\">\n",
       "      <th></th>\n",
       "      <th>count</th>\n",
       "      <th>mean</th>\n",
       "      <th>std</th>\n",
       "      <th>min</th>\n",
       "      <th>25%</th>\n",
       "      <th>50%</th>\n",
       "      <th>75%</th>\n",
       "      <th>max</th>\n",
       "    </tr>\n",
       "  </thead>\n",
       "  <tbody>\n",
       "    <tr>\n",
       "      <th>sale_price</th>\n",
       "      <td>1012.0</td>\n",
       "      <td>1.663035e+07</td>\n",
       "      <td>1.958215e+07</td>\n",
       "      <td>1900000.00</td>\n",
       "      <td>7.000000e+06</td>\n",
       "      <td>1.070000e+07</td>\n",
       "      <td>18325626.75</td>\n",
       "      <td>2.204167e+08</td>\n",
       "    </tr>\n",
       "    <tr>\n",
       "      <th>asking_price</th>\n",
       "      <td>962.0</td>\n",
       "      <td>1.666305e+05</td>\n",
       "      <td>7.740526e+04</td>\n",
       "      <td>42893.00</td>\n",
       "      <td>1.094750e+05</td>\n",
       "      <td>1.488770e+05</td>\n",
       "      <td>202173.00</td>\n",
       "      <td>4.654460e+05</td>\n",
       "    </tr>\n",
       "    <tr>\n",
       "      <th>asking_price_change_quater</th>\n",
       "      <td>962.0</td>\n",
       "      <td>6.612786e-01</td>\n",
       "      <td>8.149279e+00</td>\n",
       "      <td>-57.21</td>\n",
       "      <td>0.000000e+00</td>\n",
       "      <td>0.000000e+00</td>\n",
       "      <td>0.00</td>\n",
       "      <td>5.290000e+01</td>\n",
       "    </tr>\n",
       "    <tr>\n",
       "      <th>asking_price_change_year</th>\n",
       "      <td>962.0</td>\n",
       "      <td>2.934948e+00</td>\n",
       "      <td>1.427497e+01</td>\n",
       "      <td>-79.81</td>\n",
       "      <td>-2.850000e+00</td>\n",
       "      <td>2.900000e-01</td>\n",
       "      <td>6.60</td>\n",
       "      <td>1.656600e+02</td>\n",
       "    </tr>\n",
       "    <tr>\n",
       "      <th>gross_rental_yield</th>\n",
       "      <td>962.0</td>\n",
       "      <td>4.145759e+00</td>\n",
       "      <td>1.072789e+00</td>\n",
       "      <td>0.00</td>\n",
       "      <td>3.792500e+00</td>\n",
       "      <td>4.235000e+00</td>\n",
       "      <td>4.59</td>\n",
       "      <td>1.171000e+01</td>\n",
       "    </tr>\n",
       "    <tr>\n",
       "      <th>rental_price_change_year</th>\n",
       "      <td>934.0</td>\n",
       "      <td>1.853266e+00</td>\n",
       "      <td>1.291348e+01</td>\n",
       "      <td>-55.74</td>\n",
       "      <td>-4.850000e+00</td>\n",
       "      <td>1.310000e+00</td>\n",
       "      <td>6.68</td>\n",
       "      <td>6.469000e+01</td>\n",
       "    </tr>\n",
       "    <tr>\n",
       "      <th>bedrooms</th>\n",
       "      <td>1012.0</td>\n",
       "      <td>1.637352e+00</td>\n",
       "      <td>8.236779e-01</td>\n",
       "      <td>1.00</td>\n",
       "      <td>1.000000e+00</td>\n",
       "      <td>1.000000e+00</td>\n",
       "      <td>2.00</td>\n",
       "      <td>5.000000e+00</td>\n",
       "    </tr>\n",
       "    <tr>\n",
       "      <th>bathrooms</th>\n",
       "      <td>1010.0</td>\n",
       "      <td>1.618812e+00</td>\n",
       "      <td>8.680216e-01</td>\n",
       "      <td>1.00</td>\n",
       "      <td>1.000000e+00</td>\n",
       "      <td>1.000000e+00</td>\n",
       "      <td>2.00</td>\n",
       "      <td>5.000000e+00</td>\n",
       "    </tr>\n",
       "    <tr>\n",
       "      <th>internal_area</th>\n",
       "      <td>1005.0</td>\n",
       "      <td>1.122526e+02</td>\n",
       "      <td>9.040249e+01</td>\n",
       "      <td>18.57</td>\n",
       "      <td>5.100000e+01</td>\n",
       "      <td>7.880000e+01</td>\n",
       "      <td>140.00</td>\n",
       "      <td>6.300000e+02</td>\n",
       "    </tr>\n",
       "    <tr>\n",
       "      <th>floors</th>\n",
       "      <td>929.0</td>\n",
       "      <td>2.885684e+01</td>\n",
       "      <td>1.579932e+01</td>\n",
       "      <td>5.00</td>\n",
       "      <td>1.600000e+01</td>\n",
       "      <td>2.900000e+01</td>\n",
       "      <td>38.00</td>\n",
       "      <td>7.700000e+01</td>\n",
       "    </tr>\n",
       "    <tr>\n",
       "      <th>towers</th>\n",
       "      <td>968.0</td>\n",
       "      <td>1.354339e+00</td>\n",
       "      <td>9.183084e-01</td>\n",
       "      <td>1.00</td>\n",
       "      <td>1.000000e+00</td>\n",
       "      <td>1.000000e+00</td>\n",
       "      <td>1.00</td>\n",
       "      <td>9.000000e+00</td>\n",
       "    </tr>\n",
       "    <tr>\n",
       "      <th>year_built</th>\n",
       "      <td>858.0</td>\n",
       "      <td>2.008589e+03</td>\n",
       "      <td>9.026848e+00</td>\n",
       "      <td>1981.00</td>\n",
       "      <td>2.005000e+03</td>\n",
       "      <td>2.010000e+03</td>\n",
       "      <td>2015.00</td>\n",
       "      <td>2.024000e+03</td>\n",
       "    </tr>\n",
       "    <tr>\n",
       "      <th>has_elevator</th>\n",
       "      <td>1012.0</td>\n",
       "      <td>9.150198e-01</td>\n",
       "      <td>2.789902e-01</td>\n",
       "      <td>0.00</td>\n",
       "      <td>1.000000e+00</td>\n",
       "      <td>1.000000e+00</td>\n",
       "      <td>1.00</td>\n",
       "      <td>1.000000e+00</td>\n",
       "    </tr>\n",
       "    <tr>\n",
       "      <th>has_parking</th>\n",
       "      <td>1012.0</td>\n",
       "      <td>9.189723e-01</td>\n",
       "      <td>2.730125e-01</td>\n",
       "      <td>0.00</td>\n",
       "      <td>1.000000e+00</td>\n",
       "      <td>1.000000e+00</td>\n",
       "      <td>1.00</td>\n",
       "      <td>1.000000e+00</td>\n",
       "    </tr>\n",
       "    <tr>\n",
       "      <th>has_security</th>\n",
       "      <td>1012.0</td>\n",
       "      <td>9.219368e-01</td>\n",
       "      <td>2.684037e-01</td>\n",
       "      <td>0.00</td>\n",
       "      <td>1.000000e+00</td>\n",
       "      <td>1.000000e+00</td>\n",
       "      <td>1.00</td>\n",
       "      <td>1.000000e+00</td>\n",
       "    </tr>\n",
       "    <tr>\n",
       "      <th>has_cctv</th>\n",
       "      <td>1012.0</td>\n",
       "      <td>9.150198e-01</td>\n",
       "      <td>2.789902e-01</td>\n",
       "      <td>0.00</td>\n",
       "      <td>1.000000e+00</td>\n",
       "      <td>1.000000e+00</td>\n",
       "      <td>1.00</td>\n",
       "      <td>1.000000e+00</td>\n",
       "    </tr>\n",
       "    <tr>\n",
       "      <th>has_pool</th>\n",
       "      <td>1012.0</td>\n",
       "      <td>9.179842e-01</td>\n",
       "      <td>2.745245e-01</td>\n",
       "      <td>0.00</td>\n",
       "      <td>1.000000e+00</td>\n",
       "      <td>1.000000e+00</td>\n",
       "      <td>1.00</td>\n",
       "      <td>1.000000e+00</td>\n",
       "    </tr>\n",
       "    <tr>\n",
       "      <th>has_sauna</th>\n",
       "      <td>1012.0</td>\n",
       "      <td>5.612648e-01</td>\n",
       "      <td>4.964778e-01</td>\n",
       "      <td>0.00</td>\n",
       "      <td>0.000000e+00</td>\n",
       "      <td>1.000000e+00</td>\n",
       "      <td>1.00</td>\n",
       "      <td>1.000000e+00</td>\n",
       "    </tr>\n",
       "    <tr>\n",
       "      <th>has_gym</th>\n",
       "      <td>1012.0</td>\n",
       "      <td>9.090909e-01</td>\n",
       "      <td>2.876219e-01</td>\n",
       "      <td>0.00</td>\n",
       "      <td>1.000000e+00</td>\n",
       "      <td>1.000000e+00</td>\n",
       "      <td>1.00</td>\n",
       "      <td>1.000000e+00</td>\n",
       "    </tr>\n",
       "    <tr>\n",
       "      <th>has_garden_bbq</th>\n",
       "      <td>1012.0</td>\n",
       "      <td>7.114625e-01</td>\n",
       "      <td>4.533064e-01</td>\n",
       "      <td>0.00</td>\n",
       "      <td>0.000000e+00</td>\n",
       "      <td>1.000000e+00</td>\n",
       "      <td>1.00</td>\n",
       "      <td>1.000000e+00</td>\n",
       "    </tr>\n",
       "    <tr>\n",
       "      <th>has_playground</th>\n",
       "      <td>1012.0</td>\n",
       "      <td>3.833992e-01</td>\n",
       "      <td>4.864546e-01</td>\n",
       "      <td>0.00</td>\n",
       "      <td>0.000000e+00</td>\n",
       "      <td>0.000000e+00</td>\n",
       "      <td>1.00</td>\n",
       "      <td>1.000000e+00</td>\n",
       "    </tr>\n",
       "    <tr>\n",
       "      <th>has_shop_on_premise</th>\n",
       "      <td>1012.0</td>\n",
       "      <td>2.658103e-01</td>\n",
       "      <td>4.419821e-01</td>\n",
       "      <td>0.00</td>\n",
       "      <td>0.000000e+00</td>\n",
       "      <td>0.000000e+00</td>\n",
       "      <td>1.00</td>\n",
       "      <td>1.000000e+00</td>\n",
       "    </tr>\n",
       "    <tr>\n",
       "      <th>has_restaurant_on_premise</th>\n",
       "      <td>1012.0</td>\n",
       "      <td>2.134387e-01</td>\n",
       "      <td>4.099374e-01</td>\n",
       "      <td>0.00</td>\n",
       "      <td>0.000000e+00</td>\n",
       "      <td>0.000000e+00</td>\n",
       "      <td>0.00</td>\n",
       "      <td>1.000000e+00</td>\n",
       "    </tr>\n",
       "    <tr>\n",
       "      <th>has_wifi</th>\n",
       "      <td>1012.0</td>\n",
       "      <td>5.049407e-01</td>\n",
       "      <td>5.002228e-01</td>\n",
       "      <td>0.00</td>\n",
       "      <td>0.000000e+00</td>\n",
       "      <td>1.000000e+00</td>\n",
       "      <td>1.00</td>\n",
       "      <td>1.000000e+00</td>\n",
       "    </tr>\n",
       "    <tr>\n",
       "      <th>city_train_distance</th>\n",
       "      <td>953.0</td>\n",
       "      <td>9.821679e+02</td>\n",
       "      <td>1.141388e+03</td>\n",
       "      <td>12.00</td>\n",
       "      <td>4.200000e+02</td>\n",
       "      <td>7.400000e+02</td>\n",
       "      <td>1200.00</td>\n",
       "      <td>1.000000e+04</td>\n",
       "    </tr>\n",
       "    <tr>\n",
       "      <th>express_way_distance</th>\n",
       "      <td>937.0</td>\n",
       "      <td>1.926211e+03</td>\n",
       "      <td>8.552517e+02</td>\n",
       "      <td>150.00</td>\n",
       "      <td>1.300000e+03</td>\n",
       "      <td>1.900000e+03</td>\n",
       "      <td>2400.00</td>\n",
       "      <td>6.700000e+03</td>\n",
       "    </tr>\n",
       "    <tr>\n",
       "      <th>close_city_train</th>\n",
       "      <td>1012.0</td>\n",
       "      <td>6.709486e-01</td>\n",
       "      <td>4.701010e-01</td>\n",
       "      <td>0.00</td>\n",
       "      <td>0.000000e+00</td>\n",
       "      <td>1.000000e+00</td>\n",
       "      <td>1.00</td>\n",
       "      <td>1.000000e+00</td>\n",
       "    </tr>\n",
       "    <tr>\n",
       "      <th>close_express_way</th>\n",
       "      <td>1012.0</td>\n",
       "      <td>1.304348e-01</td>\n",
       "      <td>3.369477e-01</td>\n",
       "      <td>0.00</td>\n",
       "      <td>0.000000e+00</td>\n",
       "      <td>0.000000e+00</td>\n",
       "      <td>0.00</td>\n",
       "      <td>1.000000e+00</td>\n",
       "    </tr>\n",
       "  </tbody>\n",
       "</table>\n",
       "</div>"
      ],
      "text/plain": [
       "                             count          mean           std         min  \\\n",
       "sale_price                  1012.0  1.663035e+07  1.958215e+07  1900000.00   \n",
       "asking_price                 962.0  1.666305e+05  7.740526e+04    42893.00   \n",
       "asking_price_change_quater   962.0  6.612786e-01  8.149279e+00      -57.21   \n",
       "asking_price_change_year     962.0  2.934948e+00  1.427497e+01      -79.81   \n",
       "gross_rental_yield           962.0  4.145759e+00  1.072789e+00        0.00   \n",
       "rental_price_change_year     934.0  1.853266e+00  1.291348e+01      -55.74   \n",
       "bedrooms                    1012.0  1.637352e+00  8.236779e-01        1.00   \n",
       "bathrooms                   1010.0  1.618812e+00  8.680216e-01        1.00   \n",
       "internal_area               1005.0  1.122526e+02  9.040249e+01       18.57   \n",
       "floors                       929.0  2.885684e+01  1.579932e+01        5.00   \n",
       "towers                       968.0  1.354339e+00  9.183084e-01        1.00   \n",
       "year_built                   858.0  2.008589e+03  9.026848e+00     1981.00   \n",
       "has_elevator                1012.0  9.150198e-01  2.789902e-01        0.00   \n",
       "has_parking                 1012.0  9.189723e-01  2.730125e-01        0.00   \n",
       "has_security                1012.0  9.219368e-01  2.684037e-01        0.00   \n",
       "has_cctv                    1012.0  9.150198e-01  2.789902e-01        0.00   \n",
       "has_pool                    1012.0  9.179842e-01  2.745245e-01        0.00   \n",
       "has_sauna                   1012.0  5.612648e-01  4.964778e-01        0.00   \n",
       "has_gym                     1012.0  9.090909e-01  2.876219e-01        0.00   \n",
       "has_garden_bbq              1012.0  7.114625e-01  4.533064e-01        0.00   \n",
       "has_playground              1012.0  3.833992e-01  4.864546e-01        0.00   \n",
       "has_shop_on_premise         1012.0  2.658103e-01  4.419821e-01        0.00   \n",
       "has_restaurant_on_premise   1012.0  2.134387e-01  4.099374e-01        0.00   \n",
       "has_wifi                    1012.0  5.049407e-01  5.002228e-01        0.00   \n",
       "city_train_distance          953.0  9.821679e+02  1.141388e+03       12.00   \n",
       "express_way_distance         937.0  1.926211e+03  8.552517e+02      150.00   \n",
       "close_city_train            1012.0  6.709486e-01  4.701010e-01        0.00   \n",
       "close_express_way           1012.0  1.304348e-01  3.369477e-01        0.00   \n",
       "\n",
       "                                     25%           50%          75%  \\\n",
       "sale_price                  7.000000e+06  1.070000e+07  18325626.75   \n",
       "asking_price                1.094750e+05  1.488770e+05    202173.00   \n",
       "asking_price_change_quater  0.000000e+00  0.000000e+00         0.00   \n",
       "asking_price_change_year   -2.850000e+00  2.900000e-01         6.60   \n",
       "gross_rental_yield          3.792500e+00  4.235000e+00         4.59   \n",
       "rental_price_change_year   -4.850000e+00  1.310000e+00         6.68   \n",
       "bedrooms                    1.000000e+00  1.000000e+00         2.00   \n",
       "bathrooms                   1.000000e+00  1.000000e+00         2.00   \n",
       "internal_area               5.100000e+01  7.880000e+01       140.00   \n",
       "floors                      1.600000e+01  2.900000e+01        38.00   \n",
       "towers                      1.000000e+00  1.000000e+00         1.00   \n",
       "year_built                  2.005000e+03  2.010000e+03      2015.00   \n",
       "has_elevator                1.000000e+00  1.000000e+00         1.00   \n",
       "has_parking                 1.000000e+00  1.000000e+00         1.00   \n",
       "has_security                1.000000e+00  1.000000e+00         1.00   \n",
       "has_cctv                    1.000000e+00  1.000000e+00         1.00   \n",
       "has_pool                    1.000000e+00  1.000000e+00         1.00   \n",
       "has_sauna                   0.000000e+00  1.000000e+00         1.00   \n",
       "has_gym                     1.000000e+00  1.000000e+00         1.00   \n",
       "has_garden_bbq              0.000000e+00  1.000000e+00         1.00   \n",
       "has_playground              0.000000e+00  0.000000e+00         1.00   \n",
       "has_shop_on_premise         0.000000e+00  0.000000e+00         1.00   \n",
       "has_restaurant_on_premise   0.000000e+00  0.000000e+00         0.00   \n",
       "has_wifi                    0.000000e+00  1.000000e+00         1.00   \n",
       "city_train_distance         4.200000e+02  7.400000e+02      1200.00   \n",
       "express_way_distance        1.300000e+03  1.900000e+03      2400.00   \n",
       "close_city_train            0.000000e+00  1.000000e+00         1.00   \n",
       "close_express_way           0.000000e+00  0.000000e+00         0.00   \n",
       "\n",
       "                                     max  \n",
       "sale_price                  2.204167e+08  \n",
       "asking_price                4.654460e+05  \n",
       "asking_price_change_quater  5.290000e+01  \n",
       "asking_price_change_year    1.656600e+02  \n",
       "gross_rental_yield          1.171000e+01  \n",
       "rental_price_change_year    6.469000e+01  \n",
       "bedrooms                    5.000000e+00  \n",
       "bathrooms                   5.000000e+00  \n",
       "internal_area               6.300000e+02  \n",
       "floors                      7.700000e+01  \n",
       "towers                      9.000000e+00  \n",
       "year_built                  2.024000e+03  \n",
       "has_elevator                1.000000e+00  \n",
       "has_parking                 1.000000e+00  \n",
       "has_security                1.000000e+00  \n",
       "has_cctv                    1.000000e+00  \n",
       "has_pool                    1.000000e+00  \n",
       "has_sauna                   1.000000e+00  \n",
       "has_gym                     1.000000e+00  \n",
       "has_garden_bbq              1.000000e+00  \n",
       "has_playground              1.000000e+00  \n",
       "has_shop_on_premise         1.000000e+00  \n",
       "has_restaurant_on_premise   1.000000e+00  \n",
       "has_wifi                    1.000000e+00  \n",
       "city_train_distance         1.000000e+04  \n",
       "express_way_distance        6.700000e+03  \n",
       "close_city_train            1.000000e+00  \n",
       "close_express_way           1.000000e+00  "
      ]
     },
     "execution_count": 5,
     "metadata": {},
     "output_type": "execute_result"
    }
   ],
   "source": [
    "df.describe().T"
   ]
  },
  {
   "cell_type": "markdown",
   "id": "361f4eee-9cc4-4392-81df-e74019dfbeb9",
   "metadata": {},
   "source": [
    "## 4.1 Outlier Check"
   ]
  },
  {
   "cell_type": "code",
   "execution_count": 48,
   "id": "a0125240-2b05-48d6-b27a-a70a5099dd68",
   "metadata": {},
   "outputs": [
    {
     "name": "stdout",
     "output_type": "stream",
     "text": [
      "Skewness: 5.02567242610581\n"
     ]
    },
    {
     "data": {
      "image/png": "[encoded data removed]",
      "text/plain": [
       "<Figure size 864x432 with 1 Axes>"
      ]
     },
     "metadata": {
      "needs_background": "light"
     },
     "output_type": "display_data"
    }
   ],
   "source": [
    "# Plot sale_price distribution.\n",
    "\n",
    "print('Skewness:', df['sale_price'].skew())\n",
    "\n",
    "plt.figure(figsize=(12, 6))\n",
    "plt.hist(df['sale_price'])\n",
    "plt.vlines(df['sale_price'].mean(), ymin=0, ymax=df.shape[0], color='red', label='Mean')\n",
    "plt.vlines(df['sale_price'].median(), ymin=0, ymax=df.shape[0], color='Green', label='Median')\n",
    "plt.title('Histogram - Sale Price')\n",
    "plt.legend();\n",
    "\n",
    "\n",
    "## The saleprice distribution is right skew so we could normalize it by using log e"
   ]
  },
  {
   "cell_type": "code",
   "execution_count": 7,
   "id": "126af1b7-2cae-4762-800f-c45ca809b1e8",
   "metadata": {},
   "outputs": [
    {
     "data": {
      "image/png": "[encoded data removed]",
      "text/plain": [
       "<Figure size 432x288 with 1 Axes>"
      ]
     },
     "metadata": {
      "needs_background": "light"
     },
     "output_type": "display_data"
    }
   ],
   "source": [
    "# Boxplot\n",
    "plt.boxplot(df['sale_price']);"
   ]
  },
  {
   "cell_type": "markdown",
   "id": "540e368b-08b8-4c98-a760-2ed2da1cbd95",
   "metadata": {},
   "source": [
    "**Due to various characters of condominium and differences demand in each district,** condominium sale price range is extremely wide that made sale price variable has outlier values on the right hand side.\n",
    "\n",
    "The effect of extremely wide sale price range could affect liner regression model more than other types of model.\n",
    "\n",
    "**To minimize the effect on liner regression model we can:**\n",
    "1. Remove some extreme outliers out from our dataset\n",
    "2. Log transform sale price variable to normalize its scale"
   ]
  },
  {
   "cell_type": "code",
   "execution_count": 74,
   "id": "047a1c12-069f-46bb-87b3-426c0d283880",
   "metadata": {},
   "outputs": [
    {
     "name": "stdout",
     "output_type": "stream",
     "text": [
      "Skewness: 0.7042436247732304\n"
     ]
    },
    {
     "data": {
      "image/png": "[encoded data removed]",
      "text/plain": [
       "<Figure size 864x432 with 1 Axes>"
      ]
     },
     "metadata": {
      "needs_background": "light"
     },
     "output_type": "display_data"
    }
   ],
   "source": [
    "# Plot sale_price distribution.\n",
    "\n",
    "print('Skewness:', np.log(df['sale_price']).skew())\n",
    "\n",
    "plt.figure(figsize=(12, 6))\n",
    "plt.hist(np.log(df['sale_price']))\n",
    "plt.vlines(np.log(df['sale_price']).mean(), ymin=0, ymax=df.shape[0], color='red', label='Mean')\n",
    "plt.vlines(np.log(df['sale_price']).median(), ymin=0, ymax=df.shape[0], color='Green', label='Median')\n",
    "plt.title('Histogram - Sale Price')\n",
    "plt.legend();\n",
    "\n",
    "\n",
    "## The saleprice distribution is right skew so we could normalize it by using log e"
   ]
  },
  {
   "cell_type": "markdown",
   "id": "086c946e-62bb-4260-8bb8-ba557f8e873e",
   "metadata": {},
   "source": [
    "**After `sale_price` log transformation,** its distribution looks more normal. comparing before and after transformation, skewness has reduced and histogram chart is also more normally distributed."
   ]
  },
  {
   "cell_type": "markdown",
   "id": "c7e2a75c-23ab-409b-a5f8-387c435df5e5",
   "metadata": {},
   "source": [
    "## 4.3 Correlation"
   ]
  },
  {
   "cell_type": "code",
   "execution_count": 8,
   "id": "100b2a85-232d-44a7-a46e-737b7053fd17",
   "metadata": {},
   "outputs": [
    {
     "data": {
      "image/png": "[encoded data removed]",
      "text/plain": [
       "<Figure size 720x1440 with 2 Axes>"
      ]
     },
     "metadata": {
      "needs_background": "light"
     },
     "output_type": "display_data"
    }
   ],
   "source": [
    "# Find correlation to sale_price\n",
    "# Check correlation with saleprice\n",
    "plt.figure(figsize=(10,20))\n",
    "sns.heatmap(df.corr()[['sale_price']].sort_values(by='sale_price', ascending=False)\n",
    "            , cmap='bone', annot=True);"
   ]
  },
  {
   "cell_type": "markdown",
   "id": "dd61962a-bd0b-4b59-897a-c05359aa45a7",
   "metadata": {},
   "source": [
    "## 4.4 Data Characteristic"
   ]
  },
  {
   "cell_type": "markdown",
   "id": "610229f3-f731-4b1b-ae00-c5e1e7470580",
   "metadata": {},
   "source": [
    "### 4.4.1 Numeric Features"
   ]
  },
  {
   "cell_type": "code",
   "execution_count": 115,
   "id": "0dafbc8f-c22d-4199-9877-8e48648c29f2",
   "metadata": {},
   "outputs": [
    {
     "name": "stdout",
     "output_type": "stream",
     "text": [
      "\n",
      "-------------- asking_price --------------\n",
      "count        962.000000\n",
      "max       465446.000000\n",
      "min        42893.000000\n",
      "mean      166630.545738\n",
      "median    148877.000000\n",
      "Name: asking_price, dtype: float64\n",
      "-------------------------------------\n",
      "\n",
      "-------------- asking_price_change_quater --------------\n",
      "count     962.000000\n",
      "max        52.900000\n",
      "min       -57.210000\n",
      "mean        0.661279\n",
      "median      0.000000\n",
      "Name: asking_price_change_quater, dtype: float64\n",
      "-------------------------------------\n",
      "\n",
      "-------------- asking_price_change_year --------------\n",
      "count     962.000000\n",
      "max       165.660000\n",
      "min       -79.810000\n",
      "mean        2.934948\n",
      "median      0.290000\n",
      "Name: asking_price_change_year, dtype: float64\n",
      "-------------------------------------\n",
      "\n",
      "-------------- gross_rental_yield --------------\n",
      "count     962.000000\n",
      "max        11.710000\n",
      "min         0.000000\n",
      "mean        4.145759\n",
      "median      4.235000\n",
      "Name: gross_rental_yield, dtype: float64\n",
      "-------------------------------------\n",
      "\n",
      "-------------- rental_price_change_year --------------\n",
      "count     934.000000\n",
      "max        64.690000\n",
      "min       -55.740000\n",
      "mean        1.853266\n",
      "median      1.310000\n",
      "Name: rental_price_change_year, dtype: float64\n",
      "-------------------------------------\n",
      "\n",
      "-------------- bedrooms --------------\n",
      "count     1012.000000\n",
      "max          5.000000\n",
      "min          1.000000\n",
      "mean         1.637352\n",
      "median       1.000000\n",
      "Name: bedrooms, dtype: float64\n",
      "-------------------------------------\n",
      "\n",
      "-------------- bathrooms --------------\n",
      "count     1010.000000\n",
      "max          5.000000\n",
      "min          1.000000\n",
      "mean         1.618812\n",
      "median       1.000000\n",
      "Name: bathrooms, dtype: float64\n",
      "-------------------------------------\n",
      "\n",
      "-------------- internal_area --------------\n",
      "count     1005.000000\n",
      "max        630.000000\n",
      "min         18.570000\n",
      "mean       112.252577\n",
      "median      78.800000\n",
      "Name: internal_area, dtype: float64\n",
      "-------------------------------------\n",
      "\n",
      "-------------- floors --------------\n",
      "count     929.000000\n",
      "max        77.000000\n",
      "min         5.000000\n",
      "mean       28.856835\n",
      "median     29.000000\n",
      "Name: floors, dtype: float64\n",
      "-------------------------------------\n",
      "\n",
      "-------------- towers --------------\n",
      "count     968.000000\n",
      "max         9.000000\n",
      "min         1.000000\n",
      "mean        1.354339\n",
      "median      1.000000\n",
      "Name: towers, dtype: float64\n",
      "-------------------------------------\n",
      "\n",
      "-------------- year_built --------------\n",
      "count      858.000000\n",
      "max       2024.000000\n",
      "min       1981.000000\n",
      "mean      2008.588578\n",
      "median    2010.000000\n",
      "Name: year_built, dtype: float64\n",
      "-------------------------------------\n",
      "\n",
      "-------------- city_train_distance --------------\n",
      "count       953.000000\n",
      "max       10000.000000\n",
      "min          12.000000\n",
      "mean        982.167891\n",
      "median      740.000000\n",
      "Name: city_train_distance, dtype: float64\n",
      "-------------------------------------\n",
      "\n",
      "-------------- express_way_distance --------------\n",
      "count      937.000000\n",
      "max       6700.000000\n",
      "min        150.000000\n",
      "mean      1926.211313\n",
      "median    1900.000000\n",
      "Name: express_way_distance, dtype: float64\n",
      "-------------------------------------\n"
     ]
    }
   ],
   "source": [
    "# Print each numeric features aggregate values\n",
    "\n",
    "for feat in numeric_features:\n",
    "    print(f\"\"\"\n",
    "-------------- {feat} --------------\"\"\")\n",
    "    print(df[feat].agg(['count', 'max', 'min', 'mean', 'median']))\n",
    "    print(\"-------------------------------------\")\n",
    "    "
   ]
  },
  {
   "cell_type": "markdown",
   "id": "2e3434b0-5d70-438f-b4cb-bd58aff67c86",
   "metadata": {},
   "source": [
    "To understand more about relationship of `sale_price` and numeric features, we will plot `sale_price` against each features."
   ]
  },
  {
   "cell_type": "code",
   "execution_count": 61,
   "id": "5bffddcd-12c4-4f5b-993b-a773c9b6c69c",
   "metadata": {},
   "outputs": [
    {
     "data": {
      "image/png": "[encoded data removed]",
      "text/plain": [
       "<Figure size 1152x1440 with 16 Axes>"
      ]
     },
     "metadata": {
      "needs_background": "light"
     },
     "output_type": "display_data"
    }
   ],
   "source": [
    "# Plot numeric features against saleprice.\n",
    "\n",
    "fig, axes = plt.subplots(4, 4, figsize=(16,20))\n",
    "\n",
    "for i, feat in enumerate(numeric_features): ## iterate column name\n",
    "    x = i // 4\n",
    "    y = i % 4\n",
    "    pl = sns.scatterplot(\n",
    "        ax=axes[x,y],\n",
    "        x=feat,\n",
    "        y='sale_price',\n",
    "        data=df)\n",
    "    if y != 0:\n",
    "        pl.set(ylabel=None, yticklabels=[])  ## show label only the leftmost plot "
   ]
  },
  {
   "cell_type": "markdown",
   "id": "0156c8ca-5347-4955-bcf7-8b54d7458628",
   "metadata": {},
   "source": [
    "### 4.4.2 Categorical Features"
   ]
  },
  {
   "cell_type": "code",
   "execution_count": 116,
   "id": "fbdad708-5e68-4b5e-8fe3-1ecbdb02ce90",
   "metadata": {},
   "outputs": [],
   "source": [
    "def category_chart(data, features, target):\n",
    "    \"\"\"Create barcharts from iterating all categorical variables from 'x' list of variables \n",
    "    against y\n",
    "    data = pd.DataFrame\n",
    "    x = list of categorical variable name\n",
    "    y = target variable\"\"\"\n",
    "    # create subplots by number of x\n",
    "    rows = math.ceil(len(features) / 4)\n",
    "    fig, axes = plt.subplots(rows, 4, figsize=(20, rows * 5))\n",
    "    \n",
    "    # iterate column name\n",
    "    for i, feat in enumerate(features): \n",
    "        x = i // 4\n",
    "        y = i % 4\n",
    "        if len(features) <= 4:\n",
    "            axs = axes[y]\n",
    "        else:\n",
    "            axs = axes[x, y]\n",
    "        pl = sns.barplot(\n",
    "            ax = axs,\n",
    "            x = feat,\n",
    "            y = target,\n",
    "            data = data)\n",
    "        if y != 0:\n",
    "            pl.set(ylabel=None, yticklabels=[])  ## show label only the leftmost plot "
   ]
  },
  {
   "cell_type": "code",
   "execution_count": 122,
   "id": "2671f51f-5842-4b48-8eb8-6906bed2f1fe",
   "metadata": {},
   "outputs": [
    {
     "data": {
      "image/png": "[encoded data removed]",
      "text/plain": [
       "<Figure size 1440x1440 with 16 Axes>"
      ]
     },
     "metadata": {
      "needs_background": "light"
     },
     "output_type": "display_data"
    }
   ],
   "source": [
    "# Plot barchart vs. saleprice\n",
    "category_chart(df, categorical_features, 'sale_price')"
   ]
  },
  {
   "cell_type": "markdown",
   "id": "7031d18f-1e1c-447d-9c32-bf564516896a",
   "metadata": {},
   "source": [
    "## 4.4 Feature Engineering"
   ]
  },
  {
   "cell_type": "code",
   "execution_count": null,
   "id": "8b863b00-66bd-4a0d-85b2-0354c16bae06",
   "metadata": {},
   "outputs": [],
   "source": []
  },
  {
   "cell_type": "markdown",
   "id": "80b7a059-c359-4de3-9f1f-5bf8bd100f4c",
   "metadata": {},
   "source": [
    "## 4.4.2 Data Preparation for Modeling"
   ]
  },
  {
   "cell_type": "markdown",
   "id": "fee577be-3652-44e4-82cb-dc618bc3889b",
   "metadata": {},
   "source": [
    "This part will create 3 types of dataframe to train models\n",
    "1. Dataframe that drop all rows that contain missing values\n",
    "2. Dataframe that impute missing values by each feature median\n",
    "3. Dataframe that fill missing values by 0 -> Filling 0 to missing values is good for XGBoost model"
   ]
  },
  {
   "cell_type": "code",
   "execution_count": 4,
   "id": "83f6d788-a38f-4a95-b206-290fd120ce0b",
   "metadata": {},
   "outputs": [],
   "source": [
    "# Create 3 dataframes\n",
    "# Drop null rows\n",
    "df_dropna = df.dropna().reset_index()"
   ]
  },
  {
   "cell_type": "code",
   "execution_count": 5,
   "id": "92178143-3dc9-48ba-a977-27d8b662a3b3",
   "metadata": {},
   "outputs": [],
   "source": [
    "# Get dummy features by one hot encoder\n",
    "oh = OneHotEncoder()\n",
    "\n",
    "df_dummy_district = pd.DataFrame(oh.fit_transform(df_dropna[['district']]).toarray(),\n",
    "                                 columns=oh.get_feature_names_out())\n"
   ]
  },
  {
   "cell_type": "code",
   "execution_count": 6,
   "id": "df4bd321-9c3c-4b20-9da0-4bc4dac277e0",
   "metadata": {
    "tags": []
   },
   "outputs": [],
   "source": [
    "# Create X, y\n",
    "features = [\n",
    "    'asking_price', 'asking_price_change_quater',\n",
    "    'asking_price_change_year', 'gross_rental_yield',\n",
    "    'rental_price_change_year', 'bedrooms', 'bathrooms', 'internal_area',\n",
    "    'floors', 'towers', 'year_built', 'has_elevator', 'has_parking',\n",
    "    'has_security', 'has_cctv', 'has_pool', 'has_sauna', 'has_gym',\n",
    "    'has_garden_bbq', 'has_playground', 'has_shop_on_premise',\n",
    "    'has_restaurant_on_premise', 'has_wifi', 'city_train_distance',\n",
    "    'express_way_distance', 'close_city_train', 'close_express_way'\n",
    "]\n",
    "\n",
    "X = df_dropna[features].merge(df_dummy_district, left_index=True, right_index=True)\n",
    "y = df_dropna['sale_price']\n",
    "\n",
    "# Train & test split\n",
    "X_train, X_test, y_train, y_test = train_test_split(X, y, random_state=42)\n",
    "\n",
    "# y log transformation\n",
    "y_train_log = np.log(y_train)\n",
    "y_test_log = np.log(y_test)"
   ]
  },
  {
   "cell_type": "markdown",
   "id": "d12f6461-970d-4e98-9e4c-40630a96d1e3",
   "metadata": {},
   "source": [
    "# 5. Modeling and Evaluation\n",
    "---\n",
    "---"
   ]
  },
  {
   "cell_type": "code",
   "execution_count": 96,
   "id": "617f5650-3446-44c6-8644-4e08bb62391c",
   "metadata": {},
   "outputs": [],
   "source": [
    "# create function to return model metrics\n",
    "\n",
    "def r2_adj(y_true, y_pred):\n",
    "    \"\"\"Calcualte adjusted R^2\"\"\"\n",
    "    return 1 - (1-metrics.r2_score(y_true, y_pred)) * (len(y) - 1 ) / (len(y) - X.shape[1] - 1)\n",
    "\n",
    "\n",
    "def reg_metrics(trained_model, X_train=X_train, X_test=X_test\n",
    "                , y_train=y_train, y_test=y_test, cross_val=True):\n",
    "    \"\"\"Return evaluation metrices of regression problems:\n",
    "    \"\"\"\n",
    "    # Create metrics - train\n",
    "    y_train_preds = trained_model.predict(X_train)\n",
    "    train_mae = metrics.mean_absolute_error(y_train, y_train_preds)\n",
    "    train_rmse = metrics.mean_squared_error(y_train, y_train_preds, squared=False)\n",
    "    train_r2 = metrics.r2_score(y_train, y_train_preds)\n",
    "    train_adj_r2 = r2_adj(y_train, y_train_preds)\n",
    "    \n",
    "    # Create metrics - test\n",
    "    y_test_preds = trained_model.predict(X_test)\n",
    "    test_mae = metrics.mean_absolute_error(y_test, y_test_preds)\n",
    "    test_rmse = metrics.mean_squared_error(y_test, y_test_preds, squared=False)\n",
    "    test_r2 = metrics.r2_score(y_test, y_test_preds)\n",
    "    test_adj_r2 = r2_adj(y_test, y_test_preds)\n",
    "    \n",
    "    if cross_val == True:\n",
    "        cross_train = cross_val_score(trained_model, X_train, y_train)\n",
    "        cross_train_mean = cross_val_score(trained_model, X_train, y_train).mean()\n",
    "    else:\n",
    "        cross_train = None\n",
    "        cross_train_mean = None\n",
    "    \n",
    "    print(f\"\"\"-----------Train Data-----------\n",
    "MAE: {train_mae}\n",
    "MSE: {train_rmse**2}\n",
    "RMSE: {train_rmse}\n",
    "R2: {train_r2}\n",
    "Adj_R2: {train_adj_r2}\n",
    "Cross Validation: {cross_train}\n",
    "Cross Validation Mean: {cross_train_mean}\n",
    "--------------------------------\"\"\")\n",
    "    print(f\"\"\"-----------Test Data-----------\n",
    "MAE: {test_mae}\n",
    "MSE: {test_rmse**2}\n",
    "RMSE: {test_rmse}\n",
    "R2: {test_r2}\n",
    "Adj_R2: {test_adj_r2}\n",
    "--------------------------------\"\"\")"
   ]
  },
  {
   "cell_type": "markdown",
   "id": "0002c5eb-8d08-4ab3-a2ee-99338379134e",
   "metadata": {},
   "source": [
    "## 5.1 Linear Regression Based Models\n",
    "To squeeze performance of linear regression based models, feature selection and feature engineering will paly important role of this section."
   ]
  },
  {
   "cell_type": "markdown",
   "id": "5e922c41-e79a-4b57-b578-990b61fc0094",
   "metadata": {},
   "source": [
    "### Base Model\n",
    "---"
   ]
  },
  {
   "cell_type": "code",
   "execution_count": 18,
   "id": "a83da3e6-adf9-413c-a469-625c015dc731",
   "metadata": {},
   "outputs": [
    {
     "data": {
      "text/html": [
       "<style>#sk-container-id-1 {color: black;background-color: white;}#sk-container-id-1 pre{padding: 0;}#sk-container-id-1 div.sk-toggleable {background-color: white;}#sk-container-id-1 label.sk-toggleable__label {cursor: pointer;display: block;width: 100%;margin-bottom: 0;padding: 0.3em;box-sizing: border-box;text-align: center;}#sk-container-id-1 label.sk-toggleable__label-arrow:before {content: \"▸\";float: left;margin-right: 0.25em;color: #696969;}#sk-container-id-1 label.sk-toggleable__label-arrow:hover:before {color: black;}#sk-container-id-1 div.sk-estimator:hover label.sk-toggleable__label-arrow:before {color: black;}#sk-container-id-1 div.sk-toggleable__content {max-height: 0;max-width: 0;overflow: hidden;text-align: left;background-color: #f0f8ff;}#sk-container-id-1 div.sk-toggleable__content pre {margin: 0.2em;color: black;border-radius: 0.25em;background-color: #f0f8ff;}#sk-container-id-1 input.sk-toggleable__control:checked~div.sk-toggleable__content {max-height: 200px;max-width: 100%;overflow: auto;}#sk-container-id-1 input.sk-toggleable__control:checked~label.sk-toggleable__label-arrow:before {content: \"▾\";}#sk-container-id-1 div.sk-estimator input.sk-toggleable__control:checked~label.sk-toggleable__label {background-color: #d4ebff;}#sk-container-id-1 div.sk-label input.sk-toggleable__control:checked~label.sk-toggleable__label {background-color: #d4ebff;}#sk-container-id-1 input.sk-hidden--visually {border: 0;clip: rect(1px 1px 1px 1px);clip: rect(1px, 1px, 1px, 1px);height: 1px;margin: -1px;overflow: hidden;padding: 0;position: absolute;width: 1px;}#sk-container-id-1 div.sk-estimator {font-family: monospace;background-color: #f0f8ff;border: 1px dotted black;border-radius: 0.25em;box-sizing: border-box;margin-bottom: 0.5em;}#sk-container-id-1 div.sk-estimator:hover {background-color: #d4ebff;}#sk-container-id-1 div.sk-parallel-item::after {content: \"\";width: 100%;border-bottom: 1px solid gray;flex-grow: 1;}#sk-container-id-1 div.sk-label:hover label.sk-toggleable__label {background-color: #d4ebff;}#sk-container-id-1 div.sk-serial::before {content: \"\";position: absolute;border-left: 1px solid gray;box-sizing: border-box;top: 0;bottom: 0;left: 50%;z-index: 0;}#sk-container-id-1 div.sk-serial {display: flex;flex-direction: column;align-items: center;background-color: white;padding-right: 0.2em;padding-left: 0.2em;position: relative;}#sk-container-id-1 div.sk-item {position: relative;z-index: 1;}#sk-container-id-1 div.sk-parallel {display: flex;align-items: stretch;justify-content: center;background-color: white;position: relative;}#sk-container-id-1 div.sk-item::before, #sk-container-id-1 div.sk-parallel-item::before {content: \"\";position: absolute;border-left: 1px solid gray;box-sizing: border-box;top: 0;bottom: 0;left: 50%;z-index: -1;}#sk-container-id-1 div.sk-parallel-item {display: flex;flex-direction: column;z-index: 1;position: relative;background-color: white;}#sk-container-id-1 div.sk-parallel-item:first-child::after {align-self: flex-end;width: 50%;}#sk-container-id-1 div.sk-parallel-item:last-child::after {align-self: flex-start;width: 50%;}#sk-container-id-1 div.sk-parallel-item:only-child::after {width: 0;}#sk-container-id-1 div.sk-dashed-wrapped {border: 1px dashed gray;margin: 0 0.4em 0.5em 0.4em;box-sizing: border-box;padding-bottom: 0.4em;background-color: white;}#sk-container-id-1 div.sk-label label {font-family: monospace;font-weight: bold;display: inline-block;line-height: 1.2em;}#sk-container-id-1 div.sk-label-container {text-align: center;}#sk-container-id-1 div.sk-container {/* jupyter's `normalize.less` sets `[hidden] { display: none; }` but bootstrap.min.css set `[hidden] { display: none !important; }` so we also need the `!important` here to be able to override the default hidden behavior on the sphinx rendered scikit-learn.org. See: https://github.com/scikit-learn/scikit-learn/issues/21755 */display: inline-block !important;position: relative;}#sk-container-id-1 div.sk-text-repr-fallback {display: none;}</style><div id=\"sk-container-id-1\" class=\"sk-top-container\"><div class=\"sk-text-repr-fallback\"><pre>LinearRegression()</pre><b>In a Jupyter environment, please rerun this cell to show the HTML representation or trust the notebook. <br />On GitHub, the HTML representation is unable to render, please try loading this page with nbviewer.org.</b></div><div class=\"sk-container\" hidden><div class=\"sk-item\"><div class=\"sk-estimator sk-toggleable\"><input class=\"sk-toggleable__control sk-hidden--visually\" id=\"sk-estimator-id-1\" type=\"checkbox\" checked><label for=\"sk-estimator-id-1\" class=\"sk-toggleable__label sk-toggleable__label-arrow\">LinearRegression</label><div class=\"sk-toggleable__content\"><pre>LinearRegression()</pre></div></div></div></div></div>"
      ],
      "text/plain": [
       "LinearRegression()"
      ]
     },
     "execution_count": 18,
     "metadata": {},
     "output_type": "execute_result"
    }
   ],
   "source": [
    "lr = LinearRegression()\n",
    "lr.fit(X_train, y_train)"
   ]
  },
  {
   "cell_type": "code",
   "execution_count": 19,
   "id": "6d00a3fb-7e06-4a63-906d-7a2fc8bbb414",
   "metadata": {},
   "outputs": [
    {
     "name": "stdout",
     "output_type": "stream",
     "text": [
      "-----------Train Data-----------\n",
      "MAE: 4968874.852529523\n",
      "MSE: 82993695361108.19\n",
      "RMSE: 9110087.560562093\n",
      "R2: 0.7718039578290121\n",
      "Adj_R2: 0.7586445530380246\n",
      "Cross Validation: [0.70357887 0.7499979  0.73147993 0.74407035 0.66656776]\n",
      "Cross Validation Mean: 0.7191389612519221\n",
      "--------------------------------\n",
      "-----------Test Data-----------\n",
      "MAE: 5085843.549645814\n",
      "MSE: 57794955476346.63\n",
      "RMSE: 7602299.354560213\n",
      "R2: 0.7342435851533513\n",
      "Adj_R2: 0.7189181824623256\n",
      "--------------------------------\n"
     ]
    }
   ],
   "source": [
    "reg_metrics(lr)"
   ]
  },
  {
   "cell_type": "code",
   "execution_count": 33,
   "id": "075e686d-86b9-42d1-9796-4b4cd8533ace",
   "metadata": {},
   "outputs": [
    {
     "data": {
      "text/plain": [
       "district_Bang Sue         1.081441e+07\n",
       "district_Suan Luang       1.063011e+07\n",
       "has_parking               6.114303e+06\n",
       "district_Thon Buri        4.645235e+06\n",
       "bathrooms                 4.478547e+06\n",
       "district_Bang Kho Laem    3.983539e+06\n",
       "gross_rental_yield        3.234683e+06\n",
       "has_shop_on_premise       3.005715e+06\n",
       "has_pool                  2.688848e+06\n",
       "close_express_way         2.529838e+06\n",
       "dtype: float64"
      ]
     },
     "execution_count": 33,
     "metadata": {},
     "output_type": "execute_result"
    }
   ],
   "source": [
    "pd.Series(lr.coef_, index=X_train.columns).sort_values(ascending=False)[:10]"
   ]
  },
  {
   "cell_type": "markdown",
   "id": "ef2f0487-3fd5-4d8d-99ec-b19f750cb444",
   "metadata": {},
   "source": [
    "### Linear Regression with Log Transformation\n",
    "---\n",
    "\n",
    "Using log `sale_price`"
   ]
  },
  {
   "cell_type": "code",
   "execution_count": 81,
   "id": "97275439-4d5b-454e-9208-093cb3ab37ea",
   "metadata": {},
   "outputs": [
    {
     "data": {
      "text/html": [
       "<style>#sk-container-id-4 {color: black;background-color: white;}#sk-container-id-4 pre{padding: 0;}#sk-container-id-4 div.sk-toggleable {background-color: white;}#sk-container-id-4 label.sk-toggleable__label {cursor: pointer;display: block;width: 100%;margin-bottom: 0;padding: 0.3em;box-sizing: border-box;text-align: center;}#sk-container-id-4 label.sk-toggleable__label-arrow:before {content: \"▸\";float: left;margin-right: 0.25em;color: #696969;}#sk-container-id-4 label.sk-toggleable__label-arrow:hover:before {color: black;}#sk-container-id-4 div.sk-estimator:hover label.sk-toggleable__label-arrow:before {color: black;}#sk-container-id-4 div.sk-toggleable__content {max-height: 0;max-width: 0;overflow: hidden;text-align: left;background-color: #f0f8ff;}#sk-container-id-4 div.sk-toggleable__content pre {margin: 0.2em;color: black;border-radius: 0.25em;background-color: #f0f8ff;}#sk-container-id-4 input.sk-toggleable__control:checked~div.sk-toggleable__content {max-height: 200px;max-width: 100%;overflow: auto;}#sk-container-id-4 input.sk-toggleable__control:checked~label.sk-toggleable__label-arrow:before {content: \"▾\";}#sk-container-id-4 div.sk-estimator input.sk-toggleable__control:checked~label.sk-toggleable__label {background-color: #d4ebff;}#sk-container-id-4 div.sk-label input.sk-toggleable__control:checked~label.sk-toggleable__label {background-color: #d4ebff;}#sk-container-id-4 input.sk-hidden--visually {border: 0;clip: rect(1px 1px 1px 1px);clip: rect(1px, 1px, 1px, 1px);height: 1px;margin: -1px;overflow: hidden;padding: 0;position: absolute;width: 1px;}#sk-container-id-4 div.sk-estimator {font-family: monospace;background-color: #f0f8ff;border: 1px dotted black;border-radius: 0.25em;box-sizing: border-box;margin-bottom: 0.5em;}#sk-container-id-4 div.sk-estimator:hover {background-color: #d4ebff;}#sk-container-id-4 div.sk-parallel-item::after {content: \"\";width: 100%;border-bottom: 1px solid gray;flex-grow: 1;}#sk-container-id-4 div.sk-label:hover label.sk-toggleable__label {background-color: #d4ebff;}#sk-container-id-4 div.sk-serial::before {content: \"\";position: absolute;border-left: 1px solid gray;box-sizing: border-box;top: 0;bottom: 0;left: 50%;z-index: 0;}#sk-container-id-4 div.sk-serial {display: flex;flex-direction: column;align-items: center;background-color: white;padding-right: 0.2em;padding-left: 0.2em;position: relative;}#sk-container-id-4 div.sk-item {position: relative;z-index: 1;}#sk-container-id-4 div.sk-parallel {display: flex;align-items: stretch;justify-content: center;background-color: white;position: relative;}#sk-container-id-4 div.sk-item::before, #sk-container-id-4 div.sk-parallel-item::before {content: \"\";position: absolute;border-left: 1px solid gray;box-sizing: border-box;top: 0;bottom: 0;left: 50%;z-index: -1;}#sk-container-id-4 div.sk-parallel-item {display: flex;flex-direction: column;z-index: 1;position: relative;background-color: white;}#sk-container-id-4 div.sk-parallel-item:first-child::after {align-self: flex-end;width: 50%;}#sk-container-id-4 div.sk-parallel-item:last-child::after {align-self: flex-start;width: 50%;}#sk-container-id-4 div.sk-parallel-item:only-child::after {width: 0;}#sk-container-id-4 div.sk-dashed-wrapped {border: 1px dashed gray;margin: 0 0.4em 0.5em 0.4em;box-sizing: border-box;padding-bottom: 0.4em;background-color: white;}#sk-container-id-4 div.sk-label label {font-family: monospace;font-weight: bold;display: inline-block;line-height: 1.2em;}#sk-container-id-4 div.sk-label-container {text-align: center;}#sk-container-id-4 div.sk-container {/* jupyter's `normalize.less` sets `[hidden] { display: none; }` but bootstrap.min.css set `[hidden] { display: none !important; }` so we also need the `!important` here to be able to override the default hidden behavior on the sphinx rendered scikit-learn.org. See: https://github.com/scikit-learn/scikit-learn/issues/21755 */display: inline-block !important;position: relative;}#sk-container-id-4 div.sk-text-repr-fallback {display: none;}</style><div id=\"sk-container-id-4\" class=\"sk-top-container\"><div class=\"sk-text-repr-fallback\"><pre>LinearRegression()</pre><b>In a Jupyter environment, please rerun this cell to show the HTML representation or trust the notebook. <br />On GitHub, the HTML representation is unable to render, please try loading this page with nbviewer.org.</b></div><div class=\"sk-container\" hidden><div class=\"sk-item\"><div class=\"sk-estimator sk-toggleable\"><input class=\"sk-toggleable__control sk-hidden--visually\" id=\"sk-estimator-id-4\" type=\"checkbox\" checked><label for=\"sk-estimator-id-4\" class=\"sk-toggleable__label sk-toggleable__label-arrow\">LinearRegression</label><div class=\"sk-toggleable__content\"><pre>LinearRegression()</pre></div></div></div></div></div>"
      ],
      "text/plain": [
       "LinearRegression()"
      ]
     },
     "execution_count": 81,
     "metadata": {},
     "output_type": "execute_result"
    }
   ],
   "source": [
    "lr_log_y = LinearRegression()\n",
    "lr_log_y.fit(X_train, y_train_log)"
   ]
  },
  {
   "cell_type": "code",
   "execution_count": 82,
   "id": "55e1472a-eb73-4f74-b623-a8811c6e56c5",
   "metadata": {},
   "outputs": [
    {
     "name": "stdout",
     "output_type": "stream",
     "text": [
      "-----------Train Data-----------\n",
      "MAE: 0.17580020798115584\n",
      "MSE: 0.052276462478356225\n",
      "RMSE: 0.2286404655312708\n",
      "R2: 0.9041774563274614\n",
      "Adj_R2: 0.898651647780159\n",
      "Cross Validation: [0.9020534  0.87022088 0.88091797 0.88724784 0.87715995]\n",
      "Cross Validation Mean: 0.8835200082720348\n",
      "--------------------------------\n",
      "-----------Test Data-----------\n",
      "MAE: 0.19378626022414971\n",
      "MSE: 0.07262949896253408\n",
      "RMSE: 0.26949860660592306\n",
      "R2: 0.8446470134841917\n",
      "Adj_R2: 0.835688256725744\n",
      "--------------------------------\n"
     ]
    }
   ],
   "source": [
    "reg_metrics(lr_log_y, y_train=y_train_log, y_test=y_test_log)"
   ]
  },
  {
   "cell_type": "markdown",
   "id": "a37740f6-c40a-4eda-bf4e-8a32b753515a",
   "metadata": {},
   "source": [
    "From log transformation of `sale_price`, a model performance is better comparing by R-squared."
   ]
  },
  {
   "cell_type": "markdown",
   "id": "daeb94f5-d33a-411f-b012-489a27b3df46",
   "metadata": {},
   "source": [
    "## 5.2 Tree Based Models"
   ]
  },
  {
   "cell_type": "markdown",
   "id": "3747a9c3-7a28-4096-a30d-636851c90a7d",
   "metadata": {},
   "source": [
    "### Random Forest\n",
    "---"
   ]
  },
  {
   "cell_type": "code",
   "execution_count": 21,
   "id": "a3c37c8a-ac34-4d76-ac0a-6231fa5701a6",
   "metadata": {},
   "outputs": [
    {
     "data": {
      "text/html": [
       "<style>#sk-container-id-2 {color: black;background-color: white;}#sk-container-id-2 pre{padding: 0;}#sk-container-id-2 div.sk-toggleable {background-color: white;}#sk-container-id-2 label.sk-toggleable__label {cursor: pointer;display: block;width: 100%;margin-bottom: 0;padding: 0.3em;box-sizing: border-box;text-align: center;}#sk-container-id-2 label.sk-toggleable__label-arrow:before {content: \"▸\";float: left;margin-right: 0.25em;color: #696969;}#sk-container-id-2 label.sk-toggleable__label-arrow:hover:before {color: black;}#sk-container-id-2 div.sk-estimator:hover label.sk-toggleable__label-arrow:before {color: black;}#sk-container-id-2 div.sk-toggleable__content {max-height: 0;max-width: 0;overflow: hidden;text-align: left;background-color: #f0f8ff;}#sk-container-id-2 div.sk-toggleable__content pre {margin: 0.2em;color: black;border-radius: 0.25em;background-color: #f0f8ff;}#sk-container-id-2 input.sk-toggleable__control:checked~div.sk-toggleable__content {max-height: 200px;max-width: 100%;overflow: auto;}#sk-container-id-2 input.sk-toggleable__control:checked~label.sk-toggleable__label-arrow:before {content: \"▾\";}#sk-container-id-2 div.sk-estimator input.sk-toggleable__control:checked~label.sk-toggleable__label {background-color: #d4ebff;}#sk-container-id-2 div.sk-label input.sk-toggleable__control:checked~label.sk-toggleable__label {background-color: #d4ebff;}#sk-container-id-2 input.sk-hidden--visually {border: 0;clip: rect(1px 1px 1px 1px);clip: rect(1px, 1px, 1px, 1px);height: 1px;margin: -1px;overflow: hidden;padding: 0;position: absolute;width: 1px;}#sk-container-id-2 div.sk-estimator {font-family: monospace;background-color: #f0f8ff;border: 1px dotted black;border-radius: 0.25em;box-sizing: border-box;margin-bottom: 0.5em;}#sk-container-id-2 div.sk-estimator:hover {background-color: #d4ebff;}#sk-container-id-2 div.sk-parallel-item::after {content: \"\";width: 100%;border-bottom: 1px solid gray;flex-grow: 1;}#sk-container-id-2 div.sk-label:hover label.sk-toggleable__label {background-color: #d4ebff;}#sk-container-id-2 div.sk-serial::before {content: \"\";position: absolute;border-left: 1px solid gray;box-sizing: border-box;top: 0;bottom: 0;left: 50%;z-index: 0;}#sk-container-id-2 div.sk-serial {display: flex;flex-direction: column;align-items: center;background-color: white;padding-right: 0.2em;padding-left: 0.2em;position: relative;}#sk-container-id-2 div.sk-item {position: relative;z-index: 1;}#sk-container-id-2 div.sk-parallel {display: flex;align-items: stretch;justify-content: center;background-color: white;position: relative;}#sk-container-id-2 div.sk-item::before, #sk-container-id-2 div.sk-parallel-item::before {content: \"\";position: absolute;border-left: 1px solid gray;box-sizing: border-box;top: 0;bottom: 0;left: 50%;z-index: -1;}#sk-container-id-2 div.sk-parallel-item {display: flex;flex-direction: column;z-index: 1;position: relative;background-color: white;}#sk-container-id-2 div.sk-parallel-item:first-child::after {align-self: flex-end;width: 50%;}#sk-container-id-2 div.sk-parallel-item:last-child::after {align-self: flex-start;width: 50%;}#sk-container-id-2 div.sk-parallel-item:only-child::after {width: 0;}#sk-container-id-2 div.sk-dashed-wrapped {border: 1px dashed gray;margin: 0 0.4em 0.5em 0.4em;box-sizing: border-box;padding-bottom: 0.4em;background-color: white;}#sk-container-id-2 div.sk-label label {font-family: monospace;font-weight: bold;display: inline-block;line-height: 1.2em;}#sk-container-id-2 div.sk-label-container {text-align: center;}#sk-container-id-2 div.sk-container {/* jupyter's `normalize.less` sets `[hidden] { display: none; }` but bootstrap.min.css set `[hidden] { display: none !important; }` so we also need the `!important` here to be able to override the default hidden behavior on the sphinx rendered scikit-learn.org. See: https://github.com/scikit-learn/scikit-learn/issues/21755 */display: inline-block !important;position: relative;}#sk-container-id-2 div.sk-text-repr-fallback {display: none;}</style><div id=\"sk-container-id-2\" class=\"sk-top-container\"><div class=\"sk-text-repr-fallback\"><pre>RandomForestRegressor(random_state=42)</pre><b>In a Jupyter environment, please rerun this cell to show the HTML representation or trust the notebook. <br />On GitHub, the HTML representation is unable to render, please try loading this page with nbviewer.org.</b></div><div class=\"sk-container\" hidden><div class=\"sk-item\"><div class=\"sk-estimator sk-toggleable\"><input class=\"sk-toggleable__control sk-hidden--visually\" id=\"sk-estimator-id-2\" type=\"checkbox\" checked><label for=\"sk-estimator-id-2\" class=\"sk-toggleable__label sk-toggleable__label-arrow\">RandomForestRegressor</label><div class=\"sk-toggleable__content\"><pre>RandomForestRegressor(random_state=42)</pre></div></div></div></div></div>"
      ],
      "text/plain": [
       "RandomForestRegressor(random_state=42)"
      ]
     },
     "execution_count": 21,
     "metadata": {},
     "output_type": "execute_result"
    }
   ],
   "source": [
    "rfr = RandomForestRegressor(random_state=42)\n",
    "\n",
    "rfr.fit(X_train, y_train)"
   ]
  },
  {
   "cell_type": "code",
   "execution_count": 22,
   "id": "1968b5a3-d6c3-459d-9f6e-02b4b219f46a",
   "metadata": {},
   "outputs": [
    {
     "name": "stdout",
     "output_type": "stream",
     "text": [
      "-----------Train Data-----------\n",
      "MAE: 1168382.7402147835\n",
      "MSE: 7750252765531.584\n",
      "RMSE: 2783927.579074496\n",
      "R2: 0.9786902246101474\n",
      "Adj_R2: 0.9774613515863552\n",
      "Cross Validation: [0.91140352 0.91376941 0.75060394 0.78650603 0.93014868]\n",
      "Cross Validation Mean: 0.8584863157016954\n",
      "--------------------------------\n",
      "-----------Test Data-----------\n",
      "MAE: 3165387.63\n",
      "MSE: 36566148307685.984\n",
      "RMSE: 6046994.981615744\n",
      "R2: 0.8318592271780783\n",
      "Adj_R2: 0.8221630358226857\n",
      "--------------------------------\n"
     ]
    }
   ],
   "source": [
    "reg_metrics(rfr)"
   ]
  },
  {
   "cell_type": "markdown",
   "id": "61dd1c2e-903b-4d07-a310-27c072c1ec97",
   "metadata": {},
   "source": [
    "### Random Forest with Log Transformation\n",
    "---\n",
    "Using log `sale_price`"
   ]
  },
  {
   "cell_type": "code",
   "execution_count": 83,
   "id": "14d03279-ed5d-4711-ace5-8af321f1d5f6",
   "metadata": {},
   "outputs": [
    {
     "data": {
      "text/html": [
       "<style>#sk-container-id-5 {color: black;background-color: white;}#sk-container-id-5 pre{padding: 0;}#sk-container-id-5 div.sk-toggleable {background-color: white;}#sk-container-id-5 label.sk-toggleable__label {cursor: pointer;display: block;width: 100%;margin-bottom: 0;padding: 0.3em;box-sizing: border-box;text-align: center;}#sk-container-id-5 label.sk-toggleable__label-arrow:before {content: \"▸\";float: left;margin-right: 0.25em;color: #696969;}#sk-container-id-5 label.sk-toggleable__label-arrow:hover:before {color: black;}#sk-container-id-5 div.sk-estimator:hover label.sk-toggleable__label-arrow:before {color: black;}#sk-container-id-5 div.sk-toggleable__content {max-height: 0;max-width: 0;overflow: hidden;text-align: left;background-color: #f0f8ff;}#sk-container-id-5 div.sk-toggleable__content pre {margin: 0.2em;color: black;border-radius: 0.25em;background-color: #f0f8ff;}#sk-container-id-5 input.sk-toggleable__control:checked~div.sk-toggleable__content {max-height: 200px;max-width: 100%;overflow: auto;}#sk-container-id-5 input.sk-toggleable__control:checked~label.sk-toggleable__label-arrow:before {content: \"▾\";}#sk-container-id-5 div.sk-estimator input.sk-toggleable__control:checked~label.sk-toggleable__label {background-color: #d4ebff;}#sk-container-id-5 div.sk-label input.sk-toggleable__control:checked~label.sk-toggleable__label {background-color: #d4ebff;}#sk-container-id-5 input.sk-hidden--visually {border: 0;clip: rect(1px 1px 1px 1px);clip: rect(1px, 1px, 1px, 1px);height: 1px;margin: -1px;overflow: hidden;padding: 0;position: absolute;width: 1px;}#sk-container-id-5 div.sk-estimator {font-family: monospace;background-color: #f0f8ff;border: 1px dotted black;border-radius: 0.25em;box-sizing: border-box;margin-bottom: 0.5em;}#sk-container-id-5 div.sk-estimator:hover {background-color: #d4ebff;}#sk-container-id-5 div.sk-parallel-item::after {content: \"\";width: 100%;border-bottom: 1px solid gray;flex-grow: 1;}#sk-container-id-5 div.sk-label:hover label.sk-toggleable__label {background-color: #d4ebff;}#sk-container-id-5 div.sk-serial::before {content: \"\";position: absolute;border-left: 1px solid gray;box-sizing: border-box;top: 0;bottom: 0;left: 50%;z-index: 0;}#sk-container-id-5 div.sk-serial {display: flex;flex-direction: column;align-items: center;background-color: white;padding-right: 0.2em;padding-left: 0.2em;position: relative;}#sk-container-id-5 div.sk-item {position: relative;z-index: 1;}#sk-container-id-5 div.sk-parallel {display: flex;align-items: stretch;justify-content: center;background-color: white;position: relative;}#sk-container-id-5 div.sk-item::before, #sk-container-id-5 div.sk-parallel-item::before {content: \"\";position: absolute;border-left: 1px solid gray;box-sizing: border-box;top: 0;bottom: 0;left: 50%;z-index: -1;}#sk-container-id-5 div.sk-parallel-item {display: flex;flex-direction: column;z-index: 1;position: relative;background-color: white;}#sk-container-id-5 div.sk-parallel-item:first-child::after {align-self: flex-end;width: 50%;}#sk-container-id-5 div.sk-parallel-item:last-child::after {align-self: flex-start;width: 50%;}#sk-container-id-5 div.sk-parallel-item:only-child::after {width: 0;}#sk-container-id-5 div.sk-dashed-wrapped {border: 1px dashed gray;margin: 0 0.4em 0.5em 0.4em;box-sizing: border-box;padding-bottom: 0.4em;background-color: white;}#sk-container-id-5 div.sk-label label {font-family: monospace;font-weight: bold;display: inline-block;line-height: 1.2em;}#sk-container-id-5 div.sk-label-container {text-align: center;}#sk-container-id-5 div.sk-container {/* jupyter's `normalize.less` sets `[hidden] { display: none; }` but bootstrap.min.css set `[hidden] { display: none !important; }` so we also need the `!important` here to be able to override the default hidden behavior on the sphinx rendered scikit-learn.org. See: https://github.com/scikit-learn/scikit-learn/issues/21755 */display: inline-block !important;position: relative;}#sk-container-id-5 div.sk-text-repr-fallback {display: none;}</style><div id=\"sk-container-id-5\" class=\"sk-top-container\"><div class=\"sk-text-repr-fallback\"><pre>RandomForestRegressor(random_state=42)</pre><b>In a Jupyter environment, please rerun this cell to show the HTML representation or trust the notebook. <br />On GitHub, the HTML representation is unable to render, please try loading this page with nbviewer.org.</b></div><div class=\"sk-container\" hidden><div class=\"sk-item\"><div class=\"sk-estimator sk-toggleable\"><input class=\"sk-toggleable__control sk-hidden--visually\" id=\"sk-estimator-id-5\" type=\"checkbox\" checked><label for=\"sk-estimator-id-5\" class=\"sk-toggleable__label sk-toggleable__label-arrow\">RandomForestRegressor</label><div class=\"sk-toggleable__content\"><pre>RandomForestRegressor(random_state=42)</pre></div></div></div></div></div>"
      ],
      "text/plain": [
       "RandomForestRegressor(random_state=42)"
      ]
     },
     "execution_count": 83,
     "metadata": {},
     "output_type": "execute_result"
    }
   ],
   "source": [
    "# Try log transformation\n",
    "rfr_log = RandomForestRegressor(random_state=42)\n",
    "\n",
    "rfr_log.fit(X_train, y_train_log)"
   ]
  },
  {
   "cell_type": "code",
   "execution_count": 84,
   "id": "55ad9510-60fd-4a9f-8982-df516c7a56f3",
   "metadata": {},
   "outputs": [
    {
     "name": "stdout",
     "output_type": "stream",
     "text": [
      "-----------Train Data-----------\n",
      "MAE: 0.05640074720643443\n",
      "MSE: 0.0059237739547452345\n",
      "RMSE: 0.07696605715992755\n",
      "R2: 0.9891417463697006\n",
      "Adj_R2: 0.9885155823333531\n",
      "Cross Validation: [0.93033716 0.91331634 0.91528149 0.90595748 0.92695271]\n",
      "Cross Validation Mean: 0.9183690342208797\n",
      "--------------------------------\n",
      "-----------Test Data-----------\n",
      "MAE: 0.1764816921210091\n",
      "MSE: 0.07303216893992184\n",
      "RMSE: 0.2702446464593181\n",
      "R2: 0.8437857107840352\n",
      "Adj_R2: 0.8347772851935995\n",
      "--------------------------------\n"
     ]
    }
   ],
   "source": [
    "reg_metrics(rfr_log, y_train=y_train_log, y_test=y_test_log)"
   ]
  },
  {
   "cell_type": "markdown",
   "id": "005df1d0-57b4-4240-b702-ac0d8cc94df6",
   "metadata": {},
   "source": [
    "### Random Forest with GridSearch\n",
    "---"
   ]
  },
  {
   "cell_type": "code",
   "execution_count": 28,
   "id": "b62340bc-64d6-4862-a204-29475266277b",
   "metadata": {},
   "outputs": [
    {
     "name": "stdout",
     "output_type": "stream",
     "text": [
      "Fitting 5 folds for each of 24 candidates, totalling 120 fits\n"
     ]
    }
   ],
   "source": [
    "# Set hyperparametesr\n",
    "hyper_params = {'max_depth': [5, 10, 15],\n",
    "                'min_samples_leaf': [2, 3, 4, 5],\n",
    "                'n_estimators': [100, 200]\n",
    "               }\n",
    "\n",
    "# Instantiate GridSearchCV\n",
    "rfr_gridsearch = GridSearchCV(RandomForestRegressor(),\n",
    "                              hyper_params,\n",
    "                              cv=5,\n",
    "                              verbose=1\n",
    "                             )\n",
    "\n",
    "# Fit train data\n",
    "rfr_gridsearch.fit(X_train, y_train);"
   ]
  },
  {
   "cell_type": "code",
   "execution_count": 29,
   "id": "f0f9701b-5ec6-46bf-b374-d433c8d315fd",
   "metadata": {},
   "outputs": [
    {
     "data": {
      "text/plain": [
       "{'max_depth': 10, 'min_samples_leaf': 2, 'n_estimators': 200}"
      ]
     },
     "execution_count": 29,
     "metadata": {},
     "output_type": "execute_result"
    }
   ],
   "source": [
    "rfr_gridsearch.best_params_"
   ]
  },
  {
   "cell_type": "code",
   "execution_count": 97,
   "id": "c89b6a80-e8ae-4861-a2a1-f78d6c77e4f5",
   "metadata": {},
   "outputs": [
    {
     "name": "stdout",
     "output_type": "stream",
     "text": [
      "-----------Train Data-----------\n",
      "MAE: 1570710.9979738628\n",
      "MSE: 20137989648199.566\n",
      "RMSE: 4487537.147277955\n",
      "R2: 0.9446294141379692\n",
      "Adj_R2: 0.941436352830067\n",
      "Cross Validation: None\n",
      "Cross Validation Mean: None\n",
      "--------------------------------\n",
      "-----------Test Data-----------\n",
      "MAE: 3033180.639495315\n",
      "MSE: 36928846034094.81\n",
      "RMSE: 6076910.895684979\n",
      "R2: 0.8301914475829735\n",
      "Adj_R2: 0.8203990802089903\n",
      "--------------------------------\n"
     ]
    }
   ],
   "source": [
    "reg_metrics(rfr_gridsearch, cross_val=False)"
   ]
  },
  {
   "cell_type": "markdown",
   "id": "d076e111-5d7e-4973-8cf0-f288f68c8d69",
   "metadata": {},
   "source": [
    "### XGBoost\n",
    "---"
   ]
  },
  {
   "cell_type": "code",
   "execution_count": 127,
   "id": "9b87bff0-a0da-41a6-b3da-8722fd048b96",
   "metadata": {},
   "outputs": [
    {
     "data": {
      "text/html": [
       "<style>#sk-container-id-10 {color: black;background-color: white;}#sk-container-id-10 pre{padding: 0;}#sk-container-id-10 div.sk-toggleable {background-color: white;}#sk-container-id-10 label.sk-toggleable__label {cursor: pointer;display: block;width: 100%;margin-bottom: 0;padding: 0.3em;box-sizing: border-box;text-align: center;}#sk-container-id-10 label.sk-toggleable__label-arrow:before {content: \"▸\";float: left;margin-right: 0.25em;color: #696969;}#sk-container-id-10 label.sk-toggleable__label-arrow:hover:before {color: black;}#sk-container-id-10 div.sk-estimator:hover label.sk-toggleable__label-arrow:before {color: black;}#sk-container-id-10 div.sk-toggleable__content {max-height: 0;max-width: 0;overflow: hidden;text-align: left;background-color: #f0f8ff;}#sk-container-id-10 div.sk-toggleable__content pre {margin: 0.2em;color: black;border-radius: 0.25em;background-color: #f0f8ff;}#sk-container-id-10 input.sk-toggleable__control:checked~div.sk-toggleable__content {max-height: 200px;max-width: 100%;overflow: auto;}#sk-container-id-10 input.sk-toggleable__control:checked~label.sk-toggleable__label-arrow:before {content: \"▾\";}#sk-container-id-10 div.sk-estimator input.sk-toggleable__control:checked~label.sk-toggleable__label {background-color: #d4ebff;}#sk-container-id-10 div.sk-label input.sk-toggleable__control:checked~label.sk-toggleable__label {background-color: #d4ebff;}#sk-container-id-10 input.sk-hidden--visually {border: 0;clip: rect(1px 1px 1px 1px);clip: rect(1px, 1px, 1px, 1px);height: 1px;margin: -1px;overflow: hidden;padding: 0;position: absolute;width: 1px;}#sk-container-id-10 div.sk-estimator {font-family: monospace;background-color: #f0f8ff;border: 1px dotted black;border-radius: 0.25em;box-sizing: border-box;margin-bottom: 0.5em;}#sk-container-id-10 div.sk-estimator:hover {background-color: #d4ebff;}#sk-container-id-10 div.sk-parallel-item::after {content: \"\";width: 100%;border-bottom: 1px solid gray;flex-grow: 1;}#sk-container-id-10 div.sk-label:hover label.sk-toggleable__label {background-color: #d4ebff;}#sk-container-id-10 div.sk-serial::before {content: \"\";position: absolute;border-left: 1px solid gray;box-sizing: border-box;top: 0;bottom: 0;left: 50%;z-index: 0;}#sk-container-id-10 div.sk-serial {display: flex;flex-direction: column;align-items: center;background-color: white;padding-right: 0.2em;padding-left: 0.2em;position: relative;}#sk-container-id-10 div.sk-item {position: relative;z-index: 1;}#sk-container-id-10 div.sk-parallel {display: flex;align-items: stretch;justify-content: center;background-color: white;position: relative;}#sk-container-id-10 div.sk-item::before, #sk-container-id-10 div.sk-parallel-item::before {content: \"\";position: absolute;border-left: 1px solid gray;box-sizing: border-box;top: 0;bottom: 0;left: 50%;z-index: -1;}#sk-container-id-10 div.sk-parallel-item {display: flex;flex-direction: column;z-index: 1;position: relative;background-color: white;}#sk-container-id-10 div.sk-parallel-item:first-child::after {align-self: flex-end;width: 50%;}#sk-container-id-10 div.sk-parallel-item:last-child::after {align-self: flex-start;width: 50%;}#sk-container-id-10 div.sk-parallel-item:only-child::after {width: 0;}#sk-container-id-10 div.sk-dashed-wrapped {border: 1px dashed gray;margin: 0 0.4em 0.5em 0.4em;box-sizing: border-box;padding-bottom: 0.4em;background-color: white;}#sk-container-id-10 div.sk-label label {font-family: monospace;font-weight: bold;display: inline-block;line-height: 1.2em;}#sk-container-id-10 div.sk-label-container {text-align: center;}#sk-container-id-10 div.sk-container {/* jupyter's `normalize.less` sets `[hidden] { display: none; }` but bootstrap.min.css set `[hidden] { display: none !important; }` so we also need the `!important` here to be able to override the default hidden behavior on the sphinx rendered scikit-learn.org. See: https://github.com/scikit-learn/scikit-learn/issues/21755 */display: inline-block !important;position: relative;}#sk-container-id-10 div.sk-text-repr-fallback {display: none;}</style><div id=\"sk-container-id-10\" class=\"sk-top-container\"><div class=\"sk-text-repr-fallback\"><pre>XGBRegressor(base_score=0.5, booster=&#x27;gbtree&#x27;, callbacks=None,\n",
       "             colsample_bylevel=1, colsample_bynode=1, colsample_bytree=1,\n",
       "             early_stopping_rounds=None, enable_categorical=False,\n",
       "             eval_metric=None, feature_types=None, gamma=0, gpu_id=-1,\n",
       "             grow_policy=&#x27;depthwise&#x27;, importance_type=None,\n",
       "             interaction_constraints=&#x27;&#x27;, learning_rate=0.300000012, max_bin=256,\n",
       "             max_cat_threshold=64, max_cat_to_onehot=4, max_delta_step=0,\n",
       "             max_depth=6, max_leaves=0, min_child_weight=1, missing=nan,\n",
       "             monotone_constraints=&#x27;()&#x27;, n_estimators=100, n_jobs=0,\n",
       "             num_parallel_tree=1, predictor=&#x27;auto&#x27;, random_state=42, ...)</pre><b>In a Jupyter environment, please rerun this cell to show the HTML representation or trust the notebook. <br />On GitHub, the HTML representation is unable to render, please try loading this page with nbviewer.org.</b></div><div class=\"sk-container\" hidden><div class=\"sk-item\"><div class=\"sk-estimator sk-toggleable\"><input class=\"sk-toggleable__control sk-hidden--visually\" id=\"sk-estimator-id-10\" type=\"checkbox\" checked><label for=\"sk-estimator-id-10\" class=\"sk-toggleable__label sk-toggleable__label-arrow\">XGBRegressor</label><div class=\"sk-toggleable__content\"><pre>XGBRegressor(base_score=0.5, booster=&#x27;gbtree&#x27;, callbacks=None,\n",
       "             colsample_bylevel=1, colsample_bynode=1, colsample_bytree=1,\n",
       "             early_stopping_rounds=None, enable_categorical=False,\n",
       "             eval_metric=None, feature_types=None, gamma=0, gpu_id=-1,\n",
       "             grow_policy=&#x27;depthwise&#x27;, importance_type=None,\n",
       "             interaction_constraints=&#x27;&#x27;, learning_rate=0.300000012, max_bin=256,\n",
       "             max_cat_threshold=64, max_cat_to_onehot=4, max_delta_step=0,\n",
       "             max_depth=6, max_leaves=0, min_child_weight=1, missing=nan,\n",
       "             monotone_constraints=&#x27;()&#x27;, n_estimators=100, n_jobs=0,\n",
       "             num_parallel_tree=1, predictor=&#x27;auto&#x27;, random_state=42, ...)</pre></div></div></div></div></div>"
      ],
      "text/plain": [
       "XGBRegressor(base_score=0.5, booster='gbtree', callbacks=None,\n",
       "             colsample_bylevel=1, colsample_bynode=1, colsample_bytree=1,\n",
       "             early_stopping_rounds=None, enable_categorical=False,\n",
       "             eval_metric=None, feature_types=None, gamma=0, gpu_id=-1,\n",
       "             grow_policy='depthwise', importance_type=None,\n",
       "             interaction_constraints='', learning_rate=0.300000012, max_bin=256,\n",
       "             max_cat_threshold=64, max_cat_to_onehot=4, max_delta_step=0,\n",
       "             max_depth=6, max_leaves=0, min_child_weight=1, missing=nan,\n",
       "             monotone_constraints='()', n_estimators=100, n_jobs=0,\n",
       "             num_parallel_tree=1, predictor='auto', random_state=42, ...)"
      ]
     },
     "execution_count": 127,
     "metadata": {},
     "output_type": "execute_result"
    }
   ],
   "source": [
    "xgbr = xgboost.XGBRegressor(objective='reg:squarederror',\n",
    "                            seed=42)\n",
    "\n",
    "xgbr.fit(X_train, y_train)"
   ]
  },
  {
   "cell_type": "code",
   "execution_count": 128,
   "id": "76ed0e66-6ff2-42a3-a40a-702540d311ae",
   "metadata": {},
   "outputs": [
    {
     "name": "stdout",
     "output_type": "stream",
     "text": [
      "-----------Train Data-----------\n",
      "MAE: 151933.275990099\n",
      "MSE: 84786739125.82889\n",
      "RMSE: 291181.6256665741\n",
      "R2: 0.9997668738786373\n",
      "Adj_R2: 0.999753430170459\n",
      "Cross Validation: [0.8664426  0.91664223 0.75512167 0.67404597 0.95256816]\n",
      "Cross Validation Mean: 0.8329641245313842\n",
      "--------------------------------\n",
      "-----------Test Data-----------\n",
      "MAE: 3062259.538366337\n",
      "MSE: 37520247578637.03\n",
      "RMSE: 6125377.341734714\n",
      "R2: 0.8274720276454215\n",
      "Adj_R2: 0.8175228392003344\n",
      "--------------------------------\n"
     ]
    }
   ],
   "source": [
    "reg_metrics(xgbr)"
   ]
  },
  {
   "cell_type": "code",
   "execution_count": 133,
   "id": "07451a51-fcf5-486f-8008-9d85813aeeaf",
   "metadata": {},
   "outputs": [
    {
     "data": {
      "text/html": [
       "<style>#sk-container-id-13 {color: black;background-color: white;}#sk-container-id-13 pre{padding: 0;}#sk-container-id-13 div.sk-toggleable {background-color: white;}#sk-container-id-13 label.sk-toggleable__label {cursor: pointer;display: block;width: 100%;margin-bottom: 0;padding: 0.3em;box-sizing: border-box;text-align: center;}#sk-container-id-13 label.sk-toggleable__label-arrow:before {content: \"▸\";float: left;margin-right: 0.25em;color: #696969;}#sk-container-id-13 label.sk-toggleable__label-arrow:hover:before {color: black;}#sk-container-id-13 div.sk-estimator:hover label.sk-toggleable__label-arrow:before {color: black;}#sk-container-id-13 div.sk-toggleable__content {max-height: 0;max-width: 0;overflow: hidden;text-align: left;background-color: #f0f8ff;}#sk-container-id-13 div.sk-toggleable__content pre {margin: 0.2em;color: black;border-radius: 0.25em;background-color: #f0f8ff;}#sk-container-id-13 input.sk-toggleable__control:checked~div.sk-toggleable__content {max-height: 200px;max-width: 100%;overflow: auto;}#sk-container-id-13 input.sk-toggleable__control:checked~label.sk-toggleable__label-arrow:before {content: \"▾\";}#sk-container-id-13 div.sk-estimator input.sk-toggleable__control:checked~label.sk-toggleable__label {background-color: #d4ebff;}#sk-container-id-13 div.sk-label input.sk-toggleable__control:checked~label.sk-toggleable__label {background-color: #d4ebff;}#sk-container-id-13 input.sk-hidden--visually {border: 0;clip: rect(1px 1px 1px 1px);clip: rect(1px, 1px, 1px, 1px);height: 1px;margin: -1px;overflow: hidden;padding: 0;position: absolute;width: 1px;}#sk-container-id-13 div.sk-estimator {font-family: monospace;background-color: #f0f8ff;border: 1px dotted black;border-radius: 0.25em;box-sizing: border-box;margin-bottom: 0.5em;}#sk-container-id-13 div.sk-estimator:hover {background-color: #d4ebff;}#sk-container-id-13 div.sk-parallel-item::after {content: \"\";width: 100%;border-bottom: 1px solid gray;flex-grow: 1;}#sk-container-id-13 div.sk-label:hover label.sk-toggleable__label {background-color: #d4ebff;}#sk-container-id-13 div.sk-serial::before {content: \"\";position: absolute;border-left: 1px solid gray;box-sizing: border-box;top: 0;bottom: 0;left: 50%;z-index: 0;}#sk-container-id-13 div.sk-serial {display: flex;flex-direction: column;align-items: center;background-color: white;padding-right: 0.2em;padding-left: 0.2em;position: relative;}#sk-container-id-13 div.sk-item {position: relative;z-index: 1;}#sk-container-id-13 div.sk-parallel {display: flex;align-items: stretch;justify-content: center;background-color: white;position: relative;}#sk-container-id-13 div.sk-item::before, #sk-container-id-13 div.sk-parallel-item::before {content: \"\";position: absolute;border-left: 1px solid gray;box-sizing: border-box;top: 0;bottom: 0;left: 50%;z-index: -1;}#sk-container-id-13 div.sk-parallel-item {display: flex;flex-direction: column;z-index: 1;position: relative;background-color: white;}#sk-container-id-13 div.sk-parallel-item:first-child::after {align-self: flex-end;width: 50%;}#sk-container-id-13 div.sk-parallel-item:last-child::after {align-self: flex-start;width: 50%;}#sk-container-id-13 div.sk-parallel-item:only-child::after {width: 0;}#sk-container-id-13 div.sk-dashed-wrapped {border: 1px dashed gray;margin: 0 0.4em 0.5em 0.4em;box-sizing: border-box;padding-bottom: 0.4em;background-color: white;}#sk-container-id-13 div.sk-label label {font-family: monospace;font-weight: bold;display: inline-block;line-height: 1.2em;}#sk-container-id-13 div.sk-label-container {text-align: center;}#sk-container-id-13 div.sk-container {/* jupyter's `normalize.less` sets `[hidden] { display: none; }` but bootstrap.min.css set `[hidden] { display: none !important; }` so we also need the `!important` here to be able to override the default hidden behavior on the sphinx rendered scikit-learn.org. See: https://github.com/scikit-learn/scikit-learn/issues/21755 */display: inline-block !important;position: relative;}#sk-container-id-13 div.sk-text-repr-fallback {display: none;}</style><div id=\"sk-container-id-13\" class=\"sk-top-container\"><div class=\"sk-text-repr-fallback\"><pre>XGBRegressor(base_score=0.5, booster=&#x27;gbtree&#x27;, callbacks=None,\n",
       "             colsample_bylevel=1, colsample_bynode=1, colsample_bytree=1,\n",
       "             early_stopping_rounds=None, enable_categorical=False,\n",
       "             eval_metric=None, feature_types=None, gamma=0, gpu_id=-1,\n",
       "             grow_policy=&#x27;depthwise&#x27;, importance_type=None,\n",
       "             interaction_constraints=&#x27;&#x27;, learning_rate=0.300000012, max_bin=256,\n",
       "             max_cat_threshold=64, max_cat_to_onehot=4, max_delta_step=0,\n",
       "             max_depth=6, max_leaves=0, min_child_weight=1, missing=nan,\n",
       "             monotone_constraints=&#x27;()&#x27;, n_estimators=100, n_jobs=0,\n",
       "             num_parallel_tree=1, predictor=&#x27;auto&#x27;, random_state=42, ...)</pre><b>In a Jupyter environment, please rerun this cell to show the HTML representation or trust the notebook. <br />On GitHub, the HTML representation is unable to render, please try loading this page with nbviewer.org.</b></div><div class=\"sk-container\" hidden><div class=\"sk-item\"><div class=\"sk-estimator sk-toggleable\"><input class=\"sk-toggleable__control sk-hidden--visually\" id=\"sk-estimator-id-13\" type=\"checkbox\" checked><label for=\"sk-estimator-id-13\" class=\"sk-toggleable__label sk-toggleable__label-arrow\">XGBRegressor</label><div class=\"sk-toggleable__content\"><pre>XGBRegressor(base_score=0.5, booster=&#x27;gbtree&#x27;, callbacks=None,\n",
       "             colsample_bylevel=1, colsample_bynode=1, colsample_bytree=1,\n",
       "             early_stopping_rounds=None, enable_categorical=False,\n",
       "             eval_metric=None, feature_types=None, gamma=0, gpu_id=-1,\n",
       "             grow_policy=&#x27;depthwise&#x27;, importance_type=None,\n",
       "             interaction_constraints=&#x27;&#x27;, learning_rate=0.300000012, max_bin=256,\n",
       "             max_cat_threshold=64, max_cat_to_onehot=4, max_delta_step=0,\n",
       "             max_depth=6, max_leaves=0, min_child_weight=1, missing=nan,\n",
       "             monotone_constraints=&#x27;()&#x27;, n_estimators=100, n_jobs=0,\n",
       "             num_parallel_tree=1, predictor=&#x27;auto&#x27;, random_state=42, ...)</pre></div></div></div></div></div>"
      ],
      "text/plain": [
       "XGBRegressor(base_score=0.5, booster='gbtree', callbacks=None,\n",
       "             colsample_bylevel=1, colsample_bynode=1, colsample_bytree=1,\n",
       "             early_stopping_rounds=None, enable_categorical=False,\n",
       "             eval_metric=None, feature_types=None, gamma=0, gpu_id=-1,\n",
       "             grow_policy='depthwise', importance_type=None,\n",
       "             interaction_constraints='', learning_rate=0.300000012, max_bin=256,\n",
       "             max_cat_threshold=64, max_cat_to_onehot=4, max_delta_step=0,\n",
       "             max_depth=6, max_leaves=0, min_child_weight=1, missing=nan,\n",
       "             monotone_constraints='()', n_estimators=100, n_jobs=0,\n",
       "             num_parallel_tree=1, predictor='auto', random_state=42, ...)"
      ]
     },
     "execution_count": 133,
     "metadata": {},
     "output_type": "execute_result"
    }
   ],
   "source": [
    "xgbr_2 = xgboost.XGBRegressor(objective='reg:squarederror',\n",
    "                            seed=42)\n",
    "\n",
    "xgbr_2.fit(X_train, \n",
    "         y_train,\n",
    "         eval_set=[(X_test, y_test)],\n",
    "         verbose=False)"
   ]
  },
  {
   "cell_type": "code",
   "execution_count": 130,
   "id": "df6bd356-0113-4f4c-aeac-637b0718c739",
   "metadata": {},
   "outputs": [
    {
     "name": "stdout",
     "output_type": "stream",
     "text": [
      "-----------Train Data-----------\n",
      "MAE: 151933.275990099\n",
      "MSE: 84786739125.82889\n",
      "RMSE: 291181.6256665741\n",
      "R2: 0.9997668738786373\n",
      "Adj_R2: 0.999753430170459\n",
      "Cross Validation: [0.8664426  0.91664223 0.75512167 0.67404597 0.95256816]\n",
      "Cross Validation Mean: 0.8329641245313842\n",
      "--------------------------------\n",
      "-----------Test Data-----------\n",
      "MAE: 3062259.538366337\n",
      "MSE: 37520247578637.03\n",
      "RMSE: 6125377.341734714\n",
      "R2: 0.8274720276454215\n",
      "Adj_R2: 0.8175228392003344\n",
      "--------------------------------\n"
     ]
    }
   ],
   "source": [
    "reg_metrics(xgbr_2)"
   ]
  },
  {
   "cell_type": "markdown",
   "id": "db5907a2-5239-459a-b91a-87c18b92282e",
   "metadata": {},
   "source": [
    "### XGBoost with GridSearch\n",
    "---"
   ]
  },
  {
   "cell_type": "code",
   "execution_count": null,
   "id": "68830dcb-0559-4ee7-9303-04ecc89cca29",
   "metadata": {},
   "outputs": [],
   "source": [
    "#    'colsample_bytree':[0.4,0.6,0.8],\n",
    "#    'gamma':[0,0.03,0.1,0.3],\n",
    "#    'min_child_weight':[1.5,6,10],\n",
    "#    'learning_rate':[0.1,0.07],\n",
    "#    'max_depth':[3,5],\n",
    "#    'n_estimators':[10000],\n",
    "#    'reg_alpha':[1e-5, 1e-2,  0.75],\n",
    "#    'reg_lambda':[1e-5, 1e-2, 0.45],\n",
    "#    'subsample':[0.6,0.95]  "
   ]
  },
  {
   "cell_type": "code",
   "execution_count": null,
   "id": "38acc8a1-9b02-483e-8551-80ea9304d4ed",
   "metadata": {},
   "outputs": [
    {
     "name": "stdout",
     "output_type": "stream",
     "text": [
      "Fitting 5 folds for each of 1458 candidates, totalling 7290 fits\n"
     ]
    }
   ],
   "source": [
    "%%time\n",
    "# Set hyperparametesr\n",
    "hyper_params = {\n",
    "    'max_depth': [3, 4, 5],\n",
    "    'learning_rate': [0.1, 0.01, 0.05],\n",
    "    'gamma': [0, 0.25, 1.0],\n",
    "    'reg_alpha': [0, 1.0, 10.0],\n",
    "    'reg_lambda': [0, 1.0, 10.0],\n",
    "    'min_child_weight': [1.5, 6, 10],\n",
    "    'subsample':[0.6, 0.90]  \n",
    "}\n",
    "\n",
    "xgbr_model = xgboost.XGBRegressor(objective='reg:squarederror',\n",
    "                            seed=42)\n",
    "\n",
    "# Instantiate GridSearchCV\n",
    "xgbr_gridsearch = GridSearchCV(xgbr_model,\n",
    "                              hyper_params,\n",
    "                              cv=5,\n",
    "                              verbose=1,\n",
    "                              scoring='neg_mean_squared_error'\n",
    "                              )\n",
    "\n",
    "# Fit train data\n",
    "xgbr_gridsearch.fit(X_train, y_train);"
   ]
  },
  {
   "cell_type": "markdown",
   "id": "26dcf8ee-32d9-418c-bf61-44d99d663006",
   "metadata": {},
   "source": [
    "## 5.3 Neural Network Based Models\n",
    "---"
   ]
  },
  {
   "cell_type": "code",
   "execution_count": null,
   "id": "84db61e4-634f-43f6-96ff-07839ef7573c",
   "metadata": {},
   "outputs": [],
   "source": [
    "# Scale data\n",
    "sc = StandardScaler()\n",
    "\n",
    "X_train_sc = sc.fit_transform(X_train)\n",
    "X_test_sc = sc.transform(X_test)"
   ]
  },
  {
   "cell_type": "code",
   "execution_count": null,
   "id": "2e2de6df-61ff-4060-a3a3-8bb3ebbdc907",
   "metadata": {},
   "outputs": [],
   "source": [
    "# Insert model here...\n",
    "model = Sequential()\n",
    "\n",
    "# Hidden layer\n",
    "model.add(Dense(16, activation='relu', input_shape=(X_train.shape[1],)))\n",
    "\n",
    "model.add(Dense(32, activation='relu'))\n",
    "\n",
    "model.add(Dense(32, activation='relu'))\n",
    "\n",
    "model.add(Dense(16, activation='relu'))\n",
    "\n",
    "# Output layer\n",
    "model.add(Dense(1, activation=None))\n",
    "\n",
    "# Compile model (loss fuction optimzing)\n",
    "model.compile(optimizer='adam',\n",
    "              loss='mean_squared_error')\n",
    "\n",
    "res = model.fit(X_train_sc, y_train,\n",
    "                epochs=200,\n",
    "                validation_data=(X_test_sc, y_test),\n",
    "                verbose=0\n",
    "         )"
   ]
  },
  {
   "cell_type": "code",
   "execution_count": null,
   "id": "499b0c86-8a5b-43be-9f7a-8876d1e120df",
   "metadata": {},
   "outputs": [],
   "source": [
    "plt.plot(res.history['loss'], label='Train Loss')\n",
    "plt.plot(res.history['val_loss'], label='Validation Loss')\n",
    "plt.legend();"
   ]
  },
  {
   "cell_type": "markdown",
   "id": "b65dcdbc-0bc2-48de-a8ec-bbb3eac15b9b",
   "metadata": {},
   "source": [
    "## 5.4 Final Model"
   ]
  },
  {
   "cell_type": "markdown",
   "id": "f60ebadf-bdb1-4bc9-aad9-265bd1bd385b",
   "metadata": {},
   "source": [
    "# 6. Additional Section\n",
    "---\n",
    "---"
   ]
  },
  {
   "cell_type": "code",
   "execution_count": null,
   "id": "3815032b-c6cd-455d-b8c5-5f4a7fe3c049",
   "metadata": {},
   "outputs": [],
   "source": []
  },
  {
   "cell_type": "markdown",
   "id": "5eda7050-8b74-4a83-8e5b-2e0b9ef01eb0",
   "metadata": {},
   "source": [
    "# 7. Summarization\n",
    "---\n",
    "---"
   ]
  },
  {
   "cell_type": "code",
   "execution_count": null,
   "id": "2c623c86-543a-4bf2-8449-1b8b3c89df27",
   "metadata": {},
   "outputs": [],
   "source": []
  },
  {
   "cell_type": "markdown",
   "id": "3359b81e-8c63-4429-b9b4-927140b6ad3e",
   "metadata": {},
   "source": [
    "## 7.2 Future Works\n",
    "\n",
    "This project's model and dataset do not captured element of design which is one of main factor that could make impact on condominium value. So the next project would capture it by using condominium images to predict condominium price as well."
   ]
  }
 ],
 "metadata": {
  "kernelspec": {
   "display_name": "Python 3 (ipykernel)",
   "language": "python",
   "name": "python3"
  },
  "language_info": {
   "codemirror_mode": {
    "name": "ipython",
    "version": 3
   },
   "file_extension": ".py",
   "mimetype": "text/x-python",
   "name": "python",
   "nbconvert_exporter": "python",
   "pygments_lexer": "ipython3",
   "version": "3.9.12"
  }
 },
 "nbformat": 4,
 "nbformat_minor": 5
}
