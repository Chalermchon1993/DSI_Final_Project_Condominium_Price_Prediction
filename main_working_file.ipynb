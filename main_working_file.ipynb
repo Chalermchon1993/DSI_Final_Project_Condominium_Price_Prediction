{
 "cells": [
  {
   "cell_type": "markdown",
   "id": "6b9b2222-8504-4f30-97db-0b3803688522",
   "metadata": {},
   "source": [
    "# 1. Problem Statement\n",
    "---"
   ]
  },
  {
   "cell_type": "code",
   "execution_count": null,
   "id": "7fbc3cdb-0ce1-4309-9415-b620bed35402",
   "metadata": {},
   "outputs": [],
   "source": []
  },
  {
   "cell_type": "markdown",
   "id": "dcd68b68-f172-414b-b928-081501773d25",
   "metadata": {},
   "source": [
    "# 2. Functions Preparation\n",
    "---"
   ]
  },
  {
   "cell_type": "markdown",
   "id": "4ca7b901-e58e-458a-a903-c3386829bf15",
   "metadata": {},
   "source": [
    "## 2.1 Libraries Importation"
   ]
  },
  {
   "cell_type": "code",
   "execution_count": 5,
   "id": "86b3ea0a-1232-496c-8897-c6de7d46c32a",
   "metadata": {},
   "outputs": [],
   "source": [
    "# Import libraries\n",
    "\n",
    "# General libraries\n",
    "import os\n",
    "import pandas as pd\n",
    "import matplotlib.pyplot as plt\n",
    "import seaborn as sns\n",
    "\n",
    "# Model\n"
   ]
  },
  {
   "cell_type": "markdown",
   "id": "a075ce05-8e75-4c80-8af5-12bd41fceeb7",
   "metadata": {},
   "source": [
    "## 2.2 In-notebook Functions Creation"
   ]
  },
  {
   "cell_type": "code",
   "execution_count": null,
   "id": "53d80f1a-d9cb-429d-9c26-f5ba9ea9779b",
   "metadata": {},
   "outputs": [],
   "source": []
  },
  {
   "cell_type": "markdown",
   "id": "5b3333f3-4b48-40be-b293-82471bf0850e",
   "metadata": {},
   "source": [
    "# 3. Data Preparation\n",
    "---"
   ]
  },
  {
   "cell_type": "markdown",
   "id": "2ccee513-027a-4787-bb72-1b4168ac62cc",
   "metadata": {},
   "source": [
    "## 3.1 Data Consolidation"
   ]
  },
  {
   "cell_type": "code",
   "execution_count": 10,
   "id": "cfdaf5cc-a268-4e24-a8c9-b3d54f219133",
   "metadata": {},
   "outputs": [],
   "source": [
    "df = pd.DataFrame()\n",
    "\n",
    "# Set relative path for raw data folder\n",
    "relative_path = \".\\selenium\\scrape_data\"\n",
    "\n",
    "# Get file names in folder as a list\n",
    "file_names = os.listdir(relative_path)\n",
    "\n",
    "# Iterate raw csv files in folder\n",
    "for file_name in file_names:\n",
    "    try: \n",
    "        temp_df = pd.read_csv(f\"{relative_path}\\\\{file_name}\")\n",
    "        df = pd.concat([df, temp_df])\n",
    "    except:\n",
    "        # Print error file name\n",
    "        print(file_name)"
   ]
  },
  {
   "cell_type": "markdown",
   "id": "362939b8-213c-45d5-92e0-f6ab8df39398",
   "metadata": {},
   "source": [
    "## 3.2 Data Cleansing"
   ]
  },
  {
   "cell_type": "markdown",
   "id": "c4dff267-37ce-48ae-b5f3-da180647beec",
   "metadata": {},
   "source": [
    "### 3.2.1 Duplication Removal"
   ]
  },
  {
   "cell_type": "code",
   "execution_count": 21,
   "id": "cac5d5e4-1a3e-4a30-86ba-b060e21fe50c",
   "metadata": {},
   "outputs": [
    {
     "data": {
      "text/plain": [
       "(1020, 21)"
      ]
     },
     "execution_count": 21,
     "metadata": {},
     "output_type": "execute_result"
    }
   ],
   "source": [
    "# Check data shape\n",
    "# There are 1020 rows and 21 features from raw datas\n",
    "df.shape"
   ]
  },
  {
   "cell_type": "code",
   "execution_count": 23,
   "id": "ec637f04-7691-42f9-9a9d-84c636fc2235",
   "metadata": {},
   "outputs": [
    {
     "data": {
      "text/plain": [
       "8"
      ]
     },
     "execution_count": 23,
     "metadata": {},
     "output_type": "execute_result"
    }
   ],
   "source": [
    "# Check duplicate data\n",
    "# Dataset contains 8 duplicate rows, we can drop it.\n",
    "df.duplicated().sum()"
   ]
  },
  {
   "cell_type": "code",
   "execution_count": 24,
   "id": "ae481c7b-f769-4d6a-89fa-5c6740c2a8b9",
   "metadata": {},
   "outputs": [
    {
     "data": {
      "text/plain": [
       "(1012, 21)"
      ]
     },
     "execution_count": 24,
     "metadata": {},
     "output_type": "execute_result"
    }
   ],
   "source": [
    "# Drop duplicate rows and check result\n",
    "df.drop_duplicates(inplace=True)\n",
    "df.shape"
   ]
  },
  {
   "cell_type": "markdown",
   "id": "2f04e4af-9a3c-4a71-ab8c-58e6c3a50196",
   "metadata": {},
   "source": [
    "### 3.2.2 Features Preparation\n",
    "From scraping process, some features were collected as list of features due to uncertainty of the features occurrence that make .csv unable to store it in one column. \n",
    "<br>In-order-that, a list of features were joined by `|` to be a single string.\n",
    "\n",
    "For example, column `internal_feature_keys` and `internal_feature_values` contain information of `number of bedrooms`, `number of bathrooms`, and `internal area` together as\n",
    "<br>`bedrooms|bathrooms|internal area`.\n",
    "\n",
    "**Hence, this section is to split the joined features to be ready for analyzing.**"
   ]
  },
  {
   "cell_type": "code",
   "execution_count": 30,
   "id": "151795f5-8857-4290-8b41-289717bf2e02",
   "metadata": {},
   "outputs": [
    {
     "data": {
      "text/html": [
       "<div>\n",
       "<style scoped>\n",
       "    .dataframe tbody tr th:only-of-type {\n",
       "        vertical-align: middle;\n",
       "    }\n",
       "\n",
       "    .dataframe tbody tr th {\n",
       "        vertical-align: top;\n",
       "    }\n",
       "\n",
       "    .dataframe thead th {\n",
       "        text-align: right;\n",
       "    }\n",
       "</style>\n",
       "<table border=\"1\" class=\"dataframe\">\n",
       "  <thead>\n",
       "    <tr style=\"text-align: right;\">\n",
       "      <th></th>\n",
       "      <th>dev</th>\n",
       "      <th>address</th>\n",
       "      <th>district</th>\n",
       "      <th>sale_price</th>\n",
       "      <th>rent_price</th>\n",
       "      <th>internal_feature_keys</th>\n",
       "      <th>internal_feature_values</th>\n",
       "      <th>external_feature_keys</th>\n",
       "      <th>exteranal_feature_values</th>\n",
       "      <th>description</th>\n",
       "      <th>...</th>\n",
       "      <th>amenity_keys</th>\n",
       "      <th>amenity_values</th>\n",
       "      <th>neighbor_cats</th>\n",
       "      <th>neighbor_names</th>\n",
       "      <th>neighbor_distances</th>\n",
       "      <th>asking_price</th>\n",
       "      <th>asking_price_change_quater</th>\n",
       "      <th>asking_price_change_year</th>\n",
       "      <th>gross_rental_yield</th>\n",
       "      <th>rental_price_change_year</th>\n",
       "    </tr>\n",
       "  </thead>\n",
       "  <tbody>\n",
       "    <tr>\n",
       "      <th>0</th>\n",
       "      <td>H Sukhumvit 43</td>\n",
       "      <td>Soi Phrom Mit, Khlong Toei Nuea, Vadhana, Bang...</td>\n",
       "      <td>Watthana</td>\n",
       "      <td>12000000.0</td>\n",
       "      <td>57000.0</td>\n",
       "      <td>Bedrooms|Bathrooms|Internal area</td>\n",
       "      <td>2|2|59</td>\n",
       "      <td>Floors|Towers|Project Area|Year built</td>\n",
       "      <td>32|1|3,080 m2|2014</td>\n",
       "      <td>PropertyScout ID 954486\\nCheck all listing det...</td>\n",
       "      <td>...</td>\n",
       "      <td>Elevator|Parking|24-hours Security|CCTV|Swimmi...</td>\n",
       "      <td>True|True|True|True|True|True|True|False|False...</td>\n",
       "      <td>marker marker-bts|marker marker-bts|marker mar...</td>\n",
       "      <td>Phrom Phong|Thong Lo|Sukhumvit|Asok 4 Toll Pla...</td>\n",
       "      <td>830 m / 10 minutes by foot|1.5 km / 8 minutes ...</td>\n",
       "      <td>195,125</td>\n",
       "      <td>0.0</td>\n",
       "      <td>0.74</td>\n",
       "      <td>4.67</td>\n",
       "      <td>-6.06</td>\n",
       "    </tr>\n",
       "    <tr>\n",
       "      <th>1</th>\n",
       "      <td>A Space I.D. Asoke - Ratchada</td>\n",
       "      <td>Thanon Din Daeng, Din Daeng, Bangkok 10400</td>\n",
       "      <td>Ratchathewi</td>\n",
       "      <td>4639200.0</td>\n",
       "      <td>15000.0</td>\n",
       "      <td>Bedrooms|Bathrooms|Internal area</td>\n",
       "      <td>1|1|33</td>\n",
       "      <td>Floors|Towers|Year built</td>\n",
       "      <td>30|1|2016</td>\n",
       "      <td>PropertyScout ID 954280\\nCheck all listing det...</td>\n",
       "      <td>...</td>\n",
       "      <td>Elevator|Parking|24-hours Security|CCTV|Swimmi...</td>\n",
       "      <td>True|True|True|True|True|True|True|True|False|...</td>\n",
       "      <td>marker marker-mrt|marker marker-mrt|marker mar...</td>\n",
       "      <td>Phraram Kao 9|Phra Ram 9|Asok 2 Toll Plaza|Aso...</td>\n",
       "      <td>710 m / 9 minutes by foot|740 m / 9 minutes by...</td>\n",
       "      <td>126,979</td>\n",
       "      <td>0.0</td>\n",
       "      <td>11.06</td>\n",
       "      <td>4.16</td>\n",
       "      <td>4.51</td>\n",
       "    </tr>\n",
       "  </tbody>\n",
       "</table>\n",
       "<p>2 rows × 21 columns</p>\n",
       "</div>"
      ],
      "text/plain": [
       "                             dev  \\\n",
       "0                 H Sukhumvit 43   \n",
       "1  A Space I.D. Asoke - Ratchada   \n",
       "\n",
       "                                             address     district  sale_price  \\\n",
       "0  Soi Phrom Mit, Khlong Toei Nuea, Vadhana, Bang...     Watthana  12000000.0   \n",
       "1         Thanon Din Daeng, Din Daeng, Bangkok 10400  Ratchathewi   4639200.0   \n",
       "\n",
       "   rent_price             internal_feature_keys internal_feature_values  \\\n",
       "0     57000.0  Bedrooms|Bathrooms|Internal area                  2|2|59   \n",
       "1     15000.0  Bedrooms|Bathrooms|Internal area                  1|1|33   \n",
       "\n",
       "                   external_feature_keys exteranal_feature_values  \\\n",
       "0  Floors|Towers|Project Area|Year built       32|1|3,080 m2|2014   \n",
       "1               Floors|Towers|Year built                30|1|2016   \n",
       "\n",
       "                                         description  ...  \\\n",
       "0  PropertyScout ID 954486\\nCheck all listing det...  ...   \n",
       "1  PropertyScout ID 954280\\nCheck all listing det...  ...   \n",
       "\n",
       "                                        amenity_keys  \\\n",
       "0  Elevator|Parking|24-hours Security|CCTV|Swimmi...   \n",
       "1  Elevator|Parking|24-hours Security|CCTV|Swimmi...   \n",
       "\n",
       "                                      amenity_values  \\\n",
       "0  True|True|True|True|True|True|True|False|False...   \n",
       "1  True|True|True|True|True|True|True|True|False|...   \n",
       "\n",
       "                                       neighbor_cats  \\\n",
       "0  marker marker-bts|marker marker-bts|marker mar...   \n",
       "1  marker marker-mrt|marker marker-mrt|marker mar...   \n",
       "\n",
       "                                      neighbor_names  \\\n",
       "0  Phrom Phong|Thong Lo|Sukhumvit|Asok 4 Toll Pla...   \n",
       "1  Phraram Kao 9|Phra Ram 9|Asok 2 Toll Plaza|Aso...   \n",
       "\n",
       "                                  neighbor_distances asking_price  \\\n",
       "0  830 m / 10 minutes by foot|1.5 km / 8 minutes ...      195,125   \n",
       "1  710 m / 9 minutes by foot|740 m / 9 minutes by...      126,979   \n",
       "\n",
       "  asking_price_change_quater  asking_price_change_year  gross_rental_yield  \\\n",
       "0                        0.0                      0.74                4.67   \n",
       "1                        0.0                     11.06                4.16   \n",
       "\n",
       "   rental_price_change_year  \n",
       "0                     -6.06  \n",
       "1                      4.51  \n",
       "\n",
       "[2 rows x 21 columns]"
      ]
     },
     "execution_count": 30,
     "metadata": {},
     "output_type": "execute_result"
    }
   ],
   "source": [
    "df.head(2)"
   ]
  },
  {
   "cell_type": "code",
   "execution_count": 62,
   "id": "e095650b-be6f-4339-bf2a-849b0573f0fc",
   "metadata": {},
   "outputs": [],
   "source": [
    "# def split funciton\n",
    "def split_features(string):\n",
    "    try:\n",
    "        return string.split(\"|\")\n",
    "    except:\n",
    "        return None"
   ]
  },
  {
   "cell_type": "code",
   "execution_count": 69,
   "id": "99744063-a2e5-4b35-9e52-f356dd8d8d42",
   "metadata": {},
   "outputs": [],
   "source": [
    "# List of joined feature column names\n",
    "joined_features = ['internal_feature_keys', 'internal_feature_values', 'external_feature_keys', 'exteranal_feature_values',\n",
    "                  'amenity_keys', 'amenity_values', 'neighbor_cats', 'neighbor_names', 'neighbor_distances']\n",
    "\n",
    "# Iterate column names to create list\n",
    "for feature in joined_features:\n",
    "    df[feature] = df[feature].apply(split_features)"
   ]
  },
  {
   "cell_type": "code",
   "execution_count": 71,
   "id": "d25c84fa-0d0c-45d0-81aa-134ccb7423ba",
   "metadata": {},
   "outputs": [
    {
     "data": {
      "text/html": [
       "<div>\n",
       "<style scoped>\n",
       "    .dataframe tbody tr th:only-of-type {\n",
       "        vertical-align: middle;\n",
       "    }\n",
       "\n",
       "    .dataframe tbody tr th {\n",
       "        vertical-align: top;\n",
       "    }\n",
       "\n",
       "    .dataframe thead th {\n",
       "        text-align: right;\n",
       "    }\n",
       "</style>\n",
       "<table border=\"1\" class=\"dataframe\">\n",
       "  <thead>\n",
       "    <tr style=\"text-align: right;\">\n",
       "      <th></th>\n",
       "      <th>dev</th>\n",
       "      <th>address</th>\n",
       "      <th>district</th>\n",
       "      <th>sale_price</th>\n",
       "      <th>rent_price</th>\n",
       "      <th>internal_feature_keys</th>\n",
       "      <th>internal_feature_values</th>\n",
       "      <th>external_feature_keys</th>\n",
       "      <th>exteranal_feature_values</th>\n",
       "      <th>description</th>\n",
       "      <th>...</th>\n",
       "      <th>amenity_keys</th>\n",
       "      <th>amenity_values</th>\n",
       "      <th>neighbor_cats</th>\n",
       "      <th>neighbor_names</th>\n",
       "      <th>neighbor_distances</th>\n",
       "      <th>asking_price</th>\n",
       "      <th>asking_price_change_quater</th>\n",
       "      <th>asking_price_change_year</th>\n",
       "      <th>gross_rental_yield</th>\n",
       "      <th>rental_price_change_year</th>\n",
       "    </tr>\n",
       "  </thead>\n",
       "  <tbody>\n",
       "    <tr>\n",
       "      <th>0</th>\n",
       "      <td>H Sukhumvit 43</td>\n",
       "      <td>Soi Phrom Mit, Khlong Toei Nuea, Vadhana, Bang...</td>\n",
       "      <td>Watthana</td>\n",
       "      <td>12000000.0</td>\n",
       "      <td>57000.0</td>\n",
       "      <td>[Bedrooms, Bathrooms, Internal area]</td>\n",
       "      <td>[2, 2, 59]</td>\n",
       "      <td>[Floors, Towers, Project Area, Year built]</td>\n",
       "      <td>[32, 1, 3,080 m2, 2014]</td>\n",
       "      <td>PropertyScout ID 954486\\nCheck all listing det...</td>\n",
       "      <td>...</td>\n",
       "      <td>[Elevator, Parking, 24-hours Security, CCTV, S...</td>\n",
       "      <td>[True, True, True, True, True, True, True, Fal...</td>\n",
       "      <td>[marker marker-bts, marker marker-bts, marker ...</td>\n",
       "      <td>[Phrom Phong, Thong Lo, Sukhumvit, Asok 4 Toll...</td>\n",
       "      <td>[830 m / 10 minutes by foot, 1.5 km / 8 minute...</td>\n",
       "      <td>195,125</td>\n",
       "      <td>0.0</td>\n",
       "      <td>0.74</td>\n",
       "      <td>4.67</td>\n",
       "      <td>-6.06</td>\n",
       "    </tr>\n",
       "    <tr>\n",
       "      <th>1</th>\n",
       "      <td>A Space I.D. Asoke - Ratchada</td>\n",
       "      <td>Thanon Din Daeng, Din Daeng, Bangkok 10400</td>\n",
       "      <td>Ratchathewi</td>\n",
       "      <td>4639200.0</td>\n",
       "      <td>15000.0</td>\n",
       "      <td>[Bedrooms, Bathrooms, Internal area]</td>\n",
       "      <td>[1, 1, 33]</td>\n",
       "      <td>[Floors, Towers, Year built]</td>\n",
       "      <td>[30, 1, 2016]</td>\n",
       "      <td>PropertyScout ID 954280\\nCheck all listing det...</td>\n",
       "      <td>...</td>\n",
       "      <td>[Elevator, Parking, 24-hours Security, CCTV, S...</td>\n",
       "      <td>[True, True, True, True, True, True, True, Tru...</td>\n",
       "      <td>[marker marker-mrt, marker marker-mrt, marker ...</td>\n",
       "      <td>[Phraram Kao 9, Phra Ram 9, Asok 2 Toll Plaza,...</td>\n",
       "      <td>[710 m / 9 minutes by foot, 740 m / 9 minutes ...</td>\n",
       "      <td>126,979</td>\n",
       "      <td>0.0</td>\n",
       "      <td>11.06</td>\n",
       "      <td>4.16</td>\n",
       "      <td>4.51</td>\n",
       "    </tr>\n",
       "  </tbody>\n",
       "</table>\n",
       "<p>2 rows × 21 columns</p>\n",
       "</div>"
      ],
      "text/plain": [
       "                             dev  \\\n",
       "0                 H Sukhumvit 43   \n",
       "1  A Space I.D. Asoke - Ratchada   \n",
       "\n",
       "                                             address     district  sale_price  \\\n",
       "0  Soi Phrom Mit, Khlong Toei Nuea, Vadhana, Bang...     Watthana  12000000.0   \n",
       "1         Thanon Din Daeng, Din Daeng, Bangkok 10400  Ratchathewi   4639200.0   \n",
       "\n",
       "   rent_price                 internal_feature_keys internal_feature_values  \\\n",
       "0     57000.0  [Bedrooms, Bathrooms, Internal area]              [2, 2, 59]   \n",
       "1     15000.0  [Bedrooms, Bathrooms, Internal area]              [1, 1, 33]   \n",
       "\n",
       "                        external_feature_keys exteranal_feature_values  \\\n",
       "0  [Floors, Towers, Project Area, Year built]  [32, 1, 3,080 m2, 2014]   \n",
       "1                [Floors, Towers, Year built]            [30, 1, 2016]   \n",
       "\n",
       "                                         description  ...  \\\n",
       "0  PropertyScout ID 954486\\nCheck all listing det...  ...   \n",
       "1  PropertyScout ID 954280\\nCheck all listing det...  ...   \n",
       "\n",
       "                                        amenity_keys  \\\n",
       "0  [Elevator, Parking, 24-hours Security, CCTV, S...   \n",
       "1  [Elevator, Parking, 24-hours Security, CCTV, S...   \n",
       "\n",
       "                                      amenity_values  \\\n",
       "0  [True, True, True, True, True, True, True, Fal...   \n",
       "1  [True, True, True, True, True, True, True, Tru...   \n",
       "\n",
       "                                       neighbor_cats  \\\n",
       "0  [marker marker-bts, marker marker-bts, marker ...   \n",
       "1  [marker marker-mrt, marker marker-mrt, marker ...   \n",
       "\n",
       "                                      neighbor_names  \\\n",
       "0  [Phrom Phong, Thong Lo, Sukhumvit, Asok 4 Toll...   \n",
       "1  [Phraram Kao 9, Phra Ram 9, Asok 2 Toll Plaza,...   \n",
       "\n",
       "                                  neighbor_distances asking_price  \\\n",
       "0  [830 m / 10 minutes by foot, 1.5 km / 8 minute...      195,125   \n",
       "1  [710 m / 9 minutes by foot, 740 m / 9 minutes ...      126,979   \n",
       "\n",
       "  asking_price_change_quater  asking_price_change_year  gross_rental_yield  \\\n",
       "0                        0.0                      0.74                4.67   \n",
       "1                        0.0                     11.06                4.16   \n",
       "\n",
       "   rental_price_change_year  \n",
       "0                     -6.06  \n",
       "1                      4.51  \n",
       "\n",
       "[2 rows x 21 columns]"
      ]
     },
     "execution_count": 71,
     "metadata": {},
     "output_type": "execute_result"
    }
   ],
   "source": [
    "# Check result\n",
    "df.head(2)"
   ]
  },
  {
   "cell_type": "code",
   "execution_count": 75,
   "id": "520cd507-bf1c-4af1-b7bd-b4cfab7c04e4",
   "metadata": {},
   "outputs": [
    {
     "data": {
      "text/plain": [
       "['Bedrooms', 'Bathrooms', 'Internal area']"
      ]
     },
     "execution_count": 75,
     "metadata": {},
     "output_type": "execute_result"
    }
   ],
   "source": [
    "# Spli lists to columns - internal_features\n",
    "df['internal_feature_keys'].iloc[0]"
   ]
  },
  {
   "cell_type": "code",
   "execution_count": 79,
   "id": "24d538b3-ecec-4eb7-a4b5-eb3bf0ea1890",
   "metadata": {},
   "outputs": [
    {
     "data": {
      "text/plain": [
       "0"
      ]
     },
     "execution_count": 79,
     "metadata": {},
     "output_type": "execute_result"
    }
   ],
   "source": [
    "df['internal_feature_keys'].iloc[0].index('Bedrooms')"
   ]
  },
  {
   "cell_type": "markdown",
   "id": "a8cda5c6-8e3a-4a64-af96-87962c342af2",
   "metadata": {},
   "source": [
    "# 4. EDA\n",
    "---"
   ]
  },
  {
   "cell_type": "code",
   "execution_count": null,
   "id": "7bfdca3b-e9bc-4bf8-8189-967d6825ac38",
   "metadata": {},
   "outputs": [],
   "source": []
  },
  {
   "cell_type": "markdown",
   "id": "d12f6461-970d-4e98-9e4c-40630a96d1e3",
   "metadata": {},
   "source": [
    "# 5. Modeling and Evaluation\n",
    "---"
   ]
  },
  {
   "cell_type": "code",
   "execution_count": null,
   "id": "2e2de6df-61ff-4060-a3a3-8bb3ebbdc907",
   "metadata": {},
   "outputs": [],
   "source": []
  },
  {
   "cell_type": "markdown",
   "id": "f60ebadf-bdb1-4bc9-aad9-265bd1bd385b",
   "metadata": {},
   "source": [
    "# 6. Additional Section\n",
    "---"
   ]
  },
  {
   "cell_type": "code",
   "execution_count": null,
   "id": "3815032b-c6cd-455d-b8c5-5f4a7fe3c049",
   "metadata": {},
   "outputs": [],
   "source": []
  },
  {
   "cell_type": "markdown",
   "id": "5eda7050-8b74-4a83-8e5b-2e0b9ef01eb0",
   "metadata": {},
   "source": [
    "# 7. Summarization\n",
    "---"
   ]
  },
  {
   "cell_type": "code",
   "execution_count": null,
   "id": "4c58c8be-1505-4023-8b73-c069fc987d4d",
   "metadata": {},
   "outputs": [],
   "source": []
  }
 ],
 "metadata": {
  "kernelspec": {
   "display_name": "Python 3 (ipykernel)",
   "language": "python",
   "name": "python3"
  },
  "language_info": {
   "codemirror_mode": {
    "name": "ipython",
    "version": 3
   },
   "file_extension": ".py",
   "mimetype": "text/x-python",
   "name": "python",
   "nbconvert_exporter": "python",
   "pygments_lexer": "ipython3",
   "version": "3.9.12"
  }
 },
 "nbformat": 4,
 "nbformat_minor": 5
}
